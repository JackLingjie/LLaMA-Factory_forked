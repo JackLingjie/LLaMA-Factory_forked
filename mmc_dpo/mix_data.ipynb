{
 "cells": [
  {
   "cell_type": "markdown",
   "metadata": {},
   "source": [
    "### html data mix"
   ]
  },
  {
   "cell_type": "code",
   "execution_count": 14,
   "metadata": {},
   "outputs": [
    {
     "data": {
      "text/plain": [
       "80061"
      ]
     },
     "execution_count": 14,
     "metadata": {},
     "output_type": "execute_result"
    }
   ],
   "source": [
    "import json\n",
    "html_img_80k =\"/mnt/lingjiejiang/multimodal_code/data/Web2code_gpt4o/revised_html_tag_80k_v2_fixed.json\"\n",
    "with open(html_img_80k, 'r') as f:\n",
    "    data = json.load(f)\n",
    "len(data)"
   ]
  },
  {
   "cell_type": "code",
   "execution_count": 9,
   "metadata": {},
   "outputs": [],
   "source": [
    "for item in data:\n",
    "    item[\"images\"][0] = item[\"new_img\"]\n",
    "with open(\"/mnt/lingjiejiang/multimodal_code/data/Web2code_gpt4o/revised_html_tag_80k_v2_fixed.json\", \"w\") as f:\n",
    "    json.dump(data, f)"
   ]
  },
  {
   "cell_type": "code",
   "execution_count": 15,
   "metadata": {},
   "outputs": [
    {
     "data": {
      "text/plain": [
       "[{'id': '5029_25',\n",
       "  'messages': [{'content': '<image>\\nGenerate HTML corresponding to the webpage in the given image. Show the code developed according to material design principles.',\n",
       "    'role': 'user'},\n",
       "   {'content': '```html\\n<!DOCTYPE html>\\n<html lang=\"en\">\\n<head>\\n    <meta charset=\"UTF-8\">\\n    <meta name=\"viewport\" content=\"width=device-width, initial-scale=1.0\">\\n    <title>Styled Page</title>\\n    <style>\\n        body {\\n            margin: 0;\\n            padding: 0;\\n            font-family: Arial, sans-serif;\\n            display: flex;\\n            flex-direction: column;\\n            align-items: center;\\n            justify-content: space-between;\\n            height: 100vh;\\n            background-color: #f9f9f9;\\n        }\\n\\n        header {\\n            margin-top: 20px;\\n        }\\n\\n        header img {\\n            width: 100px;\\n        }\\n\\n        main {\\n            display: flex;\\n            align-items: center;\\n            justify-content: center;\\n            text-align: left;\\n            max-width: 800px;\\n            padding: 20px;\\n        }\\n\\n        .image-placeholder {\\n            width: 300px;\\n            height: 200px;\\n            background-color: #ccc;\\n            margin-right: 20px;\\n        }\\n\\n        .description {\\n            max-width: 400px;\\n        }\\n\\n        footer {\\n            display: flex;\\n            justify-content: space-around;\\n            width: 100%;\\n            padding: 10px 0;\\n            background-color: #fff;\\n        }\\n\\n        footer a {\\n            text-decoration: none;\\n            color: blue;\\n            font-weight: bold;\\n        }\\n    </style>\\n</head>\\n<body>\\n    <header>\\n        <img src=\"rick.jpg\" alt=\"Logo\">\\n    </header>\\n    <main>\\n        <div class=\"image-placeholder\"></div>\\n        <div class=\"description\">\\n            <p>Explore the world of glamour and confidence with our premium collections. Every piece has been lovingly crafted in our hand-picked and luxury materials.</p>\\n        </div>\\n    </main>\\n    <footer>\\n        <a href=\"#\">Home</a>\\n        <a href=\"#\">About</a>\\n        <a href=\"#\">Contact</a>\\n    </footer>\\n</body>\\n</html>\\n```',\n",
       "    'role': 'assistant'}],\n",
       "  'images': ['/mnt/lingjiejiang/multimodal_code/data/Web2code_gpt4o/WebSight_images_new/image_5029_25.png'],\n",
       "  'revised_html': '<!DOCTYPE html>\\n<html lang=\"en\">\\n<head>\\n    <meta charset=\"UTF-8\">\\n    <meta name=\"viewport\" content=\"width=device-width, initial-scale=1.0\">\\n    <title>Styled Page</title>\\n    <style>\\n        body {\\n            margin: 0;\\n            padding: 0;\\n            font-family: Arial, sans-serif;\\n            display: flex;\\n            flex-direction: column;\\n            align-items: center;\\n            justify-content: space-between;\\n            height: 100vh;\\n            background-color: #f9f9f9;\\n        }\\n\\n        header {\\n            margin-top: 20px;\\n        }\\n\\n        header img {\\n            width: 100px;\\n        }\\n\\n        main {\\n            display: flex;\\n            align-items: center;\\n            justify-content: center;\\n            text-align: left;\\n            max-width: 800px;\\n            padding: 20px;\\n        }\\n\\n        .image-placeholder {\\n            width: 300px;\\n            height: 200px;\\n            background-color: #ccc;\\n            margin-right: 20px;\\n        }\\n\\n        .description {\\n            max-width: 400px;\\n        }\\n\\n        footer {\\n            display: flex;\\n            justify-content: space-around;\\n            width: 100%;\\n            padding: 10px 0;\\n            background-color: #fff;\\n        }\\n\\n        footer a {\\n            text-decoration: none;\\n            color: blue;\\n            font-weight: bold;\\n        }\\n    </style>\\n</head>\\n<body>\\n    <header>\\n        <img src=\"rick.jpg\" alt=\"Logo\">\\n    </header>\\n    <main>\\n        <div class=\"image-placeholder\"></div>\\n        <div class=\"description\">\\n            <p>Explore the world of glamour and confidence with our premium collections. Every piece has been lovingly crafted in our hand-picked and luxury materials.</p>\\n        </div>\\n    </main>\\n    <footer>\\n        <a href=\"#\">Home</a>\\n        <a href=\"#\">About</a>\\n        <a href=\"#\">Contact</a>\\n    </footer>\\n</body>\\n</html>',\n",
       "  'original_html': '<html>\\n<style>\\nbody, html {\\n    margin: 0;\\n    padding: 0;\\n    height: 100%;\\n    display: flex;\\n    flex-direction: column;\\n    justify-content: space-between;\\n}\\n\\n.header, .footer {\\n    height: 50px;\\n    display: flex;\\n    align-items: center;\\n    justify-content: center;\\n}\\n\\n.content {\\n    font-size: 16px;\\n    display: flex;\\n    align-items: center;\\n    flex-direction: column;\\n    justify-content: space-around;\\n}\\n\\n.product {\\n    display: flex;\\n    height: 200px;\\n    width: 80%;\\n}\\n\\n.color-rect {\\n    background-color: #C0C0C0;\\n    width: 50%;\\n}\\n\\nnav {\\n    display: flex;\\n    justify-content: space-around;\\n    width: 100%;\\n}\\n\\nnav ul {\\n    list-style-type: none;\\n    display: flex;\\n    justify-content: space-around;\\n    width: 100%;\\n}\\n\\nnav ul li {\\n    padding: 10px;\\n}\\n</style>\\n<body>\\n    <div class=\"header\">\\n        <img src=\"logo.png\" alt=\"Logo\">\\n    </div>\\n    <div class=\"content\">\\n        <div class=\"product\">\\n            <div class=\"color-rect\"></div>\\n            <p>Explore the world of glamour and confidence with our premium collections. Every piece has been lovingly crafted in our hand-picked and luxury materials.</p>\\n        </div>\\n        <!-- More products - remove the comments if adding more products -->\\n        <!--\\n        <div class=\"product\">\\n            <div class=\"color-rect\"></div>\\n            <p>Lorem ipsum dolor sit amet, consectetur adipiscing elit.</p>\\n        </div>\\n        -->\\n    </div>\\n    <div class=\"footer\">\\n        <nav>\\n            <ul>\\n                <li><a href=\"#home\">Home</a></li>\\n                <li><a href=\"#about\">About</a></li>\\n                <li><a href=\"#contact\">Contact</a></li>\\n            </ul>\\n        </nav>\\n    </div>\\n</body>\\n</html>',\n",
       "  'gpt_answer': '```html\\n<!DOCTYPE html>\\n<html lang=\"en\">\\n<head>\\n    <meta charset=\"UTF-8\">\\n    <meta name=\"viewport\" content=\"width=device-width, initial-scale=1.0\">\\n    <title>Styled Page</title>\\n    <style>\\n        body {\\n            margin: 0;\\n            padding: 0;\\n            font-family: Arial, sans-serif;\\n            display: flex;\\n            flex-direction: column;\\n            align-items: center;\\n            justify-content: space-between;\\n            height: 100vh;\\n            background-color: #f9f9f9;\\n        }\\n\\n        header {\\n            margin-top: 20px;\\n        }\\n\\n        header img {\\n            width: 100px;\\n        }\\n\\n        main {\\n            display: flex;\\n            align-items: center;\\n            justify-content: center;\\n            text-align: left;\\n            max-width: 800px;\\n            padding: 20px;\\n        }\\n\\n        .image-placeholder {\\n            width: 300px;\\n            height: 200px;\\n            background-color: #ccc;\\n            margin-right: 20px;\\n        }\\n\\n        .description {\\n            max-width: 400px;\\n        }\\n\\n        footer {\\n            display: flex;\\n            justify-content: space-around;\\n            width: 100%;\\n            padding: 10px 0;\\n            background-color: #fff;\\n        }\\n\\n        footer a {\\n            text-decoration: none;\\n            color: blue;\\n            font-weight: bold;\\n        }\\n    </style>\\n</head>\\n<body>\\n    <header>\\n        <img src=\"rick.jpg\" alt=\"Logo\">\\n    </header>\\n    <main>\\n        <div class=\"image-placeholder\"></div>\\n        <div class=\"description\">\\n            <p>Explore the world of glamour and confidence with our premium collections. Every piece has been lovingly crafted in our hand-picked and luxury materials.</p>\\n        </div>\\n    </main>\\n    <footer>\\n        <a href=\"#\">Home</a>\\n        <a href=\"#\">About</a>\\n        <a href=\"#\">Contact</a>\\n    </footer>\\n</body>\\n</html>\\n```\\n\\nThis HTML and CSS code creates a simple, centered layout with a logo at the top, a main content area with an image placeholder and text, and a footer with navigation links. The design is responsive and fits within a single, non-scrollable screen.',\n",
       "  'stop_reason': 'stop',\n",
       "  'model': 'gpt4o',\n",
       "  'new_img': '/mnt/lingjiejiang/multimodal_code/data/Web2code_gpt4o/WebSight_images_new/image_5029_25.png',\n",
       "  'formatted_html': '```html\\n<!DOCTYPE html>\\n<html lang=\"en\">\\n<head>\\n    <meta charset=\"UTF-8\">\\n    <meta name=\"viewport\" content=\"width=device-width, initial-scale=1.0\">\\n    <title>Styled Page</title>\\n    <style>\\n        body {\\n            margin: 0;\\n            padding: 0;\\n            font-family: Arial, sans-serif;\\n            display: flex;\\n            flex-direction: column;\\n            align-items: center;\\n            justify-content: space-between;\\n            height: 100vh;\\n            background-color: #f9f9f9;\\n        }\\n\\n        header {\\n            margin-top: 20px;\\n        }\\n\\n        header img {\\n            width: 100px;\\n        }\\n\\n        main {\\n            display: flex;\\n            align-items: center;\\n            justify-content: center;\\n            text-align: left;\\n            max-width: 800px;\\n            padding: 20px;\\n        }\\n\\n        .image-placeholder {\\n            width: 300px;\\n            height: 200px;\\n            background-color: #ccc;\\n            margin-right: 20px;\\n        }\\n\\n        .description {\\n            max-width: 400px;\\n        }\\n\\n        footer {\\n            display: flex;\\n            justify-content: space-around;\\n            width: 100%;\\n            padding: 10px 0;\\n            background-color: #fff;\\n        }\\n\\n        footer a {\\n            text-decoration: none;\\n            color: blue;\\n            font-weight: bold;\\n        }\\n    </style>\\n</head>\\n<body>\\n    <header>\\n        <img src=\"rick.jpg\" alt=\"Logo\">\\n    </header>\\n    <main>\\n        <div class=\"image-placeholder\"></div>\\n        <div class=\"description\">\\n            <p>Explore the world of glamour and confidence with our premium collections. Every piece has been lovingly crafted in our hand-picked and luxury materials.</p>\\n        </div>\\n    </main>\\n    <footer>\\n        <a href=\"#\">Home</a>\\n        <a href=\"#\">About</a>\\n        <a href=\"#\">Contact</a>\\n    </footer>\\n</body>\\n</html>\\n```'},\n",
       " {'id': '3141_20',\n",
       "  'messages': [{'content': '<image>\\nUsing the webpage screenshot, create a simulating HTML/CSS code. Elucidate code representing concepts from material design.',\n",
       "    'role': 'user'},\n",
       "   {'content': '```html\\n<!DOCTYPE html>\\n<html lang=\"en\">\\n<head>\\n    <meta charset=\"UTF-8\">\\n    <meta name=\"viewport\" content=\"width=device-width, initial-scale=1.0\">\\n    <title>Product Page</title>\\n    <style>\\n        body {\\n            margin: 0;\\n            font-family: Arial, sans-serif;\\n            background-color: #f5f5f5;\\n            display: flex;\\n            flex-direction: column;\\n            justify-content: space-between;\\n            height: 100vh;\\n        }\\n        .search-bar {\\n            background-color: #f5f5f5;\\n            padding: 20px;\\n            text-align: center;\\n        }\\n        .search-bar input[type=\"text\"] {\\n            width: 80%;\\n            padding: 10px;\\n            border: 1px solid #ccc;\\n            border-radius: 4px;\\n        }\\n        .content {\\n            flex-grow: 1;\\n            padding: 20px;\\n            background-color: white;\\n        }\\n        .content h1 {\\n            font-size: 24px;\\n            font-weight: bold;\\n            margin: 0;\\n            padding-bottom: 10px;\\n        }\\n        .footer {\\n            background-color: #333;\\n            color: white;\\n            text-align: center;\\n            padding: 10px 0;\\n        }\\n        .footer img {\\n            vertical-align: middle;\\n            width: 50px;\\n            height: auto;\\n        }\\n        .footer a {\\n            color: blue;\\n            text-decoration: none;\\n            margin-left: 10px;\\n        }\\n    </style>\\n</head>\\n<body>\\n    <div class=\"search-bar\">\\n        <input type=\"text\" placeholder=\"Search...\">\\n    </div>\\n    <div class=\"content\">\\n        <h1>Product Categories</h1>\\n        <h1>Featured Products</h1>\\n    </div>\\n    <div class=\"footer\">\\n        <img src=\"rick.jpg\" alt=\"Logo\">\\n        <span>Sports Equipment</span>\\n        <a href=\"#\">Customer Reviews</a>\\n    </div>\\n</body>\\n</html>\\n```',\n",
       "    'role': 'assistant'}],\n",
       "  'images': ['/mnt/lingjiejiang/multimodal_code/data/Web2code_gpt4o/WebSight_images_new/image_3141_20.png'],\n",
       "  'revised_html': '<!DOCTYPE html>\\n<html lang=\"en\">\\n<head>\\n    <meta charset=\"UTF-8\">\\n    <meta name=\"viewport\" content=\"width=device-width, initial-scale=1.0\">\\n    <title>Product Page</title>\\n    <style>\\n        body {\\n            margin: 0;\\n            font-family: Arial, sans-serif;\\n            background-color: #f5f5f5;\\n            display: flex;\\n            flex-direction: column;\\n            justify-content: space-between;\\n            height: 100vh;\\n        }\\n        .search-bar {\\n            background-color: #f5f5f5;\\n            padding: 20px;\\n            text-align: center;\\n        }\\n        .search-bar input[type=\"text\"] {\\n            width: 80%;\\n            padding: 10px;\\n            border: 1px solid #ccc;\\n            border-radius: 4px;\\n        }\\n        .content {\\n            flex-grow: 1;\\n            padding: 20px;\\n            background-color: white;\\n        }\\n        .content h1 {\\n            font-size: 24px;\\n            font-weight: bold;\\n            margin: 0;\\n            padding-bottom: 10px;\\n        }\\n        .footer {\\n            background-color: #333;\\n            color: white;\\n            text-align: center;\\n            padding: 10px 0;\\n        }\\n        .footer img {\\n            vertical-align: middle;\\n            width: 50px;\\n            height: auto;\\n        }\\n        .footer a {\\n            color: blue;\\n            text-decoration: none;\\n            margin-left: 10px;\\n        }\\n    </style>\\n</head>\\n<body>\\n    <div class=\"search-bar\">\\n        <input type=\"text\" placeholder=\"Search...\">\\n    </div>\\n    <div class=\"content\">\\n        <h1>Product Categories</h1>\\n        <h1>Featured Products</h1>\\n    </div>\\n    <div class=\"footer\">\\n        <img src=\"rick.jpg\" alt=\"Logo\">\\n        <span>Sports Equipment</span>\\n        <a href=\"#\">Customer Reviews</a>\\n    </div>\\n</body>\\n</html>',\n",
       "  'original_html': '<html>\\n<style>\\n* {\\n    box-sizing: border-box;\\n    margin: 0;\\n    padding: 0;\\n}\\n\\nbody, html {\\n    height: 100%;\\n}\\n\\n.full-width {\\n    width: 100%;\\n    background-color: #f8f8f8;\\n    padding: 20px;\\n    text-align: center;\\n}\\n\\ninput#search {\\n    width: 50%;\\n    padding: 12px 20px;\\n    margin: 8px 0;\\n}\\n\\nfooter {\\n    position: absolute;\\n    bottom: 0;\\n    width: 100%;\\n    background-color: #333;\\n    color: white;\\n    text-align: center;\\n    padding: 10px;\\n}\\n\\nfooter img {\\n    height: 50px;\\n}\\n</style>\\n<body>\\n    <header class=\"full-width\">\\n        <input type=\"text\" id=\"search\" placeholder=\"Search...\">\\n    </header>\\n    <section id=\"categories\">\\n        <h2>Product Categories</h2>\\n        <!-- Put product category here -->\\n    </section>\\n    <section id=\"featured\">\\n        <h2>Featured Products</h2>\\n        <!-- Put featured products here -->\\n    </section>\\n    <footer>\\n        <img src=\"logo.png\" alt=\"Sports Equipment Company Logo\">\\n        <a href=\"#customer-reviews\">Customer Reviews</a>\\n    </footer>\\n</body>\\n</html>',\n",
       "  'gpt_answer': '```html\\n<!DOCTYPE html>\\n<html lang=\"en\">\\n<head>\\n    <meta charset=\"UTF-8\">\\n    <meta name=\"viewport\" content=\"width=device-width, initial-scale=1.0\">\\n    <title>Product Page</title>\\n    <style>\\n        body {\\n            margin: 0;\\n            font-family: Arial, sans-serif;\\n            background-color: #f5f5f5;\\n            display: flex;\\n            flex-direction: column;\\n            justify-content: space-between;\\n            height: 100vh;\\n        }\\n        .search-bar {\\n            background-color: #f5f5f5;\\n            padding: 20px;\\n            text-align: center;\\n        }\\n        .search-bar input[type=\"text\"] {\\n            width: 80%;\\n            padding: 10px;\\n            border: 1px solid #ccc;\\n            border-radius: 4px;\\n        }\\n        .content {\\n            flex-grow: 1;\\n            padding: 20px;\\n            background-color: white;\\n        }\\n        .content h1 {\\n            font-size: 24px;\\n            font-weight: bold;\\n            margin: 0;\\n            padding-bottom: 10px;\\n        }\\n        .footer {\\n            background-color: #333;\\n            color: white;\\n            text-align: center;\\n            padding: 10px 0;\\n        }\\n        .footer img {\\n            vertical-align: middle;\\n            width: 50px;\\n            height: auto;\\n        }\\n        .footer a {\\n            color: blue;\\n            text-decoration: none;\\n            margin-left: 10px;\\n        }\\n    </style>\\n</head>\\n<body>\\n    <div class=\"search-bar\">\\n        <input type=\"text\" placeholder=\"Search...\">\\n    </div>\\n    <div class=\"content\">\\n        <h1>Product Categories</h1>\\n        <h1>Featured Products</h1>\\n    </div>\\n    <div class=\"footer\">\\n        <img src=\"rick.jpg\" alt=\"Logo\">\\n        <span>Sports Equipment</span>\\n        <a href=\"#\">Customer Reviews</a>\\n    </div>\\n</body>\\n</html>\\n```\\n\\nThis HTML and CSS code creates a simple webpage layout similar to the image you provided. It includes a search bar at the top, a content area with headings for \"Product Categories\" and \"Featured Products,\" and a footer with an image and a link. The layout is designed to fit within a single screen without scrolling.',\n",
       "  'stop_reason': 'stop',\n",
       "  'model': 'gpt4o',\n",
       "  'new_img': '/mnt/lingjiejiang/multimodal_code/data/Web2code_gpt4o/WebSight_images_new/image_3141_20.png',\n",
       "  'formatted_html': '```html\\n<!DOCTYPE html>\\n<html lang=\"en\">\\n<head>\\n    <meta charset=\"UTF-8\">\\n    <meta name=\"viewport\" content=\"width=device-width, initial-scale=1.0\">\\n    <title>Product Page</title>\\n    <style>\\n        body {\\n            margin: 0;\\n            font-family: Arial, sans-serif;\\n            background-color: #f5f5f5;\\n            display: flex;\\n            flex-direction: column;\\n            justify-content: space-between;\\n            height: 100vh;\\n        }\\n        .search-bar {\\n            background-color: #f5f5f5;\\n            padding: 20px;\\n            text-align: center;\\n        }\\n        .search-bar input[type=\"text\"] {\\n            width: 80%;\\n            padding: 10px;\\n            border: 1px solid #ccc;\\n            border-radius: 4px;\\n        }\\n        .content {\\n            flex-grow: 1;\\n            padding: 20px;\\n            background-color: white;\\n        }\\n        .content h1 {\\n            font-size: 24px;\\n            font-weight: bold;\\n            margin: 0;\\n            padding-bottom: 10px;\\n        }\\n        .footer {\\n            background-color: #333;\\n            color: white;\\n            text-align: center;\\n            padding: 10px 0;\\n        }\\n        .footer img {\\n            vertical-align: middle;\\n            width: 50px;\\n            height: auto;\\n        }\\n        .footer a {\\n            color: blue;\\n            text-decoration: none;\\n            margin-left: 10px;\\n        }\\n    </style>\\n</head>\\n<body>\\n    <div class=\"search-bar\">\\n        <input type=\"text\" placeholder=\"Search...\">\\n    </div>\\n    <div class=\"content\">\\n        <h1>Product Categories</h1>\\n        <h1>Featured Products</h1>\\n    </div>\\n    <div class=\"footer\">\\n        <img src=\"rick.jpg\" alt=\"Logo\">\\n        <span>Sports Equipment</span>\\n        <a href=\"#\">Customer Reviews</a>\\n    </div>\\n</body>\\n</html>\\n```'}]"
      ]
     },
     "execution_count": 15,
     "metadata": {},
     "output_type": "execute_result"
    }
   ],
   "source": [
    "data[:2]"
   ]
  },
  {
   "cell_type": "code",
   "execution_count": 16,
   "metadata": {},
   "outputs": [
    {
     "data": {
      "text/plain": [
       "669980"
      ]
     },
     "execution_count": 16,
     "metadata": {},
     "output_type": "execute_result"
    }
   ],
   "source": [
    "output_reimage_path = \"/mnt/lingjiejiang/multimodal_code/data/Web2Code/Web2Code_onetrun_new_img.json\"\n",
    "with open(output_reimage_path, \"r\") as f:\n",
    "    no_img_data_new = json.load(f)\n",
    "len(no_img_data_new)"
   ]
  },
  {
   "cell_type": "code",
   "execution_count": 17,
   "metadata": {},
   "outputs": [
    {
     "data": {
      "text/plain": [
       "50000"
      ]
     },
     "execution_count": 17,
     "metadata": {},
     "output_type": "execute_result"
    }
   ],
   "source": [
    "from random import sample\n",
    "data_img_40k = sample(data, 50000)\n",
    "data_no_img_40k = sample(no_img_data_new, 50000)\n",
    "len(data_img_40k)"
   ]
  },
  {
   "cell_type": "code",
   "execution_count": 21,
   "metadata": {},
   "outputs": [
    {
     "name": "stdout",
     "output_type": "stream",
     "text": [
      "You are an expert web developer who specializes in HTML and CSS.\n",
      "A user will provide you with a screenshot of a webpage.\n",
      "You need to return a single html file that uses HTML and CSS to reproduce the given website.\n",
      "Include all CSS code in the HTML file itself.\n",
      "If it involves any images, use \"rick.jpg\" as the placeholder.\n",
      "Some images on the webpage are replaced with a blue rectangle as the placeholder, use \"rick.jpg\" for those as well.\n",
      "Do not hallucinate any dependencies to external files. You do not need to include JavaScript scripts for dynamic interactions.\n",
      "Pay attention to things like size, text, position, and color of all the elements, as well as the overall layout.\n",
      "Respond with the content of the HTML+CSS file:\n",
      "\n"
     ]
    }
   ],
   "source": [
    "direct_prompt = \"\"\n",
    "direct_prompt += \"You are an expert web developer who specializes in HTML and CSS.\\n\"\n",
    "direct_prompt += \"A user will provide you with a screenshot of a webpage.\\n\"\n",
    "direct_prompt += \"You need to return a single html file that uses HTML and CSS to reproduce the given website.\\n\"\n",
    "direct_prompt += \"Include all CSS code in the HTML file itself.\\n\"\n",
    "direct_prompt += \"If it involves any images, use \\\"rick.jpg\\\" as the placeholder.\\n\"\n",
    "direct_prompt += \"Some images on the webpage are replaced with a blue rectangle as the placeholder, use \\\"rick.jpg\\\" for those as well.\\n\"\n",
    "direct_prompt += \"Do not hallucinate any dependencies to external files. You do not need to include JavaScript scripts for dynamic interactions.\\n\"\n",
    "direct_prompt += \"Pay attention to things like size, text, position, and color of all the elements, as well as the overall layout.\\n\"\n",
    "direct_prompt += \"Respond with the content of the HTML+CSS file:\\n\"\n",
    "print(direct_prompt)\n",
    "with open(\"designprompt.txt\", \"w\") as f:\n",
    "    f.write(direct_prompt)"
   ]
  },
  {
   "cell_type": "code",
   "execution_count": 23,
   "metadata": {},
   "outputs": [],
   "source": [
    "for item in data_img_40k[:20000]:\n",
    "    item[\"design_prompt\"] = direct_prompt"
   ]
  },
  {
   "cell_type": "code",
   "execution_count": 27,
   "metadata": {},
   "outputs": [],
   "source": [
    "for item in data_no_img_40k[:10000]:\n",
    "    item[\"design_prompt\"] = direct_prompt"
   ]
  },
  {
   "cell_type": "code",
   "execution_count": 28,
   "metadata": {},
   "outputs": [],
   "source": [
    "for item in data_img_40k:\n",
    "    item[\"source\"] = \"gpt4orevised\"\n",
    "for item in data_no_img_40k:\n",
    "    item[\"source\"] = \"web2codenoimg\""
   ]
  },
  {
   "cell_type": "code",
   "execution_count": 29,
   "metadata": {},
   "outputs": [],
   "source": [
    "merged_data = data_img_40k + data_no_img_40k"
   ]
  },
  {
   "cell_type": "code",
   "execution_count": 33,
   "metadata": {},
   "outputs": [
    {
     "data": {
      "text/plain": [
       "30000"
      ]
     },
     "execution_count": 33,
     "metadata": {},
     "output_type": "execute_result"
    }
   ],
   "source": [
    "len([item for item in merged_data if \"design_prompt\" in item])"
   ]
  },
  {
   "cell_type": "code",
   "execution_count": 34,
   "metadata": {},
   "outputs": [
    {
     "data": {
      "text/plain": [
       "{'id': '5669_47',\n",
       " 'messages': [{'content': '<image>\\nLay out HTML code to reproduce the same design as the website shown in the screenshot. Showcase code created in harmony with material design aesthetics.',\n",
       "   'role': 'user'},\n",
       "  {'content': '```html\\n<!DOCTYPE html>\\n<html lang=\"en\">\\n<head>\\n    <meta charset=\"UTF-8\">\\n    <meta name=\"viewport\" content=\"width=device-width, initial-scale=1.0\">\\n    <title>Travel Agency</title>\\n    <style>\\n        body {\\n            font-family: Arial, sans-serif;\\n            margin: 0;\\n            padding: 0;\\n            display: flex;\\n            flex-direction: column;\\n            align-items: center;\\n            justify-content: center;\\n            background-color: #f4f4f4;\\n        }\\n\\n        .hero {\\n            width: 100%;\\n            max-width: 1200px;\\n            height: 300px;\\n            background-color: #d3d3d3;\\n            margin-bottom: 20px;\\n        }\\n\\n        .section {\\n            text-align: center;\\n            margin: 20px 0;\\n        }\\n\\n        .section h1 {\\n            font-size: 24px;\\n            font-weight: bold;\\n            margin-bottom: 10px;\\n        }\\n\\n        .section p {\\n            font-size: 16px;\\n            color: #555;\\n        }\\n\\n        .gallery {\\n            display: flex;\\n            justify-content: center;\\n            gap: 20px;\\n            flex-wrap: wrap;\\n            max-width: 1200px;\\n        }\\n\\n        .gallery-item {\\n            width: 30%;\\n            min-width: 200px;\\n            background-color: #d3d3d3;\\n            position: relative;\\n            overflow: hidden;\\n        }\\n\\n        .gallery-item img {\\n            width: 100%;\\n            height: auto;\\n            display: block;\\n        }\\n\\n        .gallery-item span {\\n            position: absolute;\\n            bottom: 10px;\\n            left: 10px;\\n            background-color: rgba(0, 0, 0, 0.5);\\n            color: white;\\n            padding: 5px;\\n            font-size: 14px;\\n        }\\n    </style>\\n</head>\\n<body>\\n\\n    <div class=\"hero\"></div>\\n\\n    <div class=\"section\">\\n        <h1>Welcome to Travel Agency</h1>\\n        <p>Discover our featured destinations around the globe.</p>\\n    </div>\\n\\n    <div class=\"gallery\">\\n        <div class=\"gallery-item\">\\n            <img src=\"rick.jpg\" alt=\"Featured Destination 1\">\\n            <span>Featured Destination 1</span>\\n        </div>\\n        <div class=\"gallery-item\">\\n            <img src=\"rick.jpg\" alt=\"Featured Destination 2\">\\n            <span>Featured Destination 2</span>\\n        </div>\\n        <div class=\"gallery-item\">\\n            <img src=\"rick.jpg\" alt=\"Featured Destination 3\">\\n            <span>Featured Destination 3</span>\\n        </div>\\n    </div>\\n\\n    <div class=\"section\">\\n        <h1>Travel Packages</h1>\\n        <p>Explore our travel packages and deals.</p>\\n    </div>\\n\\n    <div class=\"gallery\">\\n        <div class=\"gallery-item\">\\n            <img src=\"rick.jpg\" alt=\"Package 1\">\\n            <span>Package 1</span>\\n        </div>\\n        <div class=\"gallery-item\">\\n            <img src=\"rick.jpg\" alt=\"Package 2\">\\n            <span>Package 2</span>\\n        </div>\\n        <div class=\"gallery-item\">\\n            <img src=\"rick.jpg\" alt=\"Package 3\">\\n            <span>Package 3</span>\\n        </div>\\n    </div>\\n\\n</body>\\n</html>\\n```',\n",
       "   'role': 'assistant'}],\n",
       " 'images': ['/mnt/lingjiejiang/multimodal_code/data/Web2code_gpt4o/WebSight_images_new/image_5669_47.png'],\n",
       " 'revised_html': '<!DOCTYPE html>\\n<html lang=\"en\">\\n<head>\\n    <meta charset=\"UTF-8\">\\n    <meta name=\"viewport\" content=\"width=device-width, initial-scale=1.0\">\\n    <title>Travel Agency</title>\\n    <style>\\n        body {\\n            font-family: Arial, sans-serif;\\n            margin: 0;\\n            padding: 0;\\n            display: flex;\\n            flex-direction: column;\\n            align-items: center;\\n            justify-content: center;\\n            background-color: #f4f4f4;\\n        }\\n\\n        .hero {\\n            width: 100%;\\n            max-width: 1200px;\\n            height: 300px;\\n            background-color: #d3d3d3;\\n            margin-bottom: 20px;\\n        }\\n\\n        .section {\\n            text-align: center;\\n            margin: 20px 0;\\n        }\\n\\n        .section h1 {\\n            font-size: 24px;\\n            font-weight: bold;\\n            margin-bottom: 10px;\\n        }\\n\\n        .section p {\\n            font-size: 16px;\\n            color: #555;\\n        }\\n\\n        .gallery {\\n            display: flex;\\n            justify-content: center;\\n            gap: 20px;\\n            flex-wrap: wrap;\\n            max-width: 1200px;\\n        }\\n\\n        .gallery-item {\\n            width: 30%;\\n            min-width: 200px;\\n            background-color: #d3d3d3;\\n            position: relative;\\n            overflow: hidden;\\n        }\\n\\n        .gallery-item img {\\n            width: 100%;\\n            height: auto;\\n            display: block;\\n        }\\n\\n        .gallery-item span {\\n            position: absolute;\\n            bottom: 10px;\\n            left: 10px;\\n            background-color: rgba(0, 0, 0, 0.5);\\n            color: white;\\n            padding: 5px;\\n            font-size: 14px;\\n        }\\n    </style>\\n</head>\\n<body>\\n\\n    <div class=\"hero\"></div>\\n\\n    <div class=\"section\">\\n        <h1>Welcome to Travel Agency</h1>\\n        <p>Discover our featured destinations around the globe.</p>\\n    </div>\\n\\n    <div class=\"gallery\">\\n        <div class=\"gallery-item\">\\n            <img src=\"rick.jpg\" alt=\"Featured Destination 1\">\\n            <span>Featured Destination 1</span>\\n        </div>\\n        <div class=\"gallery-item\">\\n            <img src=\"rick.jpg\" alt=\"Featured Destination 2\">\\n            <span>Featured Destination 2</span>\\n        </div>\\n        <div class=\"gallery-item\">\\n            <img src=\"rick.jpg\" alt=\"Featured Destination 3\">\\n            <span>Featured Destination 3</span>\\n        </div>\\n    </div>\\n\\n    <div class=\"section\">\\n        <h1>Travel Packages</h1>\\n        <p>Explore our travel packages and deals.</p>\\n    </div>\\n\\n    <div class=\"gallery\">\\n        <div class=\"gallery-item\">\\n            <img src=\"rick.jpg\" alt=\"Package 1\">\\n            <span>Package 1</span>\\n        </div>\\n        <div class=\"gallery-item\">\\n            <img src=\"rick.jpg\" alt=\"Package 2\">\\n            <span>Package 2</span>\\n        </div>\\n        <div class=\"gallery-item\">\\n            <img src=\"rick.jpg\" alt=\"Package 3\">\\n            <span>Package 3</span>\\n        </div>\\n    </div>\\n\\n</body>\\n</html>',\n",
       " 'original_html': '<html>\\n<style>\\nbody {\\n  font-family: Arial, sans-serif;\\n}\\n\\n#main-map {\\n  width: 100%;\\n  height: 400px;\\n  background-color: lightgray; /* display a map here in a real app */\\n}\\n\\nh1, p {\\n  text-align: center;\\n}\\n\\n#featured-div, \\n#package-div {\\n  display: flex;\\n  justify-content: space-between;\\n  margin: 50px 0;\\n}\\n\\n#featured-div img, \\n#package-div img {\\n  width: 30%;\\n  height: 200px;\\n  background-color: lightgray; /* display an image here in a real app */\\n}\\n</style>\\n<body>\\n  <div id=\"main-map\"></div>\\n  <h1>Welcome to Travel Agency</h1>\\n  <p>Discover our featured destinations around the globe.</p>\\n  <div id=\"featured-div\">\\n    <img src=\"featured_dest1.jpg\" alt=\"Featured Destination 1\" />\\n    <img src=\"featured_dest2.jpg\" alt=\"Featured Destination 2\" />\\n    <img src=\"featured_dest3.jpg\" alt=\"Featured Destination 3\" />\\n  </div>\\n  <h1>Travel Packages</h1>\\n  <p>Explore our travel packages and deals.</p>\\n  <div id=\"package-div\">\\n    <img src=\"package1.jpg\" alt=\"Package 1\" />\\n    <img src=\"package2.jpg\" alt=\"Package 2\" />\\n    <img src=\"package3.jpg\" alt=\"Package 3\" />\\n  </div>\\n</body>\\n</html>',\n",
       " 'gpt_answer': '```html\\n<!DOCTYPE html>\\n<html lang=\"en\">\\n<head>\\n    <meta charset=\"UTF-8\">\\n    <meta name=\"viewport\" content=\"width=device-width, initial-scale=1.0\">\\n    <title>Travel Agency</title>\\n    <style>\\n        body {\\n            font-family: Arial, sans-serif;\\n            margin: 0;\\n            padding: 0;\\n            display: flex;\\n            flex-direction: column;\\n            align-items: center;\\n            justify-content: center;\\n            background-color: #f4f4f4;\\n        }\\n\\n        .hero {\\n            width: 100%;\\n            max-width: 1200px;\\n            height: 300px;\\n            background-color: #d3d3d3;\\n            margin-bottom: 20px;\\n        }\\n\\n        .section {\\n            text-align: center;\\n            margin: 20px 0;\\n        }\\n\\n        .section h1 {\\n            font-size: 24px;\\n            font-weight: bold;\\n            margin-bottom: 10px;\\n        }\\n\\n        .section p {\\n            font-size: 16px;\\n            color: #555;\\n        }\\n\\n        .gallery {\\n            display: flex;\\n            justify-content: center;\\n            gap: 20px;\\n            flex-wrap: wrap;\\n            max-width: 1200px;\\n        }\\n\\n        .gallery-item {\\n            width: 30%;\\n            min-width: 200px;\\n            background-color: #d3d3d3;\\n            position: relative;\\n            overflow: hidden;\\n        }\\n\\n        .gallery-item img {\\n            width: 100%;\\n            height: auto;\\n            display: block;\\n        }\\n\\n        .gallery-item span {\\n            position: absolute;\\n            bottom: 10px;\\n            left: 10px;\\n            background-color: rgba(0, 0, 0, 0.5);\\n            color: white;\\n            padding: 5px;\\n            font-size: 14px;\\n        }\\n    </style>\\n</head>\\n<body>\\n\\n    <div class=\"hero\"></div>\\n\\n    <div class=\"section\">\\n        <h1>Welcome to Travel Agency</h1>\\n        <p>Discover our featured destinations around the globe.</p>\\n    </div>\\n\\n    <div class=\"gallery\">\\n        <div class=\"gallery-item\">\\n            <img src=\"rick.jpg\" alt=\"Featured Destination 1\">\\n            <span>Featured Destination 1</span>\\n        </div>\\n        <div class=\"gallery-item\">\\n            <img src=\"rick.jpg\" alt=\"Featured Destination 2\">\\n            <span>Featured Destination 2</span>\\n        </div>\\n        <div class=\"gallery-item\">\\n            <img src=\"rick.jpg\" alt=\"Featured Destination 3\">\\n            <span>Featured Destination 3</span>\\n        </div>\\n    </div>\\n\\n    <div class=\"section\">\\n        <h1>Travel Packages</h1>\\n        <p>Explore our travel packages and deals.</p>\\n    </div>\\n\\n    <div class=\"gallery\">\\n        <div class=\"gallery-item\">\\n            <img src=\"rick.jpg\" alt=\"Package 1\">\\n            <span>Package 1</span>\\n        </div>\\n        <div class=\"gallery-item\">\\n            <img src=\"rick.jpg\" alt=\"Package 2\">\\n            <span>Package 2</span>\\n        </div>\\n        <div class=\"gallery-item\">\\n            <img src=\"rick.jpg\" alt=\"Package 3\">\\n            <span>Package 3</span>\\n        </div>\\n    </div>\\n\\n</body>\\n</html>\\n```\\n\\nThis HTML and CSS code creates a simple, clean layout similar to the image you provided. It includes a hero section, two main sections with headings and descriptions, and two galleries with three items each. The layout is responsive and should fit within a single screen without scrolling on most devices.',\n",
       " 'stop_reason': 'stop',\n",
       " 'model': 'gpt4o',\n",
       " 'new_img': '/mnt/lingjiejiang/multimodal_code/data/Web2code_gpt4o/WebSight_images_new/image_5669_47.png',\n",
       " 'formatted_html': '```html\\n<!DOCTYPE html>\\n<html lang=\"en\">\\n<head>\\n    <meta charset=\"UTF-8\">\\n    <meta name=\"viewport\" content=\"width=device-width, initial-scale=1.0\">\\n    <title>Travel Agency</title>\\n    <style>\\n        body {\\n            font-family: Arial, sans-serif;\\n            margin: 0;\\n            padding: 0;\\n            display: flex;\\n            flex-direction: column;\\n            align-items: center;\\n            justify-content: center;\\n            background-color: #f4f4f4;\\n        }\\n\\n        .hero {\\n            width: 100%;\\n            max-width: 1200px;\\n            height: 300px;\\n            background-color: #d3d3d3;\\n            margin-bottom: 20px;\\n        }\\n\\n        .section {\\n            text-align: center;\\n            margin: 20px 0;\\n        }\\n\\n        .section h1 {\\n            font-size: 24px;\\n            font-weight: bold;\\n            margin-bottom: 10px;\\n        }\\n\\n        .section p {\\n            font-size: 16px;\\n            color: #555;\\n        }\\n\\n        .gallery {\\n            display: flex;\\n            justify-content: center;\\n            gap: 20px;\\n            flex-wrap: wrap;\\n            max-width: 1200px;\\n        }\\n\\n        .gallery-item {\\n            width: 30%;\\n            min-width: 200px;\\n            background-color: #d3d3d3;\\n            position: relative;\\n            overflow: hidden;\\n        }\\n\\n        .gallery-item img {\\n            width: 100%;\\n            height: auto;\\n            display: block;\\n        }\\n\\n        .gallery-item span {\\n            position: absolute;\\n            bottom: 10px;\\n            left: 10px;\\n            background-color: rgba(0, 0, 0, 0.5);\\n            color: white;\\n            padding: 5px;\\n            font-size: 14px;\\n        }\\n    </style>\\n</head>\\n<body>\\n\\n    <div class=\"hero\"></div>\\n\\n    <div class=\"section\">\\n        <h1>Welcome to Travel Agency</h1>\\n        <p>Discover our featured destinations around the globe.</p>\\n    </div>\\n\\n    <div class=\"gallery\">\\n        <div class=\"gallery-item\">\\n            <img src=\"rick.jpg\" alt=\"Featured Destination 1\">\\n            <span>Featured Destination 1</span>\\n        </div>\\n        <div class=\"gallery-item\">\\n            <img src=\"rick.jpg\" alt=\"Featured Destination 2\">\\n            <span>Featured Destination 2</span>\\n        </div>\\n        <div class=\"gallery-item\">\\n            <img src=\"rick.jpg\" alt=\"Featured Destination 3\">\\n            <span>Featured Destination 3</span>\\n        </div>\\n    </div>\\n\\n    <div class=\"section\">\\n        <h1>Travel Packages</h1>\\n        <p>Explore our travel packages and deals.</p>\\n    </div>\\n\\n    <div class=\"gallery\">\\n        <div class=\"gallery-item\">\\n            <img src=\"rick.jpg\" alt=\"Package 1\">\\n            <span>Package 1</span>\\n        </div>\\n        <div class=\"gallery-item\">\\n            <img src=\"rick.jpg\" alt=\"Package 2\">\\n            <span>Package 2</span>\\n        </div>\\n        <div class=\"gallery-item\">\\n            <img src=\"rick.jpg\" alt=\"Package 3\">\\n            <span>Package 3</span>\\n        </div>\\n    </div>\\n\\n</body>\\n</html>\\n```',\n",
       " 'source': 'gpt4orevised',\n",
       " 'design_prompt': 'You are an expert web developer who specializes in HTML and CSS.\\nA user will provide you with a screenshot of a webpage.\\nYou need to return a single html file that uses HTML and CSS to reproduce the given website.\\nInclude all CSS code in the HTML file itself.\\nIf it involves any images, use \"rick.jpg\" as the placeholder.\\nSome images on the webpage are replaced with a blue rectangle as the placeholder, use \"rick.jpg\" for those as well.\\nDo not hallucinate any dependencies to external files. You do not need to include JavaScript scripts for dynamic interactions.\\nPay attention to things like size, text, position, and color of all the elements, as well as the overall layout.\\nRespond with the content of the HTML+CSS file:\\n',\n",
       " 'gpt_prompt': 'Lay out HTML code to reproduce the same design as the website shown in the screenshot. Showcase code created in harmony with material design aesthetics.'}"
      ]
     },
     "execution_count": 34,
     "metadata": {},
     "output_type": "execute_result"
    }
   ],
   "source": [
    "for item in merged_data:\n",
    "    item[\"gpt_prompt\"] = item[\"messages\"][0][\"content\"].replace(\"<image>\\n\", \"\").strip()\n",
    "merged_data[0]"
   ]
  },
  {
   "cell_type": "code",
   "execution_count": 39,
   "metadata": {},
   "outputs": [],
   "source": [
    "for item in merged_data:\n",
    "    if \"design_prompt\" in item:\n",
    "        item[\"gpt_prompt\"] = item[\"design_prompt\"].strip()\n",
    "    item[\"type\"] = \"html\""
   ]
  },
  {
   "cell_type": "code",
   "execution_count": 40,
   "metadata": {},
   "outputs": [
    {
     "data": {
      "text/plain": [
       "30000"
      ]
     },
     "execution_count": 40,
     "metadata": {},
     "output_type": "execute_result"
    }
   ],
   "source": [
    "len([item for item in merged_data if \"You are an expert web developer who specializes in HTML and CSS.\" in item[\"gpt_prompt\"]])"
   ]
  },
  {
   "cell_type": "code",
   "execution_count": 41,
   "metadata": {},
   "outputs": [
    {
     "data": {
      "text/plain": [
       "{'id': '5669_47',\n",
       " 'messages': [{'content': '<image>\\nLay out HTML code to reproduce the same design as the website shown in the screenshot. Showcase code created in harmony with material design aesthetics.',\n",
       "   'role': 'user'},\n",
       "  {'content': '```html\\n<!DOCTYPE html>\\n<html lang=\"en\">\\n<head>\\n    <meta charset=\"UTF-8\">\\n    <meta name=\"viewport\" content=\"width=device-width, initial-scale=1.0\">\\n    <title>Travel Agency</title>\\n    <style>\\n        body {\\n            font-family: Arial, sans-serif;\\n            margin: 0;\\n            padding: 0;\\n            display: flex;\\n            flex-direction: column;\\n            align-items: center;\\n            justify-content: center;\\n            background-color: #f4f4f4;\\n        }\\n\\n        .hero {\\n            width: 100%;\\n            max-width: 1200px;\\n            height: 300px;\\n            background-color: #d3d3d3;\\n            margin-bottom: 20px;\\n        }\\n\\n        .section {\\n            text-align: center;\\n            margin: 20px 0;\\n        }\\n\\n        .section h1 {\\n            font-size: 24px;\\n            font-weight: bold;\\n            margin-bottom: 10px;\\n        }\\n\\n        .section p {\\n            font-size: 16px;\\n            color: #555;\\n        }\\n\\n        .gallery {\\n            display: flex;\\n            justify-content: center;\\n            gap: 20px;\\n            flex-wrap: wrap;\\n            max-width: 1200px;\\n        }\\n\\n        .gallery-item {\\n            width: 30%;\\n            min-width: 200px;\\n            background-color: #d3d3d3;\\n            position: relative;\\n            overflow: hidden;\\n        }\\n\\n        .gallery-item img {\\n            width: 100%;\\n            height: auto;\\n            display: block;\\n        }\\n\\n        .gallery-item span {\\n            position: absolute;\\n            bottom: 10px;\\n            left: 10px;\\n            background-color: rgba(0, 0, 0, 0.5);\\n            color: white;\\n            padding: 5px;\\n            font-size: 14px;\\n        }\\n    </style>\\n</head>\\n<body>\\n\\n    <div class=\"hero\"></div>\\n\\n    <div class=\"section\">\\n        <h1>Welcome to Travel Agency</h1>\\n        <p>Discover our featured destinations around the globe.</p>\\n    </div>\\n\\n    <div class=\"gallery\">\\n        <div class=\"gallery-item\">\\n            <img src=\"rick.jpg\" alt=\"Featured Destination 1\">\\n            <span>Featured Destination 1</span>\\n        </div>\\n        <div class=\"gallery-item\">\\n            <img src=\"rick.jpg\" alt=\"Featured Destination 2\">\\n            <span>Featured Destination 2</span>\\n        </div>\\n        <div class=\"gallery-item\">\\n            <img src=\"rick.jpg\" alt=\"Featured Destination 3\">\\n            <span>Featured Destination 3</span>\\n        </div>\\n    </div>\\n\\n    <div class=\"section\">\\n        <h1>Travel Packages</h1>\\n        <p>Explore our travel packages and deals.</p>\\n    </div>\\n\\n    <div class=\"gallery\">\\n        <div class=\"gallery-item\">\\n            <img src=\"rick.jpg\" alt=\"Package 1\">\\n            <span>Package 1</span>\\n        </div>\\n        <div class=\"gallery-item\">\\n            <img src=\"rick.jpg\" alt=\"Package 2\">\\n            <span>Package 2</span>\\n        </div>\\n        <div class=\"gallery-item\">\\n            <img src=\"rick.jpg\" alt=\"Package 3\">\\n            <span>Package 3</span>\\n        </div>\\n    </div>\\n\\n</body>\\n</html>\\n```',\n",
       "   'role': 'assistant'}],\n",
       " 'images': ['/mnt/lingjiejiang/multimodal_code/data/Web2code_gpt4o/WebSight_images_new/image_5669_47.png'],\n",
       " 'revised_html': '<!DOCTYPE html>\\n<html lang=\"en\">\\n<head>\\n    <meta charset=\"UTF-8\">\\n    <meta name=\"viewport\" content=\"width=device-width, initial-scale=1.0\">\\n    <title>Travel Agency</title>\\n    <style>\\n        body {\\n            font-family: Arial, sans-serif;\\n            margin: 0;\\n            padding: 0;\\n            display: flex;\\n            flex-direction: column;\\n            align-items: center;\\n            justify-content: center;\\n            background-color: #f4f4f4;\\n        }\\n\\n        .hero {\\n            width: 100%;\\n            max-width: 1200px;\\n            height: 300px;\\n            background-color: #d3d3d3;\\n            margin-bottom: 20px;\\n        }\\n\\n        .section {\\n            text-align: center;\\n            margin: 20px 0;\\n        }\\n\\n        .section h1 {\\n            font-size: 24px;\\n            font-weight: bold;\\n            margin-bottom: 10px;\\n        }\\n\\n        .section p {\\n            font-size: 16px;\\n            color: #555;\\n        }\\n\\n        .gallery {\\n            display: flex;\\n            justify-content: center;\\n            gap: 20px;\\n            flex-wrap: wrap;\\n            max-width: 1200px;\\n        }\\n\\n        .gallery-item {\\n            width: 30%;\\n            min-width: 200px;\\n            background-color: #d3d3d3;\\n            position: relative;\\n            overflow: hidden;\\n        }\\n\\n        .gallery-item img {\\n            width: 100%;\\n            height: auto;\\n            display: block;\\n        }\\n\\n        .gallery-item span {\\n            position: absolute;\\n            bottom: 10px;\\n            left: 10px;\\n            background-color: rgba(0, 0, 0, 0.5);\\n            color: white;\\n            padding: 5px;\\n            font-size: 14px;\\n        }\\n    </style>\\n</head>\\n<body>\\n\\n    <div class=\"hero\"></div>\\n\\n    <div class=\"section\">\\n        <h1>Welcome to Travel Agency</h1>\\n        <p>Discover our featured destinations around the globe.</p>\\n    </div>\\n\\n    <div class=\"gallery\">\\n        <div class=\"gallery-item\">\\n            <img src=\"rick.jpg\" alt=\"Featured Destination 1\">\\n            <span>Featured Destination 1</span>\\n        </div>\\n        <div class=\"gallery-item\">\\n            <img src=\"rick.jpg\" alt=\"Featured Destination 2\">\\n            <span>Featured Destination 2</span>\\n        </div>\\n        <div class=\"gallery-item\">\\n            <img src=\"rick.jpg\" alt=\"Featured Destination 3\">\\n            <span>Featured Destination 3</span>\\n        </div>\\n    </div>\\n\\n    <div class=\"section\">\\n        <h1>Travel Packages</h1>\\n        <p>Explore our travel packages and deals.</p>\\n    </div>\\n\\n    <div class=\"gallery\">\\n        <div class=\"gallery-item\">\\n            <img src=\"rick.jpg\" alt=\"Package 1\">\\n            <span>Package 1</span>\\n        </div>\\n        <div class=\"gallery-item\">\\n            <img src=\"rick.jpg\" alt=\"Package 2\">\\n            <span>Package 2</span>\\n        </div>\\n        <div class=\"gallery-item\">\\n            <img src=\"rick.jpg\" alt=\"Package 3\">\\n            <span>Package 3</span>\\n        </div>\\n    </div>\\n\\n</body>\\n</html>',\n",
       " 'original_html': '<html>\\n<style>\\nbody {\\n  font-family: Arial, sans-serif;\\n}\\n\\n#main-map {\\n  width: 100%;\\n  height: 400px;\\n  background-color: lightgray; /* display a map here in a real app */\\n}\\n\\nh1, p {\\n  text-align: center;\\n}\\n\\n#featured-div, \\n#package-div {\\n  display: flex;\\n  justify-content: space-between;\\n  margin: 50px 0;\\n}\\n\\n#featured-div img, \\n#package-div img {\\n  width: 30%;\\n  height: 200px;\\n  background-color: lightgray; /* display an image here in a real app */\\n}\\n</style>\\n<body>\\n  <div id=\"main-map\"></div>\\n  <h1>Welcome to Travel Agency</h1>\\n  <p>Discover our featured destinations around the globe.</p>\\n  <div id=\"featured-div\">\\n    <img src=\"featured_dest1.jpg\" alt=\"Featured Destination 1\" />\\n    <img src=\"featured_dest2.jpg\" alt=\"Featured Destination 2\" />\\n    <img src=\"featured_dest3.jpg\" alt=\"Featured Destination 3\" />\\n  </div>\\n  <h1>Travel Packages</h1>\\n  <p>Explore our travel packages and deals.</p>\\n  <div id=\"package-div\">\\n    <img src=\"package1.jpg\" alt=\"Package 1\" />\\n    <img src=\"package2.jpg\" alt=\"Package 2\" />\\n    <img src=\"package3.jpg\" alt=\"Package 3\" />\\n  </div>\\n</body>\\n</html>',\n",
       " 'gpt_answer': '```html\\n<!DOCTYPE html>\\n<html lang=\"en\">\\n<head>\\n    <meta charset=\"UTF-8\">\\n    <meta name=\"viewport\" content=\"width=device-width, initial-scale=1.0\">\\n    <title>Travel Agency</title>\\n    <style>\\n        body {\\n            font-family: Arial, sans-serif;\\n            margin: 0;\\n            padding: 0;\\n            display: flex;\\n            flex-direction: column;\\n            align-items: center;\\n            justify-content: center;\\n            background-color: #f4f4f4;\\n        }\\n\\n        .hero {\\n            width: 100%;\\n            max-width: 1200px;\\n            height: 300px;\\n            background-color: #d3d3d3;\\n            margin-bottom: 20px;\\n        }\\n\\n        .section {\\n            text-align: center;\\n            margin: 20px 0;\\n        }\\n\\n        .section h1 {\\n            font-size: 24px;\\n            font-weight: bold;\\n            margin-bottom: 10px;\\n        }\\n\\n        .section p {\\n            font-size: 16px;\\n            color: #555;\\n        }\\n\\n        .gallery {\\n            display: flex;\\n            justify-content: center;\\n            gap: 20px;\\n            flex-wrap: wrap;\\n            max-width: 1200px;\\n        }\\n\\n        .gallery-item {\\n            width: 30%;\\n            min-width: 200px;\\n            background-color: #d3d3d3;\\n            position: relative;\\n            overflow: hidden;\\n        }\\n\\n        .gallery-item img {\\n            width: 100%;\\n            height: auto;\\n            display: block;\\n        }\\n\\n        .gallery-item span {\\n            position: absolute;\\n            bottom: 10px;\\n            left: 10px;\\n            background-color: rgba(0, 0, 0, 0.5);\\n            color: white;\\n            padding: 5px;\\n            font-size: 14px;\\n        }\\n    </style>\\n</head>\\n<body>\\n\\n    <div class=\"hero\"></div>\\n\\n    <div class=\"section\">\\n        <h1>Welcome to Travel Agency</h1>\\n        <p>Discover our featured destinations around the globe.</p>\\n    </div>\\n\\n    <div class=\"gallery\">\\n        <div class=\"gallery-item\">\\n            <img src=\"rick.jpg\" alt=\"Featured Destination 1\">\\n            <span>Featured Destination 1</span>\\n        </div>\\n        <div class=\"gallery-item\">\\n            <img src=\"rick.jpg\" alt=\"Featured Destination 2\">\\n            <span>Featured Destination 2</span>\\n        </div>\\n        <div class=\"gallery-item\">\\n            <img src=\"rick.jpg\" alt=\"Featured Destination 3\">\\n            <span>Featured Destination 3</span>\\n        </div>\\n    </div>\\n\\n    <div class=\"section\">\\n        <h1>Travel Packages</h1>\\n        <p>Explore our travel packages and deals.</p>\\n    </div>\\n\\n    <div class=\"gallery\">\\n        <div class=\"gallery-item\">\\n            <img src=\"rick.jpg\" alt=\"Package 1\">\\n            <span>Package 1</span>\\n        </div>\\n        <div class=\"gallery-item\">\\n            <img src=\"rick.jpg\" alt=\"Package 2\">\\n            <span>Package 2</span>\\n        </div>\\n        <div class=\"gallery-item\">\\n            <img src=\"rick.jpg\" alt=\"Package 3\">\\n            <span>Package 3</span>\\n        </div>\\n    </div>\\n\\n</body>\\n</html>\\n```\\n\\nThis HTML and CSS code creates a simple, clean layout similar to the image you provided. It includes a hero section, two main sections with headings and descriptions, and two galleries with three items each. The layout is responsive and should fit within a single screen without scrolling on most devices.',\n",
       " 'stop_reason': 'stop',\n",
       " 'model': 'gpt4o',\n",
       " 'new_img': '/mnt/lingjiejiang/multimodal_code/data/Web2code_gpt4o/WebSight_images_new/image_5669_47.png',\n",
       " 'formatted_html': '```html\\n<!DOCTYPE html>\\n<html lang=\"en\">\\n<head>\\n    <meta charset=\"UTF-8\">\\n    <meta name=\"viewport\" content=\"width=device-width, initial-scale=1.0\">\\n    <title>Travel Agency</title>\\n    <style>\\n        body {\\n            font-family: Arial, sans-serif;\\n            margin: 0;\\n            padding: 0;\\n            display: flex;\\n            flex-direction: column;\\n            align-items: center;\\n            justify-content: center;\\n            background-color: #f4f4f4;\\n        }\\n\\n        .hero {\\n            width: 100%;\\n            max-width: 1200px;\\n            height: 300px;\\n            background-color: #d3d3d3;\\n            margin-bottom: 20px;\\n        }\\n\\n        .section {\\n            text-align: center;\\n            margin: 20px 0;\\n        }\\n\\n        .section h1 {\\n            font-size: 24px;\\n            font-weight: bold;\\n            margin-bottom: 10px;\\n        }\\n\\n        .section p {\\n            font-size: 16px;\\n            color: #555;\\n        }\\n\\n        .gallery {\\n            display: flex;\\n            justify-content: center;\\n            gap: 20px;\\n            flex-wrap: wrap;\\n            max-width: 1200px;\\n        }\\n\\n        .gallery-item {\\n            width: 30%;\\n            min-width: 200px;\\n            background-color: #d3d3d3;\\n            position: relative;\\n            overflow: hidden;\\n        }\\n\\n        .gallery-item img {\\n            width: 100%;\\n            height: auto;\\n            display: block;\\n        }\\n\\n        .gallery-item span {\\n            position: absolute;\\n            bottom: 10px;\\n            left: 10px;\\n            background-color: rgba(0, 0, 0, 0.5);\\n            color: white;\\n            padding: 5px;\\n            font-size: 14px;\\n        }\\n    </style>\\n</head>\\n<body>\\n\\n    <div class=\"hero\"></div>\\n\\n    <div class=\"section\">\\n        <h1>Welcome to Travel Agency</h1>\\n        <p>Discover our featured destinations around the globe.</p>\\n    </div>\\n\\n    <div class=\"gallery\">\\n        <div class=\"gallery-item\">\\n            <img src=\"rick.jpg\" alt=\"Featured Destination 1\">\\n            <span>Featured Destination 1</span>\\n        </div>\\n        <div class=\"gallery-item\">\\n            <img src=\"rick.jpg\" alt=\"Featured Destination 2\">\\n            <span>Featured Destination 2</span>\\n        </div>\\n        <div class=\"gallery-item\">\\n            <img src=\"rick.jpg\" alt=\"Featured Destination 3\">\\n            <span>Featured Destination 3</span>\\n        </div>\\n    </div>\\n\\n    <div class=\"section\">\\n        <h1>Travel Packages</h1>\\n        <p>Explore our travel packages and deals.</p>\\n    </div>\\n\\n    <div class=\"gallery\">\\n        <div class=\"gallery-item\">\\n            <img src=\"rick.jpg\" alt=\"Package 1\">\\n            <span>Package 1</span>\\n        </div>\\n        <div class=\"gallery-item\">\\n            <img src=\"rick.jpg\" alt=\"Package 2\">\\n            <span>Package 2</span>\\n        </div>\\n        <div class=\"gallery-item\">\\n            <img src=\"rick.jpg\" alt=\"Package 3\">\\n            <span>Package 3</span>\\n        </div>\\n    </div>\\n\\n</body>\\n</html>\\n```',\n",
       " 'source': 'gpt4orevised',\n",
       " 'design_prompt': 'You are an expert web developer who specializes in HTML and CSS.\\nA user will provide you with a screenshot of a webpage.\\nYou need to return a single html file that uses HTML and CSS to reproduce the given website.\\nInclude all CSS code in the HTML file itself.\\nIf it involves any images, use \"rick.jpg\" as the placeholder.\\nSome images on the webpage are replaced with a blue rectangle as the placeholder, use \"rick.jpg\" for those as well.\\nDo not hallucinate any dependencies to external files. You do not need to include JavaScript scripts for dynamic interactions.\\nPay attention to things like size, text, position, and color of all the elements, as well as the overall layout.\\nRespond with the content of the HTML+CSS file:\\n',\n",
       " 'gpt_prompt': 'You are an expert web developer who specializes in HTML and CSS.\\nA user will provide you with a screenshot of a webpage.\\nYou need to return a single html file that uses HTML and CSS to reproduce the given website.\\nInclude all CSS code in the HTML file itself.\\nIf it involves any images, use \"rick.jpg\" as the placeholder.\\nSome images on the webpage are replaced with a blue rectangle as the placeholder, use \"rick.jpg\" for those as well.\\nDo not hallucinate any dependencies to external files. You do not need to include JavaScript scripts for dynamic interactions.\\nPay attention to things like size, text, position, and color of all the elements, as well as the overall layout.\\nRespond with the content of the HTML+CSS file:',\n",
       " 'type': 'html'}"
      ]
     },
     "execution_count": 41,
     "metadata": {},
     "output_type": "execute_result"
    }
   ],
   "source": [
    "merged_data[0]"
   ]
  },
  {
   "cell_type": "code",
   "execution_count": 2,
   "metadata": {},
   "outputs": [
    {
     "name": "stdout",
     "output_type": "stream",
     "text": [
      "You are an expert web developer who specializes in HTML and CSS.\n",
      "A user will provide you with a screenshot of a webpage.\n",
      "You need to return a single html file that uses HTML and CSS to reproduce the given website.\n",
      "Include all CSS code in the HTML file itself.\n",
      "If it involves any images, use \"rick.jpg\" as the placeholder.\n",
      "Some images on the webpage are replaced with a blue rectangle as the placeholder, use \"rick.jpg\" for those as well.\n",
      "Do not hallucinate any dependencies to external files. You do not need to include JavaScript scripts for dynamic interactions.\n",
      "Pay attention to things like size, text, position, and color of all the elements, as well as the overall layout.\n",
      "Respond with the content of the HTML+CSS file:\n",
      "\n"
     ]
    }
   ],
   "source": [
    "direct_prompt = \"\"\n",
    "direct_prompt += \"You are an expert web developer who specializes in HTML and CSS.\\n\"\n",
    "direct_prompt += \"A user will provide you with a screenshot of a webpage.\\n\"\n",
    "direct_prompt += \"You need to return a single html file that uses HTML and CSS to reproduce the given website.\\n\"\n",
    "direct_prompt += \"Include all CSS code in the HTML file itself.\\n\"\n",
    "direct_prompt += \"If it involves any images, use \\\"rick.jpg\\\" as the placeholder.\\n\"\n",
    "direct_prompt += \"Some images on the webpage are replaced with a blue rectangle as the placeholder, use \\\"rick.jpg\\\" for those as well.\\n\"\n",
    "direct_prompt += \"Do not hallucinate any dependencies to external files. You do not need to include JavaScript scripts for dynamic interactions.\\n\"\n",
    "direct_prompt += \"Pay attention to things like size, text, position, and color of all the elements, as well as the overall layout.\\n\"\n",
    "direct_prompt += \"Respond with the content of the HTML+CSS file:\\n\"\n",
    "print(direct_prompt)\n",
    "with open(\"designprompt.txt\", \"w\") as f:\n",
    "    f.write(direct_prompt)"
   ]
  },
  {
   "cell_type": "code",
   "execution_count": 42,
   "metadata": {},
   "outputs": [],
   "source": [
    "with open(\"/mnt/lingjiejiang/multimodal_code/data/dpo/html/web100k.json\", \"w\") as f:\n",
    "    json.dump(merged_data, f)"
   ]
  },
  {
   "cell_type": "code",
   "execution_count": 43,
   "metadata": {},
   "outputs": [
    {
     "data": {
      "text/plain": [
       "100000"
      ]
     },
     "execution_count": 43,
     "metadata": {},
     "output_type": "execute_result"
    }
   ],
   "source": [
    "len(merged_data)"
   ]
  },
  {
   "cell_type": "markdown",
   "metadata": {},
   "source": [
    "### chart"
   ]
  },
  {
   "cell_type": "code",
   "execution_count": 51,
   "metadata": {},
   "outputs": [
    {
     "data": {
      "text/plain": [
       "50476"
      ]
     },
     "execution_count": 51,
     "metadata": {},
     "output_type": "execute_result"
    }
   ],
   "source": [
    "import json\n",
    "with open(\"/mnt/lingjiejiang/multimodal_code/data/chart_data/revised_evol_50k.json\", 'r') as f:\n",
    "    chart_data = json.load(f)\n",
    "len(chart_data)"
   ]
  },
  {
   "cell_type": "code",
   "execution_count": 7,
   "metadata": {},
   "outputs": [
    {
     "data": {
      "text/plain": [
       "{'content': '<image>\\nGenerate a matplotlib script that captures the essence of the picture, setting the size with figsize=(10, 6).\\n',\n",
       " 'role': 'user'}"
      ]
     },
     "execution_count": 7,
     "metadata": {},
     "output_type": "execute_result"
    }
   ],
   "source": [
    "chart_data[0][\"messages\"][0]"
   ]
  },
  {
   "cell_type": "code",
   "execution_count": 52,
   "metadata": {},
   "outputs": [
    {
     "data": {
      "text/plain": [
       "{'index': 0,\n",
       " 'evol_text': \"import matplotlib.pyplot as plt\\nimport numpy as np\\n\\n# Create a more complex dataset\\nx = np.linspace(0, 10, 200)\\ny1 = np.sin(x)  # Original sine wave\\ny2 = np.cos(x)  # Additional cosine wave\\n\\n# Create a new figure with a larger size for better visibility\\nplt.figure(figsize=(10, 6))\\n\\n# Plot the sine wave with enhanced styling\\nplt.plot(x, y1, label='Sine Wave', color='royalblue', linewidth=2, linestyle='-', marker='o', markersize=5, markerfacecolor='orange')\\n\\n# Plot the cosine wave with a contrasting style\\nplt.plot(x, y2, label='Cosine Wave', color='tomato', linewidth=2, linestyle='--', marker='s', markersize=5, markerfacecolor='yellow')\\n\\n# Enhance the chart with titles and labels\\nplt.title('Trigonometric Functions: Sine and Cosine', fontsize=16, fontweight='bold')\\nplt.xlabel('Angle (radians)', fontsize=12)\\nplt.ylabel('Function Value', fontsize=12)\\n\\n# Add a grid for better readability\\nplt.grid(True, which='both', linestyle='--', linewidth=0.5)\\n\\n# Add a legend with a shadow for better distinction\\nplt.legend(loc='upper right', fontsize=12, shadow=True)\\n\\n# Customize x and y axis ticks\\nplt.xticks(np.arange(0, 11, 1))\\nplt.yticks(np.arange(-1, 1.5, 0.5))\\n\\n# Optimize layout to prevent clipping of elements\\nplt.tight_layout()\\n\\n# Show the enhanced plot\\nplt.show()\",\n",
       " 'gpt_evol_answer': \"To create a visually appealing and informative line chart using Matplotlib, we can enhance the original code by improving the aesthetics and adding meaningful details to the plot. Here's an optimized version of the code with improved styling and a more contextually appropriate dataset:\\n\\n```python\\nimport matplotlib.pyplot as plt\\nimport numpy as np\\n\\n# Create a more complex dataset\\nx = np.linspace(0, 10, 200)\\ny1 = np.sin(x)  # Original sine wave\\ny2 = np.cos(x)  # Additional cosine wave\\n\\n# Create a new figure with a larger size for better visibility\\nplt.figure(figsize=(10, 6))\\n\\n# Plot the sine wave with enhanced styling\\nplt.plot(x, y1, label='Sine Wave', color='royalblue', linewidth=2, linestyle='-', marker='o', markersize=5, markerfacecolor='orange')\\n\\n# Plot the cosine wave with a contrasting style\\nplt.plot(x, y2, label='Cosine Wave', color='tomato', linewidth=2, linestyle='--', marker='s', markersize=5, markerfacecolor='yellow')\\n\\n# Enhance the chart with titles and labels\\nplt.title('Trigonometric Functions: Sine and Cosine', fontsize=16, fontweight='bold')\\nplt.xlabel('Angle (radians)', fontsize=12)\\nplt.ylabel('Function Value', fontsize=12)\\n\\n# Add a grid for better readability\\nplt.grid(True, which='both', linestyle='--', linewidth=0.5)\\n\\n# Add a legend with a shadow for better distinction\\nplt.legend(loc='upper right', fontsize=12, shadow=True)\\n\\n# Customize x and y axis ticks\\nplt.xticks(np.arange(0, 11, 1))\\nplt.yticks(np.arange(-1, 1.5, 0.5))\\n\\n# Optimize layout to prevent clipping of elements\\nplt.tight_layout()\\n\\n# Show the enhanced plot\\nplt.show()\\n```\\n\\n### Enhancements Made:\\n\\n1. **Dataset Enrichment**: Added a cosine wave alongside the sine wave for comparison.\\n2. **Figure Size**: Increased the figure size to make the plot more readable.\\n3. **Line Styles and Markers**: Applied distinct line styles, colors, and markers to differentiate the sine and cosine waves.\\n4. **Titles and Labels**: Enhanced the title with a more descriptive name and increased font sizes for better readability.\\n5. **Grid**: Added a subtle grid to improve readability and reference.\\n6. **Legend**: Improved the legend's appearance with a shadow, making it more distinct.\\n7. **Ticks Customization**: Set custom ticks on both axes for clarity and precision.\\n8. **Layout Optimization**: Used `plt.tight_layout()` to ensure that all plot elements are nicely contained within the figure area.\\n\\nThese improvements make the chart not only more visually appealing but also more informative, enhancing the user's ability to interpret the data effectively.\",\n",
       " 'revised_text': \"import matplotlib.pyplot as plt  \\nimport numpy as np  \\n\\n# Sample data  \\nx = np.linspace(0, 10, 100)  \\ny = np.sin(x)  \\n\\n# Create a new figure  \\nplt.figure(figsize=(6.0, 4.0))  \\n\\n# Plot the data  \\nplt.plot(x, y, label='Sine Wave')  \\n\\n# Set labels  \\nplt.xlabel('X-axis')  \\nplt.ylabel('Y-axis')  \\nplt.title('Sine Wave')  \\n\\n# Show the plot  \\nplt.show()\",\n",
       " 'category': 'Line',\n",
       " 'chart_size': [10.0, 6.0],\n",
       " 'max_stars_repo_path': 'talleres_inov_docente/figures/plot_helpers.py',\n",
       " 'max_stars_repo_name': 'jfcaballero/Tutorial-sobre-scikit-learn-abreviado',\n",
       " 'max_stars_count': 576,\n",
       " 'id': '5734',\n",
       " 'text': \"from matplotlib.colors import ListedColormap\\n\\ncm3 = ListedColormap(['#0000aa', '#ff2020', '#50ff50'])\\ncm2 = ListedColormap(['#0000aa', '#ff2020'])\\n\",\n",
       " 'source': 'v1',\n",
       " 'images': ['/mnt/lingjiejiang/multimodal_code/data/chart_data/evol_images1/000001.jpg'],\n",
       " 'prompt': 'Generate a matplotlib script that captures the essence of the picture, setting the size with figsize=(10, 6).',\n",
       " 'messages': [{'content': '<image>\\nGenerate a matplotlib script that captures the essence of the picture, setting the size with figsize=(10, 6).',\n",
       "   'role': 'user'},\n",
       "  {'content': \"```python\\nimport matplotlib.pyplot as plt\\nimport numpy as np\\n\\n# Create a more complex dataset\\nx = np.linspace(0, 10, 200)\\ny1 = np.sin(x)  # Original sine wave\\ny2 = np.cos(x)  # Additional cosine wave\\n\\n# Create a new figure with a larger size for better visibility\\nplt.figure(figsize=(10, 6))\\n\\n# Plot the sine wave with enhanced styling\\nplt.plot(x, y1, label='Sine Wave', color='royalblue', linewidth=2, linestyle='-', marker='o', markersize=5, markerfacecolor='orange')\\n\\n# Plot the cosine wave with a contrasting style\\nplt.plot(x, y2, label='Cosine Wave', color='tomato', linewidth=2, linestyle='--', marker='s', markersize=5, markerfacecolor='yellow')\\n\\n# Enhance the chart with titles and labels\\nplt.title('Trigonometric Functions: Sine and Cosine', fontsize=16, fontweight='bold')\\nplt.xlabel('Angle (radians)', fontsize=12)\\nplt.ylabel('Function Value', fontsize=12)\\n\\n# Add a grid for better readability\\nplt.grid(True, which='both', linestyle='--', linewidth=0.5)\\n\\n# Add a legend with a shadow for better distinction\\nplt.legend(loc='upper right', fontsize=12, shadow=True)\\n\\n# Customize x and y axis ticks\\nplt.xticks(np.arange(0, 11, 1))\\nplt.yticks(np.arange(-1, 1.5, 0.5))\\n\\n# Optimize layout to prevent clipping of elements\\nplt.tight_layout()\\n\\n# Show the enhanced plot\\nplt.show()\\n```\",\n",
       "   'role': 'assistant'}],\n",
       " 'formatted_text': \"```python\\nimport matplotlib.pyplot as plt\\nimport numpy as np\\n\\n# Create a more complex dataset\\nx = np.linspace(0, 10, 200)\\ny1 = np.sin(x)  # Original sine wave\\ny2 = np.cos(x)  # Additional cosine wave\\n\\n# Create a new figure with a larger size for better visibility\\nplt.figure(figsize=(10, 6))\\n\\n# Plot the sine wave with enhanced styling\\nplt.plot(x, y1, label='Sine Wave', color='royalblue', linewidth=2, linestyle='-', marker='o', markersize=5, markerfacecolor='orange')\\n\\n# Plot the cosine wave with a contrasting style\\nplt.plot(x, y2, label='Cosine Wave', color='tomato', linewidth=2, linestyle='--', marker='s', markersize=5, markerfacecolor='yellow')\\n\\n# Enhance the chart with titles and labels\\nplt.title('Trigonometric Functions: Sine and Cosine', fontsize=16, fontweight='bold')\\nplt.xlabel('Angle (radians)', fontsize=12)\\nplt.ylabel('Function Value', fontsize=12)\\n\\n# Add a grid for better readability\\nplt.grid(True, which='both', linestyle='--', linewidth=0.5)\\n\\n# Add a legend with a shadow for better distinction\\nplt.legend(loc='upper right', fontsize=12, shadow=True)\\n\\n# Customize x and y axis ticks\\nplt.xticks(np.arange(0, 11, 1))\\nplt.yticks(np.arange(-1, 1.5, 0.5))\\n\\n# Optimize layout to prevent clipping of elements\\nplt.tight_layout()\\n\\n# Show the enhanced plot\\nplt.show()\\n```\"}"
      ]
     },
     "execution_count": 52,
     "metadata": {},
     "output_type": "execute_result"
    }
   ],
   "source": [
    "for item in chart_data:\n",
    "    item[\"messages\"][0][\"content\"] = item[\"messages\"][0][\"content\"].strip()\n",
    "    item[\"prompt\"] = item[\"prompt\"].strip()\n",
    "chart_data[0]"
   ]
  },
  {
   "cell_type": "code",
   "execution_count": 53,
   "metadata": {},
   "outputs": [],
   "source": [
    "for item in chart_data:\n",
    "    item[\"gpt_prompt\"] = item[\"prompt\"].strip()\n",
    "    item[\"type\"] = \"chart\""
   ]
  },
  {
   "cell_type": "code",
   "execution_count": 54,
   "metadata": {},
   "outputs": [
    {
     "data": {
      "text/plain": [
       "{'index': 0,\n",
       " 'evol_text': \"import matplotlib.pyplot as plt\\nimport numpy as np\\n\\n# Create a more complex dataset\\nx = np.linspace(0, 10, 200)\\ny1 = np.sin(x)  # Original sine wave\\ny2 = np.cos(x)  # Additional cosine wave\\n\\n# Create a new figure with a larger size for better visibility\\nplt.figure(figsize=(10, 6))\\n\\n# Plot the sine wave with enhanced styling\\nplt.plot(x, y1, label='Sine Wave', color='royalblue', linewidth=2, linestyle='-', marker='o', markersize=5, markerfacecolor='orange')\\n\\n# Plot the cosine wave with a contrasting style\\nplt.plot(x, y2, label='Cosine Wave', color='tomato', linewidth=2, linestyle='--', marker='s', markersize=5, markerfacecolor='yellow')\\n\\n# Enhance the chart with titles and labels\\nplt.title('Trigonometric Functions: Sine and Cosine', fontsize=16, fontweight='bold')\\nplt.xlabel('Angle (radians)', fontsize=12)\\nplt.ylabel('Function Value', fontsize=12)\\n\\n# Add a grid for better readability\\nplt.grid(True, which='both', linestyle='--', linewidth=0.5)\\n\\n# Add a legend with a shadow for better distinction\\nplt.legend(loc='upper right', fontsize=12, shadow=True)\\n\\n# Customize x and y axis ticks\\nplt.xticks(np.arange(0, 11, 1))\\nplt.yticks(np.arange(-1, 1.5, 0.5))\\n\\n# Optimize layout to prevent clipping of elements\\nplt.tight_layout()\\n\\n# Show the enhanced plot\\nplt.show()\",\n",
       " 'gpt_evol_answer': \"To create a visually appealing and informative line chart using Matplotlib, we can enhance the original code by improving the aesthetics and adding meaningful details to the plot. Here's an optimized version of the code with improved styling and a more contextually appropriate dataset:\\n\\n```python\\nimport matplotlib.pyplot as plt\\nimport numpy as np\\n\\n# Create a more complex dataset\\nx = np.linspace(0, 10, 200)\\ny1 = np.sin(x)  # Original sine wave\\ny2 = np.cos(x)  # Additional cosine wave\\n\\n# Create a new figure with a larger size for better visibility\\nplt.figure(figsize=(10, 6))\\n\\n# Plot the sine wave with enhanced styling\\nplt.plot(x, y1, label='Sine Wave', color='royalblue', linewidth=2, linestyle='-', marker='o', markersize=5, markerfacecolor='orange')\\n\\n# Plot the cosine wave with a contrasting style\\nplt.plot(x, y2, label='Cosine Wave', color='tomato', linewidth=2, linestyle='--', marker='s', markersize=5, markerfacecolor='yellow')\\n\\n# Enhance the chart with titles and labels\\nplt.title('Trigonometric Functions: Sine and Cosine', fontsize=16, fontweight='bold')\\nplt.xlabel('Angle (radians)', fontsize=12)\\nplt.ylabel('Function Value', fontsize=12)\\n\\n# Add a grid for better readability\\nplt.grid(True, which='both', linestyle='--', linewidth=0.5)\\n\\n# Add a legend with a shadow for better distinction\\nplt.legend(loc='upper right', fontsize=12, shadow=True)\\n\\n# Customize x and y axis ticks\\nplt.xticks(np.arange(0, 11, 1))\\nplt.yticks(np.arange(-1, 1.5, 0.5))\\n\\n# Optimize layout to prevent clipping of elements\\nplt.tight_layout()\\n\\n# Show the enhanced plot\\nplt.show()\\n```\\n\\n### Enhancements Made:\\n\\n1. **Dataset Enrichment**: Added a cosine wave alongside the sine wave for comparison.\\n2. **Figure Size**: Increased the figure size to make the plot more readable.\\n3. **Line Styles and Markers**: Applied distinct line styles, colors, and markers to differentiate the sine and cosine waves.\\n4. **Titles and Labels**: Enhanced the title with a more descriptive name and increased font sizes for better readability.\\n5. **Grid**: Added a subtle grid to improve readability and reference.\\n6. **Legend**: Improved the legend's appearance with a shadow, making it more distinct.\\n7. **Ticks Customization**: Set custom ticks on both axes for clarity and precision.\\n8. **Layout Optimization**: Used `plt.tight_layout()` to ensure that all plot elements are nicely contained within the figure area.\\n\\nThese improvements make the chart not only more visually appealing but also more informative, enhancing the user's ability to interpret the data effectively.\",\n",
       " 'revised_text': \"import matplotlib.pyplot as plt  \\nimport numpy as np  \\n\\n# Sample data  \\nx = np.linspace(0, 10, 100)  \\ny = np.sin(x)  \\n\\n# Create a new figure  \\nplt.figure(figsize=(6.0, 4.0))  \\n\\n# Plot the data  \\nplt.plot(x, y, label='Sine Wave')  \\n\\n# Set labels  \\nplt.xlabel('X-axis')  \\nplt.ylabel('Y-axis')  \\nplt.title('Sine Wave')  \\n\\n# Show the plot  \\nplt.show()\",\n",
       " 'category': 'Line',\n",
       " 'chart_size': [10.0, 6.0],\n",
       " 'max_stars_repo_path': 'talleres_inov_docente/figures/plot_helpers.py',\n",
       " 'max_stars_repo_name': 'jfcaballero/Tutorial-sobre-scikit-learn-abreviado',\n",
       " 'max_stars_count': 576,\n",
       " 'id': '5734',\n",
       " 'text': \"from matplotlib.colors import ListedColormap\\n\\ncm3 = ListedColormap(['#0000aa', '#ff2020', '#50ff50'])\\ncm2 = ListedColormap(['#0000aa', '#ff2020'])\\n\",\n",
       " 'source': 'v1',\n",
       " 'images': ['/mnt/lingjiejiang/multimodal_code/data/chart_data/evol_images1/000001.jpg'],\n",
       " 'prompt': 'Generate a matplotlib script that captures the essence of the picture, setting the size with figsize=(10, 6).',\n",
       " 'messages': [{'content': '<image>\\nGenerate a matplotlib script that captures the essence of the picture, setting the size with figsize=(10, 6).',\n",
       "   'role': 'user'},\n",
       "  {'content': \"```python\\nimport matplotlib.pyplot as plt\\nimport numpy as np\\n\\n# Create a more complex dataset\\nx = np.linspace(0, 10, 200)\\ny1 = np.sin(x)  # Original sine wave\\ny2 = np.cos(x)  # Additional cosine wave\\n\\n# Create a new figure with a larger size for better visibility\\nplt.figure(figsize=(10, 6))\\n\\n# Plot the sine wave with enhanced styling\\nplt.plot(x, y1, label='Sine Wave', color='royalblue', linewidth=2, linestyle='-', marker='o', markersize=5, markerfacecolor='orange')\\n\\n# Plot the cosine wave with a contrasting style\\nplt.plot(x, y2, label='Cosine Wave', color='tomato', linewidth=2, linestyle='--', marker='s', markersize=5, markerfacecolor='yellow')\\n\\n# Enhance the chart with titles and labels\\nplt.title('Trigonometric Functions: Sine and Cosine', fontsize=16, fontweight='bold')\\nplt.xlabel('Angle (radians)', fontsize=12)\\nplt.ylabel('Function Value', fontsize=12)\\n\\n# Add a grid for better readability\\nplt.grid(True, which='both', linestyle='--', linewidth=0.5)\\n\\n# Add a legend with a shadow for better distinction\\nplt.legend(loc='upper right', fontsize=12, shadow=True)\\n\\n# Customize x and y axis ticks\\nplt.xticks(np.arange(0, 11, 1))\\nplt.yticks(np.arange(-1, 1.5, 0.5))\\n\\n# Optimize layout to prevent clipping of elements\\nplt.tight_layout()\\n\\n# Show the enhanced plot\\nplt.show()\\n```\",\n",
       "   'role': 'assistant'}],\n",
       " 'formatted_text': \"```python\\nimport matplotlib.pyplot as plt\\nimport numpy as np\\n\\n# Create a more complex dataset\\nx = np.linspace(0, 10, 200)\\ny1 = np.sin(x)  # Original sine wave\\ny2 = np.cos(x)  # Additional cosine wave\\n\\n# Create a new figure with a larger size for better visibility\\nplt.figure(figsize=(10, 6))\\n\\n# Plot the sine wave with enhanced styling\\nplt.plot(x, y1, label='Sine Wave', color='royalblue', linewidth=2, linestyle='-', marker='o', markersize=5, markerfacecolor='orange')\\n\\n# Plot the cosine wave with a contrasting style\\nplt.plot(x, y2, label='Cosine Wave', color='tomato', linewidth=2, linestyle='--', marker='s', markersize=5, markerfacecolor='yellow')\\n\\n# Enhance the chart with titles and labels\\nplt.title('Trigonometric Functions: Sine and Cosine', fontsize=16, fontweight='bold')\\nplt.xlabel('Angle (radians)', fontsize=12)\\nplt.ylabel('Function Value', fontsize=12)\\n\\n# Add a grid for better readability\\nplt.grid(True, which='both', linestyle='--', linewidth=0.5)\\n\\n# Add a legend with a shadow for better distinction\\nplt.legend(loc='upper right', fontsize=12, shadow=True)\\n\\n# Customize x and y axis ticks\\nplt.xticks(np.arange(0, 11, 1))\\nplt.yticks(np.arange(-1, 1.5, 0.5))\\n\\n# Optimize layout to prevent clipping of elements\\nplt.tight_layout()\\n\\n# Show the enhanced plot\\nplt.show()\\n```\",\n",
       " 'gpt_prompt': 'Generate a matplotlib script that captures the essence of the picture, setting the size with figsize=(10, 6).',\n",
       " 'type': 'chart'}"
      ]
     },
     "execution_count": 54,
     "metadata": {},
     "output_type": "execute_result"
    }
   ],
   "source": [
    "chart_data[0]"
   ]
  },
  {
   "cell_type": "code",
   "execution_count": 56,
   "metadata": {},
   "outputs": [],
   "source": [
    "with open(\"/mnt/lingjiejiang/multimodal_code/data/dpo/chart/chart50k.json\", \"w\") as f:\n",
    "    json.dump(chart_data, f)"
   ]
  },
  {
   "cell_type": "code",
   "execution_count": 57,
   "metadata": {},
   "outputs": [
    {
     "data": {
      "text/plain": [
       "50476"
      ]
     },
     "execution_count": 57,
     "metadata": {},
     "output_type": "execute_result"
    }
   ],
   "source": [
    "with open(\"/mnt/lingjiejiang/multimodal_code/data/dpo/chart/chart50k.json\", \"r\") as f:\n",
    "    chart_data = json.load(f)\n",
    "len(chart_data)"
   ]
  },
  {
   "cell_type": "code",
   "execution_count": 59,
   "metadata": {},
   "outputs": [
    {
     "data": {
      "text/plain": [
       "[{'index': 0,\n",
       "  'evol_text': \"import matplotlib.pyplot as plt\\nimport numpy as np\\n\\n# Create a more complex dataset\\nx = np.linspace(0, 10, 200)\\ny1 = np.sin(x)  # Original sine wave\\ny2 = np.cos(x)  # Additional cosine wave\\n\\n# Create a new figure with a larger size for better visibility\\nplt.figure(figsize=(10, 6))\\n\\n# Plot the sine wave with enhanced styling\\nplt.plot(x, y1, label='Sine Wave', color='royalblue', linewidth=2, linestyle='-', marker='o', markersize=5, markerfacecolor='orange')\\n\\n# Plot the cosine wave with a contrasting style\\nplt.plot(x, y2, label='Cosine Wave', color='tomato', linewidth=2, linestyle='--', marker='s', markersize=5, markerfacecolor='yellow')\\n\\n# Enhance the chart with titles and labels\\nplt.title('Trigonometric Functions: Sine and Cosine', fontsize=16, fontweight='bold')\\nplt.xlabel('Angle (radians)', fontsize=12)\\nplt.ylabel('Function Value', fontsize=12)\\n\\n# Add a grid for better readability\\nplt.grid(True, which='both', linestyle='--', linewidth=0.5)\\n\\n# Add a legend with a shadow for better distinction\\nplt.legend(loc='upper right', fontsize=12, shadow=True)\\n\\n# Customize x and y axis ticks\\nplt.xticks(np.arange(0, 11, 1))\\nplt.yticks(np.arange(-1, 1.5, 0.5))\\n\\n# Optimize layout to prevent clipping of elements\\nplt.tight_layout()\\n\\n# Show the enhanced plot\\nplt.show()\",\n",
       "  'gpt_evol_answer': \"To create a visually appealing and informative line chart using Matplotlib, we can enhance the original code by improving the aesthetics and adding meaningful details to the plot. Here's an optimized version of the code with improved styling and a more contextually appropriate dataset:\\n\\n```python\\nimport matplotlib.pyplot as plt\\nimport numpy as np\\n\\n# Create a more complex dataset\\nx = np.linspace(0, 10, 200)\\ny1 = np.sin(x)  # Original sine wave\\ny2 = np.cos(x)  # Additional cosine wave\\n\\n# Create a new figure with a larger size for better visibility\\nplt.figure(figsize=(10, 6))\\n\\n# Plot the sine wave with enhanced styling\\nplt.plot(x, y1, label='Sine Wave', color='royalblue', linewidth=2, linestyle='-', marker='o', markersize=5, markerfacecolor='orange')\\n\\n# Plot the cosine wave with a contrasting style\\nplt.plot(x, y2, label='Cosine Wave', color='tomato', linewidth=2, linestyle='--', marker='s', markersize=5, markerfacecolor='yellow')\\n\\n# Enhance the chart with titles and labels\\nplt.title('Trigonometric Functions: Sine and Cosine', fontsize=16, fontweight='bold')\\nplt.xlabel('Angle (radians)', fontsize=12)\\nplt.ylabel('Function Value', fontsize=12)\\n\\n# Add a grid for better readability\\nplt.grid(True, which='both', linestyle='--', linewidth=0.5)\\n\\n# Add a legend with a shadow for better distinction\\nplt.legend(loc='upper right', fontsize=12, shadow=True)\\n\\n# Customize x and y axis ticks\\nplt.xticks(np.arange(0, 11, 1))\\nplt.yticks(np.arange(-1, 1.5, 0.5))\\n\\n# Optimize layout to prevent clipping of elements\\nplt.tight_layout()\\n\\n# Show the enhanced plot\\nplt.show()\\n```\\n\\n### Enhancements Made:\\n\\n1. **Dataset Enrichment**: Added a cosine wave alongside the sine wave for comparison.\\n2. **Figure Size**: Increased the figure size to make the plot more readable.\\n3. **Line Styles and Markers**: Applied distinct line styles, colors, and markers to differentiate the sine and cosine waves.\\n4. **Titles and Labels**: Enhanced the title with a more descriptive name and increased font sizes for better readability.\\n5. **Grid**: Added a subtle grid to improve readability and reference.\\n6. **Legend**: Improved the legend's appearance with a shadow, making it more distinct.\\n7. **Ticks Customization**: Set custom ticks on both axes for clarity and precision.\\n8. **Layout Optimization**: Used `plt.tight_layout()` to ensure that all plot elements are nicely contained within the figure area.\\n\\nThese improvements make the chart not only more visually appealing but also more informative, enhancing the user's ability to interpret the data effectively.\",\n",
       "  'revised_text': \"import matplotlib.pyplot as plt  \\nimport numpy as np  \\n\\n# Sample data  \\nx = np.linspace(0, 10, 100)  \\ny = np.sin(x)  \\n\\n# Create a new figure  \\nplt.figure(figsize=(6.0, 4.0))  \\n\\n# Plot the data  \\nplt.plot(x, y, label='Sine Wave')  \\n\\n# Set labels  \\nplt.xlabel('X-axis')  \\nplt.ylabel('Y-axis')  \\nplt.title('Sine Wave')  \\n\\n# Show the plot  \\nplt.show()\",\n",
       "  'category': 'Line',\n",
       "  'chart_size': [10.0, 6.0],\n",
       "  'max_stars_repo_path': 'talleres_inov_docente/figures/plot_helpers.py',\n",
       "  'max_stars_repo_name': 'jfcaballero/Tutorial-sobre-scikit-learn-abreviado',\n",
       "  'max_stars_count': 576,\n",
       "  'id': '5734',\n",
       "  'text': \"from matplotlib.colors import ListedColormap\\n\\ncm3 = ListedColormap(['#0000aa', '#ff2020', '#50ff50'])\\ncm2 = ListedColormap(['#0000aa', '#ff2020'])\\n\",\n",
       "  'source': 'v1',\n",
       "  'images': ['/mnt/lingjiejiang/multimodal_code/data/chart_data/evol_images1/000001.jpg'],\n",
       "  'prompt': 'Generate a matplotlib script that captures the essence of the picture, setting the size with figsize=(10, 6).',\n",
       "  'messages': [{'content': '<image>\\nGenerate a matplotlib script that captures the essence of the picture, setting the size with figsize=(10, 6).',\n",
       "    'role': 'user'},\n",
       "   {'content': \"```python\\nimport matplotlib.pyplot as plt\\nimport numpy as np\\n\\n# Create a more complex dataset\\nx = np.linspace(0, 10, 200)\\ny1 = np.sin(x)  # Original sine wave\\ny2 = np.cos(x)  # Additional cosine wave\\n\\n# Create a new figure with a larger size for better visibility\\nplt.figure(figsize=(10, 6))\\n\\n# Plot the sine wave with enhanced styling\\nplt.plot(x, y1, label='Sine Wave', color='royalblue', linewidth=2, linestyle='-', marker='o', markersize=5, markerfacecolor='orange')\\n\\n# Plot the cosine wave with a contrasting style\\nplt.plot(x, y2, label='Cosine Wave', color='tomato', linewidth=2, linestyle='--', marker='s', markersize=5, markerfacecolor='yellow')\\n\\n# Enhance the chart with titles and labels\\nplt.title('Trigonometric Functions: Sine and Cosine', fontsize=16, fontweight='bold')\\nplt.xlabel('Angle (radians)', fontsize=12)\\nplt.ylabel('Function Value', fontsize=12)\\n\\n# Add a grid for better readability\\nplt.grid(True, which='both', linestyle='--', linewidth=0.5)\\n\\n# Add a legend with a shadow for better distinction\\nplt.legend(loc='upper right', fontsize=12, shadow=True)\\n\\n# Customize x and y axis ticks\\nplt.xticks(np.arange(0, 11, 1))\\nplt.yticks(np.arange(-1, 1.5, 0.5))\\n\\n# Optimize layout to prevent clipping of elements\\nplt.tight_layout()\\n\\n# Show the enhanced plot\\nplt.show()\\n```\",\n",
       "    'role': 'assistant'}],\n",
       "  'formatted_text': \"```python\\nimport matplotlib.pyplot as plt\\nimport numpy as np\\n\\n# Create a more complex dataset\\nx = np.linspace(0, 10, 200)\\ny1 = np.sin(x)  # Original sine wave\\ny2 = np.cos(x)  # Additional cosine wave\\n\\n# Create a new figure with a larger size for better visibility\\nplt.figure(figsize=(10, 6))\\n\\n# Plot the sine wave with enhanced styling\\nplt.plot(x, y1, label='Sine Wave', color='royalblue', linewidth=2, linestyle='-', marker='o', markersize=5, markerfacecolor='orange')\\n\\n# Plot the cosine wave with a contrasting style\\nplt.plot(x, y2, label='Cosine Wave', color='tomato', linewidth=2, linestyle='--', marker='s', markersize=5, markerfacecolor='yellow')\\n\\n# Enhance the chart with titles and labels\\nplt.title('Trigonometric Functions: Sine and Cosine', fontsize=16, fontweight='bold')\\nplt.xlabel('Angle (radians)', fontsize=12)\\nplt.ylabel('Function Value', fontsize=12)\\n\\n# Add a grid for better readability\\nplt.grid(True, which='both', linestyle='--', linewidth=0.5)\\n\\n# Add a legend with a shadow for better distinction\\nplt.legend(loc='upper right', fontsize=12, shadow=True)\\n\\n# Customize x and y axis ticks\\nplt.xticks(np.arange(0, 11, 1))\\nplt.yticks(np.arange(-1, 1.5, 0.5))\\n\\n# Optimize layout to prevent clipping of elements\\nplt.tight_layout()\\n\\n# Show the enhanced plot\\nplt.show()\\n```\",\n",
       "  'gpt_prompt': 'Generate a matplotlib script that captures the essence of the picture, setting the size with figsize=(10, 6).',\n",
       "  'type': 'chart'},\n",
       " {'index': 1,\n",
       "  'evol_text': \"import matplotlib.pyplot as plt\\nimport numpy as np\\n\\n# Create sample data\\nx = np.linspace(0, 10, 100)\\ny1 = np.sin(x)  # Sine wave\\ny2 = np.cos(x)  # Cosine wave\\ny3 = np.tan(x)  # Tangent wave, limited to avoid extreme values\\n\\n# Create a new figure\\nfig, ax = plt.subplots(figsize=(10, 6))\\n\\n# Plot the data with different styles\\nax.plot(x, y1, color='royalblue', linewidth=2, linestyle='-', marker='o', markersize=5, label='Sine Wave')\\nax.plot(x, y2, color='darkorange', linewidth=2, linestyle='--', marker='s', markersize=5, label='Cosine Wave')\\nax.plot(x, y3, color='green', linewidth=2, linestyle=':', marker='^', markersize=5, label='Tangent Wave', alpha=0.7)\\nax.set_ylim(-2, 2)  # Limit y-axis to avoid displaying extreme tangent values\\n\\n# Set labels\\nax.set_xlabel('Angle (radians)', fontsize=12, fontweight='bold')\\nax.set_ylabel('Value', fontsize=12, fontweight='bold')\\nax.set_title('Trigonometric Functions', fontsize=14, fontweight='bold')\\n\\n# Add grid for better readability\\nax.grid(True, linestyle='--', alpha=0.6)\\n\\n# Add a legend\\nax.legend(loc='upper right', fontsize=10)\\n\\n# Improve layout\\nplt.tight_layout()\\n\\n# Show the plot\\nplt.show()\",\n",
       "  'gpt_evol_answer': \"Below is an optimized and enhanced version of the original code. The improvements include the use of multiple line styles, customized markers, a grid for better readability, and more detailed labels and title. The data is crafted to demonstrate a scenario of comparing mathematical functions.\\n\\n```python\\nimport matplotlib.pyplot as plt\\nimport numpy as np\\n\\n# Create sample data\\nx = np.linspace(0, 10, 100)\\ny1 = np.sin(x)  # Sine wave\\ny2 = np.cos(x)  # Cosine wave\\ny3 = np.tan(x)  # Tangent wave, limited to avoid extreme values\\n\\n# Create a new figure\\nfig, ax = plt.subplots(figsize=(10, 6))\\n\\n# Plot the data with different styles\\nax.plot(x, y1, color='royalblue', linewidth=2, linestyle='-', marker='o', markersize=5, label='Sine Wave')\\nax.plot(x, y2, color='darkorange', linewidth=2, linestyle='--', marker='s', markersize=5, label='Cosine Wave')\\nax.plot(x, y3, color='green', linewidth=2, linestyle=':', marker='^', markersize=5, label='Tangent Wave', alpha=0.7)\\nax.set_ylim(-2, 2)  # Limit y-axis to avoid displaying extreme tangent values\\n\\n# Set labels\\nax.set_xlabel('Angle (radians)', fontsize=12, fontweight='bold')\\nax.set_ylabel('Value', fontsize=12, fontweight='bold')\\nax.set_title('Trigonometric Functions', fontsize=14, fontweight='bold')\\n\\n# Add grid for better readability\\nax.grid(True, linestyle='--', alpha=0.6)\\n\\n# Add a legend\\nax.legend(loc='upper right', fontsize=10)\\n\\n# Improve layout\\nplt.tight_layout()\\n\\n# Show the plot\\nplt.show()\\n```\\n\\n### Key Enhancements:\\n- **Multiple Lines**: Added cosine and tangent waves to compare different trigonometric functions.\\n- **Line Styles and Markers**: Used different line styles (`-`, `--`, `:`) and markers (`o`, `s`, `^`) to differentiate the lines.\\n- **Axis Limits**: Set the y-axis limit to avoid extreme tangent values, ensuring the plot remains readable.\\n- **Grid**: Added a grid to improve readability and help users follow the lines across the plot.\\n- **Labels and Titles**: Enhanced axis labels and title with detailed descriptions and formatted with bold fonts.\\n- **Legend Placement**: Positioned the legend in the upper right corner for better visibility.\\n\\nThis enriched chart provides a more informative and visually appealing representation of the data.\",\n",
       "  'revised_text': \"import matplotlib.pyplot as plt  \\nimport numpy as np  \\n\\n# Sample data\\nx = np.linspace(0, 10, 100)\\ny = np.sin(x)\\n\\n# Create a new figure\\nfig = plt.figure(figsize=(7.5, 6))\\n\\n# Plot the data\\nplt.plot(x, y, color='blue', label='Sine Wave')\\n\\n# Set labels\\nplt.xlabel('X')\\nplt.ylabel('Y')\\nplt.title('Sine Wave')\\n\\n# Add a legend\\nplt.legend()\\n\\n# Show the plot\\nplt.show()\",\n",
       "  'category': 'Line',\n",
       "  'chart_size': [10.0, 6.0],\n",
       "  'max_stars_repo_path': 'src/utils.py',\n",
       "  'max_stars_repo_name': 'mmin0/SigDFP',\n",
       "  'max_stars_count': 0,\n",
       "  'id': '18481',\n",
       "  'text': '\\n\\nimport torch\\nimport matplotlib\\nmatplotlib.use(\"Agg\")\\nimport matplotlib.pyplot as plt\\nfrom matplotlib.legend_handler import HandlerTuple\\nfrom matplotlib.ticker import FormatStrFormatter\\n#from tqdm import tqdm\\n\\nmatplotlib.rcParams[\\'pdf.fonttype\\'] = 42\\nmatplotlib.rcParams[\\'ps.fonttype\\'] = 42\\n\\n\\nplt.rc(\\'xtick\\', labelsize=22)    # fontsize of the tick labels\\nplt.rc(\\'ytick\\', labelsize=22)\\nplt.rc(\\'legend\\', fontsize=25) \\nplt.rc(\\'axes\\', labelsize=25)\\nplt.rcParams[\"figure.figsize\"] = (7.5, 6)\\ncolors = [\\'lightcoral\\', \\'mediumseagreen\\', \\'darkorange\\']\\n\\ndef epoch_time(start_time, end_time):\\n    elap_time = end_time - start_time\\n    elap_min = elap_time//60\\n    elap_sec = elap_time % 60\\n    return elap_min, elap_sec\\n\\n\\ndef train(model, dataloader, optimizer, criterion, initial, prev_m, device, depth=4):\\n    \"\"\"\\n    train model for alpha for one loop over dataloader\\n    \"\"\"\\n    epoch_loss = 0\\n    \\n    model.train() # set model to train mode\\n    i = 0\\n    for batch in dataloader:\\n        optimizer.zero_grad()\\n    \\n        bm, cn = batch\\n        \\n        X = model(bm.to(device), \\n                  cn.to(device), \\n                  prev_m[i*dataloader.batch_size:(i+1)*dataloader.batch_size], \\n                  initial[i*dataloader.batch_size:(i+1)*dataloader.batch_size].to(device))\\n        strategy = model.strategy\\n        loss = criterion(X, prev_m[i*dataloader.batch_size:(i+1)*dataloader.batch_size], strategy)\\n        \\n        loss.backward(retain_graph=True)\\n        optimizer.step()\\n\\n        epoch_loss += loss.item()\\n        i+=1\\n    return epoch_loss/len(dataloader)\\n\\n\\ndef evaluate(model, dataloader, criterion, initial, prev_m, device, depth=4):\\n    \\n    epoch_loss = 0\\n    #initialize\\n    #N = prev_m.size()[0] - 1\\n    #m = torch.zeros(N+1, 1, device=device)\\n    #sigs = torch.zeros(signatory.signature_channels(2, depth), device=device)\\n    model.eval() # set model to train mode\\n    i = 0\\n    for batch in dataloader:\\n        bm, cn = batch\\n        X = model(bm.to(device), \\n                  cn.to(device), \\n                  prev_m[i*dataloader.batch_size:(i+1)*dataloader.batch_size], \\n                  initial[i*dataloader.batch_size:(i+1)*dataloader.batch_size].to(device))\\n        strategy = model.strategy\\n        loss = criterion(X, prev_m[i*dataloader.batch_size:(i+1)*dataloader.batch_size], strategy)\\n\\n        epoch_loss += loss.item()\\n        i+=1\\n    return epoch_loss/len(dataloader)\\n\\n\\n\\ndef train1(model, dataloader, optimizer, criterion, initial, prev_m, device, depth=4):\\n    \"\"\"\\n    train model for alpha for one loop over dataloader\\n    \"\"\"\\n    epoch_loss = 0\\n    \\n    model.train() # set model to train mode\\n    i = 0\\n    for batch in dataloader:\\n        \\n        optimizer.zero_grad()\\n    \\n        bm, cn, typeVec = batch\\n        \\n        X = model(bm.to(device), \\n                  cn.to(device), \\n                  typeVec.to(device),\\n                  prev_m[i*dataloader.batch_size:(i+1)*dataloader.batch_size], \\n                  initial[i*dataloader.batch_size:(i+1)*dataloader.batch_size].to(device))\\n        strategy = model.strategy\\n        loss = criterion(X, prev_m[i*dataloader.batch_size:(i+1)*dataloader.batch_size], strategy)\\n        \\n        loss.backward(retain_graph=True)\\n        optimizer.step()\\n\\n        epoch_loss += loss.item()\\n        i+=1\\n    return epoch_loss/len(dataloader)\\n\\n\\ndef evaluate1(model, dataloader, criterion, initial, prev_m, device, depth=4):\\n    \\n    epoch_loss = 0\\n    model.eval() # set model to train mode\\n    i = 0\\n    for batch in dataloader:\\n        \\n        bm, cn, typeVec = batch\\n        X = model(bm.to(device), \\n                  cn.to(device),\\n                  typeVec.to(device),\\n                  prev_m[i*dataloader.batch_size:(i+1)*dataloader.batch_size], \\n                  initial[i*dataloader.batch_size:(i+1)*dataloader.batch_size].to(device))\\n        strategy = model.strategy\\n        loss = criterion(X, prev_m[i*dataloader.batch_size:(i+1)*dataloader.batch_size], strategy)\\n\\n        epoch_loss += loss.item()\\n        \\n        i+=1\\n    return epoch_loss/len(dataloader)\\n\\n\\n\\n\\ndef train2(model, dataloader, optimizer, criterion, initial, prev_m, prev_c, device, depth=4):\\n    \"\"\"\\n    train model for alpha for one loop over dataloader\\n    \"\"\"\\n    epoch_loss = 0\\n    \\n    model.train() # set model to train mode\\n    i = 0\\n    for batch in dataloader:\\n        \\n        optimizer.zero_grad()\\n    \\n        bm, cn, typeVec = batch\\n        \\n        X = model(bm.to(device), \\n                  cn.to(device), \\n                  typeVec.to(device),\\n                  prev_m[i*dataloader.batch_size:(i+1)*dataloader.batch_size],\\n                  prev_c[i*dataloader.batch_size:(i+1)*dataloader.batch_size],\\n                  initial[i*dataloader.batch_size:(i+1)*dataloader.batch_size].to(device))\\n        strategy = model.strategy\\n        \\n        loss = criterion(X, prev_m[i*dataloader.batch_size:(i+1)*dataloader.batch_size], \\n                        strategy, prev_c[i*dataloader.batch_size:(i+1)*dataloader.batch_size])\\n        \\n        loss.backward(retain_graph=True)\\n        optimizer.step()\\n\\n        epoch_loss += loss.item()\\n        i+=1\\n    return epoch_loss/len(dataloader)\\n\\n\\ndef evaluate2(model, dataloader, criterion, initial, prev_m, prev_c, device, depth=4):\\n    \\n    epoch_loss = 0\\n    #initialize\\n    #N = prev_m.size()[0] - 1\\n    #m = torch.zeros(N+1, 1, device=device)\\n    #sigs = torch.zeros(signatory.signature_channels(2, depth), device=device)\\n    model.eval() # set model to train mode\\n    i = 0\\n    \\n    for batch in dataloader:\\n    \\n        bm, cn, typeVec = batch\\n        \\n        X = model(bm.to(device), \\n                  cn.to(device), \\n                  typeVec.to(device),\\n                  prev_m[i*dataloader.batch_size:(i+1)*dataloader.batch_size], \\n                  prev_c[i*dataloader.batch_size:(i+1)*dataloader.batch_size],\\n                  initial[i*dataloader.batch_size:(i+1)*dataloader.batch_size].to(device))\\n        strategy = model.strategy\\n        loss = criterion(X, prev_m[i*dataloader.batch_size:(i+1)*dataloader.batch_size], \\n                        strategy, prev_c[i*dataloader.batch_size:(i+1)*dataloader.batch_size])\\n        \\n        epoch_loss += loss.item()\\n        \\n        i+=1\\n    return epoch_loss/len(dataloader)\\n\\n\\ndef plotErrors(error, target_addr, title, filename):\\n    fig = plt.figure()\\n    plt.title(title)\\n    plt.xlabel(\"FP rounds\")\\n    plt.ylabel(\"Errors\")\\n    plt.plot(error, color=\\'blue\\')\\n    fig.savefig(target_addr+\\'/\\'+filename+\\'.pdf\\')\\n    \\ndef plotUtil(util, ylim, ytrue, target_addr, title, filename, ins_loc=None, ins_ylim=None, cost=False):\\n    \\n    if cost:\\n        n = len(util)\\n        fig, ax = plt.subplots(figsize=(7.5, 6))\\n        if title:\\n            plt.title(title)\\n        if ylim:\\n            ax.set_ylim(ylim)\\n        ax.set_xlabel(r\"FP iterations $n$\")\\n        ax.set_ylabel(\"validation cost\")\\n        l1 = ax.axhline(ytrue, color=\"indianred\", ls=\"--\")\\n        l2, = ax.plot(util, color=\\'darkcyan\\', ls=\"-\")\\n        if ins_loc:\\n            axins = ax.inset_axes(ins_loc)\\n        if ins_ylim:\\n            axins.set_ylim(ins_ylim)\\n        axins.plot(range(n-50, n), util[-50:], color=\\'darkcyan\\', ls=\"-\")\\n        axins.axhline(ytrue, color=\"indianred\", ls=\"--\")\\n        \\n        ax.indicate_inset_zoom(axins)\\n        ax.legend((l1, l2), (\"true cost\", \"validation cost\"), loc=\"upper center\")\\n        plt.tight_layout()\\n        fig.savefig(target_addr+\\'/\\'+filename+\\'.pdf\\')\\n    else:\\n        n = len(util)\\n        fig, ax = plt.subplots(figsize=(7.5, 6))\\n        if title:\\n            plt.title(title)\\n        if ylim:\\n            ax.set_ylim(ylim)\\n        ax.set_xlabel(r\"FP iterations $n$\")\\n        ax.set_ylabel(\"validation utility\")\\n        l1 = ax.axhline(ytrue, color=\"indianred\", ls=\"--\")\\n        l2, = ax.plot(util, color=\\'darkcyan\\', ls=\"-\")\\n        if ins_loc:\\n            axins = ax.inset_axes(ins_loc)\\n        if ins_ylim:\\n            axins.set_ylim(ins_ylim)\\n        axins.plot(range(n-50, n), util[-50:], color=\\'darkcyan\\', ls=\"-\")\\n        axins.axhline(ytrue, color=\"indianred\", ls=\"--\")\\n        \\n        ax.indicate_inset_zoom(axins)\\n        ax.legend((l1, l2), (\"true utility\", \"validation utility\"), loc=\"upper center\")\\n        plt.tight_layout()\\n        fig.savefig(target_addr+\\'/\\'+filename+\\'.pdf\\')\\n\\n\\n\\ndef plotMeanDiff_bencmarkvspredicted(data, target_addr, title, filename, ylim=None, label1=None, label2=None, ylabel=None, legendloc=None, round_=False):\\n    fig = plt.figure()\\n    if title:\\n        plt.title(title)\\n    x, next_m, m = data\\n    if ylim:\\n        plt.ylim(ylim)\\n    c = len(next_m)\\n    lines = []\\n    lines_pred = []\\n    for i in range(c):\\n        l, = plt.plot(x, next_m[i], color=colors[i])\\n        lines.append(l)\\n    for i in range(c):\\n        l, = plt.plot(x, m[i], color=colors[i], ls=\\'--\\', marker=\\'.\\')\\n        lines_pred.append(l)\\n    #plt.plot(x, next_m-m, label=\\'diff\\')\\n    plt.xlabel(r\"time $t$\")\\n    if ylabel:\\n        plt.ylabel(ylabel)\\n    if legendloc:\\n        plt.legend([tuple(lines), tuple(lines_pred)], [label1, label2],\\n                loc=legendloc, ncol=2, handler_map={tuple: HandlerTuple(ndivide=None)})\\n    else:\\n        plt.legend([tuple(lines), tuple(lines_pred)], [label1, label2],\\n                loc=\"upper left\", ncol=2, handler_map={tuple: HandlerTuple(ndivide=None)})\\n    if round_:\\n        plt.gca().yaxis.set_major_formatter(FormatStrFormatter(\\'%.2f\\'))\\n    plt.tight_layout()\\n    fig.savefig(target_addr+\\'/\\'+filename+\\'.pdf\\')\\n    \\n\\ndef L2distance(x, y):\\n    b, N, _ = x.size()\\n    return ((torch.sum(torch.pow(x - y, 2))/N/b)**0.5).item()\\n\\ndef plotSDE(benchmark, predicted, target_addr, title, filename, ylim=None, label1=None, label2=None, legendloc=None):\\n    \"\"\"\\n    input:\\n        benchmark -- list[paths]\\n        predicted -- list[paths]\\n    \"\"\"\\n    fig = plt.figure()\\n    if title:\\n        plt.title(title)\\n    if ylim:\\n        plt.ylim(ylim)\\n    t = [i/100 for i in range(101)]\\n    c = len(benchmark)\\n    lines = []\\n    lines_pred = []\\n    for i in range(c):\\n        l, = plt.plot(t, benchmark[i], color=colors[i], ls=\\'-\\')\\n        lines.append(l)\\n    for i in range(c):\\n        l, = plt.plot(t, predicted[i], color=colors[i], ls=\\'--\\', marker=\\'.\\')\\n        lines_pred.append(l)\\n    if legendloc:\\n        plt.legend([tuple(lines), tuple(lines_pred)], [label1, label2],\\n                loc=legendloc, ncol=2, handler_map={tuple: HandlerTuple(ndivide=None)})\\n    else:\\n        plt.legend([tuple(lines), tuple(lines_pred)], [label1, label2],\\n                loc=\"upper left\", ncol=2, handler_map={tuple: HandlerTuple(ndivide=None)})\\n    plt.xlabel(r\"time $t$\")\\n    plt.ylabel(r\"$X_t$ and $\\\\widehat{X}_t$\")\\n    plt.tight_layout()\\n    fig.savefig(target_addr+\\'/\\'+filename+\\'.pdf\\')\\n    \\n\\n    \\ndef plotC(benchmark, predicted, target_addr, title, filename, label1=None, label2=None, ylabel=None):\\n    \"\"\"\\n    input:\\n        benchmark -- list[paths]\\n        predicted -- list[paths]\\n    \"\"\"\\n    t = [i/100 for i in range(100)]\\n    fig = plt.figure()\\n    if title:\\n        plt.title(title)\\n    c = len(benchmark)\\n    lines = []\\n    lines_pred = []\\n    for i in range(c):\\n        l, = plt.plot(t, benchmark[i], color=colors[i], ls=\\'-\\')\\n        lines.append(l)\\n    for i in range(c):\\n        l, = plt.plot(t, predicted[i], color=colors[i], ls=\\'--\\', marker=\\'.\\')\\n        lines_pred.append(l)\\n    plt.legend([tuple(lines), tuple(lines_pred)], [label1, label2], \\n                loc=\"upper left\",ncol=2, handler_map={tuple: HandlerTuple(ndivide=None)})\\n    plt.xlabel(r\"time $t$\")\\n    if ylabel:\\n        plt.ylabel(ylabel)\\n    plt.tight_layout()\\n    fig.savefig(target_addr+\\'/\\'+filename+\\'.pdf\\')\\n    \\ndef plotpi(benchmark, predicted, target_addr, title, filename, ylim = None, label1=None, label2=None, ylabel=None, legendloc = None):\\n    \"\"\"\\n    input:\\n        benchmark -- list[paths]\\n        predicted -- list[paths]\\n    \"\"\"\\n    fig = plt.figure()\\n    if title:\\n        plt.title(title)\\n    if ylim:\\n        plt.ylim(ylim)\\n    t = [i/100 for i in range(100)]\\n    c = len(benchmark)\\n    lines = []\\n    lines_pred = []\\n    for i in range(c):\\n        l, = plt.plot(t, benchmark[i], color=colors[i], ls=\\'-\\')\\n        lines.append(l)\\n    for i in range(c):\\n        l, = plt.plot(t, predicted[i], color=colors[i], ls=\\'--\\', marker=\\'.\\')\\n        lines_pred.append(l)\\n    if legendloc:\\n        plt.legend([tuple(lines), tuple(lines_pred)], [label1, label2],\\n                loc=legendloc, ncol=2, handler_map={tuple: HandlerTuple(ndivide=None)})\\n    else:\\n        plt.legend([tuple(lines), tuple(lines_pred)], [label1, label2],\\n                loc=\"upper left\", ncol=2, handler_map={tuple: HandlerTuple(ndivide=None)})\\n    plt.xlabel(r\"time $t$\")\\n    if ylabel:\\n        plt.ylabel(ylabel)\\n    plt.tight_layout()\\n    fig.savefig(target_addr+\\'/\\'+filename+\\'.pdf\\')\\n    \\n    \\ndef plotmC(benchmark, predicted, target_addr, title, filename, label1=None, label2=None, ylabel=None):\\n    \"\"\"\\n    input:\\n        benchmark -- list[paths]\\n        predicted -- list[paths]\\n    \"\"\"\\n    N = predicted.shape[1]\\n    t = [1/N*i for i in range(N)]\\n    fig = plt.figure()\\n    if title:\\n        plt.title(title)\\n    \\n    c = len(predicted)\\n    lines = []\\n    lines_pred = []\\n    l, = plt.plot(t, benchmark, color=\\'darkgrey\\', ls=\\'-\\', linewidth=5)\\n    lines.append(l)\\n    for i in range(c):\\n        l, = plt.plot(t, predicted[i], color=colors[i], ls=\\'--\\', marker=\\'.\\')\\n        lines_pred.append(l)\\n    plt.legend([tuple(lines), tuple(lines_pred)], [label1, label2], \\n                loc=\"upper left\", ncol=2, handler_map={tuple: HandlerTuple(ndivide=None)})\\n    \\n    plt.xlabel(r\"time $t$\")\\n    if ylabel:\\n        plt.ylabel(ylabel)\\n    plt.tight_layout()\\n    fig.savefig(target_addr+\\'/\\'+filename+\\'.pdf\\')\\n    \\n',\n",
       "  'source': 'v1',\n",
       "  'images': ['/mnt/lingjiejiang/multimodal_code/data/chart_data/evol_images1/000002.jpg'],\n",
       "  'prompt': 'You are an expert Python developer who specializes in writing matplotlib code based on a given picture. I found a very nice picture in a STEM paper, but there is no corresponding source code available. I need your help to generate the Python code that can reproduce the picture based on the picture I provide.\\\\nNote that it is necessary to use figsize=(10, 6) to set the image size to match the original size.\\\\nNow, please give me the matplotlib code that reproduces the picture below.',\n",
       "  'messages': [{'content': '<image>\\nYou are an expert Python developer who specializes in writing matplotlib code based on a given picture. I found a very nice picture in a STEM paper, but there is no corresponding source code available. I need your help to generate the Python code that can reproduce the picture based on the picture I provide.\\\\nNote that it is necessary to use figsize=(10, 6) to set the image size to match the original size.\\\\nNow, please give me the matplotlib code that reproduces the picture below.',\n",
       "    'role': 'user'},\n",
       "   {'content': \"```python\\nimport matplotlib.pyplot as plt\\nimport numpy as np\\n\\n# Create sample data\\nx = np.linspace(0, 10, 100)\\ny1 = np.sin(x)  # Sine wave\\ny2 = np.cos(x)  # Cosine wave\\ny3 = np.tan(x)  # Tangent wave, limited to avoid extreme values\\n\\n# Create a new figure\\nfig, ax = plt.subplots(figsize=(10, 6))\\n\\n# Plot the data with different styles\\nax.plot(x, y1, color='royalblue', linewidth=2, linestyle='-', marker='o', markersize=5, label='Sine Wave')\\nax.plot(x, y2, color='darkorange', linewidth=2, linestyle='--', marker='s', markersize=5, label='Cosine Wave')\\nax.plot(x, y3, color='green', linewidth=2, linestyle=':', marker='^', markersize=5, label='Tangent Wave', alpha=0.7)\\nax.set_ylim(-2, 2)  # Limit y-axis to avoid displaying extreme tangent values\\n\\n# Set labels\\nax.set_xlabel('Angle (radians)', fontsize=12, fontweight='bold')\\nax.set_ylabel('Value', fontsize=12, fontweight='bold')\\nax.set_title('Trigonometric Functions', fontsize=14, fontweight='bold')\\n\\n# Add grid for better readability\\nax.grid(True, linestyle='--', alpha=0.6)\\n\\n# Add a legend\\nax.legend(loc='upper right', fontsize=10)\\n\\n# Improve layout\\nplt.tight_layout()\\n\\n# Show the plot\\nplt.show()\\n```\",\n",
       "    'role': 'assistant'}],\n",
       "  'formatted_text': \"```python\\nimport matplotlib.pyplot as plt\\nimport numpy as np\\n\\n# Create sample data\\nx = np.linspace(0, 10, 100)\\ny1 = np.sin(x)  # Sine wave\\ny2 = np.cos(x)  # Cosine wave\\ny3 = np.tan(x)  # Tangent wave, limited to avoid extreme values\\n\\n# Create a new figure\\nfig, ax = plt.subplots(figsize=(10, 6))\\n\\n# Plot the data with different styles\\nax.plot(x, y1, color='royalblue', linewidth=2, linestyle='-', marker='o', markersize=5, label='Sine Wave')\\nax.plot(x, y2, color='darkorange', linewidth=2, linestyle='--', marker='s', markersize=5, label='Cosine Wave')\\nax.plot(x, y3, color='green', linewidth=2, linestyle=':', marker='^', markersize=5, label='Tangent Wave', alpha=0.7)\\nax.set_ylim(-2, 2)  # Limit y-axis to avoid displaying extreme tangent values\\n\\n# Set labels\\nax.set_xlabel('Angle (radians)', fontsize=12, fontweight='bold')\\nax.set_ylabel('Value', fontsize=12, fontweight='bold')\\nax.set_title('Trigonometric Functions', fontsize=14, fontweight='bold')\\n\\n# Add grid for better readability\\nax.grid(True, linestyle='--', alpha=0.6)\\n\\n# Add a legend\\nax.legend(loc='upper right', fontsize=10)\\n\\n# Improve layout\\nplt.tight_layout()\\n\\n# Show the plot\\nplt.show()\\n```\",\n",
       "  'gpt_prompt': 'You are an expert Python developer who specializes in writing matplotlib code based on a given picture. I found a very nice picture in a STEM paper, but there is no corresponding source code available. I need your help to generate the Python code that can reproduce the picture based on the picture I provide.\\\\nNote that it is necessary to use figsize=(10, 6) to set the image size to match the original size.\\\\nNow, please give me the matplotlib code that reproduces the picture below.',\n",
       "  'type': 'chart'}]"
      ]
     },
     "execution_count": 59,
     "metadata": {},
     "output_type": "execute_result"
    }
   ],
   "source": [
    "chart_data[:2]"
   ]
  },
  {
   "cell_type": "code",
   "execution_count": null,
   "metadata": {},
   "outputs": [],
   "source": [
    "import json  \n",
    "  \n",
    "# 读取原始数据  \n",
    "with open(\"/mnt/lingjiejiang/multimodal_code/data/dpo/html/web100k.json\", 'r') as f:  \n",
    "    raw_data = json.load(f)  \n",
    "  \n",
    "# 计算每份数据的大小  \n",
    "total_length = len(raw_data)  \n",
    "split_size = total_length // 2  \n",
    "  \n",
    "# 切分数据  \n",
    "split_data_1 = raw_data[:split_size]  \n",
    "split_data_2 = raw_data[split_size:]  \n",
    "  \n",
    "# 保存切分后的数据  \n",
    "with open(\"/mnt/lingjiejiang/multimodal_code/data/dpo/html/web100k_split1.json\", 'w') as f1:  \n",
    "    json.dump(split_data_1, f1)  \n",
    "  \n",
    "with open(\"/mnt/lingjiejiang/multimodal_code/data/dpo/html/web100k_split2.json\", 'w') as f2:  \n",
    "    json.dump(split_data_2, f2)  \n",
    "  \n",
    "print(\"数据已成功切分并保存。\")  "
   ]
  },
  {
   "cell_type": "code",
   "execution_count": 47,
   "metadata": {},
   "outputs": [
    {
     "data": {
      "text/plain": [
       "50000"
      ]
     },
     "execution_count": 47,
     "metadata": {},
     "output_type": "execute_result"
    }
   ],
   "source": [
    "with open(\"/mnt/lingjiejiang/multimodal_code/data/dpo/html/web100k_split1.json\", 'r') as f:\n",
    "    split_data_1 = json.load(f)\n",
    "len(split_data_1)"
   ]
  },
  {
   "cell_type": "code",
   "execution_count": 48,
   "metadata": {},
   "outputs": [
    {
     "data": {
      "text/plain": [
       "50000"
      ]
     },
     "execution_count": 48,
     "metadata": {},
     "output_type": "execute_result"
    }
   ],
   "source": [
    "with open(\"/mnt/lingjiejiang/multimodal_code/data/dpo/html/web100k_split2.json\", 'r') as f:\n",
    "    split_data_2 = json.load(f)\n",
    "len(split_data_2)"
   ]
  },
  {
   "cell_type": "code",
   "execution_count": 49,
   "metadata": {},
   "outputs": [
    {
     "data": {
      "text/plain": [
       "{'id': '5669_47',\n",
       " 'messages': [{'content': '<image>\\nLay out HTML code to reproduce the same design as the website shown in the screenshot. Showcase code created in harmony with material design aesthetics.',\n",
       "   'role': 'user'},\n",
       "  {'content': '```html\\n<!DOCTYPE html>\\n<html lang=\"en\">\\n<head>\\n    <meta charset=\"UTF-8\">\\n    <meta name=\"viewport\" content=\"width=device-width, initial-scale=1.0\">\\n    <title>Travel Agency</title>\\n    <style>\\n        body {\\n            font-family: Arial, sans-serif;\\n            margin: 0;\\n            padding: 0;\\n            display: flex;\\n            flex-direction: column;\\n            align-items: center;\\n            justify-content: center;\\n            background-color: #f4f4f4;\\n        }\\n\\n        .hero {\\n            width: 100%;\\n            max-width: 1200px;\\n            height: 300px;\\n            background-color: #d3d3d3;\\n            margin-bottom: 20px;\\n        }\\n\\n        .section {\\n            text-align: center;\\n            margin: 20px 0;\\n        }\\n\\n        .section h1 {\\n            font-size: 24px;\\n            font-weight: bold;\\n            margin-bottom: 10px;\\n        }\\n\\n        .section p {\\n            font-size: 16px;\\n            color: #555;\\n        }\\n\\n        .gallery {\\n            display: flex;\\n            justify-content: center;\\n            gap: 20px;\\n            flex-wrap: wrap;\\n            max-width: 1200px;\\n        }\\n\\n        .gallery-item {\\n            width: 30%;\\n            min-width: 200px;\\n            background-color: #d3d3d3;\\n            position: relative;\\n            overflow: hidden;\\n        }\\n\\n        .gallery-item img {\\n            width: 100%;\\n            height: auto;\\n            display: block;\\n        }\\n\\n        .gallery-item span {\\n            position: absolute;\\n            bottom: 10px;\\n            left: 10px;\\n            background-color: rgba(0, 0, 0, 0.5);\\n            color: white;\\n            padding: 5px;\\n            font-size: 14px;\\n        }\\n    </style>\\n</head>\\n<body>\\n\\n    <div class=\"hero\"></div>\\n\\n    <div class=\"section\">\\n        <h1>Welcome to Travel Agency</h1>\\n        <p>Discover our featured destinations around the globe.</p>\\n    </div>\\n\\n    <div class=\"gallery\">\\n        <div class=\"gallery-item\">\\n            <img src=\"rick.jpg\" alt=\"Featured Destination 1\">\\n            <span>Featured Destination 1</span>\\n        </div>\\n        <div class=\"gallery-item\">\\n            <img src=\"rick.jpg\" alt=\"Featured Destination 2\">\\n            <span>Featured Destination 2</span>\\n        </div>\\n        <div class=\"gallery-item\">\\n            <img src=\"rick.jpg\" alt=\"Featured Destination 3\">\\n            <span>Featured Destination 3</span>\\n        </div>\\n    </div>\\n\\n    <div class=\"section\">\\n        <h1>Travel Packages</h1>\\n        <p>Explore our travel packages and deals.</p>\\n    </div>\\n\\n    <div class=\"gallery\">\\n        <div class=\"gallery-item\">\\n            <img src=\"rick.jpg\" alt=\"Package 1\">\\n            <span>Package 1</span>\\n        </div>\\n        <div class=\"gallery-item\">\\n            <img src=\"rick.jpg\" alt=\"Package 2\">\\n            <span>Package 2</span>\\n        </div>\\n        <div class=\"gallery-item\">\\n            <img src=\"rick.jpg\" alt=\"Package 3\">\\n            <span>Package 3</span>\\n        </div>\\n    </div>\\n\\n</body>\\n</html>\\n```',\n",
       "   'role': 'assistant'}],\n",
       " 'images': ['/mnt/lingjiejiang/multimodal_code/data/Web2code_gpt4o/WebSight_images_new/image_5669_47.png'],\n",
       " 'revised_html': '<!DOCTYPE html>\\n<html lang=\"en\">\\n<head>\\n    <meta charset=\"UTF-8\">\\n    <meta name=\"viewport\" content=\"width=device-width, initial-scale=1.0\">\\n    <title>Travel Agency</title>\\n    <style>\\n        body {\\n            font-family: Arial, sans-serif;\\n            margin: 0;\\n            padding: 0;\\n            display: flex;\\n            flex-direction: column;\\n            align-items: center;\\n            justify-content: center;\\n            background-color: #f4f4f4;\\n        }\\n\\n        .hero {\\n            width: 100%;\\n            max-width: 1200px;\\n            height: 300px;\\n            background-color: #d3d3d3;\\n            margin-bottom: 20px;\\n        }\\n\\n        .section {\\n            text-align: center;\\n            margin: 20px 0;\\n        }\\n\\n        .section h1 {\\n            font-size: 24px;\\n            font-weight: bold;\\n            margin-bottom: 10px;\\n        }\\n\\n        .section p {\\n            font-size: 16px;\\n            color: #555;\\n        }\\n\\n        .gallery {\\n            display: flex;\\n            justify-content: center;\\n            gap: 20px;\\n            flex-wrap: wrap;\\n            max-width: 1200px;\\n        }\\n\\n        .gallery-item {\\n            width: 30%;\\n            min-width: 200px;\\n            background-color: #d3d3d3;\\n            position: relative;\\n            overflow: hidden;\\n        }\\n\\n        .gallery-item img {\\n            width: 100%;\\n            height: auto;\\n            display: block;\\n        }\\n\\n        .gallery-item span {\\n            position: absolute;\\n            bottom: 10px;\\n            left: 10px;\\n            background-color: rgba(0, 0, 0, 0.5);\\n            color: white;\\n            padding: 5px;\\n            font-size: 14px;\\n        }\\n    </style>\\n</head>\\n<body>\\n\\n    <div class=\"hero\"></div>\\n\\n    <div class=\"section\">\\n        <h1>Welcome to Travel Agency</h1>\\n        <p>Discover our featured destinations around the globe.</p>\\n    </div>\\n\\n    <div class=\"gallery\">\\n        <div class=\"gallery-item\">\\n            <img src=\"rick.jpg\" alt=\"Featured Destination 1\">\\n            <span>Featured Destination 1</span>\\n        </div>\\n        <div class=\"gallery-item\">\\n            <img src=\"rick.jpg\" alt=\"Featured Destination 2\">\\n            <span>Featured Destination 2</span>\\n        </div>\\n        <div class=\"gallery-item\">\\n            <img src=\"rick.jpg\" alt=\"Featured Destination 3\">\\n            <span>Featured Destination 3</span>\\n        </div>\\n    </div>\\n\\n    <div class=\"section\">\\n        <h1>Travel Packages</h1>\\n        <p>Explore our travel packages and deals.</p>\\n    </div>\\n\\n    <div class=\"gallery\">\\n        <div class=\"gallery-item\">\\n            <img src=\"rick.jpg\" alt=\"Package 1\">\\n            <span>Package 1</span>\\n        </div>\\n        <div class=\"gallery-item\">\\n            <img src=\"rick.jpg\" alt=\"Package 2\">\\n            <span>Package 2</span>\\n        </div>\\n        <div class=\"gallery-item\">\\n            <img src=\"rick.jpg\" alt=\"Package 3\">\\n            <span>Package 3</span>\\n        </div>\\n    </div>\\n\\n</body>\\n</html>',\n",
       " 'original_html': '<html>\\n<style>\\nbody {\\n  font-family: Arial, sans-serif;\\n}\\n\\n#main-map {\\n  width: 100%;\\n  height: 400px;\\n  background-color: lightgray; /* display a map here in a real app */\\n}\\n\\nh1, p {\\n  text-align: center;\\n}\\n\\n#featured-div, \\n#package-div {\\n  display: flex;\\n  justify-content: space-between;\\n  margin: 50px 0;\\n}\\n\\n#featured-div img, \\n#package-div img {\\n  width: 30%;\\n  height: 200px;\\n  background-color: lightgray; /* display an image here in a real app */\\n}\\n</style>\\n<body>\\n  <div id=\"main-map\"></div>\\n  <h1>Welcome to Travel Agency</h1>\\n  <p>Discover our featured destinations around the globe.</p>\\n  <div id=\"featured-div\">\\n    <img src=\"featured_dest1.jpg\" alt=\"Featured Destination 1\" />\\n    <img src=\"featured_dest2.jpg\" alt=\"Featured Destination 2\" />\\n    <img src=\"featured_dest3.jpg\" alt=\"Featured Destination 3\" />\\n  </div>\\n  <h1>Travel Packages</h1>\\n  <p>Explore our travel packages and deals.</p>\\n  <div id=\"package-div\">\\n    <img src=\"package1.jpg\" alt=\"Package 1\" />\\n    <img src=\"package2.jpg\" alt=\"Package 2\" />\\n    <img src=\"package3.jpg\" alt=\"Package 3\" />\\n  </div>\\n</body>\\n</html>',\n",
       " 'gpt_answer': '```html\\n<!DOCTYPE html>\\n<html lang=\"en\">\\n<head>\\n    <meta charset=\"UTF-8\">\\n    <meta name=\"viewport\" content=\"width=device-width, initial-scale=1.0\">\\n    <title>Travel Agency</title>\\n    <style>\\n        body {\\n            font-family: Arial, sans-serif;\\n            margin: 0;\\n            padding: 0;\\n            display: flex;\\n            flex-direction: column;\\n            align-items: center;\\n            justify-content: center;\\n            background-color: #f4f4f4;\\n        }\\n\\n        .hero {\\n            width: 100%;\\n            max-width: 1200px;\\n            height: 300px;\\n            background-color: #d3d3d3;\\n            margin-bottom: 20px;\\n        }\\n\\n        .section {\\n            text-align: center;\\n            margin: 20px 0;\\n        }\\n\\n        .section h1 {\\n            font-size: 24px;\\n            font-weight: bold;\\n            margin-bottom: 10px;\\n        }\\n\\n        .section p {\\n            font-size: 16px;\\n            color: #555;\\n        }\\n\\n        .gallery {\\n            display: flex;\\n            justify-content: center;\\n            gap: 20px;\\n            flex-wrap: wrap;\\n            max-width: 1200px;\\n        }\\n\\n        .gallery-item {\\n            width: 30%;\\n            min-width: 200px;\\n            background-color: #d3d3d3;\\n            position: relative;\\n            overflow: hidden;\\n        }\\n\\n        .gallery-item img {\\n            width: 100%;\\n            height: auto;\\n            display: block;\\n        }\\n\\n        .gallery-item span {\\n            position: absolute;\\n            bottom: 10px;\\n            left: 10px;\\n            background-color: rgba(0, 0, 0, 0.5);\\n            color: white;\\n            padding: 5px;\\n            font-size: 14px;\\n        }\\n    </style>\\n</head>\\n<body>\\n\\n    <div class=\"hero\"></div>\\n\\n    <div class=\"section\">\\n        <h1>Welcome to Travel Agency</h1>\\n        <p>Discover our featured destinations around the globe.</p>\\n    </div>\\n\\n    <div class=\"gallery\">\\n        <div class=\"gallery-item\">\\n            <img src=\"rick.jpg\" alt=\"Featured Destination 1\">\\n            <span>Featured Destination 1</span>\\n        </div>\\n        <div class=\"gallery-item\">\\n            <img src=\"rick.jpg\" alt=\"Featured Destination 2\">\\n            <span>Featured Destination 2</span>\\n        </div>\\n        <div class=\"gallery-item\">\\n            <img src=\"rick.jpg\" alt=\"Featured Destination 3\">\\n            <span>Featured Destination 3</span>\\n        </div>\\n    </div>\\n\\n    <div class=\"section\">\\n        <h1>Travel Packages</h1>\\n        <p>Explore our travel packages and deals.</p>\\n    </div>\\n\\n    <div class=\"gallery\">\\n        <div class=\"gallery-item\">\\n            <img src=\"rick.jpg\" alt=\"Package 1\">\\n            <span>Package 1</span>\\n        </div>\\n        <div class=\"gallery-item\">\\n            <img src=\"rick.jpg\" alt=\"Package 2\">\\n            <span>Package 2</span>\\n        </div>\\n        <div class=\"gallery-item\">\\n            <img src=\"rick.jpg\" alt=\"Package 3\">\\n            <span>Package 3</span>\\n        </div>\\n    </div>\\n\\n</body>\\n</html>\\n```\\n\\nThis HTML and CSS code creates a simple, clean layout similar to the image you provided. It includes a hero section, two main sections with headings and descriptions, and two galleries with three items each. The layout is responsive and should fit within a single screen without scrolling on most devices.',\n",
       " 'stop_reason': 'stop',\n",
       " 'model': 'gpt4o',\n",
       " 'new_img': '/mnt/lingjiejiang/multimodal_code/data/Web2code_gpt4o/WebSight_images_new/image_5669_47.png',\n",
       " 'formatted_html': '```html\\n<!DOCTYPE html>\\n<html lang=\"en\">\\n<head>\\n    <meta charset=\"UTF-8\">\\n    <meta name=\"viewport\" content=\"width=device-width, initial-scale=1.0\">\\n    <title>Travel Agency</title>\\n    <style>\\n        body {\\n            font-family: Arial, sans-serif;\\n            margin: 0;\\n            padding: 0;\\n            display: flex;\\n            flex-direction: column;\\n            align-items: center;\\n            justify-content: center;\\n            background-color: #f4f4f4;\\n        }\\n\\n        .hero {\\n            width: 100%;\\n            max-width: 1200px;\\n            height: 300px;\\n            background-color: #d3d3d3;\\n            margin-bottom: 20px;\\n        }\\n\\n        .section {\\n            text-align: center;\\n            margin: 20px 0;\\n        }\\n\\n        .section h1 {\\n            font-size: 24px;\\n            font-weight: bold;\\n            margin-bottom: 10px;\\n        }\\n\\n        .section p {\\n            font-size: 16px;\\n            color: #555;\\n        }\\n\\n        .gallery {\\n            display: flex;\\n            justify-content: center;\\n            gap: 20px;\\n            flex-wrap: wrap;\\n            max-width: 1200px;\\n        }\\n\\n        .gallery-item {\\n            width: 30%;\\n            min-width: 200px;\\n            background-color: #d3d3d3;\\n            position: relative;\\n            overflow: hidden;\\n        }\\n\\n        .gallery-item img {\\n            width: 100%;\\n            height: auto;\\n            display: block;\\n        }\\n\\n        .gallery-item span {\\n            position: absolute;\\n            bottom: 10px;\\n            left: 10px;\\n            background-color: rgba(0, 0, 0, 0.5);\\n            color: white;\\n            padding: 5px;\\n            font-size: 14px;\\n        }\\n    </style>\\n</head>\\n<body>\\n\\n    <div class=\"hero\"></div>\\n\\n    <div class=\"section\">\\n        <h1>Welcome to Travel Agency</h1>\\n        <p>Discover our featured destinations around the globe.</p>\\n    </div>\\n\\n    <div class=\"gallery\">\\n        <div class=\"gallery-item\">\\n            <img src=\"rick.jpg\" alt=\"Featured Destination 1\">\\n            <span>Featured Destination 1</span>\\n        </div>\\n        <div class=\"gallery-item\">\\n            <img src=\"rick.jpg\" alt=\"Featured Destination 2\">\\n            <span>Featured Destination 2</span>\\n        </div>\\n        <div class=\"gallery-item\">\\n            <img src=\"rick.jpg\" alt=\"Featured Destination 3\">\\n            <span>Featured Destination 3</span>\\n        </div>\\n    </div>\\n\\n    <div class=\"section\">\\n        <h1>Travel Packages</h1>\\n        <p>Explore our travel packages and deals.</p>\\n    </div>\\n\\n    <div class=\"gallery\">\\n        <div class=\"gallery-item\">\\n            <img src=\"rick.jpg\" alt=\"Package 1\">\\n            <span>Package 1</span>\\n        </div>\\n        <div class=\"gallery-item\">\\n            <img src=\"rick.jpg\" alt=\"Package 2\">\\n            <span>Package 2</span>\\n        </div>\\n        <div class=\"gallery-item\">\\n            <img src=\"rick.jpg\" alt=\"Package 3\">\\n            <span>Package 3</span>\\n        </div>\\n    </div>\\n\\n</body>\\n</html>\\n```',\n",
       " 'source': 'gpt4orevised',\n",
       " 'design_prompt': 'You are an expert web developer who specializes in HTML and CSS.\\nA user will provide you with a screenshot of a webpage.\\nYou need to return a single html file that uses HTML and CSS to reproduce the given website.\\nInclude all CSS code in the HTML file itself.\\nIf it involves any images, use \"rick.jpg\" as the placeholder.\\nSome images on the webpage are replaced with a blue rectangle as the placeholder, use \"rick.jpg\" for those as well.\\nDo not hallucinate any dependencies to external files. You do not need to include JavaScript scripts for dynamic interactions.\\nPay attention to things like size, text, position, and color of all the elements, as well as the overall layout.\\nRespond with the content of the HTML+CSS file:\\n',\n",
       " 'gpt_prompt': 'You are an expert web developer who specializes in HTML and CSS.\\nA user will provide you with a screenshot of a webpage.\\nYou need to return a single html file that uses HTML and CSS to reproduce the given website.\\nInclude all CSS code in the HTML file itself.\\nIf it involves any images, use \"rick.jpg\" as the placeholder.\\nSome images on the webpage are replaced with a blue rectangle as the placeholder, use \"rick.jpg\" for those as well.\\nDo not hallucinate any dependencies to external files. You do not need to include JavaScript scripts for dynamic interactions.\\nPay attention to things like size, text, position, and color of all the elements, as well as the overall layout.\\nRespond with the content of the HTML+CSS file:',\n",
       " 'type': 'html'}"
      ]
     },
     "execution_count": 49,
     "metadata": {},
     "output_type": "execute_result"
    }
   ],
   "source": [
    "split_data_1[0]"
   ]
  },
  {
   "cell_type": "code",
   "execution_count": 50,
   "metadata": {},
   "outputs": [
    {
     "data": {
      "text/plain": [
       "{'id': '2D12DF8C-9ECF-40A7-B614-73C892297F27',\n",
       " 'messages': [{'content': '<image>\\nUsing the screenshot, build HTML for replicating the same configuration. Create the code following Bootstrap style rudiments.',\n",
       "   'role': 'user'},\n",
       "  {'content': '<html>\\n<header>\\n<meta charset=\"utf-8\"/>\\n<meta content=\"width=device-width, initial-scale=1\" name=\"viewport\"/>\\n<link crossorigin=\"anonymous\" href=\"https://maxcdn.bootstrapcdn.com/bootstrap/3.3.7/css/bootstrap.min.css\" integrity=\"sha384-BVYiiSIFeK1dGmJRAkycuHAHRg32OmUcww7on3RYdg4Va+PmSTsz/K68vbdEjh4u\" rel=\"stylesheet\"/>\\n<link crossorigin=\"anonymous\" href=\"https://maxcdn.bootstrapcdn.com/bootstrap/3.3.7/css/bootstrap-theme.min.css\" integrity=\"sha384-rHyoN1iRsVXV4nD0JutlnGaslCJuC7uwjduW9SVrLvRYooPp2bWYgmgJQIXwl/Sp\" rel=\"stylesheet\"/>\\n<style>\\n        .header { margin: 20px 0; }\\n        nav ul.nav-pills li { background-color: #333; border-radius: 4px; margin-right: 10px; }\\n        .col-lg-3 { width: 24%; margin-right: 1.333333%; }\\n        .col-lg-6 { width: 49%; margin-right: 2%; }\\n        .col-lg-12, .col-lg-3, .col-lg-6 { margin-bottom: 20px; border-radius: 6px; background-color: #f5f5f5; padding: 20px; }\\n        .row .col-lg-3:last-child, .row .col-lg-6:last-child { margin-right: 0; }\\n        footer { padding: 20px 0; text-align: center; border-top: 1px solid #bbb; }\\n    </style>\\n<title>Web Development Portfolio</title>\\n</header>\\n<body>\\n<main class=\"container\">\\n<div class=\"header clearfix\">\\n<nav>\\n<ul class=\"nav nav-pills pull-left\">\\n<li><a href=\"#\">Home</a></li>\\n<li class=\"active\"><a href=\"#\">Projects</a></li>\\n<li><a href=\"#\">Contact</a></li>\\n</ul>\\n</nav>\\n</div>\\n<div class=\"row\"><div class=\"col-lg-6\">\\n<h4>Project 1</h4><p>This project involved creating a responsive web design for a local business. It showcases the use of modern coding practices and effective UI/UX considerations.</p>\\n<a class=\"btn btn-warning\" href=\"#\" role=\"button\">View Project</a>\\n</div>\\n<div class=\"col-lg-6\">\\n<h4>Project 2</h4><p>This project was centered around developing a dynamic web application for an online retailer. It utilizes a secure payment gateway and has multi-platform compatibility.</p>\\n<a class=\"btn btn-warning\" href=\"#\" role=\"button\">View Project</a>\\n</div>\\n</div>\\n<footer class=\"footer\">\\n<p>© Tony Beltramelli 2017</p>\\n</footer>\\n</main>\\n<script src=\"js/jquery.min.js\"></script>\\n<script src=\"js/bootstrap.min.js\"></script>\\n</body>\\n</html>',\n",
       "   'role': 'assistant'}],\n",
       " 'images': ['/mnt/lingjiejiang/multimodal_code/data/web2code_new_images/pix2code/2D12DF8C-9ECF-40A7-B614-73C892297F27.png'],\n",
       " 'source': 'web2codenoimg',\n",
       " 'design_prompt': 'You are an expert web developer who specializes in HTML and CSS.\\nA user will provide you with a screenshot of a webpage.\\nYou need to return a single html file that uses HTML and CSS to reproduce the given website.\\nInclude all CSS code in the HTML file itself.\\nIf it involves any images, use \"rick.jpg\" as the placeholder.\\nSome images on the webpage are replaced with a blue rectangle as the placeholder, use \"rick.jpg\" for those as well.\\nDo not hallucinate any dependencies to external files. You do not need to include JavaScript scripts for dynamic interactions.\\nPay attention to things like size, text, position, and color of all the elements, as well as the overall layout.\\nRespond with the content of the HTML+CSS file:\\n',\n",
       " 'gpt_prompt': 'You are an expert web developer who specializes in HTML and CSS.\\nA user will provide you with a screenshot of a webpage.\\nYou need to return a single html file that uses HTML and CSS to reproduce the given website.\\nInclude all CSS code in the HTML file itself.\\nIf it involves any images, use \"rick.jpg\" as the placeholder.\\nSome images on the webpage are replaced with a blue rectangle as the placeholder, use \"rick.jpg\" for those as well.\\nDo not hallucinate any dependencies to external files. You do not need to include JavaScript scripts for dynamic interactions.\\nPay attention to things like size, text, position, and color of all the elements, as well as the overall layout.\\nRespond with the content of the HTML+CSS file:',\n",
       " 'type': 'html'}"
      ]
     },
     "execution_count": 50,
     "metadata": {},
     "output_type": "execute_result"
    }
   ],
   "source": [
    "split_data_2[0]"
   ]
  },
  {
   "cell_type": "markdown",
   "metadata": {},
   "source": [
    "## code data"
   ]
  },
  {
   "cell_type": "code",
   "execution_count": 6,
   "metadata": {},
   "outputs": [
    {
     "data": {
      "text/plain": [
       "15251"
      ]
     },
     "execution_count": 6,
     "metadata": {},
     "output_type": "execute_result"
    }
   ],
   "source": [
    "with open(\"/mnt/lingjiejiang/multimodal_code/data/code_contest/code_revised_filter_15k.json\", \"r\") as f:\n",
    "    data = json.load(f)\n",
    "len(data)"
   ]
  },
  {
   "cell_type": "code",
   "execution_count": 8,
   "metadata": {},
   "outputs": [
    {
     "data": {
      "text/plain": [
       "{'index': 7,\n",
       " 'revised_code': 'n, k = map(int, input().split())\\na = list(map(int, input().split()))\\nans = 0\\n\\nfor i in range(n - 1):\\n    for j in range(i + 1, n):\\n        if abs(a[i] - a[j]) >= k:\\n            ans += 1\\n\\nprint(ans)',\n",
       " 'question': 'Zonal Computing Olympiad 2015, 29 Nov 2014\\n\\nWe say that two integers x and y have a variation of at least K, if |x − y| ≥ K (the absolute value of their difference is at least K). Given a sequence of N integers a1,a2,...,aN and K, the total variation count is the number of pairs of elements in the sequence with variation at least K, i.e. it is the size of the set of pairs\\n\\n{(i,j)|1≤i<j≤N and|ai−aj|≥K} \\n\\nFor example if K = 1 and the sequence is 3,2,4 the answer is 3. If K = 1 and the sequence is 3, 1, 3 then the answer is 2.\\n\\nYour task is to write a program that takes a sequence and the value K as input and computes the total variation count.\\n\\n-----Input format-----\\nThe first line contains two positive integers N and K, separated by a space.\\n\\nThis is followed by a line containing N integers separated by space giving the values\\nof the sequence.\\n\\n-----Output format-----\\nA single integer in a single line giving the total variation count.\\n\\n-----Test data-----\\nYou may assume that all integers in the input are in the range 0 to 10^8 inclusive.\\n\\nSubtask 1 (40 marks) : 1 ≤ N ≤ 4000, 1 ≤ K ≤ 10^8 \\nSubtask 2 (60 marks) : 1 ≤ N ≤ 65000, 1 ≤ K ≤ 10^8 \\n\\n-----Sample Input-----\\n3 1 \\n3 1 3\\n\\n-----Sample Output-----\\n2',\n",
       " 'starter_code': '',\n",
       " 'difficulty': 'UNKNOWN_DIFFICULTY',\n",
       " 'raw_tags': '[]',\n",
       " 'name': None,\n",
       " 'source': 'taco_code',\n",
       " 'tags': '[]',\n",
       " 'skill_types': '[]',\n",
       " 'url': 'https://www.codechef.com/ZCOPRAC/problems/ZCO15002',\n",
       " 'Expected Auxiliary Space': None,\n",
       " 'time_limit': None,\n",
       " 'date': None,\n",
       " 'picture_num': None,\n",
       " 'memory_limit': None,\n",
       " 'Expected Time Complexity': None,\n",
       " 'answer': '(n, k) = [int(x) for x in input().split()]\\na = [int(x) for x in input().split()]\\nans = 0\\nfor i in range(n - 1):\\n\\tfor j in range(i + 1, n):\\n\\t\\tif abs(a[i] - a[j]) >= k:\\n\\t\\t\\tans += 1\\nprint(ans)\\n',\n",
       " 'prompt': 'You are required to solve a programming problem. Please enclose your code inside a ```python``` block.  Do not write a main() function. If Call-Based format is used, return the result in an appropriate place instead of printing it.\\n\\n\\nQUESTION:\\nZonal Computing Olympiad 2015, 29 Nov 2014\\n\\nWe say that two integers x and y have a variation of at least K, if |x − y| ≥ K (the absolute value of their difference is at least K). Given a sequence of N integers a1,a2,...,aN and K, the total variation count is the number of pairs of elements in the sequence with variation at least K, i.e. it is the size of the set of pairs\\n\\n{(i,j)|1≤i<j≤N and|ai−aj|≥K} \\n\\nFor example if K = 1 and the sequence is 3,2,4 the answer is 3. If K = 1 and the sequence is 3, 1, 3 then the answer is 2.\\n\\nYour task is to write a program that takes a sequence and the value K as input and computes the total variation count.\\n\\n-----Input format-----\\nThe first line contains two positive integers N and K, separated by a space.\\n\\nThis is followed by a line containing N integers separated by space giving the values\\nof the sequence.\\n\\n-----Output format-----\\nA single integer in a single line giving the total variation count.\\n\\n-----Test data-----\\nYou may assume that all integers in the input are in the range 0 to 10^8 inclusive.\\n\\nSubtask 1 (40 marks) : 1 ≤ N ≤ 4000, 1 ≤ K ≤ 10^8 \\nSubtask 2 (60 marks) : 1 ≤ N ≤ 65000, 1 ≤ K ≤ 10^8 \\n\\n-----Sample Input-----\\n3 1 \\n3 1 3\\n\\n-----Sample Output-----\\n2\\nPlease write your code using Standard IO, i.e. input() and print().\\nANSWER:\\n',\n",
       " 'format_answer': '```python\\nn, k = map(int, input().split())\\na = list(map(int, input().split()))\\nans = 0\\n\\nfor i in range(n - 1):\\n    for j in range(i + 1, n):\\n        if abs(a[i] - a[j]) >= k:\\n            ans += 1\\n\\nprint(ans)\\n```',\n",
       " 'messages': [{'content': 'You are required to solve a programming problem. Please enclose your code inside a ```python``` block.  Do not write a main() function. If Call-Based format is used, return the result in an appropriate place instead of printing it.\\n\\n\\nQUESTION:\\nZonal Computing Olympiad 2015, 29 Nov 2014\\n\\nWe say that two integers x and y have a variation of at least K, if |x − y| ≥ K (the absolute value of their difference is at least K). Given a sequence of N integers a1,a2,...,aN and K, the total variation count is the number of pairs of elements in the sequence with variation at least K, i.e. it is the size of the set of pairs\\n\\n{(i,j)|1≤i<j≤N and|ai−aj|≥K} \\n\\nFor example if K = 1 and the sequence is 3,2,4 the answer is 3. If K = 1 and the sequence is 3, 1, 3 then the answer is 2.\\n\\nYour task is to write a program that takes a sequence and the value K as input and computes the total variation count.\\n\\n-----Input format-----\\nThe first line contains two positive integers N and K, separated by a space.\\n\\nThis is followed by a line containing N integers separated by space giving the values\\nof the sequence.\\n\\n-----Output format-----\\nA single integer in a single line giving the total variation count.\\n\\n-----Test data-----\\nYou may assume that all integers in the input are in the range 0 to 10^8 inclusive.\\n\\nSubtask 1 (40 marks) : 1 ≤ N ≤ 4000, 1 ≤ K ≤ 10^8 \\nSubtask 2 (60 marks) : 1 ≤ N ≤ 65000, 1 ≤ K ≤ 10^8 \\n\\n-----Sample Input-----\\n3 1 \\n3 1 3\\n\\n-----Sample Output-----\\n2\\nPlease write your code using Standard IO, i.e. input() and print().\\nANSWER:\\n',\n",
       "   'role': 'user'},\n",
       "  {'content': '```python\\nn, k = map(int, input().split())\\na = list(map(int, input().split()))\\nans = 0\\n\\nfor i in range(n - 1):\\n    for j in range(i + 1, n):\\n        if abs(a[i] - a[j]) >= k:\\n            ans += 1\\n\\nprint(ans)\\n```',\n",
       "   'role': 'assistant'}],\n",
       " 'images': [],\n",
       " 'gpt_prompt': 'You are required to solve a programming problem. Please enclose your code inside a ```python``` block.  Do not write a main() function. If Call-Based format is used, return the result in an appropriate place instead of printing it.\\n\\n\\nQUESTION:\\nZonal Computing Olympiad 2015, 29 Nov 2014\\n\\nWe say that two integers x and y have a variation of at least K, if |x − y| ≥ K (the absolute value of their difference is at least K). Given a sequence of N integers a1,a2,...,aN and K, the total variation count is the number of pairs of elements in the sequence with variation at least K, i.e. it is the size of the set of pairs\\n\\n{(i,j)|1≤i<j≤N and|ai−aj|≥K} \\n\\nFor example if K = 1 and the sequence is 3,2,4 the answer is 3. If K = 1 and the sequence is 3, 1, 3 then the answer is 2.\\n\\nYour task is to write a program that takes a sequence and the value K as input and computes the total variation count.\\n\\n-----Input format-----\\nThe first line contains two positive integers N and K, separated by a space.\\n\\nThis is followed by a line containing N integers separated by space giving the values\\nof the sequence.\\n\\n-----Output format-----\\nA single integer in a single line giving the total variation count.\\n\\n-----Test data-----\\nYou may assume that all integers in the input are in the range 0 to 10^8 inclusive.\\n\\nSubtask 1 (40 marks) : 1 ≤ N ≤ 4000, 1 ≤ K ≤ 10^8 \\nSubtask 2 (60 marks) : 1 ≤ N ≤ 65000, 1 ≤ K ≤ 10^8 \\n\\n-----Sample Input-----\\n3 1 \\n3 1 3\\n\\n-----Sample Output-----\\n2\\nPlease write your code using Standard IO, i.e. input() and print().\\nANSWER:',\n",
       " 'type': 'code'}"
      ]
     },
     "execution_count": 8,
     "metadata": {},
     "output_type": "execute_result"
    }
   ],
   "source": [
    "for item in data:\n",
    "    item[\"gpt_prompt\"] = item[\"prompt\"].strip()\n",
    "    item[\"type\"] = \"code\"\n",
    "    item[\"source\"] = \"taco_code\"\n",
    "data[0]"
   ]
  },
  {
   "cell_type": "code",
   "execution_count": 7,
   "metadata": {},
   "outputs": [
    {
     "data": {
      "text/plain": [
       "{'index': 7,\n",
       " 'revised_code': 'n, k = map(int, input().split())\\na = list(map(int, input().split()))\\nans = 0\\n\\nfor i in range(n - 1):\\n    for j in range(i + 1, n):\\n        if abs(a[i] - a[j]) >= k:\\n            ans += 1\\n\\nprint(ans)',\n",
       " 'question': 'Zonal Computing Olympiad 2015, 29 Nov 2014\\n\\nWe say that two integers x and y have a variation of at least K, if |x − y| ≥ K (the absolute value of their difference is at least K). Given a sequence of N integers a1,a2,...,aN and K, the total variation count is the number of pairs of elements in the sequence with variation at least K, i.e. it is the size of the set of pairs\\n\\n{(i,j)|1≤i<j≤N and|ai−aj|≥K} \\n\\nFor example if K = 1 and the sequence is 3,2,4 the answer is 3. If K = 1 and the sequence is 3, 1, 3 then the answer is 2.\\n\\nYour task is to write a program that takes a sequence and the value K as input and computes the total variation count.\\n\\n-----Input format-----\\nThe first line contains two positive integers N and K, separated by a space.\\n\\nThis is followed by a line containing N integers separated by space giving the values\\nof the sequence.\\n\\n-----Output format-----\\nA single integer in a single line giving the total variation count.\\n\\n-----Test data-----\\nYou may assume that all integers in the input are in the range 0 to 10^8 inclusive.\\n\\nSubtask 1 (40 marks) : 1 ≤ N ≤ 4000, 1 ≤ K ≤ 10^8 \\nSubtask 2 (60 marks) : 1 ≤ N ≤ 65000, 1 ≤ K ≤ 10^8 \\n\\n-----Sample Input-----\\n3 1 \\n3 1 3\\n\\n-----Sample Output-----\\n2',\n",
       " 'starter_code': '',\n",
       " 'difficulty': 'UNKNOWN_DIFFICULTY',\n",
       " 'raw_tags': '[]',\n",
       " 'name': None,\n",
       " 'source': 'codechef',\n",
       " 'tags': '[]',\n",
       " 'skill_types': '[]',\n",
       " 'url': 'https://www.codechef.com/ZCOPRAC/problems/ZCO15002',\n",
       " 'Expected Auxiliary Space': None,\n",
       " 'time_limit': None,\n",
       " 'date': None,\n",
       " 'picture_num': None,\n",
       " 'memory_limit': None,\n",
       " 'Expected Time Complexity': None,\n",
       " 'answer': '(n, k) = [int(x) for x in input().split()]\\na = [int(x) for x in input().split()]\\nans = 0\\nfor i in range(n - 1):\\n\\tfor j in range(i + 1, n):\\n\\t\\tif abs(a[i] - a[j]) >= k:\\n\\t\\t\\tans += 1\\nprint(ans)\\n',\n",
       " 'prompt': 'You are required to solve a programming problem. Please enclose your code inside a ```python``` block.  Do not write a main() function. If Call-Based format is used, return the result in an appropriate place instead of printing it.\\n\\n\\nQUESTION:\\nZonal Computing Olympiad 2015, 29 Nov 2014\\n\\nWe say that two integers x and y have a variation of at least K, if |x − y| ≥ K (the absolute value of their difference is at least K). Given a sequence of N integers a1,a2,...,aN and K, the total variation count is the number of pairs of elements in the sequence with variation at least K, i.e. it is the size of the set of pairs\\n\\n{(i,j)|1≤i<j≤N and|ai−aj|≥K} \\n\\nFor example if K = 1 and the sequence is 3,2,4 the answer is 3. If K = 1 and the sequence is 3, 1, 3 then the answer is 2.\\n\\nYour task is to write a program that takes a sequence and the value K as input and computes the total variation count.\\n\\n-----Input format-----\\nThe first line contains two positive integers N and K, separated by a space.\\n\\nThis is followed by a line containing N integers separated by space giving the values\\nof the sequence.\\n\\n-----Output format-----\\nA single integer in a single line giving the total variation count.\\n\\n-----Test data-----\\nYou may assume that all integers in the input are in the range 0 to 10^8 inclusive.\\n\\nSubtask 1 (40 marks) : 1 ≤ N ≤ 4000, 1 ≤ K ≤ 10^8 \\nSubtask 2 (60 marks) : 1 ≤ N ≤ 65000, 1 ≤ K ≤ 10^8 \\n\\n-----Sample Input-----\\n3 1 \\n3 1 3\\n\\n-----Sample Output-----\\n2\\nPlease write your code using Standard IO, i.e. input() and print().\\nANSWER:\\n',\n",
       " 'format_answer': '```python\\nn, k = map(int, input().split())\\na = list(map(int, input().split()))\\nans = 0\\n\\nfor i in range(n - 1):\\n    for j in range(i + 1, n):\\n        if abs(a[i] - a[j]) >= k:\\n            ans += 1\\n\\nprint(ans)\\n```',\n",
       " 'messages': [{'content': 'You are required to solve a programming problem. Please enclose your code inside a ```python``` block.  Do not write a main() function. If Call-Based format is used, return the result in an appropriate place instead of printing it.\\n\\n\\nQUESTION:\\nZonal Computing Olympiad 2015, 29 Nov 2014\\n\\nWe say that two integers x and y have a variation of at least K, if |x − y| ≥ K (the absolute value of their difference is at least K). Given a sequence of N integers a1,a2,...,aN and K, the total variation count is the number of pairs of elements in the sequence with variation at least K, i.e. it is the size of the set of pairs\\n\\n{(i,j)|1≤i<j≤N and|ai−aj|≥K} \\n\\nFor example if K = 1 and the sequence is 3,2,4 the answer is 3. If K = 1 and the sequence is 3, 1, 3 then the answer is 2.\\n\\nYour task is to write a program that takes a sequence and the value K as input and computes the total variation count.\\n\\n-----Input format-----\\nThe first line contains two positive integers N and K, separated by a space.\\n\\nThis is followed by a line containing N integers separated by space giving the values\\nof the sequence.\\n\\n-----Output format-----\\nA single integer in a single line giving the total variation count.\\n\\n-----Test data-----\\nYou may assume that all integers in the input are in the range 0 to 10^8 inclusive.\\n\\nSubtask 1 (40 marks) : 1 ≤ N ≤ 4000, 1 ≤ K ≤ 10^8 \\nSubtask 2 (60 marks) : 1 ≤ N ≤ 65000, 1 ≤ K ≤ 10^8 \\n\\n-----Sample Input-----\\n3 1 \\n3 1 3\\n\\n-----Sample Output-----\\n2\\nPlease write your code using Standard IO, i.e. input() and print().\\nANSWER:\\n',\n",
       "   'role': 'user'},\n",
       "  {'content': '```python\\nn, k = map(int, input().split())\\na = list(map(int, input().split()))\\nans = 0\\n\\nfor i in range(n - 1):\\n    for j in range(i + 1, n):\\n        if abs(a[i] - a[j]) >= k:\\n            ans += 1\\n\\nprint(ans)\\n```',\n",
       "   'role': 'assistant'}],\n",
       " 'images': []}"
      ]
     },
     "execution_count": 7,
     "metadata": {},
     "output_type": "execute_result"
    }
   ],
   "source": [
    "data[0]"
   ]
  },
  {
   "cell_type": "code",
   "execution_count": 1,
   "metadata": {},
   "outputs": [],
   "source": [
    "import json\n",
    "def read_jsonl(file_path):\n",
    "    with open(file_path, 'r') as f:\n",
    "        lines = f.readlines()\n",
    "    return [json.loads(line) for line in lines]\n",
    "\n",
    "# code_1_path = \"/mnt/lingjiejiang/multimodal_code/data/code_contest/pure_text/code.dedup.std.completion.merged.jsonl\"\n",
    "code_2_path = \"/mnt/lingjiejiang/multimodal_code/data/code_contest/pure_text/code_5m_1028_4m_xl_1m_hany.filtered.questions.lvl_7-10.q.info.jsonl\"\n",
    "# code_1 = read_jsonl(code_1_path)\n",
    "code_2 = read_jsonl(code_2_path)"
   ]
  },
  {
   "cell_type": "code",
   "execution_count": 5,
   "metadata": {},
   "outputs": [
    {
     "data": {
      "text/plain": [
       "{'problem': 'Write a Java method to check if the Game of Fifteen instance is solvable. The method should count the number of inversions and return true if the number is even.',\n",
       " 'self-contained': True,\n",
       " 'difficulty': 7,\n",
       " 'type': 'code',\n",
       " 'source': 'pure_text',\n",
       " 'gpt_prompt': 'Write a Java method to check if the Game of Fifteen instance is solvable. The method should count the number of inversions and return true if the number is even.'}"
      ]
     },
     "execution_count": 5,
     "metadata": {},
     "output_type": "execute_result"
    }
   ],
   "source": [
    "from random import sample\n",
    "sampled_data_80k = sample(code_2, 80000)\n",
    "for item in sampled_data_80k:\n",
    "    item[\"type\"] = \"code\"\n",
    "    item[\"source\"] = \"pure_text\"\n",
    "    item[\"gpt_prompt\"] = item[\"problem\"]\n",
    "sampled_data_80k[0]"
   ]
  },
  {
   "cell_type": "code",
   "execution_count": 11,
   "metadata": {},
   "outputs": [
    {
     "data": {
      "text/plain": [
       "95251"
      ]
     },
     "execution_count": 11,
     "metadata": {},
     "output_type": "execute_result"
    }
   ],
   "source": [
    "code_merged = sampled_data_80k + data\n",
    "len(code_merged)"
   ]
  },
  {
   "cell_type": "code",
   "execution_count": 12,
   "metadata": {},
   "outputs": [],
   "source": [
    "with open(\"/mnt/lingjiejiang/multimodal_code/data/dpo/code/code_95k.json\", \"w\") as f:\n",
    "    json.dump(code_merged, f)\n"
   ]
  }
 ],
 "metadata": {
  "kernelspec": {
   "display_name": "chartmimic",
   "language": "python",
   "name": "python3"
  },
  "language_info": {
   "codemirror_mode": {
    "name": "ipython",
    "version": 3
   },
   "file_extension": ".py",
   "mimetype": "text/x-python",
   "name": "python",
   "nbconvert_exporter": "python",
   "pygments_lexer": "ipython3",
   "version": "3.9.0"
  }
 },
 "nbformat": 4,
 "nbformat_minor": 2
}
