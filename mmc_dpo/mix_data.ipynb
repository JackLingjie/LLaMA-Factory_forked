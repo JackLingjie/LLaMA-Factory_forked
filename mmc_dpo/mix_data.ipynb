{
 "cells": [
  {
   "cell_type": "markdown",
   "metadata": {},
   "source": [
    "### html data mix"
   ]
  },
  {
   "cell_type": "code",
   "execution_count": 12,
   "metadata": {},
   "outputs": [
    {
     "data": {
      "text/plain": [
       "80061"
      ]
     },
     "execution_count": 12,
     "metadata": {},
     "output_type": "execute_result"
    }
   ],
   "source": [
    "import json\n",
    "html_img_80k =\"/mnt/lingjiejiang/multimodal_code/data/Web2code_gpt4o/revised_html_tag_80k_v2_fixed.json\"\n",
    "with open(html_img_80k, 'r') as f:\n",
    "    data = json.load(f)\n",
    "len(data)"
   ]
  },
  {
   "cell_type": "code",
   "execution_count": 9,
   "metadata": {},
   "outputs": [],
   "source": [
    "for item in data:\n",
    "    item[\"images\"][0] = item[\"new_img\"]\n",
    "with open(\"/mnt/lingjiejiang/multimodal_code/data/Web2code_gpt4o/revised_html_tag_80k_v2_fixed.json\", \"w\") as f:\n",
    "    json.dump(data, f)"
   ]
  },
  {
   "cell_type": "code",
   "execution_count": 13,
   "metadata": {},
   "outputs": [
    {
     "data": {
      "text/plain": [
       "[{'id': '5029_25',\n",
       "  'messages': [{'content': '<image>\\nGenerate HTML corresponding to the webpage in the given image. Show the code developed according to material design principles.',\n",
       "    'role': 'user'},\n",
       "   {'content': '```html\\n<!DOCTYPE html>\\n<html lang=\"en\">\\n<head>\\n    <meta charset=\"UTF-8\">\\n    <meta name=\"viewport\" content=\"width=device-width, initial-scale=1.0\">\\n    <title>Styled Page</title>\\n    <style>\\n        body {\\n            margin: 0;\\n            padding: 0;\\n            font-family: Arial, sans-serif;\\n            display: flex;\\n            flex-direction: column;\\n            align-items: center;\\n            justify-content: space-between;\\n            height: 100vh;\\n            background-color: #f9f9f9;\\n        }\\n\\n        header {\\n            margin-top: 20px;\\n        }\\n\\n        header img {\\n            width: 100px;\\n        }\\n\\n        main {\\n            display: flex;\\n            align-items: center;\\n            justify-content: center;\\n            text-align: left;\\n            max-width: 800px;\\n            padding: 20px;\\n        }\\n\\n        .image-placeholder {\\n            width: 300px;\\n            height: 200px;\\n            background-color: #ccc;\\n            margin-right: 20px;\\n        }\\n\\n        .description {\\n            max-width: 400px;\\n        }\\n\\n        footer {\\n            display: flex;\\n            justify-content: space-around;\\n            width: 100%;\\n            padding: 10px 0;\\n            background-color: #fff;\\n        }\\n\\n        footer a {\\n            text-decoration: none;\\n            color: blue;\\n            font-weight: bold;\\n        }\\n    </style>\\n</head>\\n<body>\\n    <header>\\n        <img src=\"rick.jpg\" alt=\"Logo\">\\n    </header>\\n    <main>\\n        <div class=\"image-placeholder\"></div>\\n        <div class=\"description\">\\n            <p>Explore the world of glamour and confidence with our premium collections. Every piece has been lovingly crafted in our hand-picked and luxury materials.</p>\\n        </div>\\n    </main>\\n    <footer>\\n        <a href=\"#\">Home</a>\\n        <a href=\"#\">About</a>\\n        <a href=\"#\">Contact</a>\\n    </footer>\\n</body>\\n</html>\\n```',\n",
       "    'role': 'assistant'}],\n",
       "  'images': ['/mnt/lingjiejiang/multimodal_code/data/Web2code_gpt4o/WebSight_images_new/image_5029_25.png'],\n",
       "  'revised_html': '<!DOCTYPE html>\\n<html lang=\"en\">\\n<head>\\n    <meta charset=\"UTF-8\">\\n    <meta name=\"viewport\" content=\"width=device-width, initial-scale=1.0\">\\n    <title>Styled Page</title>\\n    <style>\\n        body {\\n            margin: 0;\\n            padding: 0;\\n            font-family: Arial, sans-serif;\\n            display: flex;\\n            flex-direction: column;\\n            align-items: center;\\n            justify-content: space-between;\\n            height: 100vh;\\n            background-color: #f9f9f9;\\n        }\\n\\n        header {\\n            margin-top: 20px;\\n        }\\n\\n        header img {\\n            width: 100px;\\n        }\\n\\n        main {\\n            display: flex;\\n            align-items: center;\\n            justify-content: center;\\n            text-align: left;\\n            max-width: 800px;\\n            padding: 20px;\\n        }\\n\\n        .image-placeholder {\\n            width: 300px;\\n            height: 200px;\\n            background-color: #ccc;\\n            margin-right: 20px;\\n        }\\n\\n        .description {\\n            max-width: 400px;\\n        }\\n\\n        footer {\\n            display: flex;\\n            justify-content: space-around;\\n            width: 100%;\\n            padding: 10px 0;\\n            background-color: #fff;\\n        }\\n\\n        footer a {\\n            text-decoration: none;\\n            color: blue;\\n            font-weight: bold;\\n        }\\n    </style>\\n</head>\\n<body>\\n    <header>\\n        <img src=\"rick.jpg\" alt=\"Logo\">\\n    </header>\\n    <main>\\n        <div class=\"image-placeholder\"></div>\\n        <div class=\"description\">\\n            <p>Explore the world of glamour and confidence with our premium collections. Every piece has been lovingly crafted in our hand-picked and luxury materials.</p>\\n        </div>\\n    </main>\\n    <footer>\\n        <a href=\"#\">Home</a>\\n        <a href=\"#\">About</a>\\n        <a href=\"#\">Contact</a>\\n    </footer>\\n</body>\\n</html>',\n",
       "  'original_html': '<html>\\n<style>\\nbody, html {\\n    margin: 0;\\n    padding: 0;\\n    height: 100%;\\n    display: flex;\\n    flex-direction: column;\\n    justify-content: space-between;\\n}\\n\\n.header, .footer {\\n    height: 50px;\\n    display: flex;\\n    align-items: center;\\n    justify-content: center;\\n}\\n\\n.content {\\n    font-size: 16px;\\n    display: flex;\\n    align-items: center;\\n    flex-direction: column;\\n    justify-content: space-around;\\n}\\n\\n.product {\\n    display: flex;\\n    height: 200px;\\n    width: 80%;\\n}\\n\\n.color-rect {\\n    background-color: #C0C0C0;\\n    width: 50%;\\n}\\n\\nnav {\\n    display: flex;\\n    justify-content: space-around;\\n    width: 100%;\\n}\\n\\nnav ul {\\n    list-style-type: none;\\n    display: flex;\\n    justify-content: space-around;\\n    width: 100%;\\n}\\n\\nnav ul li {\\n    padding: 10px;\\n}\\n</style>\\n<body>\\n    <div class=\"header\">\\n        <img src=\"logo.png\" alt=\"Logo\">\\n    </div>\\n    <div class=\"content\">\\n        <div class=\"product\">\\n            <div class=\"color-rect\"></div>\\n            <p>Explore the world of glamour and confidence with our premium collections. Every piece has been lovingly crafted in our hand-picked and luxury materials.</p>\\n        </div>\\n        <!-- More products - remove the comments if adding more products -->\\n        <!--\\n        <div class=\"product\">\\n            <div class=\"color-rect\"></div>\\n            <p>Lorem ipsum dolor sit amet, consectetur adipiscing elit.</p>\\n        </div>\\n        -->\\n    </div>\\n    <div class=\"footer\">\\n        <nav>\\n            <ul>\\n                <li><a href=\"#home\">Home</a></li>\\n                <li><a href=\"#about\">About</a></li>\\n                <li><a href=\"#contact\">Contact</a></li>\\n            </ul>\\n        </nav>\\n    </div>\\n</body>\\n</html>',\n",
       "  'gpt_answer': '```html\\n<!DOCTYPE html>\\n<html lang=\"en\">\\n<head>\\n    <meta charset=\"UTF-8\">\\n    <meta name=\"viewport\" content=\"width=device-width, initial-scale=1.0\">\\n    <title>Styled Page</title>\\n    <style>\\n        body {\\n            margin: 0;\\n            padding: 0;\\n            font-family: Arial, sans-serif;\\n            display: flex;\\n            flex-direction: column;\\n            align-items: center;\\n            justify-content: space-between;\\n            height: 100vh;\\n            background-color: #f9f9f9;\\n        }\\n\\n        header {\\n            margin-top: 20px;\\n        }\\n\\n        header img {\\n            width: 100px;\\n        }\\n\\n        main {\\n            display: flex;\\n            align-items: center;\\n            justify-content: center;\\n            text-align: left;\\n            max-width: 800px;\\n            padding: 20px;\\n        }\\n\\n        .image-placeholder {\\n            width: 300px;\\n            height: 200px;\\n            background-color: #ccc;\\n            margin-right: 20px;\\n        }\\n\\n        .description {\\n            max-width: 400px;\\n        }\\n\\n        footer {\\n            display: flex;\\n            justify-content: space-around;\\n            width: 100%;\\n            padding: 10px 0;\\n            background-color: #fff;\\n        }\\n\\n        footer a {\\n            text-decoration: none;\\n            color: blue;\\n            font-weight: bold;\\n        }\\n    </style>\\n</head>\\n<body>\\n    <header>\\n        <img src=\"rick.jpg\" alt=\"Logo\">\\n    </header>\\n    <main>\\n        <div class=\"image-placeholder\"></div>\\n        <div class=\"description\">\\n            <p>Explore the world of glamour and confidence with our premium collections. Every piece has been lovingly crafted in our hand-picked and luxury materials.</p>\\n        </div>\\n    </main>\\n    <footer>\\n        <a href=\"#\">Home</a>\\n        <a href=\"#\">About</a>\\n        <a href=\"#\">Contact</a>\\n    </footer>\\n</body>\\n</html>\\n```\\n\\nThis HTML and CSS code creates a simple, centered layout with a logo at the top, a main content area with an image placeholder and text, and a footer with navigation links. The design is responsive and fits within a single, non-scrollable screen.',\n",
       "  'stop_reason': 'stop',\n",
       "  'model': 'gpt4o',\n",
       "  'new_img': '/mnt/lingjiejiang/multimodal_code/data/Web2code_gpt4o/WebSight_images_new/image_5029_25.png',\n",
       "  'formatted_html': '```html\\n<!DOCTYPE html>\\n<html lang=\"en\">\\n<head>\\n    <meta charset=\"UTF-8\">\\n    <meta name=\"viewport\" content=\"width=device-width, initial-scale=1.0\">\\n    <title>Styled Page</title>\\n    <style>\\n        body {\\n            margin: 0;\\n            padding: 0;\\n            font-family: Arial, sans-serif;\\n            display: flex;\\n            flex-direction: column;\\n            align-items: center;\\n            justify-content: space-between;\\n            height: 100vh;\\n            background-color: #f9f9f9;\\n        }\\n\\n        header {\\n            margin-top: 20px;\\n        }\\n\\n        header img {\\n            width: 100px;\\n        }\\n\\n        main {\\n            display: flex;\\n            align-items: center;\\n            justify-content: center;\\n            text-align: left;\\n            max-width: 800px;\\n            padding: 20px;\\n        }\\n\\n        .image-placeholder {\\n            width: 300px;\\n            height: 200px;\\n            background-color: #ccc;\\n            margin-right: 20px;\\n        }\\n\\n        .description {\\n            max-width: 400px;\\n        }\\n\\n        footer {\\n            display: flex;\\n            justify-content: space-around;\\n            width: 100%;\\n            padding: 10px 0;\\n            background-color: #fff;\\n        }\\n\\n        footer a {\\n            text-decoration: none;\\n            color: blue;\\n            font-weight: bold;\\n        }\\n    </style>\\n</head>\\n<body>\\n    <header>\\n        <img src=\"rick.jpg\" alt=\"Logo\">\\n    </header>\\n    <main>\\n        <div class=\"image-placeholder\"></div>\\n        <div class=\"description\">\\n            <p>Explore the world of glamour and confidence with our premium collections. Every piece has been lovingly crafted in our hand-picked and luxury materials.</p>\\n        </div>\\n    </main>\\n    <footer>\\n        <a href=\"#\">Home</a>\\n        <a href=\"#\">About</a>\\n        <a href=\"#\">Contact</a>\\n    </footer>\\n</body>\\n</html>\\n```'},\n",
       " {'id': '3141_20',\n",
       "  'messages': [{'content': '<image>\\nUsing the webpage screenshot, create a simulating HTML/CSS code. Elucidate code representing concepts from material design.',\n",
       "    'role': 'user'},\n",
       "   {'content': '```html\\n<!DOCTYPE html>\\n<html lang=\"en\">\\n<head>\\n    <meta charset=\"UTF-8\">\\n    <meta name=\"viewport\" content=\"width=device-width, initial-scale=1.0\">\\n    <title>Product Page</title>\\n    <style>\\n        body {\\n            margin: 0;\\n            font-family: Arial, sans-serif;\\n            background-color: #f5f5f5;\\n            display: flex;\\n            flex-direction: column;\\n            justify-content: space-between;\\n            height: 100vh;\\n        }\\n        .search-bar {\\n            background-color: #f5f5f5;\\n            padding: 20px;\\n            text-align: center;\\n        }\\n        .search-bar input[type=\"text\"] {\\n            width: 80%;\\n            padding: 10px;\\n            border: 1px solid #ccc;\\n            border-radius: 4px;\\n        }\\n        .content {\\n            flex-grow: 1;\\n            padding: 20px;\\n            background-color: white;\\n        }\\n        .content h1 {\\n            font-size: 24px;\\n            font-weight: bold;\\n            margin: 0;\\n            padding-bottom: 10px;\\n        }\\n        .footer {\\n            background-color: #333;\\n            color: white;\\n            text-align: center;\\n            padding: 10px 0;\\n        }\\n        .footer img {\\n            vertical-align: middle;\\n            width: 50px;\\n            height: auto;\\n        }\\n        .footer a {\\n            color: blue;\\n            text-decoration: none;\\n            margin-left: 10px;\\n        }\\n    </style>\\n</head>\\n<body>\\n    <div class=\"search-bar\">\\n        <input type=\"text\" placeholder=\"Search...\">\\n    </div>\\n    <div class=\"content\">\\n        <h1>Product Categories</h1>\\n        <h1>Featured Products</h1>\\n    </div>\\n    <div class=\"footer\">\\n        <img src=\"rick.jpg\" alt=\"Logo\">\\n        <span>Sports Equipment</span>\\n        <a href=\"#\">Customer Reviews</a>\\n    </div>\\n</body>\\n</html>\\n```',\n",
       "    'role': 'assistant'}],\n",
       "  'images': ['/mnt/lingjiejiang/multimodal_code/data/Web2code_gpt4o/WebSight_images_new/image_3141_20.png'],\n",
       "  'revised_html': '<!DOCTYPE html>\\n<html lang=\"en\">\\n<head>\\n    <meta charset=\"UTF-8\">\\n    <meta name=\"viewport\" content=\"width=device-width, initial-scale=1.0\">\\n    <title>Product Page</title>\\n    <style>\\n        body {\\n            margin: 0;\\n            font-family: Arial, sans-serif;\\n            background-color: #f5f5f5;\\n            display: flex;\\n            flex-direction: column;\\n            justify-content: space-between;\\n            height: 100vh;\\n        }\\n        .search-bar {\\n            background-color: #f5f5f5;\\n            padding: 20px;\\n            text-align: center;\\n        }\\n        .search-bar input[type=\"text\"] {\\n            width: 80%;\\n            padding: 10px;\\n            border: 1px solid #ccc;\\n            border-radius: 4px;\\n        }\\n        .content {\\n            flex-grow: 1;\\n            padding: 20px;\\n            background-color: white;\\n        }\\n        .content h1 {\\n            font-size: 24px;\\n            font-weight: bold;\\n            margin: 0;\\n            padding-bottom: 10px;\\n        }\\n        .footer {\\n            background-color: #333;\\n            color: white;\\n            text-align: center;\\n            padding: 10px 0;\\n        }\\n        .footer img {\\n            vertical-align: middle;\\n            width: 50px;\\n            height: auto;\\n        }\\n        .footer a {\\n            color: blue;\\n            text-decoration: none;\\n            margin-left: 10px;\\n        }\\n    </style>\\n</head>\\n<body>\\n    <div class=\"search-bar\">\\n        <input type=\"text\" placeholder=\"Search...\">\\n    </div>\\n    <div class=\"content\">\\n        <h1>Product Categories</h1>\\n        <h1>Featured Products</h1>\\n    </div>\\n    <div class=\"footer\">\\n        <img src=\"rick.jpg\" alt=\"Logo\">\\n        <span>Sports Equipment</span>\\n        <a href=\"#\">Customer Reviews</a>\\n    </div>\\n</body>\\n</html>',\n",
       "  'original_html': '<html>\\n<style>\\n* {\\n    box-sizing: border-box;\\n    margin: 0;\\n    padding: 0;\\n}\\n\\nbody, html {\\n    height: 100%;\\n}\\n\\n.full-width {\\n    width: 100%;\\n    background-color: #f8f8f8;\\n    padding: 20px;\\n    text-align: center;\\n}\\n\\ninput#search {\\n    width: 50%;\\n    padding: 12px 20px;\\n    margin: 8px 0;\\n}\\n\\nfooter {\\n    position: absolute;\\n    bottom: 0;\\n    width: 100%;\\n    background-color: #333;\\n    color: white;\\n    text-align: center;\\n    padding: 10px;\\n}\\n\\nfooter img {\\n    height: 50px;\\n}\\n</style>\\n<body>\\n    <header class=\"full-width\">\\n        <input type=\"text\" id=\"search\" placeholder=\"Search...\">\\n    </header>\\n    <section id=\"categories\">\\n        <h2>Product Categories</h2>\\n        <!-- Put product category here -->\\n    </section>\\n    <section id=\"featured\">\\n        <h2>Featured Products</h2>\\n        <!-- Put featured products here -->\\n    </section>\\n    <footer>\\n        <img src=\"logo.png\" alt=\"Sports Equipment Company Logo\">\\n        <a href=\"#customer-reviews\">Customer Reviews</a>\\n    </footer>\\n</body>\\n</html>',\n",
       "  'gpt_answer': '```html\\n<!DOCTYPE html>\\n<html lang=\"en\">\\n<head>\\n    <meta charset=\"UTF-8\">\\n    <meta name=\"viewport\" content=\"width=device-width, initial-scale=1.0\">\\n    <title>Product Page</title>\\n    <style>\\n        body {\\n            margin: 0;\\n            font-family: Arial, sans-serif;\\n            background-color: #f5f5f5;\\n            display: flex;\\n            flex-direction: column;\\n            justify-content: space-between;\\n            height: 100vh;\\n        }\\n        .search-bar {\\n            background-color: #f5f5f5;\\n            padding: 20px;\\n            text-align: center;\\n        }\\n        .search-bar input[type=\"text\"] {\\n            width: 80%;\\n            padding: 10px;\\n            border: 1px solid #ccc;\\n            border-radius: 4px;\\n        }\\n        .content {\\n            flex-grow: 1;\\n            padding: 20px;\\n            background-color: white;\\n        }\\n        .content h1 {\\n            font-size: 24px;\\n            font-weight: bold;\\n            margin: 0;\\n            padding-bottom: 10px;\\n        }\\n        .footer {\\n            background-color: #333;\\n            color: white;\\n            text-align: center;\\n            padding: 10px 0;\\n        }\\n        .footer img {\\n            vertical-align: middle;\\n            width: 50px;\\n            height: auto;\\n        }\\n        .footer a {\\n            color: blue;\\n            text-decoration: none;\\n            margin-left: 10px;\\n        }\\n    </style>\\n</head>\\n<body>\\n    <div class=\"search-bar\">\\n        <input type=\"text\" placeholder=\"Search...\">\\n    </div>\\n    <div class=\"content\">\\n        <h1>Product Categories</h1>\\n        <h1>Featured Products</h1>\\n    </div>\\n    <div class=\"footer\">\\n        <img src=\"rick.jpg\" alt=\"Logo\">\\n        <span>Sports Equipment</span>\\n        <a href=\"#\">Customer Reviews</a>\\n    </div>\\n</body>\\n</html>\\n```\\n\\nThis HTML and CSS code creates a simple webpage layout similar to the image you provided. It includes a search bar at the top, a content area with headings for \"Product Categories\" and \"Featured Products,\" and a footer with an image and a link. The layout is designed to fit within a single screen without scrolling.',\n",
       "  'stop_reason': 'stop',\n",
       "  'model': 'gpt4o',\n",
       "  'new_img': '/mnt/lingjiejiang/multimodal_code/data/Web2code_gpt4o/WebSight_images_new/image_3141_20.png',\n",
       "  'formatted_html': '```html\\n<!DOCTYPE html>\\n<html lang=\"en\">\\n<head>\\n    <meta charset=\"UTF-8\">\\n    <meta name=\"viewport\" content=\"width=device-width, initial-scale=1.0\">\\n    <title>Product Page</title>\\n    <style>\\n        body {\\n            margin: 0;\\n            font-family: Arial, sans-serif;\\n            background-color: #f5f5f5;\\n            display: flex;\\n            flex-direction: column;\\n            justify-content: space-between;\\n            height: 100vh;\\n        }\\n        .search-bar {\\n            background-color: #f5f5f5;\\n            padding: 20px;\\n            text-align: center;\\n        }\\n        .search-bar input[type=\"text\"] {\\n            width: 80%;\\n            padding: 10px;\\n            border: 1px solid #ccc;\\n            border-radius: 4px;\\n        }\\n        .content {\\n            flex-grow: 1;\\n            padding: 20px;\\n            background-color: white;\\n        }\\n        .content h1 {\\n            font-size: 24px;\\n            font-weight: bold;\\n            margin: 0;\\n            padding-bottom: 10px;\\n        }\\n        .footer {\\n            background-color: #333;\\n            color: white;\\n            text-align: center;\\n            padding: 10px 0;\\n        }\\n        .footer img {\\n            vertical-align: middle;\\n            width: 50px;\\n            height: auto;\\n        }\\n        .footer a {\\n            color: blue;\\n            text-decoration: none;\\n            margin-left: 10px;\\n        }\\n    </style>\\n</head>\\n<body>\\n    <div class=\"search-bar\">\\n        <input type=\"text\" placeholder=\"Search...\">\\n    </div>\\n    <div class=\"content\">\\n        <h1>Product Categories</h1>\\n        <h1>Featured Products</h1>\\n    </div>\\n    <div class=\"footer\">\\n        <img src=\"rick.jpg\" alt=\"Logo\">\\n        <span>Sports Equipment</span>\\n        <a href=\"#\">Customer Reviews</a>\\n    </div>\\n</body>\\n</html>\\n```'}]"
      ]
     },
     "execution_count": 13,
     "metadata": {},
     "output_type": "execute_result"
    }
   ],
   "source": [
    "data[:2]"
   ]
  },
  {
   "cell_type": "code",
   "execution_count": 14,
   "metadata": {},
   "outputs": [
    {
     "data": {
      "text/plain": [
       "669980"
      ]
     },
     "execution_count": 14,
     "metadata": {},
     "output_type": "execute_result"
    }
   ],
   "source": [
    "output_reimage_path = \"/mnt/lingjiejiang/multimodal_code/data/Web2Code/Web2Code_onetrun_new_img.json\"\n",
    "with open(output_reimage_path, \"r\") as f:\n",
    "    no_img_data_new = json.load(f)\n",
    "len(no_img_data_new)"
   ]
  },
  {
   "cell_type": "code",
   "execution_count": 15,
   "metadata": {},
   "outputs": [
    {
     "data": {
      "text/plain": [
       "40000"
      ]
     },
     "execution_count": 15,
     "metadata": {},
     "output_type": "execute_result"
    }
   ],
   "source": [
    "from random import sample\n",
    "data_img_40k = sample(data, 40000)\n",
    "data_no_img_40k = sample(no_img_data_new, 40000)\n",
    "len(data_img_40k)"
   ]
  },
  {
   "cell_type": "code",
   "execution_count": 17,
   "metadata": {},
   "outputs": [],
   "source": [
    "for item in data_img_40k:\n",
    "    item[\"source\"] = \"gpt4orevised\"\n",
    "for item in data_no_img_40k:\n",
    "    item[\"source\"] = \"web2codenoimg\""
   ]
  },
  {
   "cell_type": "code",
   "execution_count": 20,
   "metadata": {},
   "outputs": [],
   "source": [
    "merged_data = data_img_40k + data_no_img_40k"
   ]
  },
  {
   "cell_type": "code",
   "execution_count": 22,
   "metadata": {},
   "outputs": [
    {
     "data": {
      "text/plain": [
       "[{'id': '4524_58',\n",
       "  'messages': [{'content': '<image>\\nDiscern the webpage structure from the screenshot and generate appropriate HTML and CSS code. Lay out code which respects the guidelines of material design styling.',\n",
       "    'role': 'user'},\n",
       "   {'content': '```html\\n<!DOCTYPE html>\\n<html lang=\"en\">\\n<head>\\n    <meta charset=\"UTF-8\">\\n    <meta name=\"viewport\" content=\"width=device-width, initial-scale=1.0\">\\n    <title>Website Name</title>\\n    <style>\\n        body {\\n            margin: 0;\\n            font-family: Arial, sans-serif;\\n            background-color: #f4f4f4;\\n        }\\n        .header {\\n            background-color: #333;\\n            color: white;\\n            text-align: center;\\n            padding: 20px 0;\\n            position: relative;\\n        }\\n        .header h1 {\\n            margin: 0;\\n            font-size: 24px;\\n            font-weight: bold;\\n        }\\n        .search-bar {\\n            position: absolute;\\n            top: 50%;\\n            left: 50%;\\n            transform: translate(-50%, -50%);\\n        }\\n        .search-bar input[type=\"text\"] {\\n            padding: 5px;\\n            font-size: 14px;\\n        }\\n        .content {\\n            display: flex;\\n            justify-content: center;\\n            align-items: center;\\n            height: calc(100vh - 80px);\\n            background-color: white;\\n        }\\n        .content img {\\n            max-width: 100%;\\n            height: auto;\\n        }\\n    </style>\\n</head>\\n<body>\\n    <div class=\"header\">\\n        <h1>Website Name</h1>\\n        <div class=\"search-bar\">\\n            <input type=\"text\" placeholder=\"Search\">\\n        </div>\\n    </div>\\n    <div class=\"content\">\\n        <img src=\"rick.jpg\" alt=\"Placeholder Image\">\\n    </div>\\n</body>\\n</html>\\n```',\n",
       "    'role': 'assistant'}],\n",
       "  'images': ['/mnt/lingjiejiang/multimodal_code/data/Web2code_gpt4o/WebSight_images_new/image_4524_58.png'],\n",
       "  'revised_html': '<!DOCTYPE html>\\n<html lang=\"en\">\\n<head>\\n    <meta charset=\"UTF-8\">\\n    <meta name=\"viewport\" content=\"width=device-width, initial-scale=1.0\">\\n    <title>Website Name</title>\\n    <style>\\n        body {\\n            margin: 0;\\n            font-family: Arial, sans-serif;\\n            background-color: #f4f4f4;\\n        }\\n        .header {\\n            background-color: #333;\\n            color: white;\\n            text-align: center;\\n            padding: 20px 0;\\n            position: relative;\\n        }\\n        .header h1 {\\n            margin: 0;\\n            font-size: 24px;\\n            font-weight: bold;\\n        }\\n        .search-bar {\\n            position: absolute;\\n            top: 50%;\\n            left: 50%;\\n            transform: translate(-50%, -50%);\\n        }\\n        .search-bar input[type=\"text\"] {\\n            padding: 5px;\\n            font-size: 14px;\\n        }\\n        .content {\\n            display: flex;\\n            justify-content: center;\\n            align-items: center;\\n            height: calc(100vh - 80px);\\n            background-color: white;\\n        }\\n        .content img {\\n            max-width: 100%;\\n            height: auto;\\n        }\\n    </style>\\n</head>\\n<body>\\n    <div class=\"header\">\\n        <h1>Website Name</h1>\\n        <div class=\"search-bar\">\\n            <input type=\"text\" placeholder=\"Search\">\\n        </div>\\n    </div>\\n    <div class=\"content\">\\n        <img src=\"rick.jpg\" alt=\"Placeholder Image\">\\n    </div>\\n</body>\\n</html>',\n",
       "  'original_html': '<html>\\n<style>\\nbody {\\n  font-family: Arial, sans-serif;\\n}\\n\\n#header {\\n  background-color: #333;\\n  color: white;\\n  padding: 15px 0;\\n}\\n\\n#header h1 {\\n  margin: 0;\\n  text-align: center;\\n}\\n\\n#search-bar {\\n  text-align: center;\\n  margin: 10px 0;\\n}\\n\\n#category-menu ul {\\n  list-style-type: none;\\n  padding: 0;\\n  text-align: center;\\n}\\n\\n#category-menu li {\\n  display: inline;\\n  padding: 0 10px;\\n}\\n\\n#category-menu a {\\n  color: white;\\n  text-decoration: none;\\n}\\n\\n#slideshow img {\\n  width: 100%;\\n  height: 200px;\\n  display: none;\\n}\\n\\n#slide1 {\\n  display: block;\\n}\\n</style>\\n<body>\\n    <div id=\"header\">\\n      <h1>Website Name</h1>\\n      <div id=\"search-bar\">\\n        <input type=\"text\" placeholder=\"Search\">\\n      </div>\\n    </div>\\n    <div id=\"category-menu\">\\n      <ul>\\n        <li><a href=\"#\">Category 1</a></li>\\n        <li><a href=\"#\">Category 2</a></li>\\n        <li><a href=\"#\">Category 3</a></li>\\n        <!-- more categories here -->\\n      </ul>\\n    </div>\\n    <div id=\"slideshow\">\\n      <img id=\"slide1\" src=\"slide1.jpg\">\\n      <img id=\"slide2\" src=\"slide2.jpg\">\\n      <!-- more slides here -->\\n    </div>\\n    <!-- more HTML content here -->\\n  </body>\\n</html>',\n",
       "  'gpt_answer': '```html\\n<!DOCTYPE html>\\n<html lang=\"en\">\\n<head>\\n    <meta charset=\"UTF-8\">\\n    <meta name=\"viewport\" content=\"width=device-width, initial-scale=1.0\">\\n    <title>Website Name</title>\\n    <style>\\n        body {\\n            margin: 0;\\n            font-family: Arial, sans-serif;\\n            background-color: #f4f4f4;\\n        }\\n        .header {\\n            background-color: #333;\\n            color: white;\\n            text-align: center;\\n            padding: 20px 0;\\n            position: relative;\\n        }\\n        .header h1 {\\n            margin: 0;\\n            font-size: 24px;\\n            font-weight: bold;\\n        }\\n        .search-bar {\\n            position: absolute;\\n            top: 50%;\\n            left: 50%;\\n            transform: translate(-50%, -50%);\\n        }\\n        .search-bar input[type=\"text\"] {\\n            padding: 5px;\\n            font-size: 14px;\\n        }\\n        .content {\\n            display: flex;\\n            justify-content: center;\\n            align-items: center;\\n            height: calc(100vh - 80px);\\n            background-color: white;\\n        }\\n        .content img {\\n            max-width: 100%;\\n            height: auto;\\n        }\\n    </style>\\n</head>\\n<body>\\n    <div class=\"header\">\\n        <h1>Website Name</h1>\\n        <div class=\"search-bar\">\\n            <input type=\"text\" placeholder=\"Search\">\\n        </div>\\n    </div>\\n    <div class=\"content\">\\n        <img src=\"rick.jpg\" alt=\"Placeholder Image\">\\n    </div>\\n</body>\\n</html>\\n```\\n\\nThis HTML and CSS code creates a simple webpage with a header containing the website name and a search bar. The content area is centered and contains a placeholder image named \"rick.jpg\". The layout is designed to fit within a single, non-scrollable screen.',\n",
       "  'stop_reason': 'stop',\n",
       "  'model': 'gpt4o',\n",
       "  'new_img': '/mnt/lingjiejiang/multimodal_code/data/Web2code_gpt4o/WebSight_images_new/image_4524_58.png',\n",
       "  'formatted_html': '```html\\n<!DOCTYPE html>\\n<html lang=\"en\">\\n<head>\\n    <meta charset=\"UTF-8\">\\n    <meta name=\"viewport\" content=\"width=device-width, initial-scale=1.0\">\\n    <title>Website Name</title>\\n    <style>\\n        body {\\n            margin: 0;\\n            font-family: Arial, sans-serif;\\n            background-color: #f4f4f4;\\n        }\\n        .header {\\n            background-color: #333;\\n            color: white;\\n            text-align: center;\\n            padding: 20px 0;\\n            position: relative;\\n        }\\n        .header h1 {\\n            margin: 0;\\n            font-size: 24px;\\n            font-weight: bold;\\n        }\\n        .search-bar {\\n            position: absolute;\\n            top: 50%;\\n            left: 50%;\\n            transform: translate(-50%, -50%);\\n        }\\n        .search-bar input[type=\"text\"] {\\n            padding: 5px;\\n            font-size: 14px;\\n        }\\n        .content {\\n            display: flex;\\n            justify-content: center;\\n            align-items: center;\\n            height: calc(100vh - 80px);\\n            background-color: white;\\n        }\\n        .content img {\\n            max-width: 100%;\\n            height: auto;\\n        }\\n    </style>\\n</head>\\n<body>\\n    <div class=\"header\">\\n        <h1>Website Name</h1>\\n        <div class=\"search-bar\">\\n            <input type=\"text\" placeholder=\"Search\">\\n        </div>\\n    </div>\\n    <div class=\"content\">\\n        <img src=\"rick.jpg\" alt=\"Placeholder Image\">\\n    </div>\\n</body>\\n</html>\\n```',\n",
       "  'source': 'gpt4orevised'},\n",
       " {'id': '6462_23',\n",
       "  'messages': [{'content': '<image>\\nProduce HTML code to replicate the responsive layout from the webpage screenshot provided. Provide the code that applies the guidelines of material design.',\n",
       "    'role': 'user'},\n",
       "   {'content': '```html\\n<!DOCTYPE html>\\n<html lang=\"en\">\\n<head>\\n    <meta charset=\"UTF-8\">\\n    <meta name=\"viewport\" content=\"width=device-width, initial-scale=1.0\">\\n    <title>Medical Services</title>\\n    <style>\\n        body {\\n            margin: 0;\\n            font-family: Arial, sans-serif;\\n            background-color: #008000; /* Green background */\\n            color: #0000FF; /* Blue text */\\n        }\\n        .header {\\n            background-color: #FFFFFF; /* White background */\\n            padding: 10px;\\n            display: flex;\\n            justify-content: space-between;\\n            align-items: center;\\n        }\\n        .header img {\\n            height: 40px;\\n        }\\n        .content {\\n            padding: 20px;\\n        }\\n        .section {\\n            margin-bottom: 40px;\\n        }\\n        .section h2 {\\n            color: #FFFFFF; /* White text for headings */\\n            font-size: 24px;\\n            margin-bottom: 10px;\\n        }\\n        .section p {\\n            font-size: 16px;\\n        }\\n    </style>\\n</head>\\n<body>\\n    <div class=\"header\">\\n        <div class=\"logo\">\\n            <img src=\"rick.jpg\" alt=\"logo\">\\n        </div>\\n    </div>\\n    <div class=\"content\">\\n        <div class=\"section\">\\n            <h2>Conditions</h2>\\n            <p>We specialize in a variety of conditions.</p>\\n        </div>\\n        <div class=\"section\">\\n            <h2>Treatments</h2>\\n            <p>We offer a wide range of treatments.</p>\\n        </div>\\n        <div class=\"section\">\\n            <h2>Doctors</h2>\\n            <p>Our doctors are highly qualified and experienced.</p>\\n        </div>\\n    </div>\\n</body>\\n</html>\\n```',\n",
       "    'role': 'assistant'}],\n",
       "  'images': ['/mnt/lingjiejiang/multimodal_code/data/Web2code_gpt4o/WebSight_images_new/image_6462_23.png'],\n",
       "  'revised_html': '<!DOCTYPE html>\\n<html lang=\"en\">\\n<head>\\n    <meta charset=\"UTF-8\">\\n    <meta name=\"viewport\" content=\"width=device-width, initial-scale=1.0\">\\n    <title>Medical Services</title>\\n    <style>\\n        body {\\n            margin: 0;\\n            font-family: Arial, sans-serif;\\n            background-color: #008000; /* Green background */\\n            color: #0000FF; /* Blue text */\\n        }\\n        .header {\\n            background-color: #FFFFFF; /* White background */\\n            padding: 10px;\\n            display: flex;\\n            justify-content: space-between;\\n            align-items: center;\\n        }\\n        .header img {\\n            height: 40px;\\n        }\\n        .content {\\n            padding: 20px;\\n        }\\n        .section {\\n            margin-bottom: 40px;\\n        }\\n        .section h2 {\\n            color: #FFFFFF; /* White text for headings */\\n            font-size: 24px;\\n            margin-bottom: 10px;\\n        }\\n        .section p {\\n            font-size: 16px;\\n        }\\n    </style>\\n</head>\\n<body>\\n    <div class=\"header\">\\n        <div class=\"logo\">\\n            <img src=\"rick.jpg\" alt=\"logo\">\\n        </div>\\n    </div>\\n    <div class=\"content\">\\n        <div class=\"section\">\\n            <h2>Conditions</h2>\\n            <p>We specialize in a variety of conditions.</p>\\n        </div>\\n        <div class=\"section\">\\n            <h2>Treatments</h2>\\n            <p>We offer a wide range of treatments.</p>\\n        </div>\\n        <div class=\"section\">\\n            <h2>Doctors</h2>\\n            <p>Our doctors are highly qualified and experienced.</p>\\n        </div>\\n    </div>\\n</body>\\n</html>',\n",
       "  'original_html': '<html>\\n<style>\\nbody {\\n    font-family: Arial, sans-serif;\\n    margin: 0;\\n    padding: 0;\\n    color: blue;\\n    background-color: green;\\n}\\n\\nheader {\\n    text-align: center; \\n    background-color: white;\\n    padding: 20px;\\n}\\n\\nnav {\\n    position: absolute;\\n    top: 0;\\n    right: 0;\\n}\\n\\nnav ul {\\n    list-style-type: none;\\n}\\n\\nnav ul li {\\n    display: inline-block;\\n    margin-right: 10px;\\n}\\n\\nnav ul li a {\\n    text-decoration: none;\\n    color: white;\\n}\\n\\nsection {\\n    min-height: 100vh;\\n    padding: 20px;\\n}\\n\\nh1 {\\n    color: white;\\n}\\n</style>\\n<body>\\n    <header>\\n        <img src=\"logo.png\" alt=\"logo\">\\n    </header>\\n    <nav>\\n        <ul>\\n            <li><a href=\"#conditions\">Conditions</a></li>\\n            <li><a href=\"#treatments\">Treatments</a></li>\\n            <li><a href=\"#doctors\">Doctors</a></li>\\n        </ul>\\n    </nav>\\n    <section id=\"conditions\">\\n        <h1>Conditions</h1>\\n        <p>We specialize in a variety of conditions.</p>\\n    </section>\\n    <section id=\"treatments\">\\n        <h1>Treatments</h1>\\n        <p>We offer a wide range of treatments.</p>\\n    </section>\\n    <section id=\"doctors\">\\n        <h1>Doctors</h1>\\n        <p>Our doctors are highly qualified and experienced.</p>\\n    </section>\\n</body>\\n</html>',\n",
       "  'gpt_answer': '```html\\n<!DOCTYPE html>\\n<html lang=\"en\">\\n<head>\\n    <meta charset=\"UTF-8\">\\n    <meta name=\"viewport\" content=\"width=device-width, initial-scale=1.0\">\\n    <title>Medical Services</title>\\n    <style>\\n        body {\\n            margin: 0;\\n            font-family: Arial, sans-serif;\\n            background-color: #008000; /* Green background */\\n            color: #0000FF; /* Blue text */\\n        }\\n        .header {\\n            background-color: #FFFFFF; /* White background */\\n            padding: 10px;\\n            display: flex;\\n            justify-content: space-between;\\n            align-items: center;\\n        }\\n        .header img {\\n            height: 40px;\\n        }\\n        .content {\\n            padding: 20px;\\n        }\\n        .section {\\n            margin-bottom: 40px;\\n        }\\n        .section h2 {\\n            color: #FFFFFF; /* White text for headings */\\n            font-size: 24px;\\n            margin-bottom: 10px;\\n        }\\n        .section p {\\n            font-size: 16px;\\n        }\\n    </style>\\n</head>\\n<body>\\n    <div class=\"header\">\\n        <div class=\"logo\">\\n            <img src=\"rick.jpg\" alt=\"logo\">\\n        </div>\\n    </div>\\n    <div class=\"content\">\\n        <div class=\"section\">\\n            <h2>Conditions</h2>\\n            <p>We specialize in a variety of conditions.</p>\\n        </div>\\n        <div class=\"section\">\\n            <h2>Treatments</h2>\\n            <p>We offer a wide range of treatments.</p>\\n        </div>\\n        <div class=\"section\">\\n            <h2>Doctors</h2>\\n            <p>Our doctors are highly qualified and experienced.</p>\\n        </div>\\n    </div>\\n</body>\\n</html>\\n```\\n\\nThis HTML and CSS code replicates the style and layout of the provided image. The design includes a header with a logo and three sections for \"Conditions,\" \"Treatments,\" and \"Doctors,\" each with a heading and a short description. The background is green, and the text is blue, matching the style of the image.',\n",
       "  'stop_reason': 'stop',\n",
       "  'model': 'gpt4o',\n",
       "  'new_img': '/mnt/lingjiejiang/multimodal_code/data/Web2code_gpt4o/WebSight_images_new/image_6462_23.png',\n",
       "  'formatted_html': '```html\\n<!DOCTYPE html>\\n<html lang=\"en\">\\n<head>\\n    <meta charset=\"UTF-8\">\\n    <meta name=\"viewport\" content=\"width=device-width, initial-scale=1.0\">\\n    <title>Medical Services</title>\\n    <style>\\n        body {\\n            margin: 0;\\n            font-family: Arial, sans-serif;\\n            background-color: #008000; /* Green background */\\n            color: #0000FF; /* Blue text */\\n        }\\n        .header {\\n            background-color: #FFFFFF; /* White background */\\n            padding: 10px;\\n            display: flex;\\n            justify-content: space-between;\\n            align-items: center;\\n        }\\n        .header img {\\n            height: 40px;\\n        }\\n        .content {\\n            padding: 20px;\\n        }\\n        .section {\\n            margin-bottom: 40px;\\n        }\\n        .section h2 {\\n            color: #FFFFFF; /* White text for headings */\\n            font-size: 24px;\\n            margin-bottom: 10px;\\n        }\\n        .section p {\\n            font-size: 16px;\\n        }\\n    </style>\\n</head>\\n<body>\\n    <div class=\"header\">\\n        <div class=\"logo\">\\n            <img src=\"rick.jpg\" alt=\"logo\">\\n        </div>\\n    </div>\\n    <div class=\"content\">\\n        <div class=\"section\">\\n            <h2>Conditions</h2>\\n            <p>We specialize in a variety of conditions.</p>\\n        </div>\\n        <div class=\"section\">\\n            <h2>Treatments</h2>\\n            <p>We offer a wide range of treatments.</p>\\n        </div>\\n        <div class=\"section\">\\n            <h2>Doctors</h2>\\n            <p>Our doctors are highly qualified and experienced.</p>\\n        </div>\\n    </div>\\n</body>\\n</html>\\n```',\n",
       "  'source': 'gpt4orevised'}]"
      ]
     },
     "execution_count": 22,
     "metadata": {},
     "output_type": "execute_result"
    }
   ],
   "source": [
    "merged_data[:2]"
   ]
  },
  {
   "cell_type": "code",
   "execution_count": 24,
   "metadata": {},
   "outputs": [
    {
     "data": {
      "text/plain": [
       "{'id': '4524_58',\n",
       " 'messages': [{'content': '<image>\\nDiscern the webpage structure from the screenshot and generate appropriate HTML and CSS code. Lay out code which respects the guidelines of material design styling.',\n",
       "   'role': 'user'},\n",
       "  {'content': '```html\\n<!DOCTYPE html>\\n<html lang=\"en\">\\n<head>\\n    <meta charset=\"UTF-8\">\\n    <meta name=\"viewport\" content=\"width=device-width, initial-scale=1.0\">\\n    <title>Website Name</title>\\n    <style>\\n        body {\\n            margin: 0;\\n            font-family: Arial, sans-serif;\\n            background-color: #f4f4f4;\\n        }\\n        .header {\\n            background-color: #333;\\n            color: white;\\n            text-align: center;\\n            padding: 20px 0;\\n            position: relative;\\n        }\\n        .header h1 {\\n            margin: 0;\\n            font-size: 24px;\\n            font-weight: bold;\\n        }\\n        .search-bar {\\n            position: absolute;\\n            top: 50%;\\n            left: 50%;\\n            transform: translate(-50%, -50%);\\n        }\\n        .search-bar input[type=\"text\"] {\\n            padding: 5px;\\n            font-size: 14px;\\n        }\\n        .content {\\n            display: flex;\\n            justify-content: center;\\n            align-items: center;\\n            height: calc(100vh - 80px);\\n            background-color: white;\\n        }\\n        .content img {\\n            max-width: 100%;\\n            height: auto;\\n        }\\n    </style>\\n</head>\\n<body>\\n    <div class=\"header\">\\n        <h1>Website Name</h1>\\n        <div class=\"search-bar\">\\n            <input type=\"text\" placeholder=\"Search\">\\n        </div>\\n    </div>\\n    <div class=\"content\">\\n        <img src=\"rick.jpg\" alt=\"Placeholder Image\">\\n    </div>\\n</body>\\n</html>\\n```',\n",
       "   'role': 'assistant'}],\n",
       " 'images': ['/mnt/lingjiejiang/multimodal_code/data/Web2code_gpt4o/WebSight_images_new/image_4524_58.png'],\n",
       " 'revised_html': '<!DOCTYPE html>\\n<html lang=\"en\">\\n<head>\\n    <meta charset=\"UTF-8\">\\n    <meta name=\"viewport\" content=\"width=device-width, initial-scale=1.0\">\\n    <title>Website Name</title>\\n    <style>\\n        body {\\n            margin: 0;\\n            font-family: Arial, sans-serif;\\n            background-color: #f4f4f4;\\n        }\\n        .header {\\n            background-color: #333;\\n            color: white;\\n            text-align: center;\\n            padding: 20px 0;\\n            position: relative;\\n        }\\n        .header h1 {\\n            margin: 0;\\n            font-size: 24px;\\n            font-weight: bold;\\n        }\\n        .search-bar {\\n            position: absolute;\\n            top: 50%;\\n            left: 50%;\\n            transform: translate(-50%, -50%);\\n        }\\n        .search-bar input[type=\"text\"] {\\n            padding: 5px;\\n            font-size: 14px;\\n        }\\n        .content {\\n            display: flex;\\n            justify-content: center;\\n            align-items: center;\\n            height: calc(100vh - 80px);\\n            background-color: white;\\n        }\\n        .content img {\\n            max-width: 100%;\\n            height: auto;\\n        }\\n    </style>\\n</head>\\n<body>\\n    <div class=\"header\">\\n        <h1>Website Name</h1>\\n        <div class=\"search-bar\">\\n            <input type=\"text\" placeholder=\"Search\">\\n        </div>\\n    </div>\\n    <div class=\"content\">\\n        <img src=\"rick.jpg\" alt=\"Placeholder Image\">\\n    </div>\\n</body>\\n</html>',\n",
       " 'original_html': '<html>\\n<style>\\nbody {\\n  font-family: Arial, sans-serif;\\n}\\n\\n#header {\\n  background-color: #333;\\n  color: white;\\n  padding: 15px 0;\\n}\\n\\n#header h1 {\\n  margin: 0;\\n  text-align: center;\\n}\\n\\n#search-bar {\\n  text-align: center;\\n  margin: 10px 0;\\n}\\n\\n#category-menu ul {\\n  list-style-type: none;\\n  padding: 0;\\n  text-align: center;\\n}\\n\\n#category-menu li {\\n  display: inline;\\n  padding: 0 10px;\\n}\\n\\n#category-menu a {\\n  color: white;\\n  text-decoration: none;\\n}\\n\\n#slideshow img {\\n  width: 100%;\\n  height: 200px;\\n  display: none;\\n}\\n\\n#slide1 {\\n  display: block;\\n}\\n</style>\\n<body>\\n    <div id=\"header\">\\n      <h1>Website Name</h1>\\n      <div id=\"search-bar\">\\n        <input type=\"text\" placeholder=\"Search\">\\n      </div>\\n    </div>\\n    <div id=\"category-menu\">\\n      <ul>\\n        <li><a href=\"#\">Category 1</a></li>\\n        <li><a href=\"#\">Category 2</a></li>\\n        <li><a href=\"#\">Category 3</a></li>\\n        <!-- more categories here -->\\n      </ul>\\n    </div>\\n    <div id=\"slideshow\">\\n      <img id=\"slide1\" src=\"slide1.jpg\">\\n      <img id=\"slide2\" src=\"slide2.jpg\">\\n      <!-- more slides here -->\\n    </div>\\n    <!-- more HTML content here -->\\n  </body>\\n</html>',\n",
       " 'gpt_answer': '```html\\n<!DOCTYPE html>\\n<html lang=\"en\">\\n<head>\\n    <meta charset=\"UTF-8\">\\n    <meta name=\"viewport\" content=\"width=device-width, initial-scale=1.0\">\\n    <title>Website Name</title>\\n    <style>\\n        body {\\n            margin: 0;\\n            font-family: Arial, sans-serif;\\n            background-color: #f4f4f4;\\n        }\\n        .header {\\n            background-color: #333;\\n            color: white;\\n            text-align: center;\\n            padding: 20px 0;\\n            position: relative;\\n        }\\n        .header h1 {\\n            margin: 0;\\n            font-size: 24px;\\n            font-weight: bold;\\n        }\\n        .search-bar {\\n            position: absolute;\\n            top: 50%;\\n            left: 50%;\\n            transform: translate(-50%, -50%);\\n        }\\n        .search-bar input[type=\"text\"] {\\n            padding: 5px;\\n            font-size: 14px;\\n        }\\n        .content {\\n            display: flex;\\n            justify-content: center;\\n            align-items: center;\\n            height: calc(100vh - 80px);\\n            background-color: white;\\n        }\\n        .content img {\\n            max-width: 100%;\\n            height: auto;\\n        }\\n    </style>\\n</head>\\n<body>\\n    <div class=\"header\">\\n        <h1>Website Name</h1>\\n        <div class=\"search-bar\">\\n            <input type=\"text\" placeholder=\"Search\">\\n        </div>\\n    </div>\\n    <div class=\"content\">\\n        <img src=\"rick.jpg\" alt=\"Placeholder Image\">\\n    </div>\\n</body>\\n</html>\\n```\\n\\nThis HTML and CSS code creates a simple webpage with a header containing the website name and a search bar. The content area is centered and contains a placeholder image named \"rick.jpg\". The layout is designed to fit within a single, non-scrollable screen.',\n",
       " 'stop_reason': 'stop',\n",
       " 'model': 'gpt4o',\n",
       " 'new_img': '/mnt/lingjiejiang/multimodal_code/data/Web2code_gpt4o/WebSight_images_new/image_4524_58.png',\n",
       " 'formatted_html': '```html\\n<!DOCTYPE html>\\n<html lang=\"en\">\\n<head>\\n    <meta charset=\"UTF-8\">\\n    <meta name=\"viewport\" content=\"width=device-width, initial-scale=1.0\">\\n    <title>Website Name</title>\\n    <style>\\n        body {\\n            margin: 0;\\n            font-family: Arial, sans-serif;\\n            background-color: #f4f4f4;\\n        }\\n        .header {\\n            background-color: #333;\\n            color: white;\\n            text-align: center;\\n            padding: 20px 0;\\n            position: relative;\\n        }\\n        .header h1 {\\n            margin: 0;\\n            font-size: 24px;\\n            font-weight: bold;\\n        }\\n        .search-bar {\\n            position: absolute;\\n            top: 50%;\\n            left: 50%;\\n            transform: translate(-50%, -50%);\\n        }\\n        .search-bar input[type=\"text\"] {\\n            padding: 5px;\\n            font-size: 14px;\\n        }\\n        .content {\\n            display: flex;\\n            justify-content: center;\\n            align-items: center;\\n            height: calc(100vh - 80px);\\n            background-color: white;\\n        }\\n        .content img {\\n            max-width: 100%;\\n            height: auto;\\n        }\\n    </style>\\n</head>\\n<body>\\n    <div class=\"header\">\\n        <h1>Website Name</h1>\\n        <div class=\"search-bar\">\\n            <input type=\"text\" placeholder=\"Search\">\\n        </div>\\n    </div>\\n    <div class=\"content\">\\n        <img src=\"rick.jpg\" alt=\"Placeholder Image\">\\n    </div>\\n</body>\\n</html>\\n```',\n",
       " 'source': 'gpt4orevised',\n",
       " 'gpt_prompt': 'Discern the webpage structure from the screenshot and generate appropriate HTML and CSS code. Lay out code which respects the guidelines of material design styling.'}"
      ]
     },
     "execution_count": 24,
     "metadata": {},
     "output_type": "execute_result"
    }
   ],
   "source": [
    "for item in merged_data:\n",
    "    item[\"gpt_prompt\"] = item[\"messages\"][0][\"content\"].replace(\"<image>\\n\", \"\").strip()\n",
    "merged_data[0]"
   ]
  },
  {
   "cell_type": "code",
   "execution_count": 25,
   "metadata": {},
   "outputs": [],
   "source": [
    "with open(\"/mnt/lingjiejiang/multimodal_code/data/dpo/html/web80k.json\", \"w\") as f:\n",
    "    json.dump(merged_data, f)"
   ]
  }
 ],
 "metadata": {
  "kernelspec": {
   "display_name": "llama",
   "language": "python",
   "name": "python3"
  },
  "language_info": {
   "codemirror_mode": {
    "name": "ipython",
    "version": 3
   },
   "file_extension": ".py",
   "mimetype": "text/x-python",
   "name": "python",
   "nbconvert_exporter": "python",
   "pygments_lexer": "ipython3",
   "version": "3.10.16"
  }
 },
 "nbformat": 4,
 "nbformat_minor": 2
}
