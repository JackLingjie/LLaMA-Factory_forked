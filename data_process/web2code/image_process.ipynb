{
 "cells": [
  {
   "cell_type": "code",
   "execution_count": 5,
   "metadata": {},
   "outputs": [
    {
     "data": {
      "text/plain": [
       "90291"
      ]
     },
     "execution_count": 5,
     "metadata": {},
     "output_type": "execute_result"
    }
   ],
   "source": [
    "import json\n",
    "output_file_filter = \"/mnt/lingjiejiang/multimodal_code/data/Web2Code/Web2Code_onetrun_img_rick.json\" \n",
    "with open(output_file_filter, \"r\") as f:\n",
    "    img_data = json.load(f)\n",
    "len(img_data)"
   ]
  },
  {
   "cell_type": "code",
   "execution_count": 6,
   "metadata": {},
   "outputs": [
    {
     "data": {
      "text/plain": [
       "[{'id': '2008',\n",
       "  'messages': [{'content': '<image>\\nAfter scrutinizing the webpage screenshot provided, craft HTML code for a similar responsive layout. Present the script that reflects the spirit of the material design system.',\n",
       "    'role': 'user'},\n",
       "   {'content': '<!DOCTYPE html>\\n<html>\\n<head>\\n <title>Artist Portfolio</title>\\n <meta charset=\"UTF-8\">\\n <meta name=\"viewport\" content=\"width=device-width, initial-scale=1.0\">\\n <style>\\n  body {\\n font-family: \\'Montserrat\\', sans-serif;\\n background-color: #858585;\\n }\\n header {\\n background-color: #ffd180;\\n color: #fff;\\n padding: 20px;\\n text-align: center;\\n }\\n #bio {\\n width: 80%;\\n margin: 0 auto;\\n padding: 20px;\\n background-color: #fff;\\n border-radius: 5px;\\n box-shadow: 0 2px 5px rgba(0,0,0,0.1);\\n }\\n #gallery {\\n display: flex;\\n flex-wrap: wrap;\\n justify-content: center;\\n }\\n .artwork {\\n width: 200px;\\n margin: 20px;\\n border-radius: 5px;\\n box-shadow: 0 2px 5px rgba(0,0,0,0.1);\\n }\\n .artwork img {\\n width: 100%;\\n border-radius: 5px 5px 0 0;\\n }\\n .artwork h3 {\\n background: #fff;\\n padding: 10px;\\n text-align: center;\\n border-radius: 0 0 5px 5px;\\n margin-top: -10px;\\n }\\n </style>\\n</head>\\n<body>\\n <header>\\n <h1>Jessica\\'s Portfolio</h1>\\n </header>\\n <div id=\"bio\">\\n <h2>About the Artist</h2>\\n <p>Jessica is a London-based artist specializing in oil paintings and digital art.</p>\\n </div>\\n <div id=\"gallery\">\\n <div class=\"artwork\">\\n <img src=\"rick.jpg\" alt=\"Oil Painting\">\\n <h3>The Awakening</h3>\\n </div>\\n <div class=\"artwork\">\\n <img src=\"rick.jpg\" alt=\"Digital Art\">\\n <h3>Space Odyssey</h3>\\n </div>\\n <div class=\"artwork\">\\n <img src=\"rick.jpg\" alt=\"Oil Painting\">\\n <h3>New Beginnings</h3>\\n </div>\\n </div>\\n</body>\\n</html>',\n",
       "    'role': 'assistant'}],\n",
       "  'images': ['/mnt/lingjiejiang/multimodal_code/data/web2code_img_rick/new_data/2008.png']},\n",
       " {'id': '9523',\n",
       "  'messages': [{'content': '<image>\\nGiven the image of a website design, can you devise the HTML to reproduce its structure? Discuss code maintaining consistency with material design.',\n",
       "    'role': 'user'},\n",
       "   {'content': '<!DOCTYPE html>\\n<html>\\n<head>\\n <title>New Game Launch</title>\\n <link rel=\"stylesheet\" type=\"text/css\" href=\"css/styles.css\">\\n</head>\\n<body>\\n <header>\\n <h1>New Game Launch!</h1>\\n <nav>\\n <a href=\"#\">Features</a>\\n <a href=\"#\">Screenshots</a>\\n <a href=\"#\">Purchase</a>\\n </nav>\\n </header>\\n <div class=\"features\">\\n <h2>Experience the World of <span class=\"game-name\">Aurascape</span></h2>\\n <p>Discover a vast open world and immerse yourself in endless adventure.</p>\\n <div class=\"details\">\\n <img src=\"rick.jpg\" alt=\"Aurascape logo\">\\n <h3>Character Customization</h3>\\n <p>Tailor your character\\'s appearance and abilities to suit your playstyle.</p>\\n </div>\\n <div class=\"details\">\\n <img src=\"rick.jpg\" alt=\"Mech battles\">\\n <h3>Intense Mech Battles</h3>\\n <p>Utilize powerful mechs to engage in epic battles against your enemies.</p>\\n </div>\\n <div class=\"details\">\\n <img src=\"rick.jpg\" alt=\"Quests\">\\n <h3>Endless Side Quests</h3>\\n <p>Embark on numerous side quests and explore a world filled with secrets.</p>\\n </div>\\n <div class=\"details\">\\n <img src=\"rick.jpg\" alt=\"Branching storyline\">\\n <h3>Branching Storyline</h3>\\n <p>Your choices will impact the outcome of the story, creating a unique gaming experience.</p>\\n </div>\\n </div>\\n <div class=\"screenshots\">\\n <h2>Featured Screenshots</h2>\\n <img src=\"rick.jpg\" alt=\"screenshot 1\">\\n <img src=\"rick.jpg\" alt=\"screenshot 2\">\\n <img src=\"rick.jpg\" alt=\"screenshot 3\">\\n </div>\\n <div class=\"purchase\">\\n <h2>Get in the Game!</h2>\\n <p>Available now for just $29.99</p>\\n </div>\\n</body>\\n</html>',\n",
       "    'role': 'assistant'}],\n",
       "  'images': ['/mnt/lingjiejiang/multimodal_code/data/web2code_img_rick/new_data/9523.png']}]"
      ]
     },
     "execution_count": 6,
     "metadata": {},
     "output_type": "execute_result"
    }
   ],
   "source": [
    "img_data[:2]"
   ]
  },
  {
   "cell_type": "code",
   "execution_count": 7,
   "metadata": {},
   "outputs": [],
   "source": [
    "output_reimage_path = \"/mnt/lingjiejiang/multimodal_code/data/Web2Code/Web2Code_onetrun_new_img.json\"\n",
    "with open(output_reimage_path, \"r\") as f:\n",
    "    no_img_data_new = json.load(f)\n"
   ]
  },
  {
   "cell_type": "code",
   "execution_count": 8,
   "metadata": {},
   "outputs": [
    {
     "data": {
      "text/plain": [
       "[{'id': '99720969-917D-4843-BB69-D09AF953F258',\n",
       "  'messages': [{'content': '<image>\\nUse the webpage screenshot to generate HTML code as a replication of its structure. Manifest the code following Bootstrap layout.',\n",
       "    'role': 'user'},\n",
       "   {'content': '<html>\\n<header>\\n<meta charset=\"utf-8\"/>\\n<meta content=\"width=device-width, initial-scale=1\" name=\"viewport\"/>\\n<link crossorigin=\"anonymous\" href=\"https://maxcdn.bootstrapcdn.com/bootstrap/3.3.7/css/bootstrap.min.css\" integrity=\"sha384-BVYiiSIFeK1dGmJRAkycuHAHRg32OmUcww7on3RYdg4Va+PmSTsz/K68vbdEjh4u\" rel=\"stylesheet\"/>\\n<link crossorigin=\"anonymous\" href=\"https://maxcdn.bootstrapcdn.com/bootstrap/3.3.7/css/bootstrap-theme.min.css\" integrity=\"sha384-rHyoN1iRsVXV4nD0JutlnGaslCJuC7uwjduW9SVrLvRYooPp2bWYgmgJQIXwl/Sp\" rel=\"stylesheet\"/>\\n<style>\\n        .header { margin: 20px 0; }\\n        nav ul.nav-pills li { background-color: #333; border-radius: 4px; margin-right: 10px; }\\n        .col-lg-3 { width: 24%; margin-right: 1.333333%; }\\n        .col-lg-6 { width: 49%; margin-right: 2%; }\\n        .col-lg-12, .col-lg-3, .col-lg-6 { margin-bottom: 20px; border-radius: 6px; background-color: #f5f5f5; padding: 20px; }\\n        .row .col-lg-3:last-child, .row .col-lg-6:last-child { margin-right: 0; }\\n        footer { padding: 20px 0; text-align: center; border-top: 1px solid #bbb; }\\n    </style>\\n<title>Job Recruitment Portal</title>\\n</header>\\n<body>\\n<main class=\"container\">\\n<div class=\"header clearfix\">\\n<nav>\\n<ul class=\"nav nav-pills pull-left\">\\n<li><a href=\"#\">Home</a></li>\\n<li><a href=\"#\">Job Listings</a></li>\\n<li class=\"active\"><a href=\"#\">About Us</a></li>\\n<li><a href=\"#\">Contact</a></li>\\n<li><a href=\"#\">FAQ</a></li>\\n</ul>\\n</nav>\\n</div>\\n<div class=\"row\"><div class=\"col-lg-3\">\\n<h4>Featured Jobs</h4><p>Browse our most popular job listings and find your perfect fit today!</p>\\n<a class=\"btn btn-danger\" href=\"#\" role=\"button\">View Jobs</a>\\n</div>\\n<div class=\"col-lg-3\">\\n<h4>Our Services</h4><p>Discover how we can help you in your job search - from resume building to interview coaching.</p>\\n<a class=\"btn btn-warning\" href=\"#\" role=\"button\">Learn More</a>\\n</div>\\n<div class=\"col-lg-3\">\\n<h4>Job Alerts</h4><p>Sign up to receive email alerts for new job postings that match your interests.</p>\\n<a class=\"btn btn-success\" href=\"#\" role=\"button\">Sign Up Now</a>\\n</div>\\n<div class=\"col-lg-3\">\\n<h4>Contact Us</h4><p>Have any questions or need help? Our friendly team is here to support you!</p>\\n<a class=\"btn btn-success\" href=\"#\" role=\"button\">Contact Support</a>\\n</div>\\n</div>\\n<div class=\"row\"><div class=\"col-lg-12\">\\n<h4>About Us</h4><p>Learn more about our mission and history, and what sets us apart in the recruitment industry.</p>\\n<a class=\"btn btn-danger\" href=\"#\" role=\"button\">Read More</a>\\n</div>\\n</div>\\n<div class=\"row\"><div class=\"col-lg-6\">\\n<h4>Employers</h4><p>Looking to post a job? We offer a variety of employer services, check it out now.</p>\\n<a class=\"btn btn-danger\" href=\"#\" role=\"button\">For Employers</a>\\n</div>\\n<div class=\"col-lg-6\">\\n<h4>Job Seekers</h4><p>Whether your\\'e looking for your first job or your next job, we have resources that can help you get there.</p>\\n<a class=\"btn btn-warning\" href=\"#\" role=\"button\">For Job Seekers</a>\\n</div>\\n</div>\\n<footer class=\"footer\">\\n<p>© Job Recruitment Portal 2022</p>\\n</footer>\\n</main>\\n<script src=\"js/jquery.min.js\"></script>\\n<script src=\"js/bootstrap.min.js\"></script>\\n</body>\\n</html>',\n",
       "    'role': 'assistant'}],\n",
       "  'images': ['/mnt/lingjiejiang/multimodal_code/data/web2code_new_images/pix2code/99720969-917D-4843-BB69-D09AF953F258.png']},\n",
       " {'id': '83319D6A-69EA-4156-96B5-BF0616513380',\n",
       "  'messages': [{'content': '<image>\\nDuplicate the appearance of the web interface from the image using HTML and CSS. Would you mind producing the code in accordance to Bootstrap?',\n",
       "    'role': 'user'},\n",
       "   {'content': '<html>\\n<header>\\n<meta charset=\"utf-8\"/>\\n<meta content=\"width=device-width, initial-scale=1\" name=\"viewport\"/>\\n<link crossorigin=\"anonymous\" href=\"https://maxcdn.bootstrapcdn.com/bootstrap/3.3.7/css/bootstrap.min.css\" integrity=\"sha384-BVYiiSIFeK1dGmJRAkycuHAHRg32OmUcww7on3RYdg4Va+PmSTsz/K68vbdEjh4u\" rel=\"stylesheet\"/>\\n<link crossorigin=\"anonymous\" href=\"https://maxcdn.bootstrapcdn.com/bootstrap/3.3.7/css/bootstrap-theme.min.css\" integrity=\"sha384-rHyoN1iRsVXV4nD0JutlnGaslCJuC7uwjduW9SVrLvRYooPp2bWYgmgJQIXwl/Sp\" rel=\"stylesheet\"/>\\n<style>\\n        .header { margin: 20px 0; }\\n        nav ul.nav-pills li { background-color: #333; border-radius: 4px; margin-right: 10px; }\\n        .col-lg-3 { width: 24%; margin-right: 1.333333%; }\\n        .col-lg-6 { width: 49%; margin-right: 2%; }\\n        .col-lg-12, .col-lg-3, .col-lg-6 { margin-bottom: 20px; border-radius: 6px; background-color: #f5f5f5; padding: 20px; }\\n        .row .col-lg-3:last-child, .row .col-lg-6:last-child { margin-right: 0; }\\n        footer { padding: 20px 0; text-align: center; border-top: 1px solid #bbb; }\\n    </style>\\n<title>My Portfolio</title>\\n</header>\\n<body>\\n<main class=\"container\">\\n<div class=\"header clearfix\">\\n<nav>\\n<ul class=\"nav nav-pills pull-left\">\\n<li><a href=\"#\">About Me</a></li>\\n<li class=\"active\"><a href=\"#\">Projects</a></li>\\n<li><a href=\"#\">Skills</a></li>\\n<li><a href=\"#\">Contact</a></li>\\n</ul>\\n</nav>\\n</div>\\n<div class=\"row\"><div class=\"col-lg-3\">\\n<h4>Web Design</h4><p>As a web designer, I focus on designing user-friendly and responsive websites.</p>\\n<a class=\"btn btn-warning\" href=\"#\" role=\"button\">Learn More</a>\\n</div>\\n<div class=\"col-lg-3\">\\n<h4>Graphic Design</h4><p>I create engaging visuals for marketing and promotional purposes.</p>\\n<a class=\"btn btn-danger\" href=\"#\" role=\"button\">See My Works</a>\\n</div>\\n<div class=\"col-lg-3\">\\n<h4>Data Analysis</h4><p>My data analysis skills enable me to extract valuable insights from data.</p>\\n<a class=\"btn btn-warning\" href=\"#\" role=\"button\">See My Analyses</a>\\n</div>\\n<div class=\"col-lg-3\">\\n<h4>Software Development</h4><p>I build efficient solutions in various programming languages.</p>\\n<a class=\"btn btn-success\" href=\"#\" role=\"button\">View Projects</a>\\n</div>\\n</div>\\n<footer class=\"footer\">\\n<p>© Your Name 2022</p>\\n</footer>\\n</main>\\n<script src=\"js/jquery.min.js\"></script>\\n<script src=\"js/bootstrap.min.js\"></script>\\n</body>\\n</html>',\n",
       "    'role': 'assistant'}],\n",
       "  'images': ['/mnt/lingjiejiang/multimodal_code/data/web2code_new_images/pix2code/83319D6A-69EA-4156-96B5-BF0616513380.png']}]"
      ]
     },
     "execution_count": 8,
     "metadata": {},
     "output_type": "execute_result"
    }
   ],
   "source": [
    "no_img_data_new[:2]"
   ]
  },
  {
   "cell_type": "code",
   "execution_count": 9,
   "metadata": {},
   "outputs": [
    {
     "data": {
      "text/plain": [
       "760271"
      ]
     },
     "execution_count": 9,
     "metadata": {},
     "output_type": "execute_result"
    }
   ],
   "source": [
    "merged_data_v1 = img_data + no_img_data_new\n",
    "len(merged_data_v1)"
   ]
  },
  {
   "cell_type": "code",
   "execution_count": 10,
   "metadata": {},
   "outputs": [],
   "source": [
    "data_path_v1 = \"/mnt/lingjiejiang/multimodal_code/data/Web2Code/Web2Code_onetrun_rick_760k_v1.json\"\n",
    "with open(data_path_v1, \"w\") as f:\n",
    "    json.dump(merged_data_v1, f)"
   ]
  },
  {
   "cell_type": "code",
   "execution_count": 16,
   "metadata": {},
   "outputs": [],
   "source": [
    "import json\n",
    "output_file_filter = \"/mnt/lingjiejiang/multimodal_code/data/Web2Code/Web2Code_onetrun_img_rick.json\" \n",
    "with open(output_file_filter, \"r\") as f:\n",
    "    img_data_v2 = json.load(f)\n",
    "# len(img_data)\n",
    "added_prompt = \"\\nIf it involves any images, use \\\"rick.jpg\\\" as the placeholder.\"\n",
    "for item in img_data_v2:\n",
    "    item[\"messages\"][0][\"content\"] = item[\"messages\"][0][\"content\"].strip() + added_prompt\n"
   ]
  },
  {
   "cell_type": "code",
   "execution_count": 18,
   "metadata": {},
   "outputs": [
    {
     "data": {
      "text/plain": [
       "[{'id': '2008',\n",
       "  'messages': [{'content': '<image>\\nAfter scrutinizing the webpage screenshot provided, craft HTML code for a similar responsive layout. Present the script that reflects the spirit of the material design system.\\nIf it involves any images, use \"rick.jpg\" as the placeholder.',\n",
       "    'role': 'user'},\n",
       "   {'content': '<!DOCTYPE html>\\n<html>\\n<head>\\n <title>Artist Portfolio</title>\\n <meta charset=\"UTF-8\">\\n <meta name=\"viewport\" content=\"width=device-width, initial-scale=1.0\">\\n <style>\\n  body {\\n font-family: \\'Montserrat\\', sans-serif;\\n background-color: #858585;\\n }\\n header {\\n background-color: #ffd180;\\n color: #fff;\\n padding: 20px;\\n text-align: center;\\n }\\n #bio {\\n width: 80%;\\n margin: 0 auto;\\n padding: 20px;\\n background-color: #fff;\\n border-radius: 5px;\\n box-shadow: 0 2px 5px rgba(0,0,0,0.1);\\n }\\n #gallery {\\n display: flex;\\n flex-wrap: wrap;\\n justify-content: center;\\n }\\n .artwork {\\n width: 200px;\\n margin: 20px;\\n border-radius: 5px;\\n box-shadow: 0 2px 5px rgba(0,0,0,0.1);\\n }\\n .artwork img {\\n width: 100%;\\n border-radius: 5px 5px 0 0;\\n }\\n .artwork h3 {\\n background: #fff;\\n padding: 10px;\\n text-align: center;\\n border-radius: 0 0 5px 5px;\\n margin-top: -10px;\\n }\\n </style>\\n</head>\\n<body>\\n <header>\\n <h1>Jessica\\'s Portfolio</h1>\\n </header>\\n <div id=\"bio\">\\n <h2>About the Artist</h2>\\n <p>Jessica is a London-based artist specializing in oil paintings and digital art.</p>\\n </div>\\n <div id=\"gallery\">\\n <div class=\"artwork\">\\n <img src=\"rick.jpg\" alt=\"Oil Painting\">\\n <h3>The Awakening</h3>\\n </div>\\n <div class=\"artwork\">\\n <img src=\"rick.jpg\" alt=\"Digital Art\">\\n <h3>Space Odyssey</h3>\\n </div>\\n <div class=\"artwork\">\\n <img src=\"rick.jpg\" alt=\"Oil Painting\">\\n <h3>New Beginnings</h3>\\n </div>\\n </div>\\n</body>\\n</html>',\n",
       "    'role': 'assistant'}],\n",
       "  'images': ['/mnt/lingjiejiang/multimodal_code/data/web2code_img_rick/new_data/2008.png']},\n",
       " {'id': '9523',\n",
       "  'messages': [{'content': '<image>\\nGiven the image of a website design, can you devise the HTML to reproduce its structure? Discuss code maintaining consistency with material design.\\nIf it involves any images, use \"rick.jpg\" as the placeholder.',\n",
       "    'role': 'user'},\n",
       "   {'content': '<!DOCTYPE html>\\n<html>\\n<head>\\n <title>New Game Launch</title>\\n <link rel=\"stylesheet\" type=\"text/css\" href=\"css/styles.css\">\\n</head>\\n<body>\\n <header>\\n <h1>New Game Launch!</h1>\\n <nav>\\n <a href=\"#\">Features</a>\\n <a href=\"#\">Screenshots</a>\\n <a href=\"#\">Purchase</a>\\n </nav>\\n </header>\\n <div class=\"features\">\\n <h2>Experience the World of <span class=\"game-name\">Aurascape</span></h2>\\n <p>Discover a vast open world and immerse yourself in endless adventure.</p>\\n <div class=\"details\">\\n <img src=\"rick.jpg\" alt=\"Aurascape logo\">\\n <h3>Character Customization</h3>\\n <p>Tailor your character\\'s appearance and abilities to suit your playstyle.</p>\\n </div>\\n <div class=\"details\">\\n <img src=\"rick.jpg\" alt=\"Mech battles\">\\n <h3>Intense Mech Battles</h3>\\n <p>Utilize powerful mechs to engage in epic battles against your enemies.</p>\\n </div>\\n <div class=\"details\">\\n <img src=\"rick.jpg\" alt=\"Quests\">\\n <h3>Endless Side Quests</h3>\\n <p>Embark on numerous side quests and explore a world filled with secrets.</p>\\n </div>\\n <div class=\"details\">\\n <img src=\"rick.jpg\" alt=\"Branching storyline\">\\n <h3>Branching Storyline</h3>\\n <p>Your choices will impact the outcome of the story, creating a unique gaming experience.</p>\\n </div>\\n </div>\\n <div class=\"screenshots\">\\n <h2>Featured Screenshots</h2>\\n <img src=\"rick.jpg\" alt=\"screenshot 1\">\\n <img src=\"rick.jpg\" alt=\"screenshot 2\">\\n <img src=\"rick.jpg\" alt=\"screenshot 3\">\\n </div>\\n <div class=\"purchase\">\\n <h2>Get in the Game!</h2>\\n <p>Available now for just $29.99</p>\\n </div>\\n</body>\\n</html>',\n",
       "    'role': 'assistant'}],\n",
       "  'images': ['/mnt/lingjiejiang/multimodal_code/data/web2code_img_rick/new_data/9523.png']}]"
      ]
     },
     "execution_count": 18,
     "metadata": {},
     "output_type": "execute_result"
    }
   ],
   "source": [
    "img_data_v2[:2]"
   ]
  },
  {
   "cell_type": "code",
   "execution_count": 19,
   "metadata": {},
   "outputs": [
    {
     "data": {
      "text/plain": [
       "760271"
      ]
     },
     "execution_count": 19,
     "metadata": {},
     "output_type": "execute_result"
    }
   ],
   "source": [
    "merged_data_v2 = img_data_v2 + no_img_data_new\n",
    "len(merged_data_v2)"
   ]
  },
  {
   "cell_type": "code",
   "execution_count": 20,
   "metadata": {},
   "outputs": [],
   "source": [
    "data_path_v2 = \"/mnt/lingjiejiang/multimodal_code/data/Web2Code/Web2Code_onetrun_rick_760k_rick_prompt_v2.json\"\n",
    "with open(data_path_v2, \"w\") as f:\n",
    "    json.dump(merged_data_v2, f)"
   ]
  },
  {
   "cell_type": "code",
   "execution_count": 21,
   "metadata": {},
   "outputs": [
    {
     "data": {
      "text/plain": [
       "[{'id': '2008',\n",
       "  'messages': [{'content': '<image>\\nAfter scrutinizing the webpage screenshot provided, craft HTML code for a similar responsive layout. Present the script that reflects the spirit of the material design system.\\nIf it involves any images, use \"rick.jpg\" as the placeholder.',\n",
       "    'role': 'user'},\n",
       "   {'content': '<!DOCTYPE html>\\n<html>\\n<head>\\n <title>Artist Portfolio</title>\\n <meta charset=\"UTF-8\">\\n <meta name=\"viewport\" content=\"width=device-width, initial-scale=1.0\">\\n <style>\\n  body {\\n font-family: \\'Montserrat\\', sans-serif;\\n background-color: #858585;\\n }\\n header {\\n background-color: #ffd180;\\n color: #fff;\\n padding: 20px;\\n text-align: center;\\n }\\n #bio {\\n width: 80%;\\n margin: 0 auto;\\n padding: 20px;\\n background-color: #fff;\\n border-radius: 5px;\\n box-shadow: 0 2px 5px rgba(0,0,0,0.1);\\n }\\n #gallery {\\n display: flex;\\n flex-wrap: wrap;\\n justify-content: center;\\n }\\n .artwork {\\n width: 200px;\\n margin: 20px;\\n border-radius: 5px;\\n box-shadow: 0 2px 5px rgba(0,0,0,0.1);\\n }\\n .artwork img {\\n width: 100%;\\n border-radius: 5px 5px 0 0;\\n }\\n .artwork h3 {\\n background: #fff;\\n padding: 10px;\\n text-align: center;\\n border-radius: 0 0 5px 5px;\\n margin-top: -10px;\\n }\\n </style>\\n</head>\\n<body>\\n <header>\\n <h1>Jessica\\'s Portfolio</h1>\\n </header>\\n <div id=\"bio\">\\n <h2>About the Artist</h2>\\n <p>Jessica is a London-based artist specializing in oil paintings and digital art.</p>\\n </div>\\n <div id=\"gallery\">\\n <div class=\"artwork\">\\n <img src=\"rick.jpg\" alt=\"Oil Painting\">\\n <h3>The Awakening</h3>\\n </div>\\n <div class=\"artwork\">\\n <img src=\"rick.jpg\" alt=\"Digital Art\">\\n <h3>Space Odyssey</h3>\\n </div>\\n <div class=\"artwork\">\\n <img src=\"rick.jpg\" alt=\"Oil Painting\">\\n <h3>New Beginnings</h3>\\n </div>\\n </div>\\n</body>\\n</html>',\n",
       "    'role': 'assistant'}],\n",
       "  'images': ['/mnt/lingjiejiang/multimodal_code/data/web2code_img_rick/new_data/2008.png']},\n",
       " {'id': '9523',\n",
       "  'messages': [{'content': '<image>\\nGiven the image of a website design, can you devise the HTML to reproduce its structure? Discuss code maintaining consistency with material design.\\nIf it involves any images, use \"rick.jpg\" as the placeholder.',\n",
       "    'role': 'user'},\n",
       "   {'content': '<!DOCTYPE html>\\n<html>\\n<head>\\n <title>New Game Launch</title>\\n <link rel=\"stylesheet\" type=\"text/css\" href=\"css/styles.css\">\\n</head>\\n<body>\\n <header>\\n <h1>New Game Launch!</h1>\\n <nav>\\n <a href=\"#\">Features</a>\\n <a href=\"#\">Screenshots</a>\\n <a href=\"#\">Purchase</a>\\n </nav>\\n </header>\\n <div class=\"features\">\\n <h2>Experience the World of <span class=\"game-name\">Aurascape</span></h2>\\n <p>Discover a vast open world and immerse yourself in endless adventure.</p>\\n <div class=\"details\">\\n <img src=\"rick.jpg\" alt=\"Aurascape logo\">\\n <h3>Character Customization</h3>\\n <p>Tailor your character\\'s appearance and abilities to suit your playstyle.</p>\\n </div>\\n <div class=\"details\">\\n <img src=\"rick.jpg\" alt=\"Mech battles\">\\n <h3>Intense Mech Battles</h3>\\n <p>Utilize powerful mechs to engage in epic battles against your enemies.</p>\\n </div>\\n <div class=\"details\">\\n <img src=\"rick.jpg\" alt=\"Quests\">\\n <h3>Endless Side Quests</h3>\\n <p>Embark on numerous side quests and explore a world filled with secrets.</p>\\n </div>\\n <div class=\"details\">\\n <img src=\"rick.jpg\" alt=\"Branching storyline\">\\n <h3>Branching Storyline</h3>\\n <p>Your choices will impact the outcome of the story, creating a unique gaming experience.</p>\\n </div>\\n </div>\\n <div class=\"screenshots\">\\n <h2>Featured Screenshots</h2>\\n <img src=\"rick.jpg\" alt=\"screenshot 1\">\\n <img src=\"rick.jpg\" alt=\"screenshot 2\">\\n <img src=\"rick.jpg\" alt=\"screenshot 3\">\\n </div>\\n <div class=\"purchase\">\\n <h2>Get in the Game!</h2>\\n <p>Available now for just $29.99</p>\\n </div>\\n</body>\\n</html>',\n",
       "    'role': 'assistant'}],\n",
       "  'images': ['/mnt/lingjiejiang/multimodal_code/data/web2code_img_rick/new_data/9523.png']}]"
      ]
     },
     "execution_count": 21,
     "metadata": {},
     "output_type": "execute_result"
    }
   ],
   "source": [
    "merged_data_v2[:2]"
   ]
  },
  {
   "cell_type": "code",
   "execution_count": 3,
   "metadata": {},
   "outputs": [
    {
     "data": {
      "text/plain": [
       "669980"
      ]
     },
     "execution_count": 3,
     "metadata": {},
     "output_type": "execute_result"
    }
   ],
   "source": [
    "import json\n",
    "import random\n",
    "output_reimage_path = \"/mnt/lingjiejiang/multimodal_code/data/Web2Code/Web2Code_onetrun_new_img.json\"\n",
    "with open(output_reimage_path, \"r\") as f:\n",
    "    no_img_data_new = json.load(f)\n",
    "len(no_img_data_new)"
   ]
  },
  {
   "cell_type": "code",
   "execution_count": 4,
   "metadata": {},
   "outputs": [],
   "source": [
    "# 随机采样500,000条数据  \n",
    "sample_size = 500000  \n",
    "if len(no_img_data_new) < sample_size:  \n",
    "    print(\"The data contains fewer than 500,000 entries.\")  \n",
    "    sampled_data = no_img_data_new  # 如果数据量不足，就全部使用  \n",
    "else:  \n",
    "    sampled_data = random.sample(no_img_data_new, sample_size)  "
   ]
  },
  {
   "cell_type": "code",
   "execution_count": 5,
   "metadata": {},
   "outputs": [
    {
     "data": {
      "text/plain": [
       "3007"
      ]
     },
     "execution_count": 5,
     "metadata": {},
     "output_type": "execute_result"
    }
   ],
   "source": [
    "data_file = \"/mnt/lingjiejiang/multimodal_code/data/Web2Code/Web2Code_onetrun_img_rick_control.json\" \n",
    "# 读取 JSON 文件  \n",
    "with open(data_file, 'r') as file:  \n",
    "    img_control_data = json.load(file)  \n",
    "len(img_control_data)"
   ]
  },
  {
   "cell_type": "code",
   "execution_count": 6,
   "metadata": {},
   "outputs": [
    {
     "data": {
      "text/plain": [
       "500000"
      ]
     },
     "execution_count": 6,
     "metadata": {},
     "output_type": "execute_result"
    }
   ],
   "source": [
    "len(sampled_data)"
   ]
  },
  {
   "cell_type": "code",
   "execution_count": 7,
   "metadata": {},
   "outputs": [
    {
     "data": {
      "text/plain": [
       "503007"
      ]
     },
     "execution_count": 7,
     "metadata": {},
     "output_type": "execute_result"
    }
   ],
   "source": [
    "merged_data_v3 = sampled_data +img_control_data\n",
    "len(merged_data_v3)"
   ]
  },
  {
   "cell_type": "code",
   "execution_count": 9,
   "metadata": {},
   "outputs": [],
   "source": [
    "output_path_v3 = \"/mnt/lingjiejiang/multimodal_code/data/Web2Code/Web2Code_onetrun_rick_503k_control.json\"\n",
    "with open(output_path_v3, \"w\") as f:\n",
    "    json.dump(merged_data_v3, f)"
   ]
  },
  {
   "cell_type": "code",
   "execution_count": 2,
   "metadata": {},
   "outputs": [
    {
     "data": {
      "text/plain": [
       "[{'id': '2008',\n",
       "  'messages': [{'content': '<image>\\nAfter scrutinizing the webpage screenshot provided, craft HTML code for a similar responsive layout. Present the script that reflects the spirit of the material design system.',\n",
       "    'role': 'user'},\n",
       "   {'content': '<!DOCTYPE html>\\n<html>\\n<head>\\n <title>Artist Portfolio</title>\\n <meta charset=\"UTF-8\">\\n <meta name=\"viewport\" content=\"width=device-width, initial-scale=1.0\">\\n <style>\\n  body {\\n font-family: \\'Montserrat\\', sans-serif;\\n background-color: #858585;\\n }\\n header {\\n background-color: #ffd180;\\n color: #fff;\\n padding: 20px;\\n text-align: center;\\n }\\n #bio {\\n width: 80%;\\n margin: 0 auto;\\n padding: 20px;\\n background-color: #fff;\\n border-radius: 5px;\\n box-shadow: 0 2px 5px rgba(0,0,0,0.1);\\n }\\n #gallery {\\n display: flex;\\n flex-wrap: wrap;\\n justify-content: center;\\n }\\n .artwork {\\n width: 200px;\\n margin: 20px;\\n border-radius: 5px;\\n box-shadow: 0 2px 5px rgba(0,0,0,0.1);\\n }\\n .artwork img {\\n width: 100%;\\n border-radius: 5px 5px 0 0;\\n }\\n .artwork h3 {\\n background: #fff;\\n padding: 10px;\\n text-align: center;\\n border-radius: 0 0 5px 5px;\\n margin-top: -10px;\\n }\\n </style>\\n</head>\\n<body>\\n <header>\\n <h1>Jessica\\'s Portfolio</h1>\\n </header>\\n <div id=\"bio\">\\n <h2>About the Artist</h2>\\n <p>Jessica is a London-based artist specializing in oil paintings and digital art.</p>\\n </div>\\n <div id=\"gallery\">\\n <div class=\"artwork\">\\n <img src=\"oilpainting.jpg\" alt=\"Oil Painting\">\\n <h3>The Awakening</h3>\\n </div>\\n <div class=\"artwork\">\\n <img src=\"digitalart.jpg\" alt=\"Digital Art\">\\n <h3>Space Odyssey</h3>\\n </div>\\n <div class=\"artwork\">\\n <img src=\"oilpainting2.jpg\" alt=\"Oil Painting\">\\n <h3>New Beginnings</h3>\\n </div>\\n </div>\\n</body>\\n</html>',\n",
       "    'role': 'assistant'}],\n",
       "  'images': ['/mnt/lingjiejiang/multimodal_code/data/Web2Code/new_data/2008.png']},\n",
       " {'id': '9523',\n",
       "  'messages': [{'content': '<image>\\nGiven the image of a website design, can you devise the HTML to reproduce its structure? Discuss code maintaining consistency with material design.',\n",
       "    'role': 'user'},\n",
       "   {'content': '<!DOCTYPE html>\\n<html>\\n<head>\\n <title>New Game Launch</title>\\n <link rel=\"stylesheet\" type=\"text/css\" href=\"css/styles.css\">\\n</head>\\n<body>\\n <header>\\n <h1>New Game Launch!</h1>\\n <nav>\\n <a href=\"#\">Features</a>\\n <a href=\"#\">Screenshots</a>\\n <a href=\"#\">Purchase</a>\\n </nav>\\n </header>\\n <div class=\"features\">\\n <h2>Experience the World of <span class=\"game-name\">Aurascape</span></h2>\\n <p>Discover a vast open world and immerse yourself in endless adventure.</p>\\n <div class=\"details\">\\n <img src=\"img/logo.png\" alt=\"Aurascape logo\">\\n <h3>Character Customization</h3>\\n <p>Tailor your character\\'s appearance and abilities to suit your playstyle.</p>\\n </div>\\n <div class=\"details\">\\n <img src=\"img/mech-battle.jpg\" alt=\"Mech battles\">\\n <h3>Intense Mech Battles</h3>\\n <p>Utilize powerful mechs to engage in epic battles against your enemies.</p>\\n </div>\\n <div class=\"details\">\\n <img src=\"img/quests.jpg\" alt=\"Quests\">\\n <h3>Endless Side Quests</h3>\\n <p>Embark on numerous side quests and explore a world filled with secrets.</p>\\n </div>\\n <div class=\"details\">\\n <img src=\"img/branching-storyline.jpg\" alt=\"Branching storyline\">\\n <h3>Branching Storyline</h3>\\n <p>Your choices will impact the outcome of the story, creating a unique gaming experience.</p>\\n </div>\\n </div>\\n <div class=\"screenshots\">\\n <h2>Featured Screenshots</h2>\\n <img src=\"img/screenshot-1.jpg\" alt=\"screenshot 1\">\\n <img src=\"img/screenshot-2.jpg\" alt=\"screenshot 2\">\\n <img src=\"img/screenshot-3.jpg\" alt=\"screenshot 3\">\\n </div>\\n <div class=\"purchase\">\\n <h2>Get in the Game!</h2>\\n <p>Available now for just $29.99</p>\\n </div>\\n</body>\\n</html>',\n",
       "    'role': 'assistant'}],\n",
       "  'images': ['/mnt/lingjiejiang/multimodal_code/data/Web2Code/new_data/9523.png']}]"
      ]
     },
     "execution_count": 2,
     "metadata": {},
     "output_type": "execute_result"
    }
   ],
   "source": [
    "with open(\"with img sample\", \"w\") as f:\n",
    "    json.dump(img_data, f, indent=4)"
   ]
  }
 ],
 "metadata": {
  "kernelspec": {
   "display_name": "design",
   "language": "python",
   "name": "python3"
  },
  "language_info": {
   "codemirror_mode": {
    "name": "ipython",
    "version": 3
   },
   "file_extension": ".py",
   "mimetype": "text/x-python",
   "name": "python",
   "nbconvert_exporter": "python",
   "pygments_lexer": "ipython3",
   "version": "3.10.16"
  }
 },
 "nbformat": 4,
 "nbformat_minor": 2
}
