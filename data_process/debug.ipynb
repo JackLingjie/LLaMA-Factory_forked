{
 "cells": [
  {
   "cell_type": "code",
   "execution_count": 1,
   "metadata": {},
   "outputs": [],
   "source": [
    "import json\n",
    "datikz_path = \"/mnt/lingjiejiang/multimodal_code/data/cambrian_code_data/datikz_48k.json\"\n",
    "with open(datikz_path, 'r') as f:\n",
    "    datikz = json.load(f)\n",
    "llava_code_data_path = \"/mnt/lingjiejiang/multimodal_code/data/llava_code_data/llava_mid_satge_stage2_merged_code_16k.json\"\n",
    "with open(llava_code_data_path, 'r') as f:\n",
    "    llava_code_data = json.load(f)"
   ]
  },
  {
   "cell_type": "code",
   "execution_count": 3,
   "metadata": {},
   "outputs": [
    {
     "data": {
      "text/plain": [
       "807249"
      ]
     },
     "execution_count": 3,
     "metadata": {},
     "output_type": "execute_result"
    }
   ],
   "source": [
    "import json\n",
    "import os\n",
    "# 输出路径模板\n",
    "output_dir = \"/mnt/lingjiejiang/multimodal_code/data/Web2Code\"\n",
    "# os.makedirs(output_dir, exist_ok=True)\n",
    "splits = range(1, 7)\n",
    "# 保存每一份数据到文件\n",
    "all_data = []\n",
    "for i, split in enumerate(splits):\n",
    "    output_file = os.path.join(output_dir, f\"Web2Code_split_{i + 1}.json\")\n",
    "    with open(output_file, 'r') as f:\n",
    "        data = json.load(f)\n",
    "        all_data.extend(data)\n",
    "len(all_data)"
   ]
  }
 ],
 "metadata": {
  "kernelspec": {
   "display_name": "design",
   "language": "python",
   "name": "python3"
  },
  "language_info": {
   "codemirror_mode": {
    "name": "ipython",
    "version": 3
   },
   "file_extension": ".py",
   "mimetype": "text/x-python",
   "name": "python",
   "nbconvert_exporter": "python",
   "pygments_lexer": "ipython3",
   "version": "3.10.16"
  }
 },
 "nbformat": 4,
 "nbformat_minor": 2
}
