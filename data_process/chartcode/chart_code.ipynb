{
 "cells": [
  {
   "cell_type": "code",
   "execution_count": 1,
   "metadata": {},
   "outputs": [
    {
     "name": "stderr",
     "output_type": "stream",
     "text": [
      "/home/v-lingjiang/miniconda3/envs/design/lib/python3.10/site-packages/tqdm/auto.py:21: TqdmWarning: IProgress not found. Please update jupyter and ipywidgets. See https://ipywidgets.readthedocs.io/en/stable/user_install.html\n",
      "  from .autonotebook import tqdm as notebook_tqdm\n",
      "Downloading readme: 100%|██████████| 5.91k/5.91k [00:00<00:00, 14.4MB/s]\n",
      "Downloading data: 100%|██████████| 52.1M/52.1M [00:02<00:00, 25.5MB/s]\n",
      "Downloading data: 100%|██████████| 53.1M/53.1M [00:01<00:00, 29.3MB/s]\n",
      "Downloading data: 100%|██████████| 55.0M/55.0M [00:02<00:00, 24.0MB/s]\n",
      "Downloading data: 100%|██████████| 55.4M/55.4M [00:01<00:00, 35.3MB/s]\n",
      "Downloading data: 100%|██████████| 53.0M/53.0M [00:01<00:00, 29.2MB/s]\n",
      "Downloading data: 100%|██████████| 54.6M/54.6M [00:02<00:00, 27.0MB/s]\n",
      "Downloading data: 100%|██████████| 52.9M/52.9M [00:01<00:00, 27.2MB/s]\n",
      "Downloading data: 100%|██████████| 56.5M/56.5M [00:01<00:00, 32.3MB/s]\n",
      "Downloading data: 100%|██████████| 55.8M/55.8M [00:01<00:00, 32.9MB/s]\n",
      "Downloading data: 100%|██████████| 83.4M/83.4M [00:02<00:00, 27.9MB/s]\n",
      "Generating train split: 100%|██████████| 19963/19963 [00:04<00:00, 4362.56 examples/s]\n",
      "Generating test split: 100%|██████████| 2000/2000 [00:00<00:00, 4261.73 examples/s]\n"
     ]
    },
    {
     "name": "stdout",
     "output_type": "stream",
     "text": [
      "DatasetDict({\n",
      "    train: Dataset({\n",
      "        features: ['image', 'chart_type', 'qa_type', 'question', 'answer'],\n",
      "        num_rows: 19963\n",
      "    })\n",
      "    test: Dataset({\n",
      "        features: ['image', 'chart_type', 'qa_type', 'question', 'answer'],\n",
      "        num_rows: 2000\n",
      "    })\n",
      "})\n"
     ]
    }
   ],
   "source": [
    "from datasets import load_dataset\n",
    "\n",
    "# Load the data from Internet\n",
    "squad = load_dataset('hewei2001/ReachQA')\n",
    "\n",
    "print(squad)\n"
   ]
  }
 ],
 "metadata": {
  "kernelspec": {
   "display_name": "design",
   "language": "python",
   "name": "python3"
  },
  "language_info": {
   "codemirror_mode": {
    "name": "ipython",
    "version": 3
   },
   "file_extension": ".py",
   "mimetype": "text/x-python",
   "name": "python",
   "nbconvert_exporter": "python",
   "pygments_lexer": "ipython3",
   "version": "3.10.16"
  }
 },
 "nbformat": 4,
 "nbformat_minor": 2
}
