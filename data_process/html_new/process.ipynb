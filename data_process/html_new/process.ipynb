{
 "cells": [
  {
   "cell_type": "code",
   "execution_count": 3,
   "metadata": {},
   "outputs": [
    {
     "data": {
      "text/plain": [
       "25999"
      ]
     },
     "execution_count": 3,
     "metadata": {},
     "output_type": "execute_result"
    }
   ],
   "source": [
    "import json\n",
    "html_data = \"/mnt/unilm/shaohanh/data/code/purehtml_v2.txt\"\n",
    "with open(html_data, \"r\") as f:\n",
    "    lines = f.readlines()\n",
    "    data = [json.loads(line) for line in lines]\n",
    "    # data = json.load(f)\n",
    "len(data)"
   ]
  },
  {
   "cell_type": "code",
   "execution_count": 4,
   "metadata": {},
   "outputs": [
    {
     "data": {
      "text/plain": [
       "[{'max_stars_repo_path': '02.3 CSS layout/css overflow.html',\n",
       "  'max_stars_repo_name': 'cristinabotez/Cris-projects',\n",
       "  'max_stars_count': 0,\n",
       "  'id': '2977648',\n",
       "  'text': '<!DOCTYPE html>\\n<html lang=\"en\">\\n<head>\\n    <meta charset=\"UTF-8\">\\n    <title>overflow</title>\\n    <style>\\n        div{\\n            width: 300px;\\n            height: 300px;\\n            float: left;\\n        }\\n\\n        .overflow-hidden{\\n            overflow: hidden;\\n        }\\n        .overflow-auto{\\n            overflow: auto;\\n        }\\n\\n        .overflow-scroll{\\n            overflow: scroll;\\n        }\\n        .overflow-visible{\\n            overflow: visible;\\n        }\\n    </style>\\n</head>\\n<body>\\n<div class=\"overflow-auto\">\\n    <p>Lorem ipsum dolor sit amet, </p>\\n    </div>\\n\\n<div class=\"overflow-hidden\">\\n    <img src=\"review-ninja-250.png\">\\n<p>Lorem ipsum dolor sit amet, consectetur adipisicing elit. Accusantium assumenda, commodi esse fugiat fugit impedit obcaecati quas rerum sequi tenetur. Atque dolores eum ipsa labore minus modi obcaecati officiis rem.</p>\\n    </div>\\n<div class=\"overflow-scroll\">\\n    <img src=\"review-ninja-250.png\">\\n<p>Lorem ipsum dolor sit amet, consectetur adipisicing elit. Accusantium assumenda, commodi esse fugiat fugit impedit obcaecati quas rerum sequi tenetur. Atque dolores eum ipsa labore minus modi obcaecati officiis rem.</p>\\n    </div>\\n\\n<div class=\"overflow-visible\">\\n    <img src=\"review-ninja-250.png\">\\n<p>Lorem ipsum dolor sit amet, consectetur adipisicing elit. Accusantium assumenda, commodi esse fugiat fugit impedit obcaecati quas rerum sequi tenetur. Atque dolores eum ipsa labore minus modi obcaecati officiis rem.</p>\\n    </div>\\n</body>\\n</html>\\n',\n",
       "  'lang': 'html'},\n",
       " {'max_stars_repo_path': 'student/13/1.html',\n",
       "  'max_stars_repo_name': 'LAB-Remote/LAB-Remote.github.io',\n",
       "  'max_stars_count': 2,\n",
       "  'id': '2977670',\n",
       "  'text': '<!DOCTYPE html>\\r\\n<html>\\r\\n\\r\\n<head>\\r\\n\\t<meta charset=\"utf-8\"/>\\r\\n\\t<title>圣诞快乐</title>\\r\\n\\t<style>\\r\\n\\tbody{\\r\\n\\tbackground-color: #FFDEAD;\\r\\n\\tborder: 3px solid #FFDEAD;\\r\\n\\tmargin: 5%;\\r\\n\\tfont-family: \\'Microsoft YaHei\\';\\r\\n\\tfont-size: 100%;\\r\\n\\t}\\r\\n\\t#h1{\\r\\n\\tcolor: red;\\r\\n\\t}\\r\\n\\tp{\\r\\n\\tfont-size:200%;\\r\\n\\t}\\r\\n\\r\\n\\t</style>\\r\\n</head>\\r\\n\\r\\n<body >\\r\\n\\t<h1 id=\"h1\" style=\"text-align: center;\" >圣诞快乐</h1>\\r\\n\\r\\n\\t<img  style=\"margin-left:auto; margin-right:auto; display: block;\" width=\"50%\" src=\"动态.GIF\" alt=\"无法显示\"/>\\r\\n\\t<h2><u><i>圣诞节的来由</i></u></h2>\\r\\n\\t<p>圣诞节（Christmas）又称耶诞节，耶稣诞辰，译名为“基督弥撒”，西方传统节日，在每年12月25日。 弥撒是 教会的一种 礼拜仪式。圣诞节是一个宗教节，因为把它当作 耶稣的 诞辰来庆祝，故名“耶诞节”。\\r\\n每年的12月25日，是西方人庆祝耶稣（Jesus Christ）诞辰的日子。Christmas这个词是“Christ’s mass”的缩写，来源于古英语，是“庆祝基督”的意思。关于耶稣的诞辰还有这样一个故事。据《圣经》记载，玛丽娅和木匠约瑟夫订了婚。可是，在他们同居之前，约瑟夫发现玛丽娅已怀孕。因为约瑟夫是个正派的人，又不想把这件事说出去让她丢脸，所以他想悄悄地和她分手。他正在考虑这事时，上帝的派遣使者出现在他的梦中，对他说，“不要犹豫了，把玛丽娅娶回家。她怀的孩子来自圣灵。她将生下个男孩子，你们给孩子起名叫耶稣，因为他将从罪恶中拯救人们。”\\r\\n\\r\\n耶稣出生的具体日期并没有记载，相传是4世纪初罗马帝国西部教会指定的这个日期，有学者认为之所以选在12月25日是因为这一天正好是罗马帝国的冬至节，这一天是全年黑夜最长的一天，而从这一天起日照时间就会越来越长。同时12月25日原来是波斯太阳神（即光明之神）密特拉的诞辰，太阳神也是罗马国教众神之一，而据旧约记载耶稣也一直都被看作是太阳之神。由于圣经记载耶稣生于夜间，故传统称12月24日夜为“圣诞夜”或“平安夜”。虽然从宗教的角度来说圣诞节是基督教的节日，但是现在全世界人民都会用自己的方式庆祝这个盛大的节日。</p>\\r\\n<video style=\"margin-left:auto; margin-right:auto; display: block;\" src=\"视频.mp4\"  height=\"80%\" width=\"80%\" controls></video>\\r\\n<!--视频来源：优酷视频-->\\r\\n<h2>快乐的圣诞节</h2>\\r\\n<p>12月24日,全世界的基督教徒开始过圣诞节。圣诞节虽是宗教节日,但它从一开始就与世俗生活密切相关,是西方国家传统的民间盛大节日,可以和我国的春节相提并论,其纪念和庆祝活动十分隆重、热烈。</p>\\r\\n<p>12月25日的圣诞节,原来是基督徒为纪念耶稣诞辰而设立的。后来西方国家的人们把这一节日看作是家庭团聚、赠送礼品的节日。这一天,机关、学校放假,各行停业,共庆节日。人们在室内摆放圣诞树,树上挂满彩色灯泡、光闪闪的金银纸片以及剪纸雪花,象征吉祥如意,生命永恒。24日的晚上,一家人在圣诞树周围团坐,互赠礼品,共进圣诞晚餐。午夜,孩子们把鞋袜口朝上吊在壁炉旁,期待圣诞老人送来礼品。25日圣诞节这天,各教..... \\t会都会举行圣诞弥撒仪式,举办大型音乐会,颂唱圣诞诗、演出圣诞剧。</p>\\r\\n<p>我国改革开放以来,中西方交流日益密切。我国人民不仅对西方风俗有了更多的了解,不少年轻人也开始凑圣诞节热闹了。我们中国小朋友最感兴趣的可能要算圣诞树和圣诞老人的传说了。 </p>\\r\\n<p>过圣诞节用圣诞树的风俗来自德国。原始时期的德国人崇拜常青树。他们认为:这些树\\r\\n不死也不落叶,象征着生命永存。后来,基督徒把这种树的崇拜转变成一种对基督表示尊敬的风俗。孩子们喜欢圣诞树,当然是因为树上挂满了小天使、小动物、小房子等工艺品以及五颜六色的糖果等礼物。 </p>\\r\\n<p>圣诞老人是节日里最受孩子们欢迎的人了。传说,每到圣诞之夜,一个身穿红袍、头戴红帽,留长白胡须的慈祥老人,乘着一辆八头鹿拉的雪橇,从烟囱里来到每家每户,给孩子们送礼物。所以,圣诞之夜,孩子们总要在临睡前把袜子吊在壁炉边,等待圣诞老人送来贺礼,其实礼物都是大人们悄悄放的。</p>\\r\\n<p>“Happynewyeartoyou!”在圣诞节里互祝新年快乐,这是因为12月25日是罗马历书中的冬至节,北半球从这一天开始白昼变长,黑夜变短,被人们看成春的希望,万物复苏的开始。 </p>\\r\\n<hr>\\r\\n\\t<img  style=\"margin-left:auto; margin-right:auto; display: block;\" width=\"50%\" src=\"比赛.gif\" alt=\"无法显示\"/>\\r\\n\\t<div style=\"text-align: center;\">\\r\\n\\t<i>\\r\\n\\t<p>  May the Christmas candle bring you peace and happiness.</p>\\r\\n\\t<p>\\u3000愿圣诞之夜的烛光，带给你温馨和芬芳。</p>\\r\\n\\t<p>\\u3000With music,candle and bell may peace and happiness be with you.</p><p>\\u3000乐声环绕，烛光闪烁，钟声飘向远方，让幸福、安康、快乐，降临到你和家人的旁边。</p>\\r\\n\\u3000\\t<p>\\u3000Best wishes at Christma.I miss you.</p>\\r\\n\\u3000\\t<p>\\u3000圣诞的祝福，真诚的思念。</p>\\r\\n\\u3000\\t<p>\\u3000Mountains and rivers cannot separate us.Maerry Christmas.</p>\\r\\n\\t<p>\\u3000远隔千山万水，也隔不断我对你的思念。祝你圣诞快乐。</p>\\r\\n\\u3000\\t<p>\\u3000May peace and happiness be your every moment of the Christmas tide.</p>\\r\\n\\t<p>  在这特别的日子里，愿这小小的圣诞贺卡，带去我对你特别的思念 </p>\\r\\n\\t</i>\\r\\n\\t</div>\\r\\n\\t</P>\\r\\n</body>\\r\\n\\r\\n</html>',\n",
       "  'lang': 'html'}]"
      ]
     },
     "execution_count": 4,
     "metadata": {},
     "output_type": "execute_result"
    }
   ],
   "source": [
    "data[:2]"
   ]
  }
 ],
 "metadata": {
  "kernelspec": {
   "display_name": "design",
   "language": "python",
   "name": "python3"
  },
  "language_info": {
   "codemirror_mode": {
    "name": "ipython",
    "version": 3
   },
   "file_extension": ".py",
   "mimetype": "text/x-python",
   "name": "python",
   "nbconvert_exporter": "python",
   "pygments_lexer": "ipython3",
   "version": "3.10.16"
  }
 },
 "nbformat": 4,
 "nbformat_minor": 2
}
