{
 "cells": [
  {
   "cell_type": "code",
   "execution_count": 1,
   "metadata": {},
   "outputs": [
    {
     "name": "stdout",
     "output_type": "stream",
     "text": [
      "len(datikz): 47974, len(llava_code_data): 16584, len(web2code_pretrain_data): 50000\n"
     ]
    }
   ],
   "source": [
    "import json\n",
    "datikz_path = \"/mnt/lingjiejiang/multimodal_code/data/cambrian_code_data/datikz_48k.json\"\n",
    "with open(datikz_path, 'r') as f:\n",
    "    datikz = json.load(f)\n",
    "llava_code_data_path = \"/mnt/lingjiejiang/multimodal_code/data/llava_code_data/llava_mid_satge_stage2_merged_code_16k.json\"\n",
    "with open(llava_code_data_path, 'r') as f:\n",
    "    llava_code_data = json.load(f)\n",
    "web2code_pretrain = \"/mnt/lingjiejiang/multimodal_code/data/Web2Code/Web2Code_sharegpt_format_abspath_filter_pretrain_50k.json\"\n",
    "with open(web2code_pretrain, 'r') as f:\n",
    "    web2code_pretrain_data = json.load(f)\n",
    "print(f\"len(datikz): {len(datikz)}, len(llava_code_data): {len(llava_code_data)}, len(web2code_pretrain_data): {len(web2code_pretrain_data)}\")"
   ]
  },
  {
   "cell_type": "code",
   "execution_count": 18,
   "metadata": {},
   "outputs": [
    {
     "name": "stdout",
     "output_type": "stream",
     "text": [
      "Total data length: 827731\n",
      "Sampled data saved successfully.\n"
     ]
    }
   ],
   "source": [
    "import json  \n",
    "import random  \n",
    "  \n",
    "# 输入文件路径  \n",
    "input_file = \"/mnt/lingjiejiang/multimodal_code/data/Web2Code/Web2Code_sharegpt_format_abspath_filter.json\"  \n",
    "# 输出文件路径  \n",
    "output_file = \"/mnt/lingjiejiang/multimodal_code/data/Web2Code/Web2Code_sharegpt_format_abspath_filter_pretrain_100k.json\"  \n",
    "  \n",
    "# 打开并加载原始数据  \n",
    "with open(input_file, 'r') as f:  \n",
    "    web2code_all_data = json.load(f)  \n",
    "  \n",
    "# 获取数据总长度  \n",
    "total_length = len(web2code_all_data)  \n",
    "print(f\"Total data length: {total_length}\")  \n",
    "  \n",
    "# 检查数据长度是否足够  \n",
    "if total_length < 100000:  \n",
    "    raise ValueError(\"The dataset contains fewer than 100,000 entries. Sampling is not possible.\")  \n",
    "  \n",
    "# 随机采样100,000条数据  \n",
    "sampled_data = random.sample(web2code_all_data, 100000)  \n",
    "  \n",
    "# 将采样的数据存储到新文件中  \n",
    "with open(output_file, 'w') as f:  \n",
    "    json.dump(sampled_data, f, indent=0)  \n",
    "  \n",
    "print(\"Sampled data saved successfully.\")  "
   ]
  },
  {
   "cell_type": "code",
   "execution_count": 2,
   "metadata": {},
   "outputs": [],
   "source": [
    "import json  \n",
    "import random  \n",
    "  \n",
    "# 输入文件路径  \n",
    "input_file = \"/mnt/lingjiejiang/multimodal_code/data/Web2Code/Web2Code_sharegpt_format_abspath_filter.json\"  \n",
    "\n",
    "# 打开并加载原始数据  \n",
    "with open(input_file, 'r') as f:  \n",
    "    web2code_all_data = json.load(f) "
   ]
  },
  {
   "cell_type": "code",
   "execution_count": 4,
   "metadata": {},
   "outputs": [],
   "source": [
    "web2code_all_data_50 = web2code_all_data[:50]\n",
    "with open(\"web2code_sample_50.json\", 'w') as f:\n",
    "    json.dump(web2code_all_data_50, f, indent=0)"
   ]
  },
  {
   "cell_type": "code",
   "execution_count": 2,
   "metadata": {},
   "outputs": [
    {
     "data": {
      "text/plain": [
       "[{'id': 'datikz_1',\n",
       "  'source': 'idefics375k.json',\n",
       "  'messages': [{'content': '<image>\\nTransform this figure into its TikZ equivalent.',\n",
       "    'role': 'user'},\n",
       "   {'content': '\\\\documentclass[10pt,twosided,a4paper,draft,onecolumn]{article}\\n\\\\usepackage{tikz}\\n\\\\usetikzlibrary{matrix,arrows,decorations.pathmorphing}\\n\\\\usepackage{graphicx,color}\\n\\\\usepackage{amsmath,amsfonts,amssymb,mathrsfs,wasysym,stackrel,amsthm}\\n\\n\\\\begin{document}\\n\\n\\\\begin{tikzpicture}[>=latex]\\n \\\\tikzstyle{every node} = [circle,fill=gray]\\n \\\\node (a) at (2.5,2) {$x_u$};\\n \\\\node (b) at (0,0) {$y_u^1$};\\n \\\\node (c) at (5,0) {$y_u^{r_1}$};\\n%\\n \\\\node (d) at (-1.5,-1.5) {$z_u^{1,1}(0)$};\\n \\\\node (e) at (1.5,-1.5) {$z_u^{1,r_2}(0)$};\\n \\\\node (f) at (3.5,-1.5) {$z_u^{r_1,1}(0)$};\\n \\\\node (g) at (6.5,-1.5) {$z_u^{r_1,r_2}(0)$};\\n%%\\n \\\\draw [->] (a) -- (b) node[pos=.5,sloped,above,fill=white] {$\\\\phi_1$};;\\n \\\\draw [->]  (a) -- (c)node[pos=.5,sloped,above,fill=white] {$\\\\phi_{r_1}$};;\\n \\\\draw [->] (b) -- (d);\\n \\\\draw [->] (b) -- (e);\\n \\\\draw [->] (c) -- (f);\\n \\\\draw [->] (c) -- (g);\\n \\\\fill[black] (1,0) circle (0.3ex);\\n \\\\fill[black] (2,0) circle (0.3ex);\\n \\\\fill[black] (3,0) circle (0.3ex);\\n \\\\fill[black] (4,0) circle (0.3ex);\\n \\\\fill[black] (-0.5,-1.5) circle (0.3ex);\\n \\\\fill[black] (0.5,-1.5) circle (0.3ex);\\n \\\\fill[black] (4.5,-1.5) circle (0.3ex);\\n \\\\fill[black] (5.5,-1.5) circle (0.3ex);\\n \\\\fill[black] (2.5,-1.5) circle (0.3ex);\\n\\\\end{tikzpicture}\\n\\n\\\\end{document}',\n",
       "    'role': 'assistant'}],\n",
       "  'images': ['/mnt/lingjiejiang/multimodal_code/data/Cambrian-10M/hfdata/datikz/1.jpg']},\n",
       " {'id': 'datikz_2',\n",
       "  'source': 'idefics375k.json',\n",
       "  'messages': [{'content': '<image>\\nDevelop TikZ code that mirrors this figure.',\n",
       "    'role': 'user'},\n",
       "   {'content': '\\\\documentclass[11pt, oneside]{amsart}\\n\\\\usepackage{amsmath}\\n\\\\usepackage{amssymb}\\n\\\\usepackage{color}\\n\\\\usepackage{tikz}\\n\\n\\\\begin{document}\\n\\n\\\\begin{tikzpicture}[scale=0.8]\\n \\\\draw [ultra thick] (2,2) -- (9,2);\\n \\\\draw [ultra thick] (2,4) -- (9,4);\\n \\\\draw [ultra thick]  (10.5,3) circle [radius=1.8];\\n \\\\draw [->, ultra thick, cyan] (9,2) to [out=298, in=180] (10.5,1) to  [out=0, in=270] (12.6,3);\\n \\\\draw [ultra thick, cyan](12.6,3) to [out=90, in=0] (10.5,5) to [out=180, in=62] (9,4);\\n \\\\draw [dashed, thick] (2,3) -- (10.5,3);\\n \\\\draw [ultra thick] (12,2.18) -- (12,2) -- (12.18,2);\\n \\\\node[right] at (10.5,3) {$K$};\\n \\\\node[left] at (2,2) {$F_-$};\\n  \\\\node[left] at (2,3) {$F$};\\n   \\\\node[left] at (2,4) {$F_+$};\\n   \\\\node[above left] at (9,4) {$P_+$};\\n   \\\\node[below left] at (9,2) {$P_-$};\\n   \\\\node[cyan] at (13, 3) {$C$};\\n   \\\\node [below left] at (12,2.3) {$Z$};\\n \\\\draw [fill=black] (10.5,3) circle [radius=0.1];\\n \\\\draw [fill=black] (9,2) circle [radius=0.1];\\n \\\\draw [fill=black] (9,4) circle [radius=0.1]; \\n\\\\end{tikzpicture}\\n\\n\\\\end{document}',\n",
       "    'role': 'assistant'}],\n",
       "  'images': ['/mnt/lingjiejiang/multimodal_code/data/Cambrian-10M/hfdata/datikz/2.jpg']}]"
      ]
     },
     "execution_count": 2,
     "metadata": {},
     "output_type": "execute_result"
    }
   ],
   "source": [
    "datikz[:2]"
   ]
  },
  {
   "cell_type": "code",
   "execution_count": 3,
   "metadata": {},
   "outputs": [
    {
     "data": {
      "text/plain": [
       "0"
      ]
     },
     "execution_count": 3,
     "metadata": {},
     "output_type": "execute_result"
    }
   ],
   "source": [
    "\n",
    "  \n",
    "import json  \n",
    "  \n",
    "# 加载 JSON 数据  \n",
    "llava_code_data_path = \"/mnt/lingjiejiang/multimodal_code/data/llava_code_data/llava_mid_satge_stage2_merged_code_16k.json\"  \n",
    "with open(llava_code_data_path, 'r') as f:  \n",
    "    llava_code_data = json.load(f)  \n",
    "  \n",
    "# 初始化列表以存储 `<image>` 总数不为 1 的项目  \n",
    "invalid_image_count_items = []  \n",
    "valid_image_count_items = []\n",
    "# 遍历每个项目  \n",
    "for item in llava_code_data:  \n",
    "    # 计算 `<image>` 出现的次数  \n",
    "    image_count = sum(message['content'].count('<image>') for message in item['messages'])  \n",
    "      \n",
    "    # 如果 `<image>` 出现次数不为 1，则将该项目添加到列表中  \n",
    "    if image_count != 1:  \n",
    "        invalid_image_count_items.append(item)  \n",
    "    elif image_count == 1:\n",
    "        valid_image_count_items.append(item)\n",
    "  \n",
    "# 输出不符合条件的项目  \n",
    "# print(f\"Number of items with invalid <image> count: {len(invalid_image_count_items)}\")  \n",
    "# for invalid_item in invalid_image_count_items:  \n",
    "#     print(invalid_item)  \n",
    "len(invalid_image_count_items)\n",
    "# with open(llava_code_data_path, 'w') as f:  \n",
    "#     json.dump(valid_image_count_items, f, indent=0)"
   ]
  },
  {
   "cell_type": "markdown",
   "metadata": {},
   "source": [
    "### code data v2"
   ]
  },
  {
   "cell_type": "code",
   "execution_count": 11,
   "metadata": {},
   "outputs": [],
   "source": [
    "def deduplicate(data):  \n",
    "    # 用于存储去重后的数据  \n",
    "    unique_data = []  \n",
    "    seen_combined_contents = set()  \n",
    "      \n",
    "    # 遍历数据集  \n",
    "    for entry in data:  \n",
    "        # 假设每个 entry 的 messages 列表有两个字典  \n",
    "        if len(entry['messages']) == 2:  \n",
    "            content1 = entry['messages'][0].get('content', '')  \n",
    "            content2 = entry['messages'][1].get('content', '')  \n",
    "            combined_content = f\"{content1} {content2}\"  \n",
    "              \n",
    "            # 如果拼接的内容未出现过，则添加到 unique_data  \n",
    "            if combined_content not in seen_combined_contents:  \n",
    "                seen_combined_contents.add(combined_content)  \n",
    "                unique_data.append(entry)  \n",
    "    return unique_data"
   ]
  },
  {
   "cell_type": "code",
   "execution_count": 13,
   "metadata": {},
   "outputs": [
    {
     "data": {
      "text/plain": [
       "(65359, 62391)"
      ]
     },
     "execution_count": 13,
     "metadata": {},
     "output_type": "execute_result"
    }
   ],
   "source": [
    "\n",
    "code_data_mix_v2 = llava_code_data + web2code_pretrain_data\n",
    "one_trun_data = []\n",
    "for item in code_data_mix_v2:\n",
    "    if len(item['messages']) == 2:\n",
    "        one_trun_data.append(item)\n",
    "data_mix_data_depulicated = deduplicate(one_trun_data)\n",
    "len(one_trun_data), len(data_mix_data_depulicated)"
   ]
  },
  {
   "cell_type": "code",
   "execution_count": 14,
   "metadata": {},
   "outputs": [],
   "source": [
    "code_mix_data_path = \"/mnt/lingjiejiang/multimodal_code/data/mixed_data/llava_code16k_web2code50k_depulicated_oneturn_62k.json\"\n",
    "with open(code_mix_data_path, 'w') as f:\n",
    "    json.dump(data_mix_data_depulicated, f, indent=0)"
   ]
  },
  {
   "cell_type": "code",
   "execution_count": 15,
   "metadata": {},
   "outputs": [
    {
     "data": {
      "text/plain": [
       "62391"
      ]
     },
     "execution_count": 15,
     "metadata": {},
     "output_type": "execute_result"
    }
   ],
   "source": [
    "with open(code_mix_data_path, 'r') as f:\n",
    "    code_mix_data = json.load(f)\n",
    "len(code_mix_data)"
   ]
  },
  {
   "cell_type": "code",
   "execution_count": null,
   "metadata": {},
   "outputs": [
    {
     "data": {
      "text/plain": [
       "66584"
      ]
     },
     "execution_count": 9,
     "metadata": {},
     "output_type": "execute_result"
    }
   ],
   "source": [
    "invalid_image_count_items = []  \n",
    "valid_image_count_items = []\n",
    "for item in code_data_mix_v2:  \n",
    "    # 计算 `<image>` 出现的次数  \n",
    "    image_count = sum(message['content'].count('<image>') for message in item['messages'])  \n",
    "      \n",
    "    # 如果 `<image>` 出现次数不为 1，则将该项目添加到列表中  \n",
    "    if image_count != 1:  \n",
    "        invalid_image_count_items.append(item)  \n",
    "    elif image_count == 1:\n",
    "        valid_image_count_items.append(item)\n",
    "len(valid_image_count_items)"
   ]
  },
  {
   "cell_type": "code",
   "execution_count": 6,
   "metadata": {},
   "outputs": [
    {
     "data": {
      "text/plain": [
       "66584"
      ]
     },
     "execution_count": 6,
     "metadata": {},
     "output_type": "execute_result"
    }
   ],
   "source": [
    "len(code_data_mix_v2)"
   ]
  },
  {
   "cell_type": "code",
   "execution_count": 4,
   "metadata": {},
   "outputs": [
    {
     "data": {
      "text/plain": [
       "16584"
      ]
     },
     "execution_count": 4,
     "metadata": {},
     "output_type": "execute_result"
    }
   ],
   "source": [
    "len(valid_image_count_items)"
   ]
  },
  {
   "cell_type": "markdown",
   "metadata": {},
   "source": [
    "### data mix v3"
   ]
  },
  {
   "cell_type": "code",
   "execution_count": 19,
   "metadata": {},
   "outputs": [
    {
     "name": "stdout",
     "output_type": "stream",
     "text": [
      "len(datikz): 47974, len(llava_code_data): 16584, len(web2code_pretrain_data): 100000\n"
     ]
    }
   ],
   "source": [
    "import json\n",
    "datikz_path = \"/mnt/lingjiejiang/multimodal_code/data/cambrian_code_data/datikz_48k.json\"\n",
    "with open(datikz_path, 'r') as f:\n",
    "    datikz = json.load(f)\n",
    "llava_code_data_path = \"/mnt/lingjiejiang/multimodal_code/data/llava_code_data/llava_mid_satge_stage2_merged_code_16k.json\"\n",
    "with open(llava_code_data_path, 'r') as f:\n",
    "    llava_code_data = json.load(f)\n",
    "web2code_pretrain = \"/mnt/lingjiejiang/multimodal_code/data/Web2Code/Web2Code_sharegpt_format_abspath_filter_pretrain_100k.json\"\n",
    "with open(web2code_pretrain, 'r') as f:\n",
    "    web2code_pretrain_data = json.load(f)\n",
    "print(f\"len(datikz): {len(datikz)}, len(llava_code_data): {len(llava_code_data)}, len(web2code_pretrain_data): {len(web2code_pretrain_data)}\")"
   ]
  },
  {
   "cell_type": "code",
   "execution_count": 20,
   "metadata": {},
   "outputs": [
    {
     "data": {
      "text/plain": [
       "(114111, 111143)"
      ]
     },
     "execution_count": 20,
     "metadata": {},
     "output_type": "execute_result"
    }
   ],
   "source": [
    "def deduplicate(data):  \n",
    "    # 用于存储去重后的数据  \n",
    "    unique_data = []  \n",
    "    seen_combined_contents = set()  \n",
    "      \n",
    "    # 遍历数据集  \n",
    "    for entry in data:  \n",
    "        # 假设每个 entry 的 messages 列表有两个字典  \n",
    "        if len(entry['messages']) == 2:  \n",
    "            content1 = entry['messages'][0].get('content', '')  \n",
    "            content2 = entry['messages'][1].get('content', '')  \n",
    "            combined_content = f\"{content1} {content2}\"  \n",
    "              \n",
    "            # 如果拼接的内容未出现过，则添加到 unique_data  \n",
    "            if combined_content not in seen_combined_contents:  \n",
    "                seen_combined_contents.add(combined_content)  \n",
    "                unique_data.append(entry)  \n",
    "    return unique_data\n",
    "\n",
    "mix_data_v3 = llava_code_data + web2code_pretrain_data\n",
    "one_trun_data = []\n",
    "for item in mix_data_v3:\n",
    "    if len(item['messages']) == 2:\n",
    "        one_trun_data.append(item)\n",
    "data_mix_data_depulicated = deduplicate(one_trun_data)\n",
    "len(one_trun_data), len(data_mix_data_depulicated)"
   ]
  },
  {
   "cell_type": "code",
   "execution_count": 21,
   "metadata": {},
   "outputs": [],
   "source": [
    "code_mix_data_path = \"/mnt/lingjiejiang/multimodal_code/data/mixed_data/llava_code16k_web2code100k_depulicated_oneturn_111k.json\"\n",
    "with open(code_mix_data_path, 'w') as f:\n",
    "    json.dump(data_mix_data_depulicated, f, indent=0)"
   ]
  },
  {
   "cell_type": "code",
   "execution_count": 16,
   "metadata": {},
   "outputs": [],
   "source": [
    "import json  \n",
    "  \n",
    "# 加载 JSON 数据  \n",
    "llava_code_data_path = \"/mnt/lingjiejiang/multimodal_code/data/llava_code_data/llava_mid_satge_stage2_merged_code_16k.json\"  \n",
    "with open(llava_code_data_path, 'r') as f:  \n",
    "    llava_code_data = json.load(f)  \n",
    "  \n",
    "# 遍历每个项目  \n",
    "for item in llava_code_data:  \n",
    "    # 计算 `<image>` 出现的次数  \n",
    "    image_count = sum(message['content'].count('<image>') for message in item['messages'])  \n",
    "      \n",
    "    # 如果 `<image>` 不存在，则修改 `role` 为 `user` 的 `content`  \n",
    "    if image_count == 0:  \n",
    "        for message in item['messages']:  \n",
    "            if message['role'] == 'user':  \n",
    "                message['content'] = '<image>\\n' + message['content']  \n",
    "  \n",
    "# 如果需要保存修改后的数据，可以将其写回文件  \n",
    "# with open(llava_code_data_path, 'w') as f:  \n",
    "#     json.dump(llava_code_data, f, indent=4)  \n",
    "  \n",
    "# 输出示例以验证更改  \n",
    "# print(\"Modified items:\")  \n",
    "# for item in llava_code_data:  \n",
    "#     print(item)  \n",
    "with open(llava_code_data_path, 'w') as f:  \n",
    "    json.dump(llava_code_data, f, indent=0)"
   ]
  },
  {
   "cell_type": "code",
   "execution_count": 6,
   "metadata": {},
   "outputs": [
    {
     "data": {
      "text/plain": [
       "[{'id': '000004509',\n",
       "  'data_source': 'llava-recap-558K',\n",
       "  'images': ['/mnt/lingjiejiang/multimodal_code/data/llava_onevision/LLaVA-ReCap-558K/blip558k_images/000004509.jpg'],\n",
       "  'messages': [{'content': '<image>\\nPlease generate detailed descriptions of the given image.',\n",
       "    'role': 'user'},\n",
       "   {'content': 'The image displays a screenshot of a computer interface showing a SQL (Structured Query Language) command line example. The SQL command is written in a text box at the top of the image, which reads\\n\\n```sql\\nSELECT Last_Name, First_Name\\nFROM Addresses, First_Name\\n```\\n\\nBelow the SQL command, there is a table with two columns, \"Last_Name\" and \"First_Name\". The table contains a list of names, with each row showing a combination of a last name and a first name. The names are presented in a structured format, with the last name on the left and the first name on the right.\\n\\nThe table includes names such as \"Adams\", \"Aki\", \"Alleyson\", \"Angeles\", \"Aragon\", \"Armstrong\", \"Beckel\", \"Black\", \"Brennan\", and others. Each name is separated by a line, indicating a new entry in the table.\\n\\nThe background of the image is a light blue color, and there is a watermark or logo in the top left corner, which appears to be a stylized letter \\'S\\' in a darker shade of blue.\\n\\nThe image is a digital representation, likely used for educational or instructional purposes to demonstrate how to use SQL to select and display data from a database. The style of the image is informational and technical, with a focus on the SQL command and the resulting data output.',\n",
       "    'role': 'assistant'}]},\n",
       " {'id': '000007231',\n",
       "  'data_source': 'llava-recap-558K',\n",
       "  'images': ['/mnt/lingjiejiang/multimodal_code/data/llava_onevision/LLaVA-ReCap-558K/blip558k_images/000007231.jpg'],\n",
       "  'messages': [{'content': '<image>\\nPlease generate detailed descriptions of the given image.',\n",
       "    'role': 'user'},\n",
       "   {'content': 'The image appears to be a slide from a presentation, focusing on the topic of working on the command line and specifically discussing the prompt. The slide has a light blue background with a title at the top that reads \"Working on the Command Line - the Prompt.\"\\n\\nOn the left side of the slide, there is a screenshot of a command line interface, which seems to be a Unix or Linux terminal. The terminal is displaying a prompt with the following text\\n\\n```\\neeadmac30~ kahokamps$\\n```\\n\\nThe text is color-coded, with the host name \"eeadmac30\" in blue, the tilde symbol \"~\" in green, the username \"kahokamps\" in red, and the dollar sign \"$\" in white.\\n\\nTo the right of the terminal screenshot, there is a diagram with arrows pointing from the host name to the username, and from the username to the dollar sign. The diagram labels the host name as \"host,\" the username as \"user,\" and the dollar sign as \"symbol.\"\\n\\nAt the bottom of the slide, there is a credit line that reads \"Trinity College Dublin, The University of Dublin.\"\\n\\nThe overall style of the image is educational and informative, designed to explain the components of a command line prompt.',\n",
       "    'role': 'assistant'}]},\n",
       " {'id': '000054246',\n",
       "  'data_source': 'llava-recap-558K',\n",
       "  'images': ['/mnt/lingjiejiang/multimodal_code/data/llava_onevision/LLaVA-ReCap-558K/blip558k_images/000054246.jpg'],\n",
       "  'messages': [{'content': '<image>\\nPlease generate detailed descriptions of the given image.',\n",
       "    'role': 'user'},\n",
       "   {'content': 'The image displays a slide from a presentation, likely educational in nature, focusing on the topic of the circumference of a circle. The slide is titled \"The circumference of a circle\" and includes a logo in the top right corner that reads \"BOARDROOM.\"\\n\\nIn the center of the slide, there is a graphic of a green circle with a diameter of 8 cm, as indicated by the text and the line segment that passes through the center of the circle. Below the circle, there is a mathematical equation that demonstrates how to calculate the circumference of the circle using the given diameter. The equation reads\\n\\nC = πd\\n= 3.14 x 8\\n= 25.12 cm\\n\\nThe equation shows that the circumference (C) is calculated by multiplying the diameter (d) by the mathematical constant π (Pi), which is approximately equal to 3.14. The result of the calculation is 25.12 cm, which is the circumference of the circle.\\n\\nThe slide is designed to be informative, with a simple layout that uses color to highlight the important elements of the equation. The background is a light purple, and the text is in a sans-serif font, which is easy to read. The overall style of the slide is clean and professional, suitable for an educational setting.',\n",
       "    'role': 'assistant'}]}]"
      ]
     },
     "execution_count": 6,
     "metadata": {},
     "output_type": "execute_result"
    }
   ],
   "source": [
    "llava_code_data[:3]"
   ]
  },
  {
   "cell_type": "code",
   "execution_count": 10,
   "metadata": {},
   "outputs": [],
   "source": [
    "# 新的基础路径  \n",
    "new_base_path = \"/mnt/lingjiejiang/multimodal_code/data/Cambrian-10M/hfdata/datikz/\"  \n",
    "  \n",
    "# 遍历数据并替换路径  \n",
    "for item in datikz:  \n",
    "    if 'images' in item and item['images']:  \n",
    "        old_image_path = item['images'][0]  \n",
    "        # 获取旧路径中的文件名  \n",
    "        filename = old_image_path.split('/')[-1]  \n",
    "        # 生成新的路径  \n",
    "        new_image_path = new_base_path + filename  \n",
    "        # 替换旧路径  \n",
    "        item['images'][0] = new_image_path\n",
    "with open(datikz_path, \"w\") as f:  \n",
    "    json.dump(datikz, f, indent=0)"
   ]
  },
  {
   "cell_type": "code",
   "execution_count": 15,
   "metadata": {},
   "outputs": [
    {
     "data": {
      "text/plain": [
       "[{'id': 'datikz_1',\n",
       "  'source': 'idefics375k.json',\n",
       "  'messages': [{'content': '<image>\\nTransform this figure into its TikZ equivalent.',\n",
       "    'role': 'user'},\n",
       "   {'content': '\\\\documentclass[10pt,twosided,a4paper,draft,onecolumn]{article}\\n\\\\usepackage{tikz}\\n\\\\usetikzlibrary{matrix,arrows,decorations.pathmorphing}\\n\\\\usepackage{graphicx,color}\\n\\\\usepackage{amsmath,amsfonts,amssymb,mathrsfs,wasysym,stackrel,amsthm}\\n\\n\\\\begin{document}\\n\\n\\\\begin{tikzpicture}[>=latex]\\n \\\\tikzstyle{every node} = [circle,fill=gray]\\n \\\\node (a) at (2.5,2) {$x_u$};\\n \\\\node (b) at (0,0) {$y_u^1$};\\n \\\\node (c) at (5,0) {$y_u^{r_1}$};\\n%\\n \\\\node (d) at (-1.5,-1.5) {$z_u^{1,1}(0)$};\\n \\\\node (e) at (1.5,-1.5) {$z_u^{1,r_2}(0)$};\\n \\\\node (f) at (3.5,-1.5) {$z_u^{r_1,1}(0)$};\\n \\\\node (g) at (6.5,-1.5) {$z_u^{r_1,r_2}(0)$};\\n%%\\n \\\\draw [->] (a) -- (b) node[pos=.5,sloped,above,fill=white] {$\\\\phi_1$};;\\n \\\\draw [->]  (a) -- (c)node[pos=.5,sloped,above,fill=white] {$\\\\phi_{r_1}$};;\\n \\\\draw [->] (b) -- (d);\\n \\\\draw [->] (b) -- (e);\\n \\\\draw [->] (c) -- (f);\\n \\\\draw [->] (c) -- (g);\\n \\\\fill[black] (1,0) circle (0.3ex);\\n \\\\fill[black] (2,0) circle (0.3ex);\\n \\\\fill[black] (3,0) circle (0.3ex);\\n \\\\fill[black] (4,0) circle (0.3ex);\\n \\\\fill[black] (-0.5,-1.5) circle (0.3ex);\\n \\\\fill[black] (0.5,-1.5) circle (0.3ex);\\n \\\\fill[black] (4.5,-1.5) circle (0.3ex);\\n \\\\fill[black] (5.5,-1.5) circle (0.3ex);\\n \\\\fill[black] (2.5,-1.5) circle (0.3ex);\\n\\\\end{tikzpicture}\\n\\n\\\\end{document}',\n",
       "    'role': 'assistant'}],\n",
       "  'images': ['/mnt/lingjiejiang/multimodal_code/data/Cambrian-10M/hfdata/datikz/1.jpg']},\n",
       " {'id': 'datikz_2',\n",
       "  'source': 'idefics375k.json',\n",
       "  'messages': [{'content': '<image>\\nDevelop TikZ code that mirrors this figure.',\n",
       "    'role': 'user'},\n",
       "   {'content': '\\\\documentclass[11pt, oneside]{amsart}\\n\\\\usepackage{amsmath}\\n\\\\usepackage{amssymb}\\n\\\\usepackage{color}\\n\\\\usepackage{tikz}\\n\\n\\\\begin{document}\\n\\n\\\\begin{tikzpicture}[scale=0.8]\\n \\\\draw [ultra thick] (2,2) -- (9,2);\\n \\\\draw [ultra thick] (2,4) -- (9,4);\\n \\\\draw [ultra thick]  (10.5,3) circle [radius=1.8];\\n \\\\draw [->, ultra thick, cyan] (9,2) to [out=298, in=180] (10.5,1) to  [out=0, in=270] (12.6,3);\\n \\\\draw [ultra thick, cyan](12.6,3) to [out=90, in=0] (10.5,5) to [out=180, in=62] (9,4);\\n \\\\draw [dashed, thick] (2,3) -- (10.5,3);\\n \\\\draw [ultra thick] (12,2.18) -- (12,2) -- (12.18,2);\\n \\\\node[right] at (10.5,3) {$K$};\\n \\\\node[left] at (2,2) {$F_-$};\\n  \\\\node[left] at (2,3) {$F$};\\n   \\\\node[left] at (2,4) {$F_+$};\\n   \\\\node[above left] at (9,4) {$P_+$};\\n   \\\\node[below left] at (9,2) {$P_-$};\\n   \\\\node[cyan] at (13, 3) {$C$};\\n   \\\\node [below left] at (12,2.3) {$Z$};\\n \\\\draw [fill=black] (10.5,3) circle [radius=0.1];\\n \\\\draw [fill=black] (9,2) circle [radius=0.1];\\n \\\\draw [fill=black] (9,4) circle [radius=0.1]; \\n\\\\end{tikzpicture}\\n\\n\\\\end{document}',\n",
       "    'role': 'assistant'}],\n",
       "  'images': ['/mnt/lingjiejiang/multimodal_code/data/Cambrian-10M/hfdata/datikz/2.jpg']}]"
      ]
     },
     "execution_count": 15,
     "metadata": {},
     "output_type": "execute_result"
    }
   ],
   "source": [
    "datikz[:2]"
   ]
  },
  {
   "cell_type": "code",
   "execution_count": 30,
   "metadata": {},
   "outputs": [],
   "source": [
    "merged_data = datikz + llava_code_data + web2code_pretrain_data\n",
    "with open(\"/mnt/lingjiejiang/multimodal_code/data/mixed_data/datikz48_llava16_web2code50_pretrain_114k.json\", 'w') as f:\n",
    "    json.dump(merged_data, f, indent=0)"
   ]
  },
  {
   "cell_type": "code",
   "execution_count": 29,
   "metadata": {},
   "outputs": [
    {
     "data": {
      "text/plain": [
       "114558"
      ]
     },
     "execution_count": 29,
     "metadata": {},
     "output_type": "execute_result"
    }
   ],
   "source": [
    "len(merged_data)"
   ]
  },
  {
   "cell_type": "code",
   "execution_count": 20,
   "metadata": {},
   "outputs": [
    {
     "data": {
      "text/plain": [
       "2"
      ]
     },
     "execution_count": 20,
     "metadata": {},
     "output_type": "execute_result"
    }
   ],
   "source": [
    "import json  \n",
    "  \n",
    "# 加载 JSON 数据  \n",
    "# llava_code_data_path = \"/mnt/lingjiejiang/multimodal_code/data/llava_code_data/llava_mid_satge_stage2_merged_code_16k.json\"  \n",
    "# with open(llava_code_data_path, 'r') as f:  \n",
    "#     llava_code_data = json.load(f)  \n",
    "  \n",
    "# 初始化列表以存储 `<image>` 总数不为 1 的项目  \n",
    "invalid_image_count_items = []  \n",
    "valid_image_count_items = []\n",
    "# 遍历每个项目  \n",
    "for item in merged_data:  \n",
    "    # 计算 `<image>` 出现的次数  \n",
    "    image_count = sum(message['content'].count('<image>') for message in item['messages'])  \n",
    "      \n",
    "    # 如果 `<image>` 出现次数不为 1，则将该项目添加到列表中  \n",
    "    if image_count != 1:  \n",
    "        invalid_image_count_items.append(item)  \n",
    "    elif image_count == 1:\n",
    "        valid_image_count_items.append(item)\n",
    "  \n",
    "# 输出不符合条件的项目  \n",
    "# print(f\"Number of items with invalid <image> count: {len(invalid_image_count_items)}\")  \n",
    "# for invalid_item in invalid_image_count_items:  \n",
    "#     print(invalid_item)  \n",
    "len(invalid_image_count_items)"
   ]
  },
  {
   "cell_type": "code",
   "execution_count": null,
   "metadata": {},
   "outputs": [],
   "source": []
  },
  {
   "cell_type": "code",
   "execution_count": 21,
   "metadata": {},
   "outputs": [
    {
     "data": {
      "text/plain": [
       "114558"
      ]
     },
     "execution_count": 21,
     "metadata": {},
     "output_type": "execute_result"
    }
   ],
   "source": [
    "len(valid_image_count_items)"
   ]
  },
  {
   "cell_type": "code",
   "execution_count": null,
   "metadata": {},
   "outputs": [],
   "source": [
    "merged_data_path = \"/mnt/lingjiejiang/multimodal_code/data/mixed_data/datikz48_llava16_web2code50_pretrain_114k.json\"\n",
    "with open(merged_data_path, 'r') as f:\n",
    "    merged_data = json.load(f)"
   ]
  },
  {
   "cell_type": "code",
   "execution_count": 17,
   "metadata": {},
   "outputs": [
    {
     "data": {
      "text/plain": [
       "[{'id': 'datikz_1',\n",
       "  'source': 'idefics375k.json',\n",
       "  'messages': [{'content': '<image>\\nTransform this figure into its TikZ equivalent.',\n",
       "    'role': 'user'},\n",
       "   {'content': '\\\\documentclass[10pt,twosided,a4paper,draft,onecolumn]{article}\\n\\\\usepackage{tikz}\\n\\\\usetikzlibrary{matrix,arrows,decorations.pathmorphing}\\n\\\\usepackage{graphicx,color}\\n\\\\usepackage{amsmath,amsfonts,amssymb,mathrsfs,wasysym,stackrel,amsthm}\\n\\n\\\\begin{document}\\n\\n\\\\begin{tikzpicture}[>=latex]\\n \\\\tikzstyle{every node} = [circle,fill=gray]\\n \\\\node (a) at (2.5,2) {$x_u$};\\n \\\\node (b) at (0,0) {$y_u^1$};\\n \\\\node (c) at (5,0) {$y_u^{r_1}$};\\n%\\n \\\\node (d) at (-1.5,-1.5) {$z_u^{1,1}(0)$};\\n \\\\node (e) at (1.5,-1.5) {$z_u^{1,r_2}(0)$};\\n \\\\node (f) at (3.5,-1.5) {$z_u^{r_1,1}(0)$};\\n \\\\node (g) at (6.5,-1.5) {$z_u^{r_1,r_2}(0)$};\\n%%\\n \\\\draw [->] (a) -- (b) node[pos=.5,sloped,above,fill=white] {$\\\\phi_1$};;\\n \\\\draw [->]  (a) -- (c)node[pos=.5,sloped,above,fill=white] {$\\\\phi_{r_1}$};;\\n \\\\draw [->] (b) -- (d);\\n \\\\draw [->] (b) -- (e);\\n \\\\draw [->] (c) -- (f);\\n \\\\draw [->] (c) -- (g);\\n \\\\fill[black] (1,0) circle (0.3ex);\\n \\\\fill[black] (2,0) circle (0.3ex);\\n \\\\fill[black] (3,0) circle (0.3ex);\\n \\\\fill[black] (4,0) circle (0.3ex);\\n \\\\fill[black] (-0.5,-1.5) circle (0.3ex);\\n \\\\fill[black] (0.5,-1.5) circle (0.3ex);\\n \\\\fill[black] (4.5,-1.5) circle (0.3ex);\\n \\\\fill[black] (5.5,-1.5) circle (0.3ex);\\n \\\\fill[black] (2.5,-1.5) circle (0.3ex);\\n\\\\end{tikzpicture}\\n\\n\\\\end{document}',\n",
       "    'role': 'assistant'}],\n",
       "  'images': ['/mnt/lingjiejiang/multimodal_code/data/Cambrian-10M/hfdata/datikz/1.jpg']},\n",
       " {'id': 'datikz_2',\n",
       "  'source': 'idefics375k.json',\n",
       "  'messages': [{'content': '<image>\\nDevelop TikZ code that mirrors this figure.',\n",
       "    'role': 'user'},\n",
       "   {'content': '\\\\documentclass[11pt, oneside]{amsart}\\n\\\\usepackage{amsmath}\\n\\\\usepackage{amssymb}\\n\\\\usepackage{color}\\n\\\\usepackage{tikz}\\n\\n\\\\begin{document}\\n\\n\\\\begin{tikzpicture}[scale=0.8]\\n \\\\draw [ultra thick] (2,2) -- (9,2);\\n \\\\draw [ultra thick] (2,4) -- (9,4);\\n \\\\draw [ultra thick]  (10.5,3) circle [radius=1.8];\\n \\\\draw [->, ultra thick, cyan] (9,2) to [out=298, in=180] (10.5,1) to  [out=0, in=270] (12.6,3);\\n \\\\draw [ultra thick, cyan](12.6,3) to [out=90, in=0] (10.5,5) to [out=180, in=62] (9,4);\\n \\\\draw [dashed, thick] (2,3) -- (10.5,3);\\n \\\\draw [ultra thick] (12,2.18) -- (12,2) -- (12.18,2);\\n \\\\node[right] at (10.5,3) {$K$};\\n \\\\node[left] at (2,2) {$F_-$};\\n  \\\\node[left] at (2,3) {$F$};\\n   \\\\node[left] at (2,4) {$F_+$};\\n   \\\\node[above left] at (9,4) {$P_+$};\\n   \\\\node[below left] at (9,2) {$P_-$};\\n   \\\\node[cyan] at (13, 3) {$C$};\\n   \\\\node [below left] at (12,2.3) {$Z$};\\n \\\\draw [fill=black] (10.5,3) circle [radius=0.1];\\n \\\\draw [fill=black] (9,2) circle [radius=0.1];\\n \\\\draw [fill=black] (9,4) circle [radius=0.1]; \\n\\\\end{tikzpicture}\\n\\n\\\\end{document}',\n",
       "    'role': 'assistant'}],\n",
       "  'images': ['/mnt/lingjiejiang/multimodal_code/data/Cambrian-10M/hfdata/datikz/2.jpg']}]"
      ]
     },
     "execution_count": 17,
     "metadata": {},
     "output_type": "execute_result"
    }
   ],
   "source": [
    "merged_data[:2]"
   ]
  },
  {
   "cell_type": "code",
   "execution_count": 20,
   "metadata": {},
   "outputs": [
    {
     "name": "stderr",
     "output_type": "stream",
     "text": [
      "Checking image paths: 100%|██████████| 114560/114560 [08:19<00:00, 229.54it/s] \n"
     ]
    }
   ],
   "source": [
    "import json  \n",
    "import os  \n",
    "from tqdm import tqdm  \n",
    "  \n",
    "# 读取数据  \n",
    "merged_data_path = \"/mnt/lingjiejiang/multimodal_code/data/mixed_data/datikz48_llava16_web2code50_pretrain_114k.json\"  \n",
    "with open(merged_data_path, 'r') as f:  \n",
    "    merged_data = json.load(f)  \n",
    "  \n",
    "# 检查图像路径是否存在  \n",
    "missing_images = []  \n",
    "for item in tqdm(merged_data, desc=\"Checking image paths\"):  \n",
    "    if 'images' in item and item['images']:  \n",
    "        image_path = item['images'][0]  \n",
    "        if not os.path.exists(image_path):  \n",
    "            missing_images.append(item)  \n",
    "  \n",
    "# # 打印不存在的图像路径  \n",
    "# if missing_images:  \n",
    "#     print(\"以下图像路径不存在:\")  \n",
    "#     print(len(missing_images))\n",
    "# else:  \n",
    "#     print(\"所有图像路径都存在。\")  "
   ]
  },
  {
   "cell_type": "code",
   "execution_count": 2,
   "metadata": {},
   "outputs": [
    {
     "data": {
      "text/plain": [
       "827731"
      ]
     },
     "execution_count": 2,
     "metadata": {},
     "output_type": "execute_result"
    }
   ],
   "source": [
    "import json\n",
    "with open(\"/mnt/lingjiejiang/multimodal_code/data/Web2Code/Web2Code_sharegpt_format_abspath_filter.json\", 'r') as f:\n",
    "    web2code_all_data = json.load(f)\n",
    "len(web2code_all_data)"
   ]
  },
  {
   "cell_type": "code",
   "execution_count": 4,
   "metadata": {},
   "outputs": [],
   "source": [
    "for item in web2code_all_data:\n",
    "    if item['images'] is None:\n",
    "        print(item)"
   ]
  }
 ],
 "metadata": {
  "kernelspec": {
   "display_name": "design",
   "language": "python",
   "name": "python3"
  },
  "language_info": {
   "codemirror_mode": {
    "name": "ipython",
    "version": 3
   },
   "file_extension": ".py",
   "mimetype": "text/x-python",
   "name": "python",
   "nbconvert_exporter": "python",
   "pygments_lexer": "ipython3",
   "version": "3.10.16"
  }
 },
 "nbformat": 4,
 "nbformat_minor": 2
}
