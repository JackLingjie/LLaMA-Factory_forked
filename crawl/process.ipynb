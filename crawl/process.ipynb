{
 "cells": [
  {
   "cell_type": "code",
   "execution_count": 3,
   "metadata": {},
   "outputs": [],
   "source": [
    "import os\n",
    "output_folder = \"/mnt/lingjiejiang/multimodal_code/data/stack_supply/m2/\"\n",
    "def load_existing_images(output_folder):  \n",
    "    \"\"\"加载已经存在的图片文件名\"\"\"  \n",
    "    existing_images = set()  \n",
    "    for file_name in os.listdir(output_folder):  \n",
    "        if file_name.endswith('.jpg'):  \n",
    "            existing_images.add(file_name)  \n",
    "    return existing_images  \n",
    "res = load_existing_images(output_folder)"
   ]
  },
  {
   "cell_type": "code",
   "execution_count": 4,
   "metadata": {},
   "outputs": [
    {
     "data": {
      "text/plain": [
       "62129"
      ]
     },
     "execution_count": 4,
     "metadata": {},
     "output_type": "execute_result"
    }
   ],
   "source": [
    "len(res)"
   ]
  }
 ],
 "metadata": {
  "kernelspec": {
   "display_name": "design",
   "language": "python",
   "name": "python3"
  },
  "language_info": {
   "codemirror_mode": {
    "name": "ipython",
    "version": 3
   },
   "file_extension": ".py",
   "mimetype": "text/x-python",
   "name": "python",
   "nbconvert_exporter": "python",
   "pygments_lexer": "ipython3",
   "version": "3.10.16"
  }
 },
 "nbformat": 4,
 "nbformat_minor": 2
}
