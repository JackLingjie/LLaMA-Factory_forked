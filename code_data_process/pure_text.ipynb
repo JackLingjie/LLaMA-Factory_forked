{
 "cells": [
  {
   "cell_type": "code",
   "execution_count": 1,
   "metadata": {},
   "outputs": [],
   "source": [
    "import json\n",
    "def read_jsonl(file_path):\n",
    "    with open(file_path, 'r') as f:\n",
    "        lines = f.readlines()\n",
    "    return [json.loads(line) for line in lines]\n",
    "\n",
    "code_1_path = \"/mnt/lingjiejiang/multimodal_code/data/code_contest/pure_text/code.dedup.std.completion.merged.jsonl\"\n",
    "code_2_path = \"/mnt/lingjiejiang/multimodal_code/data/code_contest/pure_text/code_5m_1028_4m_xl_1m_hany.filtered.questions.lvl_7-10.q.info.jsonl\"\n",
    "code_1 = read_jsonl(code_1_path)\n",
    "code_2 = read_jsonl(code_2_path)"
   ]
  },
  {
   "cell_type": "code",
   "execution_count": 2,
   "metadata": {},
   "outputs": [
    {
     "data": {
      "text/plain": [
       "(832874, 398626)"
      ]
     },
     "execution_count": 2,
     "metadata": {},
     "output_type": "execute_result"
    }
   ],
   "source": [
    "len(code_1), len(code_2)"
   ]
  },
  {
   "cell_type": "code",
   "execution_count": 7,
   "metadata": {},
   "outputs": [
    {
     "data": {
      "text/plain": [
       "[{'prompt': 'Implement a mixin that finds the number of trailing zeros in the factorial of a number.',\n",
       "  'source': 'CodeExercise-Python-27k',\n",
       "  'completion': 'Certainly! A mixin in object-oriented programming is a class that provides methods to other classes through inheritance. It is a way to compose classes in a flexible manner.\\n\\nTo create a mixin that finds the number of trailing zeros in the factorial of a number, you can define a mixin class and then use it in another class. Here’s a simple implementation in Python:\\n\\n```python\\nclass TrailingZerosMixin:\\n    def count_trailing_zeros(self, n):\\n        \"\"\"\\n        Count the number of trailing zeros in the factorial of a number n.\\n        Trailing zeros are created by factors of 10, and since 10 = 2 * 5,\\n        we need to count the pairs of 2s and 5s in the factorial. However,\\n        there are always more 2s than 5s, so we only need to count the number\\n        of 5s in the factors of all numbers from 1 to n.\\n        \"\"\"\\n        count = 0\\n        power_of_5 = 5\\n        while n >= power_of_5:\\n            count += n // power_of_5\\n            power_of_5 *= 5\\n        return count\\n\\n# Example class that uses the mixin\\nclass FactorialCalculator(TrailingZerosMixin):\\n    def factorial(self, n):\\n        if n == 0 or n == 1:\\n            return 1\\n        else:\\n            return n * self.factorial(n - 1)\\n\\n# Example usage\\ncalculator = FactorialCalculator()\\nnumber = 100\\nfactorial_result = calculator.factorial(number)\\ntrailing_zeros = calculator.count_trailing_zeros(number)\\n\\nprint(f\"The factorial of {number} is {factorial_result}\")\\nprint(f\"The number of trailing zeros in {number}! is {trailing_zeros}\")\\n```\\n\\n### Explanation:\\n1. **TrailingZerosMixin Class**: This class contains a method `count_trailing_zeros` which calculates the number of trailing zeros in the factorial of a given number `n`. It does this by counting how many times 5 is a factor in the numbers from 1 to `n`, because every trailing zero is produced by a factor pair of 2 and 5, and there are always more factors of 2 than 5.\\n\\n2. **FactorialCalculator Class**: This class inherits from `TrailingZerosMixin` and has an additional method `factorial` to compute the factorial of a number.\\n\\n3. **Usage**: An instance of `FactorialCalculator` is created, and both the factorial and the number of trailing zeros in the factorial of a given number are calculated.\\n\\nThis code is a simple demonstration and can be extended or modified as per specific requirements.'},\n",
       " {'prompt': \"Write a Python class named BankAccount that represents a joint account. The class should have attributes such as account number, account holders, and balance. Implement methods to add account holders and display the account holders' details.\",\n",
       "  'source': 'CodeExercise-Python-27k',\n",
       "  'completion': 'Certainly! Below is a Python class named `BankAccount` that represents a joint account. This class includes attributes for the account number, account holders, and balance. It also includes methods to add account holders and display the account holders\\' details.\\n\\n```python\\nclass BankAccount:\\n    def __init__(self, account_number, initial_balance=0):\\n        self.account_number = account_number\\n        self.balance = initial_balance\\n        self.account_holders = []\\n\\n    def add_account_holder(self, name):\\n        self.account_holders.append(name)\\n        print(f\"{name} has been added as an account holder.\")\\n\\n    def display_account_holders(self):\\n        if not self.account_holders:\\n            print(\"No account holders.\")\\n        else:\\n            print(\"Account holders:\")\\n            for holder in self.account_holders:\\n                print(f\"- {holder}\")\\n\\n    def __str__(self):\\n        return (f\"Account Number: {self.account_number}\\\\n\"\\n                f\"Balance: ${self.balance:.2f}\\\\n\"\\n                f\"Account Holders: {\\', \\'.join(self.account_holders) if self.account_holders else \\'None\\'}\")\\n\\n# Example usage:\\naccount = BankAccount(\"123456789\", 1000)\\naccount.add_account_holder(\"Alice\")\\naccount.add_account_holder(\"Bob\")\\naccount.display_account_holders()\\nprint(account)\\n```\\n\\n### Explanation:\\n1. **`__init__` Method**: Initializes the `BankAccount` object with an account number, an initial balance (default is 0), and an empty list for account holders.\\n2. **`add_account_holder` Method**: Adds a new account holder\\'s name to the `account_holders` list and prints a confirmation message.\\n3. **`display_account_holders` Method**: Displays the names of all account holders. If there are no account holders, it prints a corresponding message.\\n4. **`__str__` Method**: Returns a string representation of the bank account, including the account number, balance, and account holders.\\n\\n### Example Usage:\\n- An instance of `BankAccount` is created with an account number and an initial balance.\\n- Account holders \"Alice\" and \"Bob\" are added.\\n- The details of account holders are displayed.\\n- The account details are printed using the `__str__` method.'}]"
      ]
     },
     "execution_count": 7,
     "metadata": {},
     "output_type": "execute_result"
    }
   ],
   "source": [
    "code_1[:2]"
   ]
  },
  {
   "cell_type": "code",
   "execution_count": 10,
   "metadata": {},
   "outputs": [
    {
     "data": {
      "text/plain": [
       "53076"
      ]
     },
     "execution_count": 10,
     "metadata": {},
     "output_type": "execute_result"
    }
   ],
   "source": [
    "with open(\"/mnt/lingjiejiang/multimodal_code/data/chart_data/error_files_2.json\", 'r') as f:\n",
    "    error_files = json.load(f)\n",
    "len(error_files)"
   ]
  },
  {
   "cell_type": "code",
   "execution_count": 6,
   "metadata": {},
   "outputs": [
    {
     "data": {
      "text/plain": [
       "0"
      ]
     },
     "execution_count": 6,
     "metadata": {},
     "output_type": "execute_result"
    }
   ],
   "source": [
    "non_content = [item for item in code_2 if item['self-contained'] == False]\n",
    "len(non_content)"
   ]
  },
  {
   "cell_type": "code",
   "execution_count": 4,
   "metadata": {},
   "outputs": [
    {
     "data": {
      "text/plain": [
       "[{'problem': 'Write a Haskell program that demonstrates the use of `forkIO` to create two concurrent threads. Each thread should write a different character to the console continuously. Ensure your program runs indefinitely without random interleaving of the characters.',\n",
       "  'self-contained': True,\n",
       "  'difficulty': 7},\n",
       " {'problem': 'Write a Python function that takes two DNA sequences and the given match, mismatch, and gap values. The function should return the final alignment of the two sequences based on the Needleman-Wunsch algorithm.',\n",
       "  'self-contained': True,\n",
       "  'difficulty': 8},\n",
       " {'problem': 'Implement the Jacobi iterative method for solving a linear system of equations. The function should take a matrix \\\\(A\\\\), a vector \\\\(b\\\\), and an initial guess \\\\(x_0\\\\). It should return the solution vector after a specified number of iterations.',\n",
       "  'self-contained': True,\n",
       "  'difficulty': 7},\n",
       " {'problem': 'Formulate a polynomial approximation of \\\\(\\\\cos(\\\\pi x)\\\\) using the first four terms of its Taylor series and compare it to a Chebyshev series approximation using the same number of terms. Implement both approximations in Python and plot them over the interval \\\\([-1, 1]\\\\).',\n",
       "  'self-contained': True,\n",
       "  'difficulty': 7},\n",
       " {'problem': 'In Fortran, initialize the array STATE for a repeatable sequence using the initialization routine G05KFF, and then generate pseudorandom integers using G05TEF. Write the necessary program code.',\n",
       "  'self-contained': True,\n",
       "  'difficulty': 7},\n",
       " {'problem': 'Implement an FFT algorithm to compute the Discrete Fourier Transform (DFT) of a given sequence of complex numbers. Your implementation should aim for \\\\(O(N \\\\log N)\\\\) complexity.',\n",
       "  'self-contained': True,\n",
       "  'difficulty': 9},\n",
       " {'problem': 'Write a Transact-SQL script that merges the first two partitions of a `TransactionHistory` table into a single partition. Assume the table is partitioned by the `TransactionDate` field.',\n",
       "  'self-contained': True,\n",
       "  'difficulty': 7},\n",
       " {'problem': \"Write a Python function to implement Dijkstra's algorithm to find the shortest path from a starting node to all other nodes in a given graph. The graph should be represented as an adjacency list, where the keys are nodes and the values are lists of tuples (neighbor, weight).\",\n",
       "  'self-contained': True,\n",
       "  'difficulty': 7},\n",
       " {'problem': 'Given a game where N monsters each pick a card with a number \\\\( d_i \\\\) (with \\\\( 1 \\\\leq d_i \\\\leq M \\\\)), and the i-th monster has a strength \\\\( s_i \\\\), write a program that assigns treasure boxes numbered from 1 to \\\\( d_i \\\\) to the monsters such that the sum of the strength of monsters that do not get a box is minimized. \\n\\nInput:\\n- First line: two integers N and M (1 ≤ N ≤ 50000, 1 ≤ M ≤ 50000) indicating the number of monsters and the range of possible numbers on the cards.\\n- Second line: N integers \\\\( d_i \\\\) (1 ≤ \\\\( d_i \\\\) ≤ M) indicating the number each monster gets.\\n- Third line: N integers \\\\( s_i \\\\) (1 ≤ \\\\( s_i \\\\) ≤ 20000) indicating the strength of each monster.\\n\\nOutput:\\n- A single integer, the minimum damage to Jim.\\n\\nExample:\\n```\\nInput:\\n4 4\\n1 1 2 3\\n10 70 20 60\\n\\nOutput:\\n60\\n```',\n",
       "  'self-contained': True,\n",
       "  'difficulty': 8},\n",
       " {'problem': 'Write a quick program or script that counts word frequencies in the text \"Alice\\'s Adventures in Wonderland\" by Lewis Carroll. For the most frequent 25 words and the most frequent 25 additional words that start with the letter \\'f\\' (a total of 50 words), print the word, the number of times it occurs, its rank in the overall list of words, the probability of occurrence, and the product of the rank and the probability. Also indicate the total number of words and the total number of unique words that you found. Discuss whether this text satisfies Zipf\\'s Law.',\n",
       "  'self-contained': True,\n",
       "  'difficulty': 7}]"
      ]
     },
     "execution_count": 4,
     "metadata": {},
     "output_type": "execute_result"
    }
   ],
   "source": [
    "code_1_path = \"/mnt/lingjiejiang/multimodal_code/data/code_contest/pure_text/code.dedup.std.completion.merged.jsonl\"\n",
    "\n",
    "code_1 = read_jsonl(code_1_path)\n",
    "code_2_path = \"/mnt/lingjiejiang/multimodal_code/data/code_contest/pure_text/code_5m_1028_4m_xl_1m_hany.filtered.questions.lvl_7-10.q.info.jsonl\"\n",
    "code_2 = read_jsonl(code_2_path)\n",
    "code_2[:10]"
   ]
  }
 ],
 "metadata": {
  "kernelspec": {
   "display_name": "llama",
   "language": "python",
   "name": "python3"
  },
  "language_info": {
   "codemirror_mode": {
    "name": "ipython",
    "version": 3
   },
   "file_extension": ".py",
   "mimetype": "text/x-python",
   "name": "python",
   "nbconvert_exporter": "python",
   "pygments_lexer": "ipython3",
   "version": "3.10.16"
  }
 },
 "nbformat": 4,
 "nbformat_minor": 2
}
