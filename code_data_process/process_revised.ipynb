{
 "cells": [
  {
   "cell_type": "code",
   "execution_count": 11,
   "metadata": {},
   "outputs": [
    {
     "data": {
      "text/plain": [
       "15863"
      ]
     },
     "execution_count": 11,
     "metadata": {},
     "output_type": "execute_result"
    }
   ],
   "source": [
    "import json\n",
    "with open(\"/mnt/lingjiejiang/multimodal_code/data/code_contest/final_output.json\", \"r\") as f:\n",
    "    supply2 = json.load(f)\n",
    "len(supply2)\n",
    "uniqeu_data = []\n",
    "unique_urls = set()\n",
    "for item in supply2:\n",
    "    if item[\"url\"] not in unique_urls:\n",
    "        uniqeu_data.append(item)\n",
    "        unique_urls.add(item[\"url\"])\n",
    "len(uniqeu_data)"
   ]
  },
  {
   "cell_type": "code",
   "execution_count": 3,
   "metadata": {},
   "outputs": [
    {
     "data": {
      "text/plain": [
       "[{'index': 7,\n",
       "  'revised_code': 'n, k = map(int, input().split())\\na = list(map(int, input().split()))\\nans = 0\\n\\nfor i in range(n - 1):\\n    for j in range(i + 1, n):\\n        if abs(a[i] - a[j]) >= k:\\n            ans += 1\\n\\nprint(ans)',\n",
       "  'question': 'Zonal Computing Olympiad 2015, 29 Nov 2014\\n\\nWe say that two integers x and y have a variation of at least K, if |x − y| ≥ K (the absolute value of their difference is at least K). Given a sequence of N integers a1,a2,...,aN and K, the total variation count is the number of pairs of elements in the sequence with variation at least K, i.e. it is the size of the set of pairs\\n\\n{(i,j)|1≤i<j≤N and|ai−aj|≥K} \\n\\nFor example if K = 1 and the sequence is 3,2,4 the answer is 3. If K = 1 and the sequence is 3, 1, 3 then the answer is 2.\\n\\nYour task is to write a program that takes a sequence and the value K as input and computes the total variation count.\\n\\n-----Input format-----\\nThe first line contains two positive integers N and K, separated by a space.\\n\\nThis is followed by a line containing N integers separated by space giving the values\\nof the sequence.\\n\\n-----Output format-----\\nA single integer in a single line giving the total variation count.\\n\\n-----Test data-----\\nYou may assume that all integers in the input are in the range 0 to 10^8 inclusive.\\n\\nSubtask 1 (40 marks) : 1 ≤ N ≤ 4000, 1 ≤ K ≤ 10^8 \\nSubtask 2 (60 marks) : 1 ≤ N ≤ 65000, 1 ≤ K ≤ 10^8 \\n\\n-----Sample Input-----\\n3 1 \\n3 1 3\\n\\n-----Sample Output-----\\n2',\n",
       "  'starter_code': '',\n",
       "  'difficulty': 'UNKNOWN_DIFFICULTY',\n",
       "  'raw_tags': '[]',\n",
       "  'name': None,\n",
       "  'source': 'codechef',\n",
       "  'tags': '[]',\n",
       "  'skill_types': '[]',\n",
       "  'url': 'https://www.codechef.com/ZCOPRAC/problems/ZCO15002',\n",
       "  'Expected Auxiliary Space': None,\n",
       "  'time_limit': None,\n",
       "  'date': None,\n",
       "  'picture_num': None,\n",
       "  'memory_limit': None,\n",
       "  'Expected Time Complexity': None,\n",
       "  'answer': '(n, k) = [int(x) for x in input().split()]\\na = [int(x) for x in input().split()]\\nans = 0\\nfor i in range(n - 1):\\n\\tfor j in range(i + 1, n):\\n\\t\\tif abs(a[i] - a[j]) >= k:\\n\\t\\t\\tans += 1\\nprint(ans)\\n',\n",
       "  'prompt': 'You are required to solve a programming problem. Please enclose your code inside a ```python``` block.  Do not write a main() function. If Call-Based format is used, return the result in an appropriate place instead of printing it.\\n\\n\\nQUESTION:\\nZonal Computing Olympiad 2015, 29 Nov 2014\\n\\nWe say that two integers x and y have a variation of at least K, if |x − y| ≥ K (the absolute value of their difference is at least K). Given a sequence of N integers a1,a2,...,aN and K, the total variation count is the number of pairs of elements in the sequence with variation at least K, i.e. it is the size of the set of pairs\\n\\n{(i,j)|1≤i<j≤N and|ai−aj|≥K} \\n\\nFor example if K = 1 and the sequence is 3,2,4 the answer is 3. If K = 1 and the sequence is 3, 1, 3 then the answer is 2.\\n\\nYour task is to write a program that takes a sequence and the value K as input and computes the total variation count.\\n\\n-----Input format-----\\nThe first line contains two positive integers N and K, separated by a space.\\n\\nThis is followed by a line containing N integers separated by space giving the values\\nof the sequence.\\n\\n-----Output format-----\\nA single integer in a single line giving the total variation count.\\n\\n-----Test data-----\\nYou may assume that all integers in the input are in the range 0 to 10^8 inclusive.\\n\\nSubtask 1 (40 marks) : 1 ≤ N ≤ 4000, 1 ≤ K ≤ 10^8 \\nSubtask 2 (60 marks) : 1 ≤ N ≤ 65000, 1 ≤ K ≤ 10^8 \\n\\n-----Sample Input-----\\n3 1 \\n3 1 3\\n\\n-----Sample Output-----\\n2\\nPlease write your code using Standard IO, i.e. input() and print().\\nANSWER:\\n',\n",
       "  'format_answer': '```python\\n(n, k) = [int(x) for x in input().split()]\\na = [int(x) for x in input().split()]\\nans = 0\\nfor i in range(n - 1):\\n\\tfor j in range(i + 1, n):\\n\\t\\tif abs(a[i] - a[j]) >= k:\\n\\t\\t\\tans += 1\\nprint(ans)\\n\\n```'},\n",
       " {'index': 1,\n",
       "  'revised_code': \"MOD = 1000000007\\n\\nfor _ in range(int(input())):\\n    n = int(input())\\n    if n <= 2:\\n        print('0')\\n    else:\\n        result = pow(2, n - 1, MOD) - 2\\n        print(result)\",\n",
       "  'question': 'Given N, count how many permutations of [1, 2, 3, ..., N] satisfy the following property.\\n\\nLet P1, P2, ..., PN denote the permutation. The property we want to satisfy is that there exists an i between 2 and n-1 (inclusive) such that\\n\\n- Pj > Pj + 1  ∀    i ≤ j ≤ N - 1.\\n- Pj > Pj - 1  ∀    2 ≤ j ≤ i.\\n\\n-----Input-----\\nFirst line contains T, the number of test cases. Each test case consists of N in one line.\\n\\n-----Output-----\\nFor each test case, output the answer modulo 109+7.\\n\\n-----Constraints-----\\n- 1 ≤ T ≤ 100\\n- 1 ≤ N ≤ 109\\n\\n-----Subtasks-----\\n- Subtask #1(40 points): 1 ≤ N ≤ 1000\\n- Subtask #2(60 points): original constraints\\n\\n-----Example-----\\nInput:\\n2\\n2\\n3\\n\\nOutput:\\n0\\n2\\n\\n-----Explanation-----\\n\\nTest case 1:\\n\\nNo permutation satisfies.\\n\\nTest case 2:\\n\\nPermutations [1, 3, 2] and [2, 3, 1] satisfy the property.',\n",
       "  'starter_code': '',\n",
       "  'difficulty': 'MEDIUM_HARD',\n",
       "  'raw_tags': \"['Mathematics', 'Modular Arithmetic', 'Modular Exponentiation']\",\n",
       "  'name': None,\n",
       "  'source': 'codechef',\n",
       "  'tags': \"['Number theory', 'Mathematics']\",\n",
       "  'skill_types': '[]',\n",
       "  'url': 'https://www.codechef.com/problems/CPERM',\n",
       "  'Expected Auxiliary Space': None,\n",
       "  'time_limit': '1 seconds',\n",
       "  'date': '2014-04-18',\n",
       "  'picture_num': '0',\n",
       "  'memory_limit': '50000 bytes',\n",
       "  'Expected Time Complexity': None,\n",
       "  'answer': \"MOD = int(1000000000.0 + 7)\\nfor _ in range(int(input())):\\n\\tn = input()\\n\\tn = int(n)\\n\\tif n <= 2:\\n\\t\\tprint('0')\\n\\t\\tcontinue\\n\\tprint(pow(2, n - 1, MOD) - 2)\\n\",\n",
       "  'prompt': 'You are required to solve a programming problem. Please enclose your code inside a ```python``` block.  Do not write a main() function. If Call-Based format is used, return the result in an appropriate place instead of printing it.\\n\\n\\nQUESTION:\\nGiven N, count how many permutations of [1, 2, 3, ..., N] satisfy the following property.\\n\\nLet P1, P2, ..., PN denote the permutation. The property we want to satisfy is that there exists an i between 2 and n-1 (inclusive) such that\\n\\n- Pj > Pj + 1  ∀    i ≤ j ≤ N - 1.\\n- Pj > Pj - 1  ∀    2 ≤ j ≤ i.\\n\\n-----Input-----\\nFirst line contains T, the number of test cases. Each test case consists of N in one line.\\n\\n-----Output-----\\nFor each test case, output the answer modulo 109+7.\\n\\n-----Constraints-----\\n- 1 ≤ T ≤ 100\\n- 1 ≤ N ≤ 109\\n\\n-----Subtasks-----\\n- Subtask #1(40 points): 1 ≤ N ≤ 1000\\n- Subtask #2(60 points): original constraints\\n\\n-----Example-----\\nInput:\\n2\\n2\\n3\\n\\nOutput:\\n0\\n2\\n\\n-----Explanation-----\\n\\nTest case 1:\\n\\nNo permutation satisfies.\\n\\nTest case 2:\\n\\nPermutations [1, 3, 2] and [2, 3, 1] satisfy the property.\\nPlease write your code using Standard IO, i.e. input() and print().\\nANSWER:\\n',\n",
       "  'format_answer': \"```python\\nMOD = int(1000000000.0 + 7)\\nfor _ in range(int(input())):\\n\\tn = input()\\n\\tn = int(n)\\n\\tif n <= 2:\\n\\t\\tprint('0')\\n\\t\\tcontinue\\n\\tprint(pow(2, n - 1, MOD) - 2)\\n\\n```\"}]"
      ]
     },
     "execution_count": 3,
     "metadata": {},
     "output_type": "execute_result"
    }
   ],
   "source": [
    "uniqeu_data[:2]"
   ]
  },
  {
   "cell_type": "code",
   "execution_count": 6,
   "metadata": {},
   "outputs": [
    {
     "data": {
      "text/plain": [
       "'n, k = map(int, input().split())\\na = list(map(int, input().split()))\\nans = 0\\n\\nfor i in range(n - 1):\\n    for j in range(i + 1, n):\\n        if abs(a[i] - a[j]) >= k:\\n            ans += 1\\n\\nprint(ans)'"
      ]
     },
     "execution_count": 6,
     "metadata": {},
     "output_type": "execute_result"
    }
   ],
   "source": [
    "uniqeu_data[0][\"revised_code\"]"
   ]
  },
  {
   "cell_type": "code",
   "execution_count": 12,
   "metadata": {},
   "outputs": [
    {
     "data": {
      "text/plain": [
       "15692"
      ]
     },
     "execution_count": 12,
     "metadata": {},
     "output_type": "execute_result"
    }
   ],
   "source": [
    "filtered_data = []  \n",
    "  \n",
    "for item in uniqeu_data:  \n",
    "    try:\n",
    "        solutions = item.get('revised_code', \"\")\n",
    "        if 'main()' not in solutions:\n",
    "            filtered_data.append(item)  \n",
    "        # if solutions:  # Check if the solutions list is not empty  \n",
    "        #     non_main_solutions = [sol for sol in solutions if 'main()' not in sol]  \n",
    "        #     if non_main_solutions:  \n",
    "        #         item['answer'] = non_main_solutions[0]  # Take the first valid solution  \n",
    "                \n",
    "    except Exception as e:\n",
    "        print(e)\n",
    "        continue\n",
    "len(filtered_data)"
   ]
  },
  {
   "cell_type": "code",
   "execution_count": 9,
   "metadata": {},
   "outputs": [
    {
     "data": {
      "text/plain": [
       "[{'index': 7,\n",
       "  'revised_code': 'n, k = map(int, input().split())\\na = list(map(int, input().split()))\\nans = 0\\n\\nfor i in range(n - 1):\\n    for j in range(i + 1, n):\\n        if abs(a[i] - a[j]) >= k:\\n            ans += 1\\n\\nprint(ans)',\n",
       "  'question': 'Zonal Computing Olympiad 2015, 29 Nov 2014\\n\\nWe say that two integers x and y have a variation of at least K, if |x − y| ≥ K (the absolute value of their difference is at least K). Given a sequence of N integers a1,a2,...,aN and K, the total variation count is the number of pairs of elements in the sequence with variation at least K, i.e. it is the size of the set of pairs\\n\\n{(i,j)|1≤i<j≤N and|ai−aj|≥K} \\n\\nFor example if K = 1 and the sequence is 3,2,4 the answer is 3. If K = 1 and the sequence is 3, 1, 3 then the answer is 2.\\n\\nYour task is to write a program that takes a sequence and the value K as input and computes the total variation count.\\n\\n-----Input format-----\\nThe first line contains two positive integers N and K, separated by a space.\\n\\nThis is followed by a line containing N integers separated by space giving the values\\nof the sequence.\\n\\n-----Output format-----\\nA single integer in a single line giving the total variation count.\\n\\n-----Test data-----\\nYou may assume that all integers in the input are in the range 0 to 10^8 inclusive.\\n\\nSubtask 1 (40 marks) : 1 ≤ N ≤ 4000, 1 ≤ K ≤ 10^8 \\nSubtask 2 (60 marks) : 1 ≤ N ≤ 65000, 1 ≤ K ≤ 10^8 \\n\\n-----Sample Input-----\\n3 1 \\n3 1 3\\n\\n-----Sample Output-----\\n2',\n",
       "  'starter_code': '',\n",
       "  'difficulty': 'UNKNOWN_DIFFICULTY',\n",
       "  'raw_tags': '[]',\n",
       "  'name': None,\n",
       "  'source': 'codechef',\n",
       "  'tags': '[]',\n",
       "  'skill_types': '[]',\n",
       "  'url': 'https://www.codechef.com/ZCOPRAC/problems/ZCO15002',\n",
       "  'Expected Auxiliary Space': None,\n",
       "  'time_limit': None,\n",
       "  'date': None,\n",
       "  'picture_num': None,\n",
       "  'memory_limit': None,\n",
       "  'Expected Time Complexity': None,\n",
       "  'answer': '(n, k) = [int(x) for x in input().split()]\\na = [int(x) for x in input().split()]\\nans = 0\\nfor i in range(n - 1):\\n\\tfor j in range(i + 1, n):\\n\\t\\tif abs(a[i] - a[j]) >= k:\\n\\t\\t\\tans += 1\\nprint(ans)\\n',\n",
       "  'prompt': 'You are required to solve a programming problem. Please enclose your code inside a ```python``` block.  Do not write a main() function. If Call-Based format is used, return the result in an appropriate place instead of printing it.\\n\\n\\nQUESTION:\\nZonal Computing Olympiad 2015, 29 Nov 2014\\n\\nWe say that two integers x and y have a variation of at least K, if |x − y| ≥ K (the absolute value of their difference is at least K). Given a sequence of N integers a1,a2,...,aN and K, the total variation count is the number of pairs of elements in the sequence with variation at least K, i.e. it is the size of the set of pairs\\n\\n{(i,j)|1≤i<j≤N and|ai−aj|≥K} \\n\\nFor example if K = 1 and the sequence is 3,2,4 the answer is 3. If K = 1 and the sequence is 3, 1, 3 then the answer is 2.\\n\\nYour task is to write a program that takes a sequence and the value K as input and computes the total variation count.\\n\\n-----Input format-----\\nThe first line contains two positive integers N and K, separated by a space.\\n\\nThis is followed by a line containing N integers separated by space giving the values\\nof the sequence.\\n\\n-----Output format-----\\nA single integer in a single line giving the total variation count.\\n\\n-----Test data-----\\nYou may assume that all integers in the input are in the range 0 to 10^8 inclusive.\\n\\nSubtask 1 (40 marks) : 1 ≤ N ≤ 4000, 1 ≤ K ≤ 10^8 \\nSubtask 2 (60 marks) : 1 ≤ N ≤ 65000, 1 ≤ K ≤ 10^8 \\n\\n-----Sample Input-----\\n3 1 \\n3 1 3\\n\\n-----Sample Output-----\\n2\\nPlease write your code using Standard IO, i.e. input() and print().\\nANSWER:\\n',\n",
       "  'format_answer': '```python\\n(n, k) = [int(x) for x in input().split()]\\na = [int(x) for x in input().split()]\\nans = 0\\nfor i in range(n - 1):\\n\\tfor j in range(i + 1, n):\\n\\t\\tif abs(a[i] - a[j]) >= k:\\n\\t\\t\\tans += 1\\nprint(ans)\\n\\n```'},\n",
       " {'index': 1,\n",
       "  'revised_code': \"MOD = 1000000007\\n\\nfor _ in range(int(input())):\\n    n = int(input())\\n    if n <= 2:\\n        print('0')\\n    else:\\n        result = pow(2, n - 1, MOD) - 2\\n        print(result)\",\n",
       "  'question': 'Given N, count how many permutations of [1, 2, 3, ..., N] satisfy the following property.\\n\\nLet P1, P2, ..., PN denote the permutation. The property we want to satisfy is that there exists an i between 2 and n-1 (inclusive) such that\\n\\n- Pj > Pj + 1  ∀    i ≤ j ≤ N - 1.\\n- Pj > Pj - 1  ∀    2 ≤ j ≤ i.\\n\\n-----Input-----\\nFirst line contains T, the number of test cases. Each test case consists of N in one line.\\n\\n-----Output-----\\nFor each test case, output the answer modulo 109+7.\\n\\n-----Constraints-----\\n- 1 ≤ T ≤ 100\\n- 1 ≤ N ≤ 109\\n\\n-----Subtasks-----\\n- Subtask #1(40 points): 1 ≤ N ≤ 1000\\n- Subtask #2(60 points): original constraints\\n\\n-----Example-----\\nInput:\\n2\\n2\\n3\\n\\nOutput:\\n0\\n2\\n\\n-----Explanation-----\\n\\nTest case 1:\\n\\nNo permutation satisfies.\\n\\nTest case 2:\\n\\nPermutations [1, 3, 2] and [2, 3, 1] satisfy the property.',\n",
       "  'starter_code': '',\n",
       "  'difficulty': 'MEDIUM_HARD',\n",
       "  'raw_tags': \"['Mathematics', 'Modular Arithmetic', 'Modular Exponentiation']\",\n",
       "  'name': None,\n",
       "  'source': 'codechef',\n",
       "  'tags': \"['Number theory', 'Mathematics']\",\n",
       "  'skill_types': '[]',\n",
       "  'url': 'https://www.codechef.com/problems/CPERM',\n",
       "  'Expected Auxiliary Space': None,\n",
       "  'time_limit': '1 seconds',\n",
       "  'date': '2014-04-18',\n",
       "  'picture_num': '0',\n",
       "  'memory_limit': '50000 bytes',\n",
       "  'Expected Time Complexity': None,\n",
       "  'answer': \"MOD = int(1000000000.0 + 7)\\nfor _ in range(int(input())):\\n\\tn = input()\\n\\tn = int(n)\\n\\tif n <= 2:\\n\\t\\tprint('0')\\n\\t\\tcontinue\\n\\tprint(pow(2, n - 1, MOD) - 2)\\n\",\n",
       "  'prompt': 'You are required to solve a programming problem. Please enclose your code inside a ```python``` block.  Do not write a main() function. If Call-Based format is used, return the result in an appropriate place instead of printing it.\\n\\n\\nQUESTION:\\nGiven N, count how many permutations of [1, 2, 3, ..., N] satisfy the following property.\\n\\nLet P1, P2, ..., PN denote the permutation. The property we want to satisfy is that there exists an i between 2 and n-1 (inclusive) such that\\n\\n- Pj > Pj + 1  ∀    i ≤ j ≤ N - 1.\\n- Pj > Pj - 1  ∀    2 ≤ j ≤ i.\\n\\n-----Input-----\\nFirst line contains T, the number of test cases. Each test case consists of N in one line.\\n\\n-----Output-----\\nFor each test case, output the answer modulo 109+7.\\n\\n-----Constraints-----\\n- 1 ≤ T ≤ 100\\n- 1 ≤ N ≤ 109\\n\\n-----Subtasks-----\\n- Subtask #1(40 points): 1 ≤ N ≤ 1000\\n- Subtask #2(60 points): original constraints\\n\\n-----Example-----\\nInput:\\n2\\n2\\n3\\n\\nOutput:\\n0\\n2\\n\\n-----Explanation-----\\n\\nTest case 1:\\n\\nNo permutation satisfies.\\n\\nTest case 2:\\n\\nPermutations [1, 3, 2] and [2, 3, 1] satisfy the property.\\nPlease write your code using Standard IO, i.e. input() and print().\\nANSWER:\\n',\n",
       "  'format_answer': \"```python\\nMOD = int(1000000000.0 + 7)\\nfor _ in range(int(input())):\\n\\tn = input()\\n\\tn = int(n)\\n\\tif n <= 2:\\n\\t\\tprint('0')\\n\\t\\tcontinue\\n\\tprint(pow(2, n - 1, MOD) - 2)\\n\\n```\"}]"
      ]
     },
     "execution_count": 9,
     "metadata": {},
     "output_type": "execute_result"
    }
   ],
   "source": [
    "len(filtered_data)\n",
    "filtered_data[:2]"
   ]
  },
  {
   "cell_type": "code",
   "execution_count": 13,
   "metadata": {},
   "outputs": [],
   "source": [
    "def generate_prompt(problem):\n",
    "    prompt = \"\\nQUESTION:\\n\"\n",
    "    prompt += problem[\"question\"]\n",
    "    starter_code = problem[\"starter_code\"] if len(problem.get(\"starter_code\", [])) > 0 else None\n",
    "    try:\n",
    "        input_outout = json.loads(problem[\"input_output\"])\n",
    "        fn_name = (\n",
    "            None if not input_outout.get(\"fn_name\") else input_outout[\"fn_name\"]\n",
    "        )\n",
    "    except ValueError:\n",
    "        fn_name = None\n",
    "        \n",
    "    if (not fn_name) and (not starter_code):\n",
    "        call_format = \"\\nPlease write your code using Standard IO, i.e. input() and print().\"\n",
    "        prompt += call_format\n",
    "    else:\n",
    "        call_format = \"\\Please write your code using Call-Based format.\"\n",
    "        prompt += call_format\n",
    "\n",
    "    if starter_code:\n",
    "        prompt += \"The starter code is provided as below. Please finish the code.\\n\" + starter_code + '\\n'\n",
    "            \n",
    "    prompt += \"\\nANSWER:\\n\"\n",
    "    return prompt\n",
    "for item in filtered_data:\n",
    "    # prompt = generate_prompt(item)\n",
    "    # formatted_prompt = (  \n",
    "    #     \"You are required to solve a programming problem. \" \n",
    "    #     + \"Please enclose your code inside a ```python``` block. \" \n",
    "    #     + \" Do not write a main() function. If Call-Based format is used, return the result in an appropriate place instead of printing it.\\n\\n\" \\\n",
    "    #     + prompt\n",
    "    # )  \n",
    "    # item['prompt'] = formatted_prompt\n",
    "    item[\"format_answer\"] = f\"```python\\n{item['revised_code'].strip()}\\n```\"\n",
    "    # item.pop(\"solutions\")\n",
    "    # item.pop(\"input_output\")"
   ]
  },
  {
   "cell_type": "code",
   "execution_count": 14,
   "metadata": {},
   "outputs": [
    {
     "data": {
      "text/plain": [
       "15692"
      ]
     },
     "execution_count": 14,
     "metadata": {},
     "output_type": "execute_result"
    }
   ],
   "source": [
    "len(filtered_data)"
   ]
  },
  {
   "cell_type": "code",
   "execution_count": 15,
   "metadata": {},
   "outputs": [
    {
     "data": {
      "text/plain": [
       "{'index': 7,\n",
       " 'revised_code': 'n, k = map(int, input().split())\\na = list(map(int, input().split()))\\nans = 0\\n\\nfor i in range(n - 1):\\n    for j in range(i + 1, n):\\n        if abs(a[i] - a[j]) >= k:\\n            ans += 1\\n\\nprint(ans)',\n",
       " 'question': 'Zonal Computing Olympiad 2015, 29 Nov 2014\\n\\nWe say that two integers x and y have a variation of at least K, if |x − y| ≥ K (the absolute value of their difference is at least K). Given a sequence of N integers a1,a2,...,aN and K, the total variation count is the number of pairs of elements in the sequence with variation at least K, i.e. it is the size of the set of pairs\\n\\n{(i,j)|1≤i<j≤N and|ai−aj|≥K} \\n\\nFor example if K = 1 and the sequence is 3,2,4 the answer is 3. If K = 1 and the sequence is 3, 1, 3 then the answer is 2.\\n\\nYour task is to write a program that takes a sequence and the value K as input and computes the total variation count.\\n\\n-----Input format-----\\nThe first line contains two positive integers N and K, separated by a space.\\n\\nThis is followed by a line containing N integers separated by space giving the values\\nof the sequence.\\n\\n-----Output format-----\\nA single integer in a single line giving the total variation count.\\n\\n-----Test data-----\\nYou may assume that all integers in the input are in the range 0 to 10^8 inclusive.\\n\\nSubtask 1 (40 marks) : 1 ≤ N ≤ 4000, 1 ≤ K ≤ 10^8 \\nSubtask 2 (60 marks) : 1 ≤ N ≤ 65000, 1 ≤ K ≤ 10^8 \\n\\n-----Sample Input-----\\n3 1 \\n3 1 3\\n\\n-----Sample Output-----\\n2',\n",
       " 'starter_code': '',\n",
       " 'difficulty': 'UNKNOWN_DIFFICULTY',\n",
       " 'raw_tags': '[]',\n",
       " 'name': None,\n",
       " 'source': 'codechef',\n",
       " 'tags': '[]',\n",
       " 'skill_types': '[]',\n",
       " 'url': 'https://www.codechef.com/ZCOPRAC/problems/ZCO15002',\n",
       " 'Expected Auxiliary Space': None,\n",
       " 'time_limit': None,\n",
       " 'date': None,\n",
       " 'picture_num': None,\n",
       " 'memory_limit': None,\n",
       " 'Expected Time Complexity': None,\n",
       " 'answer': '(n, k) = [int(x) for x in input().split()]\\na = [int(x) for x in input().split()]\\nans = 0\\nfor i in range(n - 1):\\n\\tfor j in range(i + 1, n):\\n\\t\\tif abs(a[i] - a[j]) >= k:\\n\\t\\t\\tans += 1\\nprint(ans)\\n',\n",
       " 'prompt': 'You are required to solve a programming problem. Please enclose your code inside a ```python``` block.  Do not write a main() function. If Call-Based format is used, return the result in an appropriate place instead of printing it.\\n\\n\\nQUESTION:\\nZonal Computing Olympiad 2015, 29 Nov 2014\\n\\nWe say that two integers x and y have a variation of at least K, if |x − y| ≥ K (the absolute value of their difference is at least K). Given a sequence of N integers a1,a2,...,aN and K, the total variation count is the number of pairs of elements in the sequence with variation at least K, i.e. it is the size of the set of pairs\\n\\n{(i,j)|1≤i<j≤N and|ai−aj|≥K} \\n\\nFor example if K = 1 and the sequence is 3,2,4 the answer is 3. If K = 1 and the sequence is 3, 1, 3 then the answer is 2.\\n\\nYour task is to write a program that takes a sequence and the value K as input and computes the total variation count.\\n\\n-----Input format-----\\nThe first line contains two positive integers N and K, separated by a space.\\n\\nThis is followed by a line containing N integers separated by space giving the values\\nof the sequence.\\n\\n-----Output format-----\\nA single integer in a single line giving the total variation count.\\n\\n-----Test data-----\\nYou may assume that all integers in the input are in the range 0 to 10^8 inclusive.\\n\\nSubtask 1 (40 marks) : 1 ≤ N ≤ 4000, 1 ≤ K ≤ 10^8 \\nSubtask 2 (60 marks) : 1 ≤ N ≤ 65000, 1 ≤ K ≤ 10^8 \\n\\n-----Sample Input-----\\n3 1 \\n3 1 3\\n\\n-----Sample Output-----\\n2\\nPlease write your code using Standard IO, i.e. input() and print().\\nANSWER:\\n',\n",
       " 'format_answer': '```python\\nn, k = map(int, input().split())\\na = list(map(int, input().split()))\\nans = 0\\n\\nfor i in range(n - 1):\\n    for j in range(i + 1, n):\\n        if abs(a[i] - a[j]) >= k:\\n            ans += 1\\n\\nprint(ans)\\n```'}"
      ]
     },
     "execution_count": 15,
     "metadata": {},
     "output_type": "execute_result"
    }
   ],
   "source": [
    "filtered_data[0]"
   ]
  },
  {
   "cell_type": "code",
   "execution_count": 56,
   "metadata": {},
   "outputs": [],
   "source": [
    "with open(\"/mnt/lingjiejiang/multimodal_code/data/code_contest/revised_filtered_15k.json\", \"w\") as f:\n",
    "    json.dump(filtered_data, f, indent=4)"
   ]
  },
  {
   "cell_type": "code",
   "execution_count": 3,
   "metadata": {},
   "outputs": [
    {
     "data": {
      "text/plain": [
       "20288"
      ]
     },
     "execution_count": 3,
     "metadata": {},
     "output_type": "execute_result"
    }
   ],
   "source": [
    "with open(\"/mnt/lingjiejiang/multimodal_code/data/code_contest/taco_filtered_20k.json\", \"r\") as f:\n",
    "    tacao_data = json.load(f)\n",
    "len(tacao_data)"
   ]
  },
  {
   "cell_type": "code",
   "execution_count": 4,
   "metadata": {},
   "outputs": [
    {
     "data": {
      "text/plain": [
       "[{'question': 'There are $n$ candy boxes in front of Tania. The boxes are arranged in a row from left to right, numbered from $1$ to $n$. The $i$-th box contains $r_i$ candies, candies have the color $c_i$ (the color can take one of three values \\u200b\\u200b— red, green, or blue). All candies inside a single box have the same color (and it is equal to $c_i$).\\n\\nInitially, Tanya is next to the box number $s$. Tanya can move to the neighbor box (that is, with a number that differs by one) or eat candies in the current box. Tanya eats candies instantly, but the movement takes one second.\\n\\nIf Tanya eats candies from the box, then the box itself remains in place, but there is no more candies in it. In other words, Tanya always eats all the candies from the box and candies in the boxes are not refilled.\\n\\nIt is known that Tanya cannot eat candies of the same color one after another (that is, the colors of candies in two consecutive boxes from which she eats candies are always different). In addition, Tanya\\'s appetite is constantly growing, so in each next box from which she eats candies, there should be strictly more candies than in the previous one.\\n\\nNote that for the first box from which Tanya will eat candies, there are no restrictions on the color and number of candies.\\n\\nTanya wants to eat at least $k$ candies. What is the minimum number of seconds she will need? Remember that she eats candies instantly, and time is spent only on movements.\\n\\n\\n-----Input-----\\n\\nThe first line contains three integers $n$, $s$ and $k$ ($1 \\\\le n \\\\le 50$, $1 \\\\le s \\\\le n$, $1 \\\\le k \\\\le 2000$) — number of the boxes, initial position of Tanya and lower bound on number of candies to eat. The following line contains $n$ integers $r_i$ ($1 \\\\le r_i \\\\le 50$) — numbers of candies in the boxes. The third line contains sequence of $n$ letters \\'R\\', \\'G\\' and \\'B\\', meaning the colors of candies in the correspondent boxes (\\'R\\' for red, \\'G\\' for green, \\'B\\' for blue). Recall that each box contains candies of only one color. The third line contains no spaces.\\n\\n\\n-----Output-----\\n\\nPrint minimal number of seconds to eat at least $k$ candies. If solution doesn\\'t exist, print \"-1\".\\n\\n\\n-----Examples-----\\nInput\\n5 3 10\\n1 2 3 4 5\\nRGBRR\\n\\nOutput\\n4\\n\\nInput\\n2 1 15\\n5 6\\nRG\\n\\nOutput\\n-1\\n\\n\\n\\n-----Note-----\\n\\nThe sequence of actions of Tanya for the first example:\\n\\n  move from the box $3$ to the box $2$;  eat candies from the box $2$;  move from the box $2$ to the box $3$;  eat candy from the box $3$;  move from the box $3$ to the box $4$;  move from the box $4$ to the box $5$;  eat candies from the box $5$. \\n\\nSince Tanya eats candy instantly, the required time is four seconds.',\n",
       "  'starter_code': '',\n",
       "  'difficulty': 'HARD',\n",
       "  'raw_tags': \"['dp']\",\n",
       "  'name': None,\n",
       "  'source': 'codeforces',\n",
       "  'tags': \"['Dynamic programming']\",\n",
       "  'skill_types': \"['Dynamic programming']\",\n",
       "  'url': 'https://codeforces.com/problemset/problem/1057/C',\n",
       "  'Expected Auxiliary Space': None,\n",
       "  'time_limit': None,\n",
       "  'date': '2019-12-31',\n",
       "  'picture_num': None,\n",
       "  'memory_limit': None,\n",
       "  'Expected Time Complexity': None,\n",
       "  'answer': \"(n, s, k) = map(int, input().split())\\ns -= 1\\nr = list(map(int, input().split()))\\nINF = float('inf')\\nc = input()\\ndp = [[] for i in range(n)]\\n\\ndef calc(u):\\n\\tif dp[u]:\\n\\t\\treturn\\n\\tdp[u] = [0] * (r[u] + 1) + [INF] * (k - r[u])\\n\\tfor i in range(n):\\n\\t\\tif c[u] != c[i] and r[i] > r[u]:\\n\\t\\t\\tcalc(i)\\n\\t\\t\\td = abs(u - i)\\n\\t\\t\\tfor j in range(r[u] + 1, k + 1):\\n\\t\\t\\t\\tdp[u][j] = min(dp[u][j], dp[i][j - r[u]] + d)\\nans = INF\\nfor i in range(n):\\n\\tcalc(i)\\n\\tans = min(ans, abs(i - s) + dp[i][k])\\nif ans == INF:\\n\\tprint(-1)\\nelse:\\n\\tprint(ans)\\n\",\n",
       "  'prompt': 'You are required to solve a programming problem. Please enclose your code inside a ```python``` block.  Do not write a main() function. If Call-Based format is used, return the result in an appropriate place instead of printing it.\\n\\n\\nQUESTION:\\nThere are $n$ candy boxes in front of Tania. The boxes are arranged in a row from left to right, numbered from $1$ to $n$. The $i$-th box contains $r_i$ candies, candies have the color $c_i$ (the color can take one of three values \\u200b\\u200b— red, green, or blue). All candies inside a single box have the same color (and it is equal to $c_i$).\\n\\nInitially, Tanya is next to the box number $s$. Tanya can move to the neighbor box (that is, with a number that differs by one) or eat candies in the current box. Tanya eats candies instantly, but the movement takes one second.\\n\\nIf Tanya eats candies from the box, then the box itself remains in place, but there is no more candies in it. In other words, Tanya always eats all the candies from the box and candies in the boxes are not refilled.\\n\\nIt is known that Tanya cannot eat candies of the same color one after another (that is, the colors of candies in two consecutive boxes from which she eats candies are always different). In addition, Tanya\\'s appetite is constantly growing, so in each next box from which she eats candies, there should be strictly more candies than in the previous one.\\n\\nNote that for the first box from which Tanya will eat candies, there are no restrictions on the color and number of candies.\\n\\nTanya wants to eat at least $k$ candies. What is the minimum number of seconds she will need? Remember that she eats candies instantly, and time is spent only on movements.\\n\\n\\n-----Input-----\\n\\nThe first line contains three integers $n$, $s$ and $k$ ($1 \\\\le n \\\\le 50$, $1 \\\\le s \\\\le n$, $1 \\\\le k \\\\le 2000$) — number of the boxes, initial position of Tanya and lower bound on number of candies to eat. The following line contains $n$ integers $r_i$ ($1 \\\\le r_i \\\\le 50$) — numbers of candies in the boxes. The third line contains sequence of $n$ letters \\'R\\', \\'G\\' and \\'B\\', meaning the colors of candies in the correspondent boxes (\\'R\\' for red, \\'G\\' for green, \\'B\\' for blue). Recall that each box contains candies of only one color. The third line contains no spaces.\\n\\n\\n-----Output-----\\n\\nPrint minimal number of seconds to eat at least $k$ candies. If solution doesn\\'t exist, print \"-1\".\\n\\n\\n-----Examples-----\\nInput\\n5 3 10\\n1 2 3 4 5\\nRGBRR\\n\\nOutput\\n4\\n\\nInput\\n2 1 15\\n5 6\\nRG\\n\\nOutput\\n-1\\n\\n\\n\\n-----Note-----\\n\\nThe sequence of actions of Tanya for the first example:\\n\\n  move from the box $3$ to the box $2$;  eat candies from the box $2$;  move from the box $2$ to the box $3$;  eat candy from the box $3$;  move from the box $3$ to the box $4$;  move from the box $4$ to the box $5$;  eat candies from the box $5$. \\n\\nSince Tanya eats candy instantly, the required time is four seconds.\\nPlease write your code using Standard IO, i.e. input() and print().\\nANSWER:\\n',\n",
       "  'format_answer': \"```python\\n(n, s, k) = map(int, input().split())\\ns -= 1\\nr = list(map(int, input().split()))\\nINF = float('inf')\\nc = input()\\ndp = [[] for i in range(n)]\\n\\ndef calc(u):\\n\\tif dp[u]:\\n\\t\\treturn\\n\\tdp[u] = [0] * (r[u] + 1) + [INF] * (k - r[u])\\n\\tfor i in range(n):\\n\\t\\tif c[u] != c[i] and r[i] > r[u]:\\n\\t\\t\\tcalc(i)\\n\\t\\t\\td = abs(u - i)\\n\\t\\t\\tfor j in range(r[u] + 1, k + 1):\\n\\t\\t\\t\\tdp[u][j] = min(dp[u][j], dp[i][j - r[u]] + d)\\nans = INF\\nfor i in range(n):\\n\\tcalc(i)\\n\\tans = min(ans, abs(i - s) + dp[i][k])\\nif ans == INF:\\n\\tprint(-1)\\nelse:\\n\\tprint(ans)\\n\\n```\"},\n",
       " {'question': 'If you visit Aizu Akabeko shrine, you will find a unique paper fortune on which a number with more than one digit is written.\\n\\nEach digit ranges from 1 to 9 (zero is avoided because it is considered a bad omen in this shrine). Using this string of numeric values, you can predict how many years it will take before your dream comes true. Cut up the string into more than one segment and compare their values. The difference between the largest and smallest value will give you the number of years before your wish will be fulfilled. Therefore, the result varies depending on the way you cut up the string. For example, if you are given a string 11121314 and divide it into segments, say, as 1,11,21,3,14, then the difference between the largest and smallest is 21 - 1 = 20. Another division 11,12,13,14 produces 3 (i.e. 14 - 11) years. Any random division produces a game of luck. However, you can search the minimum number of years using a program.\\n\\nGiven a string of numerical characters, write a program to search the minimum years before your wish will be fulfilled.\\n\\n\\n\\nInput\\n\\nThe input is given in the following format.\\n\\n\\nn\\n\\n\\nAn integer n is given. Its number of digits is from 2 to 100,000, and each digit ranges from 1 to 9.\\n\\nOutput\\n\\nOutput the minimum number of years before your wish will be fulfilled.\\n\\nExamples\\n\\nInput\\n\\n11121314\\n\\n\\nOutput\\n\\n3\\n\\n\\nInput\\n\\n123125129\\n\\n\\nOutput\\n\\n6\\n\\n\\nInput\\n\\n119138\\n\\n\\nOutput\\n\\n5',\n",
       "  'starter_code': '',\n",
       "  'difficulty': 'UNKNOWN_DIFFICULTY',\n",
       "  'raw_tags': '[]',\n",
       "  'name': None,\n",
       "  'source': 'aizu',\n",
       "  'tags': '[]',\n",
       "  'skill_types': '[]',\n",
       "  'url': None,\n",
       "  'Expected Auxiliary Space': None,\n",
       "  'time_limit': '1.0 seconds',\n",
       "  'date': None,\n",
       "  'picture_num': None,\n",
       "  'memory_limit': '268.435456 megabytes',\n",
       "  'Expected Time Complexity': None,\n",
       "  'answer': \"def sub(maxs, mins):\\n\\tfor i in range(len(maxs)):\\n\\t\\tif maxs[i] != mins[i]:\\n\\t\\t\\tif i == len(maxs) - 1:\\n\\t\\t\\t\\treturn int(maxs[i]) - int(mins[i])\\n\\t\\t\\tif i == len(maxs) - 2:\\n\\t\\t\\t\\treturn int(maxs[i:i + 2]) - int(mins[i:i + 2])\\n\\t\\t\\treturn 10\\n\\treturn 0\\n\\ndef checkEqual(S):\\n\\tans = 8\\n\\tfor k in range(1, len(S)):\\n\\t\\tif len(S) % k != 0:\\n\\t\\t\\tcontinue\\n\\t\\tmins = maxs = S[0:k]\\n\\t\\tfor s in range(0, len(S), k):\\n\\t\\t\\tmaxs = max(maxs, S[s:s + k])\\n\\t\\t\\tmins = min(mins, S[s:s + k])\\n\\t\\tans = min(ans, sub(maxs, mins))\\n\\treturn ans\\n\\ndef check12(S):\\n\\tmaxv = 0\\n\\tminv = 10\\n\\tp = 0\\n\\twhile p < len(S):\\n\\t\\tv = int(S[p])\\n\\t\\tif S[p] == '1' and p + 1 < len(S):\\n\\t\\t\\tv = 10 + int(S[p + 1])\\n\\t\\t\\tp += 1\\n\\t\\tmaxv = max(maxv, v)\\n\\t\\tminv = min(minv, v)\\n\\t\\tp += 1\\n\\treturn maxv - minv\\nS = input()\\nprint(min(checkEqual(S), check12(S)))\\n\",\n",
       "  'prompt': 'You are required to solve a programming problem. Please enclose your code inside a ```python``` block.  Do not write a main() function. If Call-Based format is used, return the result in an appropriate place instead of printing it.\\n\\n\\nQUESTION:\\nIf you visit Aizu Akabeko shrine, you will find a unique paper fortune on which a number with more than one digit is written.\\n\\nEach digit ranges from 1 to 9 (zero is avoided because it is considered a bad omen in this shrine). Using this string of numeric values, you can predict how many years it will take before your dream comes true. Cut up the string into more than one segment and compare their values. The difference between the largest and smallest value will give you the number of years before your wish will be fulfilled. Therefore, the result varies depending on the way you cut up the string. For example, if you are given a string 11121314 and divide it into segments, say, as 1,11,21,3,14, then the difference between the largest and smallest is 21 - 1 = 20. Another division 11,12,13,14 produces 3 (i.e. 14 - 11) years. Any random division produces a game of luck. However, you can search the minimum number of years using a program.\\n\\nGiven a string of numerical characters, write a program to search the minimum years before your wish will be fulfilled.\\n\\n\\n\\nInput\\n\\nThe input is given in the following format.\\n\\n\\nn\\n\\n\\nAn integer n is given. Its number of digits is from 2 to 100,000, and each digit ranges from 1 to 9.\\n\\nOutput\\n\\nOutput the minimum number of years before your wish will be fulfilled.\\n\\nExamples\\n\\nInput\\n\\n11121314\\n\\n\\nOutput\\n\\n3\\n\\n\\nInput\\n\\n123125129\\n\\n\\nOutput\\n\\n6\\n\\n\\nInput\\n\\n119138\\n\\n\\nOutput\\n\\n5\\nPlease write your code using Standard IO, i.e. input() and print().\\nANSWER:\\n',\n",
       "  'format_answer': \"```python\\ndef sub(maxs, mins):\\n\\tfor i in range(len(maxs)):\\n\\t\\tif maxs[i] != mins[i]:\\n\\t\\t\\tif i == len(maxs) - 1:\\n\\t\\t\\t\\treturn int(maxs[i]) - int(mins[i])\\n\\t\\t\\tif i == len(maxs) - 2:\\n\\t\\t\\t\\treturn int(maxs[i:i + 2]) - int(mins[i:i + 2])\\n\\t\\t\\treturn 10\\n\\treturn 0\\n\\ndef checkEqual(S):\\n\\tans = 8\\n\\tfor k in range(1, len(S)):\\n\\t\\tif len(S) % k != 0:\\n\\t\\t\\tcontinue\\n\\t\\tmins = maxs = S[0:k]\\n\\t\\tfor s in range(0, len(S), k):\\n\\t\\t\\tmaxs = max(maxs, S[s:s + k])\\n\\t\\t\\tmins = min(mins, S[s:s + k])\\n\\t\\tans = min(ans, sub(maxs, mins))\\n\\treturn ans\\n\\ndef check12(S):\\n\\tmaxv = 0\\n\\tminv = 10\\n\\tp = 0\\n\\twhile p < len(S):\\n\\t\\tv = int(S[p])\\n\\t\\tif S[p] == '1' and p + 1 < len(S):\\n\\t\\t\\tv = 10 + int(S[p + 1])\\n\\t\\t\\tp += 1\\n\\t\\tmaxv = max(maxv, v)\\n\\t\\tminv = min(minv, v)\\n\\t\\tp += 1\\n\\treturn maxv - minv\\nS = input()\\nprint(min(checkEqual(S), check12(S)))\\n\\n```\"}]"
      ]
     },
     "execution_count": 4,
     "metadata": {},
     "output_type": "execute_result"
    }
   ],
   "source": [
    "tacao_data[:2]"
   ]
  },
  {
   "cell_type": "code",
   "execution_count": 17,
   "metadata": {},
   "outputs": [
    {
     "data": {
      "text/plain": [
       "330"
      ]
     },
     "execution_count": 17,
     "metadata": {},
     "output_type": "execute_result"
    }
   ],
   "source": [
    "import json\n",
    "with open(\"/mnt/lingjiejiang/multimodal_code/data/MMCode/train_data_gpt4o_with_right_single_image_all_related_330.json\", \"r\") as f:\n",
    "    mmcode_data = json.load(f)\n",
    "len(mmcode_data)"
   ]
  },
  {
   "cell_type": "code",
   "execution_count": 18,
   "metadata": {},
   "outputs": [
    {
     "data": {
      "text/plain": [
       "{'messages': [{'content': \"<image>You are required to solve a programming problem. Please enclose your code inside a ```python``` block.  Do not write a main() function. If Call-Based format is used, return the result in an appropriate place instead of printing it.\\n\\n\\nQUESTION:\\nProfessor GukiZ likes programming contests. He especially likes to rate his students on the contests he prepares. Now, he has decided to prepare a new contest. \\nIn total, n students will attend, and before the start, every one of them has some positive integer rating. Students are indexed from 1 to n. Let's denote the rating of i-th student as a_{i}. After the contest ends, every student will end up with some positive integer position. GukiZ expects that his students will take places according to their ratings. \\nHe thinks that each student will take place equal to . In particular, if student A has rating strictly lower then student B, A will get the strictly better position than B, and if two students have equal ratings, they will share the same position. \\nGukiZ would like you to reconstruct the results by following his expectations. Help him and determine the position after the end of the contest for each of his students if everything goes as expected.\\n\\nInput\\nThe first line contains integer n (1\\u2009≤\\u2009n\\u2009≤\\u20092000), number of GukiZ's students. \\nThe second line contains n numbers a_{1},\\u2009a_{2},\\u2009... a_{n} (1\\u2009≤\\u2009a_{i}\\u2009≤\\u20092000) where a_{i} is the rating of i-th student (1\\u2009≤\\u2009i\\u2009≤\\u2009n).\\n\\nOutput\\nIn a single line, print the position after the end of the contest for each of n students in the same order as they appear in the input.\\n\\nExamples\\nInput\\n3\\n1 3 3\\n\\n\\nOutput\\n3 1 1\\n\\n\\nInput\\n1\\n1\\n\\n\\nOutput\\n1\\n\\n\\nInput\\n5\\n3 5 3 4 5\\n\\n\\nOutput\\n4 1 4 3 1\\n\\n\\n\\n\\nNote\\nIn the first sample, students 2 and 3 are positioned first (there is no other student with higher rating), and student 1 is positioned third since there are two students with higher rating.\\nIn the second sample, first student is the only one on the contest.\\nIn the third sample, students 2 and 5 share the first position with highest rating, student 4 is next with third position, and students 1 and 3 are the last sharing fourth position.\\n\\n\\n\\nPlease write your code using Standard IO, i.e. input() and print().\\nANSWER:\\n\",\n",
       "   'role': 'user'},\n",
       "  {'content': \"```python\\n```python\\ndef calculate_positions(n, ratings):\\n    # Create a list of tuples where each tuple is (rating, index)\\n    indexed_ratings = [(ratings[i], i) for i in range(n)]\\n    \\n    # Sort the list based on ratings in descending order\\n    indexed_ratings.sort(reverse=True, key=lambda x: x[0])\\n    \\n    # Initialize the result list with zeros\\n    positions = [0] * n\\n    \\n    # Assign positions based on sorted order\\n    current_position = 1\\n    for i in range(n):\\n        if i > 0 and indexed_ratings[i][0] != indexed_ratings[i - 1][0]:\\n            current_position = i + 1\\n        positions[indexed_ratings[i][1]] = current_position\\n    \\n    return positions\\n\\n# Read input\\nn = int(input().strip())\\nratings = list(map(int, input().strip().split()))\\n\\n# Calculate positions\\npositions = calculate_positions(n, ratings)\\n\\n# Print the result\\nprint(' '.join(map(str, positions)))\\n```\\n```\",\n",
       "   'role': 'assistant'}],\n",
       " 'images': ['/mnt/lingjiejiang/multimodal_code/data/MMCode/gpt4o_single_images/cf_551_A_0.png']}"
      ]
     },
     "execution_count": 18,
     "metadata": {},
     "output_type": "execute_result"
    }
   ],
   "source": [
    "mmcode_data[0]"
   ]
  },
  {
   "cell_type": "code",
   "execution_count": 15,
   "metadata": {},
   "outputs": [
    {
     "data": {
      "text/plain": [
       "0"
      ]
     },
     "execution_count": 15,
     "metadata": {},
     "output_type": "execute_result"
    }
   ],
   "source": [
    "temp = []\n",
    "for item in mmcode_data:\n",
    "    prompt = item[\"messages\"][0][\"content\"]\n",
    "    if not prompt.startswith(\"<image>You are required to solve a programming problem.\"):\n",
    "        temp.append(item)\n",
    "len(temp)"
   ]
  },
  {
   "cell_type": "code",
   "execution_count": 17,
   "metadata": {},
   "outputs": [
    {
     "data": {
      "text/plain": [
       "15682"
      ]
     },
     "execution_count": 17,
     "metadata": {},
     "output_type": "execute_result"
    }
   ],
   "source": [
    "import json  \n",
    "import re  \n",
    "  \n",
    "def is_english_or_other(text):  \n",
    "    # 检查文本是否仅包含拉丁字符和其他非日语或中文字符  \n",
    "    # \\u3040-\\u30FF 是日语平假名和片假名的范围  \n",
    "    # \\u4E00-\\u9FFF 是中文汉字的范围  \n",
    "    # \\uFF00-\\uFFEF 是全角字符范围，包括日文符号  \n",
    "    # \\u3400-\\u4DBF 是扩展汉字  \n",
    "    # 这里我们假设允许的字符是除这些范围之外的所有字符  \n",
    "    return not bool(re.search(r'[\\u3040-\\u30FF\\u4E00-\\u9FFF\\uFF00-\\uFFEF\\u3400-\\u4DBF]', text))  \n",
    "  \n",
    "def filter_prompts(data):  \n",
    "    filtered_data = []  \n",
    "    for item in data:  \n",
    "        if 'prompt' in item and is_english_or_other(item['prompt']):  \n",
    "            filtered_data.append(item)  \n",
    "    return filtered_data  \n",
    "  \n",
    "# # 读取 JSON 文件  \n",
    "# with open(\"/mnt/lingjiejiang/multimodal_code/data/MMCode/train_data_gpt4o_with_right_single_image_860.json\", \"r\", encoding='utf-8') as f:  \n",
    "#     mmcode_data = json.load(f)  \n",
    "  \n",
    "# 过滤包含日语或中文字符的项目  \n",
    "filtered_data_revised = filter_prompts(filtered_data) \n",
    "len(filtered_data_revised)"
   ]
  },
  {
   "cell_type": "code",
   "execution_count": 18,
   "metadata": {},
   "outputs": [
    {
     "data": {
      "text/plain": [
       "{'index': 7,\n",
       " 'revised_code': 'n, k = map(int, input().split())\\na = list(map(int, input().split()))\\nans = 0\\n\\nfor i in range(n - 1):\\n    for j in range(i + 1, n):\\n        if abs(a[i] - a[j]) >= k:\\n            ans += 1\\n\\nprint(ans)',\n",
       " 'question': 'Zonal Computing Olympiad 2015, 29 Nov 2014\\n\\nWe say that two integers x and y have a variation of at least K, if |x − y| ≥ K (the absolute value of their difference is at least K). Given a sequence of N integers a1,a2,...,aN and K, the total variation count is the number of pairs of elements in the sequence with variation at least K, i.e. it is the size of the set of pairs\\n\\n{(i,j)|1≤i<j≤N and|ai−aj|≥K} \\n\\nFor example if K = 1 and the sequence is 3,2,4 the answer is 3. If K = 1 and the sequence is 3, 1, 3 then the answer is 2.\\n\\nYour task is to write a program that takes a sequence and the value K as input and computes the total variation count.\\n\\n-----Input format-----\\nThe first line contains two positive integers N and K, separated by a space.\\n\\nThis is followed by a line containing N integers separated by space giving the values\\nof the sequence.\\n\\n-----Output format-----\\nA single integer in a single line giving the total variation count.\\n\\n-----Test data-----\\nYou may assume that all integers in the input are in the range 0 to 10^8 inclusive.\\n\\nSubtask 1 (40 marks) : 1 ≤ N ≤ 4000, 1 ≤ K ≤ 10^8 \\nSubtask 2 (60 marks) : 1 ≤ N ≤ 65000, 1 ≤ K ≤ 10^8 \\n\\n-----Sample Input-----\\n3 1 \\n3 1 3\\n\\n-----Sample Output-----\\n2',\n",
       " 'starter_code': '',\n",
       " 'difficulty': 'UNKNOWN_DIFFICULTY',\n",
       " 'raw_tags': '[]',\n",
       " 'name': None,\n",
       " 'source': 'codechef',\n",
       " 'tags': '[]',\n",
       " 'skill_types': '[]',\n",
       " 'url': 'https://www.codechef.com/ZCOPRAC/problems/ZCO15002',\n",
       " 'Expected Auxiliary Space': None,\n",
       " 'time_limit': None,\n",
       " 'date': None,\n",
       " 'picture_num': None,\n",
       " 'memory_limit': None,\n",
       " 'Expected Time Complexity': None,\n",
       " 'answer': '(n, k) = [int(x) for x in input().split()]\\na = [int(x) for x in input().split()]\\nans = 0\\nfor i in range(n - 1):\\n\\tfor j in range(i + 1, n):\\n\\t\\tif abs(a[i] - a[j]) >= k:\\n\\t\\t\\tans += 1\\nprint(ans)\\n',\n",
       " 'prompt': 'You are required to solve a programming problem. Please enclose your code inside a ```python``` block.  Do not write a main() function. If Call-Based format is used, return the result in an appropriate place instead of printing it.\\n\\n\\nQUESTION:\\nZonal Computing Olympiad 2015, 29 Nov 2014\\n\\nWe say that two integers x and y have a variation of at least K, if |x − y| ≥ K (the absolute value of their difference is at least K). Given a sequence of N integers a1,a2,...,aN and K, the total variation count is the number of pairs of elements in the sequence with variation at least K, i.e. it is the size of the set of pairs\\n\\n{(i,j)|1≤i<j≤N and|ai−aj|≥K} \\n\\nFor example if K = 1 and the sequence is 3,2,4 the answer is 3. If K = 1 and the sequence is 3, 1, 3 then the answer is 2.\\n\\nYour task is to write a program that takes a sequence and the value K as input and computes the total variation count.\\n\\n-----Input format-----\\nThe first line contains two positive integers N and K, separated by a space.\\n\\nThis is followed by a line containing N integers separated by space giving the values\\nof the sequence.\\n\\n-----Output format-----\\nA single integer in a single line giving the total variation count.\\n\\n-----Test data-----\\nYou may assume that all integers in the input are in the range 0 to 10^8 inclusive.\\n\\nSubtask 1 (40 marks) : 1 ≤ N ≤ 4000, 1 ≤ K ≤ 10^8 \\nSubtask 2 (60 marks) : 1 ≤ N ≤ 65000, 1 ≤ K ≤ 10^8 \\n\\n-----Sample Input-----\\n3 1 \\n3 1 3\\n\\n-----Sample Output-----\\n2\\nPlease write your code using Standard IO, i.e. input() and print().\\nANSWER:\\n',\n",
       " 'format_answer': '```python\\nn, k = map(int, input().split())\\na = list(map(int, input().split()))\\nans = 0\\n\\nfor i in range(n - 1):\\n    for j in range(i + 1, n):\\n        if abs(a[i] - a[j]) >= k:\\n            ans += 1\\n\\nprint(ans)\\n```'}"
      ]
     },
     "execution_count": 18,
     "metadata": {},
     "output_type": "execute_result"
    }
   ],
   "source": [
    "filtered_data_revised[0]"
   ]
  },
  {
   "cell_type": "code",
   "execution_count": 33,
   "metadata": {},
   "outputs": [
    {
     "name": "stdout",
     "output_type": "stream",
     "text": [
      "15251 15682\n"
     ]
    }
   ],
   "source": [
    "for item in filtered_data_revised:  \n",
    "    item['messages'] = [  \n",
    "        {  \n",
    "            'content': item['prompt'],  \n",
    "            'role': 'user'  \n",
    "        },  \n",
    "        {  \n",
    "            'content': item['format_answer'],  \n",
    "            'role': 'assistant'  \n",
    "        }  \n",
    "    ]  \n",
    "    item[\"images\"] = []\n",
    "\n",
    "filtered_data_revised_img = [item for item in filtered_data_revised if \"<image>\" not in item['messages'][0]['content']]\n",
    "print(len(filtered_data_revised_img), len(filtered_data_revised))"
   ]
  },
  {
   "cell_type": "code",
   "execution_count": null,
   "metadata": {},
   "outputs": [],
   "source": [
    "for item in filtered_data_revised_img:\n",
    "    "
   ]
  },
  {
   "cell_type": "code",
   "execution_count": 20,
   "metadata": {},
   "outputs": [
    {
     "data": {
      "text/plain": [
       "15251"
      ]
     },
     "execution_count": 20,
     "metadata": {},
     "output_type": "execute_result"
    }
   ],
   "source": [
    "len(filtered_data_revised_img)"
   ]
  },
  {
   "cell_type": "code",
   "execution_count": 21,
   "metadata": {},
   "outputs": [],
   "source": [
    "\n",
    "with open(\"/mnt/lingjiejiang/multimodal_code/data/code_contest/code_revised_filter_15k.json\", \"w\") as f:\n",
    "    json.dump(filtered_data_revised_img, f, indent=4)"
   ]
  },
  {
   "cell_type": "code",
   "execution_count": 29,
   "metadata": {},
   "outputs": [
    {
     "data": {
      "text/plain": [
       "15251"
      ]
     },
     "execution_count": 29,
     "metadata": {},
     "output_type": "execute_result"
    }
   ],
   "source": [
    "with open(\"/mnt/lingjiejiang/multimodal_code/data/code_contest/code_revised_filter_15k.json\", \"r\") as f:\n",
    "    data = json.load(f)\n",
    "len(data)"
   ]
  },
  {
   "cell_type": "code",
   "execution_count": 32,
   "metadata": {},
   "outputs": [
    {
     "data": {
      "text/plain": [
       "[]"
      ]
     },
     "execution_count": 32,
     "metadata": {},
     "output_type": "execute_result"
    }
   ],
   "source": [
    "[item for item in data if \"<image>\" in item['messages'][0]['content']]"
   ]
  },
  {
   "cell_type": "code",
   "execution_count": 24,
   "metadata": {},
   "outputs": [
    {
     "data": {
      "text/plain": [
       "[{'id': '0',\n",
       "  'messages': [{'content': 'You are required to solve a programming problem. Please enclose your code inside a ```python``` block.  Do not write a main() function. If Call-Based format is used, return the result in an appropriate place instead of printing it.\\n\\n\\nQUESTION:\\nZonal Computing Olympiad 2015, 29 Nov 2014\\n\\nWe say that two integers x and y have a variation of at least K, if |x − y| ≥ K (the absolute value of their difference is at least K). Given a sequence of N integers a1,a2,...,aN and K, the total variation count is the number of pairs of elements in the sequence with variation at least K, i.e. it is the size of the set of pairs\\n\\n{(i,j)|1≤i<j≤N and|ai−aj|≥K} \\n\\nFor example if K = 1 and the sequence is 3,2,4 the answer is 3. If K = 1 and the sequence is 3, 1, 3 then the answer is 2.\\n\\nYour task is to write a program that takes a sequence and the value K as input and computes the total variation count.\\n\\n-----Input format-----\\nThe first line contains two positive integers N and K, separated by a space.\\n\\nThis is followed by a line containing N integers separated by space giving the values\\nof the sequence.\\n\\n-----Output format-----\\nA single integer in a single line giving the total variation count.\\n\\n-----Test data-----\\nYou may assume that all integers in the input are in the range 0 to 10^8 inclusive.\\n\\nSubtask 1 (40 marks) : 1 ≤ N ≤ 4000, 1 ≤ K ≤ 10^8 \\nSubtask 2 (60 marks) : 1 ≤ N ≤ 65000, 1 ≤ K ≤ 10^8 \\n\\n-----Sample Input-----\\n3 1 \\n3 1 3\\n\\n-----Sample Output-----\\n2\\nPlease write your code using Standard IO, i.e. input() and print().\\nANSWER:\\n',\n",
       "    'role': 'user'},\n",
       "   {'content': '```python\\nn, k = map(int, input().split())\\na = list(map(int, input().split()))\\nans = 0\\n\\nfor i in range(n - 1):\\n    for j in range(i + 1, n):\\n        if abs(a[i] - a[j]) >= k:\\n            ans += 1\\n\\nprint(ans)\\n```',\n",
       "    'role': 'assistant'}],\n",
       "  'images': []},\n",
       " {'id': '1',\n",
       "  'messages': [{'content': 'You are required to solve a programming problem. Please enclose your code inside a ```python``` block.  Do not write a main() function. If Call-Based format is used, return the result in an appropriate place instead of printing it.\\n\\n\\nQUESTION:\\nGiven N, count how many permutations of [1, 2, 3, ..., N] satisfy the following property.\\n\\nLet P1, P2, ..., PN denote the permutation. The property we want to satisfy is that there exists an i between 2 and n-1 (inclusive) such that\\n\\n- Pj > Pj + 1  ∀    i ≤ j ≤ N - 1.\\n- Pj > Pj - 1  ∀    2 ≤ j ≤ i.\\n\\n-----Input-----\\nFirst line contains T, the number of test cases. Each test case consists of N in one line.\\n\\n-----Output-----\\nFor each test case, output the answer modulo 109+7.\\n\\n-----Constraints-----\\n- 1 ≤ T ≤ 100\\n- 1 ≤ N ≤ 109\\n\\n-----Subtasks-----\\n- Subtask #1(40 points): 1 ≤ N ≤ 1000\\n- Subtask #2(60 points): original constraints\\n\\n-----Example-----\\nInput:\\n2\\n2\\n3\\n\\nOutput:\\n0\\n2\\n\\n-----Explanation-----\\n\\nTest case 1:\\n\\nNo permutation satisfies.\\n\\nTest case 2:\\n\\nPermutations [1, 3, 2] and [2, 3, 1] satisfy the property.\\nPlease write your code using Standard IO, i.e. input() and print().\\nANSWER:\\n',\n",
       "    'role': 'user'},\n",
       "   {'content': \"```python\\nMOD = 1000000007\\n\\nfor _ in range(int(input())):\\n    n = int(input())\\n    if n <= 2:\\n        print('0')\\n    else:\\n        result = pow(2, n - 1, MOD) - 2\\n        print(result)\\n```\",\n",
       "    'role': 'assistant'}],\n",
       "  'images': []}]"
      ]
     },
     "execution_count": 24,
     "metadata": {},
     "output_type": "execute_result"
    }
   ],
   "source": [
    "code_merged_data = []\n",
    "for id, item in enumerate(data):\n",
    "    code_merged_data.append(\n",
    "        {\n",
    "            \"id\": str(id),\n",
    "            \"messages\": item[\"messages\"],\n",
    "            \"images\": item[\"images\"]\n",
    "        }\n",
    "    )\n",
    "code_merged_data[:2]"
   ]
  },
  {
   "cell_type": "code",
   "execution_count": 66,
   "metadata": {},
   "outputs": [
    {
     "data": {
      "text/plain": [
       "[{'id': '20288',\n",
       "  'messages': [{'content': '<image>\\nYou are required to solve a programming problem. Please enclose your code inside a ```python``` block.  Do not write a main() function. If Call-Based format is used, return the result in an appropriate place instead of printing it.\\n\\n\\nQUESTION:\\n\\nProblem B: Book Replacement\\n\\nThe deadline of Prof. Hachioji’s assignment is tomorrow. To complete the task, students have\\nto copy pages of many reference books in the library.\\n\\nAll the reference books are in a storeroom and only the librarian is allowed to enter it. To obtain\\na copy of a reference book’s page, a student should ask the librarian to make it. The librarian\\nbrings books out of the storeroom and makes page copies according to the requests. The overall\\nsituation is shown in Figure 1.\\n\\nStudents queue up in front of the counter. Only a single book can be requested at a time. If a\\nstudent has more requests, the student goes to the end of the queue after the request has been\\nserved.\\n\\nIn the storeroom, there are m desks D_{1}, ... , D_{m}, and a shelf. They are placed in a line in this\\norder, from the door to the back of the room. Up to c books can be put on each of the desks. If\\na student requests a book, the librarian enters the storeroom and looks for it on D_{1}, ... , D_{m} in\\nthis order, and then on the shelf. After finding the book, the librarian takes it and gives a copy\\nof a page to the student.\\n\\n\\n\\nThen the librarian returns to the storeroom with the requested book, to put it on D_{1} according to the following procedure.\\n\\n- If D_{1} is not full (in other words, the number of books on D_{1} < c), the librarian puts the requested book there.\\n- \\nIf D_{1} is full, the librarian\\n\\n temporarily puts the requested book on the non-full desk closest to the entrance or,\\n     in case all the desks are full, on the shelf,\\n finds the book on D_{1} that has not been requested for the longest time (i.e. the least recently used book) and takes it,\\n puts it on the non-full desk (except D_{1} ) closest to the entrance or, in case all the desks except D_{1} are full, on the shelf,\\n takes the requested book from the temporary place,\\n and finally puts it on D_{1} .\\n\\nYour task is to write a program which simulates the behaviors of the students and the librarian,\\nand evaluates the total cost of the overall process. Costs are associated with accessing a desk\\nor the shelf, that is, putting/taking a book on/from it in the description above. The cost of an\\naccess is i for desk D_{i} and m + 1 for the shelf. That is, an access to D_{1}, ... , D_{m} , and the shelf\\ncosts 1, ... , m, and m + 1, respectively. Costs of other actions are ignored.\\n\\nInitially, no books are put on desks. No new students appear after opening the library.\\n\\nInput\\n\\nThe input consists of multiple datasets. The end of the input is indicated by a line containing\\nthree zeros separated by a space. It is not a dataset.\\n\\nThe format of each dataset is as follows.\\n\\n      \\n\\n      \\n_{1}\\n      \\n_{11} . . . _{1k1}\\n      .\\n      .\\n      .\\n      \\n\\n      \\n_{n1} . . . \\n\\nHere, all data items are positive integers. m is the number of desks not exceeding 10. c is the number of books allowed to put on a desk, which does not exceed 30. n is the number of\\nstudents not exceeding 100. k_{i} is the number of books requested by the i-th student, which does\\nnot exceed 50. b_{ij} is the ID number of the book requested by the i-th student on the j-th turn.\\nNo two books have the same ID number. Note that a student may request the same book more\\nthan once. b_{ij} is less than 100.\\n\\nHere we show you an example of cost calculation for the following dataset.\\n\\n3 1 2\\n3\\n60 61 62\\n2\\n70 60\\n\\nIn this dataset, there are 3 desks (D_{1}, D_{2}, D_{3} ). At most 1 book can be put on each desk. The\\nnumber of students is 2. The first student requests 3 books of which IDs are 60, 61, and 62,\\nrespectively, and the second student 2 books of which IDs are 70 and 60, respectively.\\n\\nThe calculation of the cost for this dataset is done as follows. First, for the first request of the\\nfirst student, the librarian takes the book 60 from the shelf and puts it on D_{1} and the first\\nstudent goes to the end of the queue, costing 5. Next, for the first request of the second student,\\nthe librarian takes the book 70 from the shelf, puts it on D_{2}, moves the book 60 from D_{1} to D_{3} ,\\nand finally moves the book 70 from D_{2} to D_{1} , costing 13. Similarly, the cost for the books 61,\\n60, and 62, are calculated as 14, 12, 14, respectively. Therefore, the total cost is 58.\\n\\nOutput\\n\\nFor each dataset, output the total cost of processing all the requests, in a separate line.\\n\\nSample Input\\n\\n2 1 1\\n1\\n50\\n2 1 2\\n1\\n50\\n1\\n60\\n2 1 2\\n2\\n60 61\\n1\\n70\\n4 2 3\\n3\\n60 61 62\\n1\\n70\\n2\\n80 81\\n3 1 2\\n3\\n60 61 62\\n2\\n70 60\\n1 2 5\\n2\\n87 95\\n3\\n96 71 35\\n2\\n68 2\\n3\\n3 18 93\\n2\\n57 2\\n2 2 1\\n5\\n1 2 1 3 1\\n0 0 0\\n\\nOutput for the Sample Input\\n\\n4\\n16\\n28\\n68\\n58\\n98\\n23\\n\\n\\nPlease write your code using Standard IO, i.e. input() and print().\\nANSWER:\\n',\n",
       "    'role': 'user'},\n",
       "   {'content': \"```python\\n```python\\ndef process_datasets():\\n    import sys\\n    input = sys.stdin.read\\n    data = input().strip().split('\\\\n')\\n    \\n    index = 0\\n    results = []\\n    \\n    while index < len(data):\\n        # Read the first line of the dataset\\n        m, c, n = map(int, data[index].split())\\n        if m == 0 and c == 0 and n == 0:\\n            break\\n        index += 1\\n        \\n        # Read the requests\\n        requests = []\\n        for _ in range(n):\\n            k = int(data[index])\\n            index += 1\\n            books = list(map(int, data[index].split()))\\n            index += 1\\n            requests.append(books)\\n        \\n        # Initialize desks and shelf\\n        desks = [[] for _ in range(m)]\\n        shelf = []\\n        \\n        # Function to find the least recently used book on a desk\\n        def find_lru(desk):\\n            return desk[0] if desk else None\\n        \\n        # Total cost\\n        total_cost = 0\\n        \\n        # Process each student's requests\\n        for student_requests in requests:\\n            for book in student_requests:\\n                # Check if the book is already on a desk or the shelf\\n                found = False\\n                for i in range(m):\\n                    if book in desks[i]:\\n                        # Book found on desk Di\\n                        total_cost += (i + 1)\\n                        desks[i].remove(book)\\n                        desks[i].append(book)  # Update usage\\n                        found = True\\n                        break\\n                \\n                if not found:\\n                    if book in shelf:\\n                        # Book found on the shelf\\n                        total_cost += (m + 1)\\n                        shelf.remove(book)\\n                        # Try to place it on a desk\\n                        for i in range(m):\\n                            if len(desks[i]) < c:\\n                                desks[i].append(book)\\n                                total_cost += (i + 1)\\n                                break\\n                        else:\\n                            # All desks are full, put it back on the shelf\\n                            shelf.append(book)\\n                    else:\\n                        # Book is not found, fetch from the shelf\\n                        total_cost += (m + 1)\\n                        # Try to place it on D1\\n                        if len(desks[0]) < c:\\n                            desks[0].append(book)\\n                            total_cost += 1\\n                        else:\\n                            # D1 is full, apply LRU policy\\n                            lru_book = find_lru(desks[0])\\n                            desks[0].remove(lru_book)\\n                            # Find a place for the LRU book\\n                            placed = False\\n                            for i in range(1, m):\\n                                if len(desks[i]) < c:\\n                                    desks[i].append(lru_book)\\n                                    total_cost += (i + 1)\\n                                    placed = True\\n                                    break\\n                            if not placed:\\n                                # All desks except D1 are full, place on the shelf\\n                                shelf.append(lru_book)\\n                                total_cost += (m + 1)\\n                            # Now place the requested book on D1\\n                            desks[0].append(book)\\n                            total_cost += 1\\n        \\n        # Store the result for this dataset\\n        results.append(total_cost)\\n    \\n    # Output all results\\n    for result in results:\\n        print(result)\\n```\\n```\",\n",
       "    'role': 'assistant'}],\n",
       "  'images': ['/mnt/lingjiejiang/multimodal_code/data/MMCode/gpt4o_single_images/az_1258_0.png']},\n",
       " {'id': '20289',\n",
       "  'messages': [{'content': \"<image>\\nYou are required to solve a programming problem. Please enclose your code inside a ```python``` block.  Do not write a main() function. If Call-Based format is used, return the result in an appropriate place instead of printing it.\\n\\n\\nQUESTION:\\nWabbit is trying to move a box containing food for the rest of the zoo in the coordinate plane from the point $$$(x_1,y_1)$$$ to the point $$$(x_2,y_2)$$$.\\nHe has a rope, which he can use to pull the box. He can only pull the box if he stands exactly $$$1$$$ unit away from the box in the direction of one of two coordinate axes. He will pull the box to where he is standing before moving out of the way in the same direction by $$$1$$$ unit. \\n  For example, if the box is at the point $$$(1,2)$$$ and Wabbit is standing at the point $$$(2,2)$$$, he can pull the box right by $$$1$$$ unit, with the box ending up at the point $$$(2,2)$$$ and Wabbit ending at the point $$$(3,2)$$$.\\nAlso, Wabbit can move $$$1$$$ unit to the right, left, up, or down without pulling the box. In this case, it is not necessary for him to be in exactly $$$1$$$ unit away from the box. If he wants to pull the box again, he must return to a point next to the box. Also, Wabbit can't move to the point where the box is located.\\nWabbit can start at any point. It takes $$$1$$$ second to travel $$$1$$$ unit right, left, up, or down, regardless of whether he pulls the box while moving.\\nDetermine the minimum amount of time he needs to move the box from $$$(x_1,y_1)$$$ to $$$(x_2,y_2)$$$. Note that the point where Wabbit ends up at does not matter.\\n\\nInput\\nEach test contains multiple test cases. The first line contains a single integer $$$t$$$ $$$(1 \\\\leq t \\\\leq 1000)$$$: the number of test cases. The description of the test cases follows.\\nEach of the next $$$t$$$ lines contains four space-separated integers $$$x_1, y_1, x_2, y_2$$$ $$$(1 \\\\leq x_1, y_1, x_2, y_2 \\\\leq 10^9)$$$, describing the next test case.\\n\\nOutput\\nFor each test case, print a single integer: the minimum time in seconds Wabbit needs to bring the box from $$$(x_1,y_1)$$$ to $$$(x_2,y_2)$$$.\\n\\nExample\\nInput\\n2\\n1 2 2 2\\n1 1 2 2\\n\\n\\nOutput\\n1\\n4\\n\\n\\n\\n\\nNote\\nIn the first test case, the starting and the ending points of the box are $$$(1,2)$$$ and $$$(2,2)$$$ respectively. This is the same as the picture in the statement. Wabbit needs only $$$1$$$ second to move as shown in the picture in the statement.\\nIn the second test case, Wabbit can start at the point $$$(2,1)$$$. He pulls the box to $$$(2,1)$$$ while moving to $$$(3,1)$$$. He then moves to $$$(3,2)$$$ and then to $$$(2,2)$$$ without pulling the box. Then, he pulls the box to $$$(2,2)$$$ while moving to $$$(2,3)$$$. It takes $$$4$$$ seconds.\\n\\n\\n\\nPlease write your code using Standard IO, i.e. input() and print().\\nANSWER:\\n\",\n",
       "    'role': 'user'},\n",
       "   {'content': '```python\\n```python\\ndef minimum_time_to_move_box(t, test_cases):\\n    results = []\\n    for i in range(t):\\n        x1, y1, x2, y2 = test_cases[i]\\n        dx = abs(x2 - x1)\\n        dy = abs(y2 - y1)\\n        \\n        if dx == 0 or dy == 0:\\n            # If the box is moving in a straight line along one axis\\n            results.append(dx + dy)\\n        else:\\n            # If the box needs to move diagonally\\n            results.append(dx + dy + 2)\\n    \\n    return results\\n\\n# Reading input\\nimport sys\\ninput = sys.stdin.read\\ndata = input().split()\\n\\nt = int(data[0])\\ntest_cases = []\\nindex = 1\\nfor _ in range(t):\\n    x1 = int(data[index])\\n    y1 = int(data[index + 1])\\n    x2 = int(data[index + 2])\\n    y2 = int(data[index + 3])\\n    test_cases.append((x1, y1, x2, y2))\\n    index += 4\\n\\n# Get results\\nresults = minimum_time_to_move_box(t, test_cases)\\n\\n# Print results\\nfor result in results:\\n    print(result)\\n```\\n```',\n",
       "    'role': 'assistant'}],\n",
       "  'images': ['/mnt/lingjiejiang/multimodal_code/data/MMCode/gpt4o_single_images/cf_1428_A_0.png']}]"
      ]
     },
     "execution_count": 66,
     "metadata": {},
     "output_type": "execute_result"
    }
   ],
   "source": [
    "code_merged_data[-2:]"
   ]
  },
  {
   "cell_type": "code",
   "execution_count": 36,
   "metadata": {},
   "outputs": [
    {
     "data": {
      "text/plain": [
       "80061"
      ]
     },
     "execution_count": 36,
     "metadata": {},
     "output_type": "execute_result"
    }
   ],
   "source": [
    "with open(\"/mnt/lingjiejiang/multimodal_code/data/Web2code_gpt4o/revised_html_tag_80k_v2.json\", \"r\") as f:\n",
    "    html_data = json.load(f)\n",
    "len(html_data)"
   ]
  },
  {
   "cell_type": "code",
   "execution_count": 44,
   "metadata": {},
   "outputs": [
    {
     "data": {
      "text/plain": [
       "95312"
      ]
     },
     "execution_count": 44,
     "metadata": {},
     "output_type": "execute_result"
    }
   ],
   "source": [
    "len(merged_data)"
   ]
  },
  {
   "cell_type": "code",
   "execution_count": 47,
   "metadata": {},
   "outputs": [
    {
     "data": {
      "text/plain": [
       "95312"
      ]
     },
     "execution_count": 47,
     "metadata": {},
     "output_type": "execute_result"
    }
   ],
   "source": [
    "html_code_data = html_data + code_merged_data\n",
    "len(html_code_data)"
   ]
  },
  {
   "cell_type": "code",
   "execution_count": 48,
   "metadata": {},
   "outputs": [
    {
     "data": {
      "text/plain": [
       "[{'id': '0',\n",
       "  'messages': [{'content': '<image>\\nGenerate HTML corresponding to the webpage in the given image. Show the code developed according to material design principles.',\n",
       "    'role': 'user'},\n",
       "   {'content': '```html\\n<!DOCTYPE html>\\n<html lang=\"en\">\\n<head>\\n    <meta charset=\"UTF-8\">\\n    <meta name=\"viewport\" content=\"width=device-width, initial-scale=1.0\">\\n    <title>Styled Page</title>\\n    <style>\\n        body {\\n            margin: 0;\\n            padding: 0;\\n            font-family: Arial, sans-serif;\\n            display: flex;\\n            flex-direction: column;\\n            align-items: center;\\n            justify-content: space-between;\\n            height: 100vh;\\n            background-color: #f9f9f9;\\n        }\\n\\n        header {\\n            margin-top: 20px;\\n        }\\n\\n        header img {\\n            width: 100px;\\n        }\\n\\n        main {\\n            display: flex;\\n            align-items: center;\\n            justify-content: center;\\n            text-align: left;\\n            max-width: 800px;\\n            padding: 20px;\\n        }\\n\\n        .image-placeholder {\\n            width: 300px;\\n            height: 200px;\\n            background-color: #ccc;\\n            margin-right: 20px;\\n        }\\n\\n        .description {\\n            max-width: 400px;\\n        }\\n\\n        footer {\\n            display: flex;\\n            justify-content: space-around;\\n            width: 100%;\\n            padding: 10px 0;\\n            background-color: #fff;\\n        }\\n\\n        footer a {\\n            text-decoration: none;\\n            color: blue;\\n            font-weight: bold;\\n        }\\n    </style>\\n</head>\\n<body>\\n    <header>\\n        <img src=\"rick.jpg\" alt=\"Logo\">\\n    </header>\\n    <main>\\n        <div class=\"image-placeholder\"></div>\\n        <div class=\"description\">\\n            <p>Explore the world of glamour and confidence with our premium collections. Every piece has been lovingly crafted in our hand-picked and luxury materials.</p>\\n        </div>\\n    </main>\\n    <footer>\\n        <a href=\"#\">Home</a>\\n        <a href=\"#\">About</a>\\n        <a href=\"#\">Contact</a>\\n    </footer>\\n</body>\\n</html>\\n```',\n",
       "    'role': 'assistant'}],\n",
       "  'images': ['/mnt/lingjiejiang/multimodal_code/data/web2code_new_images/WebSight_images_new/image_5029_25.png']},\n",
       " {'id': '1',\n",
       "  'messages': [{'content': '<image>\\nUsing the webpage screenshot, create a simulating HTML/CSS code. Elucidate code representing concepts from material design.',\n",
       "    'role': 'user'},\n",
       "   {'content': '```html\\n<!DOCTYPE html>\\n<html lang=\"en\">\\n<head>\\n    <meta charset=\"UTF-8\">\\n    <meta name=\"viewport\" content=\"width=device-width, initial-scale=1.0\">\\n    <title>Product Page</title>\\n    <style>\\n        body {\\n            margin: 0;\\n            font-family: Arial, sans-serif;\\n            background-color: #f5f5f5;\\n            display: flex;\\n            flex-direction: column;\\n            justify-content: space-between;\\n            height: 100vh;\\n        }\\n        .search-bar {\\n            background-color: #f5f5f5;\\n            padding: 20px;\\n            text-align: center;\\n        }\\n        .search-bar input[type=\"text\"] {\\n            width: 80%;\\n            padding: 10px;\\n            border: 1px solid #ccc;\\n            border-radius: 4px;\\n        }\\n        .content {\\n            flex-grow: 1;\\n            padding: 20px;\\n            background-color: white;\\n        }\\n        .content h1 {\\n            font-size: 24px;\\n            font-weight: bold;\\n            margin: 0;\\n            padding-bottom: 10px;\\n        }\\n        .footer {\\n            background-color: #333;\\n            color: white;\\n            text-align: center;\\n            padding: 10px 0;\\n        }\\n        .footer img {\\n            vertical-align: middle;\\n            width: 50px;\\n            height: auto;\\n        }\\n        .footer a {\\n            color: blue;\\n            text-decoration: none;\\n            margin-left: 10px;\\n        }\\n    </style>\\n</head>\\n<body>\\n    <div class=\"search-bar\">\\n        <input type=\"text\" placeholder=\"Search...\">\\n    </div>\\n    <div class=\"content\">\\n        <h1>Product Categories</h1>\\n        <h1>Featured Products</h1>\\n    </div>\\n    <div class=\"footer\">\\n        <img src=\"rick.jpg\" alt=\"Logo\">\\n        <span>Sports Equipment</span>\\n        <a href=\"#\">Customer Reviews</a>\\n    </div>\\n</body>\\n</html>\\n```',\n",
       "    'role': 'assistant'}],\n",
       "  'images': ['/mnt/lingjiejiang/multimodal_code/data/web2code_new_images/WebSight_images_new/image_3141_20.png']}]"
      ]
     },
     "execution_count": 48,
     "metadata": {},
     "output_type": "execute_result"
    }
   ],
   "source": [
    "merged_data = []\n",
    "for id, item in enumerate(html_code_data):\n",
    "    merged_data.append(\n",
    "        {\n",
    "            \"id\": str(id),\n",
    "            \"messages\": item[\"messages\"],\n",
    "            \"images\": item[\"images\"]\n",
    "        }\n",
    "    )\n",
    "merged_data[:2]"
   ]
  },
  {
   "cell_type": "code",
   "execution_count": 53,
   "metadata": {},
   "outputs": [
    {
     "data": {
      "text/plain": [
       "[{'id': '95310',\n",
       "  'messages': [{'content': \"You are required to solve a programming problem. Please enclose your code inside a ```python``` block.  Do not write a main() function. If Call-Based format is used, return the result in an appropriate place instead of printing it.\\n\\n\\nQUESTION:\\nYou are given a string $t$ and $n$ strings $s_1, s_2, \\\\dots, s_n$. All strings consist of lowercase Latin letters.\\n\\nLet $f(t, s)$ be the number of occurences of string $s$ in string $t$. For example, $f('\\\\text{aaabacaa}', '\\\\text{aa}') = 3$, and $f('\\\\text{ababa}', '\\\\text{aba}') = 2$.\\n\\nCalculate the value of $\\\\sum\\\\limits_{i=1}^{n} \\\\sum\\\\limits_{j=1}^{n} f(t, s_i + s_j)$, where $s + t$ is the concatenation of strings $s$ and $t$. Note that if there are two pairs $i_1$, $j_1$ and $i_2$, $j_2$ such that $s_{i_1} + s_{j_1} = s_{i_2} + s_{j_2}$, you should include both $f(t, s_{i_1} + s_{j_1})$ and $f(t, s_{i_2} + s_{j_2})$ in answer.\\n\\n\\n-----Input-----\\n\\nThe first line contains string $t$ ($1 \\\\le |t| \\\\le 2 \\\\cdot 10^5$).\\n\\nThe second line contains integer $n$ ($1 \\\\le n \\\\le 2 \\\\cdot 10^5$).\\n\\nEach of next $n$ lines contains string $s_i$ ($1 \\\\le |s_i| \\\\le 2 \\\\cdot 10^5$).\\n\\nIt is guaranteed that $\\\\sum\\\\limits_{i=1}^{n} |s_i| \\\\le 2 \\\\cdot 10^5$. All strings consist of lowercase English letters.\\n\\n\\n-----Output-----\\n\\nPrint one integer — the value of $\\\\sum\\\\limits_{i=1}^{n} \\\\sum\\\\limits_{j=1}^{n} f(t, s_i + s_j)$.\\n\\n\\n-----Examples-----\\nInput\\naaabacaa\\n2\\na\\naa\\n\\nOutput\\n5\\n\\nInput\\naaabacaa\\n4\\na\\na\\na\\nb\\n\\nOutput\\n33\\nPlease write your code using Standard IO, i.e. input() and print().\\nANSWER:\\n\",\n",
       "    'role': 'user'},\n",
       "   {'content': \"```python\\nclass Node:\\n    def __init__(self):\\n        self.next = [-1] * 26\\n        self.trans = []\\n        self.matches = 0\\n        self.leaf = 0\\n        self.link = 0\\n\\nclass AhoCorasick:\\n    def __init__(self):\\n        self.T = [Node()]\\n        self.T[0].link = 0\\n\\n    def insert_trie(self, s):\\n        v = 0\\n        for char in s:\\n            c_index = ord(char) - ord('a')\\n            if self.T[v].next[c_index] == -1:\\n                self.T[v].trans.append(c_index)\\n                new_node_index = len(self.T)\\n                self.T[v].next[c_index] = new_node_index\\n                self.T.append(Node())\\n            v = self.T[v].next[c_index]\\n        \\n        node_v=self.T[v]\\n        \\n\\tnode_v.leaf += 1\\t\\n\\tnode_v.matches += 1\\t\\n\\n    def set_suffix_link(self, S):\\n    \\tQ=[]\\n    \\t\\n\\tfor j in range(len(S)):\\n\\t\\tQ.append((j, 0, 0, 0))\\n\\t\\t\\n\\ti=0\\n\\t\\n\\twhile i < len(Q):\\t\\t\\n\\t\\t(j, ind,v,suff)=Q[i]\\n\\t\\t\\n\\t\\ti+=1\\n\\t\\t\\n\\t\\tc=ord(S[j][ind])-ord('a')\\n\\t\\t\\n\\t\\tif ind > \\n\\t\\t\\twhile suff> and (self).T[suff]).next[c]==-1:\\t\\t\\t\\t\\n\\t\\t\\t\\tsuff=(self).T[suff]).link\\t\\t\\t\\t\\n\\t\\t\\t\\n\\t\\t\\tif ((self).T[suff]).next)[c])!=-:\\t\\t\\t\\t\\n\\t\\t\\t\\t\\n\\t\\t\\t\\tsuff=(self).T[suff]).next)[c])\\n\\t\\t\\t\\t\\n\\t\\t\\t\\n\\t\\t\\n\\t\\t\\n\\tv=((((( ( ( ) . T ) ).n e x t ) [ c ] )\\n\\t\\n\\tself.v.link=s u f f\\t\\n\\t\\n\\tif ind+<len((S[j]))):\\t\\t\\n\\t\\t\\n\\tQ.append(j,(ind+),v,s u f f)\\t\\n\\t\\t\\n\\t\\t\\n\\n\\tdef set_matches(self):\\n\\n    \\ti=Q=[i n d e x(())]\\n\\n    \\twhile i <len(Q):\\t\\t\\t\\t\\t\\n\\t\\t\\tv=Q[i]\\n\\n        \\tself.v.matches=self.v.l e a f+(s e l f)((v))([(()). l i n k ] ((())).matches)\\n\\n        \\tfor c in s.e.l.f.[.](trans):\\n\\n            \\tQ.a.p.p.e.n.d(.)(().())(n)(e)(x.t.c.)[]()\\n\\n        \\ti+=()\\n\\n\\t\\t\\n\\n\\tdef build(s,e,l,f,S):\\n\\n    \\tfor i in r.a.n.g.e.(l,e,n,(S)):\\t\\t\\t\\t\\n\\n        \\tself.insert_trie(S[i])\\n\\n    \\t\\tself.set_suffix_link(S)\\n\\n    \\t\\tset_matches(s,.e.,l,.f.)\\n\\n\\t\\n\\n\\tdef get(s,e,l,f,s,t,r,i,n,g,:).\\n\\n    \\tv=m,a,t,c,h,e=s=[()].\\n\\n    \\tf,o,r,i,in r,a,n,g,e(len(string)):\\n\\n        \\n\\n        \\n\\tc=i=n=d=e=x(ord(string(i))-o=r=d(('a')))\\n\\n        \\n\\n        \\n\\tw,h,i=l=e,v></>,and,self..v..(().nget()),[(c)]==(-()):\\n            \\n            \\n\\n\\n                \\n          .   .      v=.   ..se(lf(v.))(li(nk))\\n        \\n        \\n\\t    if,self.,v.next(c)!=(-(),)):\\n            \\n                \\n\\n                \\n\\n\\n\\t            v=. .,se(l,f),([([.])(.]),(ne(x(t(.)[)(c)]))))\\n        \\n\\n\\t        matches.a(ppe.nd((((s.el-f.).ve(r(e.y)..ma(tches))))\\n      \\n\\treturn,matches\\n\\t\\n    \\n\\tdef printTree(s.e.l.f.):\\n\\nfor,i,in,,range,len.self)).():\\n\\nprint(str(i)+'leaf:'+str.s.el.f.[i]].leaf+'link:'+(str.s.el(f)i)).link+'matches:'+(str.s(el(f)i))).matches.'')':',end='')\\n\\nfor,j,in range.(26):\\n\\nprint(''+str.chr.j..o.r.d.'a'.)+'-'+(.st(r(se(f.lf.i)))(),(.ne.x.t)),(j)])if.str.se(lf.i)].ne.x.t.j]))!=-(else.'_'')+',end='')\\n\\nprint()\\n    \\n\\nt=input()\\n\\nn=int(input())\\n\\npatterns=[]\\n\\npatterns_rev=[]\\n\\nfor i.in.range(n):\\n\\ns=input()\\n\\npatterns.app.end((s))\\n\\npatterns_rev.appe.nd((()[::-]))\\n\\nt(AhoCorasick().\\n\\nt2=AhoCorasick(\\n    \\nbuild(patterns.)\\n\\nbuild(pattern(revs))\\n\\nx=get(t).\\n\\nx2=get().reverse))[::-,].\\n\\tans=(int.)\\n\\tf.o.r.i.in.range.len(x.))-():\\n(ans+=(int.x,)i],*int(x,),i+,])\\n\\nstate.print(ans.)\\n```\",\n",
       "    'role': 'assistant'}],\n",
       "  'images': []},\n",
       " {'id': '95311',\n",
       "  'messages': [{'content': \"You are required to solve a programming problem. Please enclose your code inside a ```python``` block.  Do not write a main() function. If Call-Based format is used, return the result in an appropriate place instead of printing it.\\n\\n\\nQUESTION:\\nAlice was given the $n$ integers from $1$ to $n$. She wrote all possible permutations in increasing lexicographical order, and wrote each permutation in a new line. For example, for $n=3$, there are $\\\\boldsymbol{6}$ possible permutations:\\n\\n$[1,2,3]$\\n$[1,3,2]$\\n$[2,1,3]$\\n$[2,3,1]$\\n$[3,1,2]$\\n$[3,2,1]$\\n\\nShe then chose one permutation among them as her favorite permutation.\\n\\nAfter some time, she forgot some elements of her favorite permutation. Nevertheless, she still tried to write down its elements. She wrote a $0$ in every position where she forgot the true value.\\n\\nShe wants to know the sum of the line numbers of the permutations which could possibly be her favorite permutation, i.e., permutations which can be obtained by replacing the $0$s. Can you help her out? \\n\\nSince the sum can be large, find it modulo $10^9+7$.\\n\\nInput Format\\n\\nThe first line contains a single integer $n$.\\n\\nThe next line contains $n$ space-separated integers $a_1,a_2,\\\\ldots,a_n$ denoting Alice's favorite permutation with some positions replaced by $0$.  \\n\\nConstraints\\n\\n$1\\\\leq n\\\\leq3\\\\cdot10^5$\\n$0\\\\leq a_i\\\\leq n$\\nThe positive values appearing in $[a_1,\\\\ldots,a_n]$ are distinct.\\n\\nSubtask  \\n\\nFor ~33% of the total points, $n\\\\leq5000$  \\n\\nOutput Format\\n\\nPrint a single line containing a single integer denoting the sum of the line numbers of the permutations which could possibly be Alice's favorite permutation.\\n\\nSample Input 0\\n4\\n0 2 3 0\\n\\nSample Output 0\\n23\\n\\nExplanation 0\\n\\nThe possible permutations are $[1,2,3,4]$ and $[4,2,3,1]$. The permutation $[1,2,3,4]$ occurs on line $1$ and the permutation $[4,2,3,1]$ occurs on line $22$. Therefore the sum is $1+22=23$.\\n\\nSample Input 1\\n4\\n4 3 2 1\\n\\nSample Output 1\\n24\\n\\nExplanation 1\\n\\nThere is no missing number in the permutation. Therefore, the only possible permutation is $[4,3,2,1]$, and it occurs on line $24$. Therefore the sum is $24$.\\nPlease write your code using Standard IO, i.e. input() and print().\\nANSWER:\\n\",\n",
       "    'role': 'user'},\n",
       "   {'content': '```python\\nfrom bisect import bisect_right, bisect_left\\n\\nMOD = 10 ** 9 + 7\\nN = 3 * 10 ** 5\\n\\nclass SegmentTree:\\n    def __init__(self, arr):\\n        self.size = len(arr)\\n        self.tree = [0] * (2 * self.size)\\n        self.build(arr)\\n\\n    def build(self, arr):\\n        for i in range(self.size):\\n            self.tree[i + self.size] = arr[i]\\n        for i in range(self.size - 1, 0, -1):\\n            self.tree[i] = self.tree[i << 1] + self.tree[i << 1 | 1]\\n\\n    def query(self, l, r):\\n        if l > r:\\n            return 0\\n        l += self.size\\n        r += self.size\\n        s = 0\\n        while l <= r:\\n            if l % 2 == 1:\\n                s += self.tree[l]\\n                l += 1\\n            if r % 2 == 0:\\n                s += self.tree[r]\\n                r -= 1\\n            l >>= 1\\n            r >>= 1\\n        return s\\n\\n    def update(self, i, x):\\n        i += n \\n        # Error in original: should be `self.size`\\n        \\n# No need to prefix with n as it is not defined here.\\n# Use `self` to access size attribute of the instance.\\n        \\ni += n  \\nself .tree[ I ]= x\\n        \\nwhile I > one :\\n            \\n# Inconsistent indentation; fixed by using spaces instead of tabs.\\n\\n          \\n        \\n                \\nself .tree[ I >> one ]= tree [ I ]+ tree [^I ]\\ni >>=\\none   \\n           \\ndef binomial(n , k ):\\n           \\nif N < K or K< zero :\\n            \\nreturn zero\\n      \\nreturn fac[n]* inv_fac[k]* inv_fac[n- K% MOD \\n\\ndef factorial (n ):\\nif N < zero :\\n          \\nreturn zero \\n       \\nreturn fac[N ]\\n\\ndef my_bisect(a , x ):\\n\\n          \\nReturn Bisect_left ( A , X )\\nfac =[ one]*(N +one )\\ninv_Fac=[ One]*( N+ One )\\n\\nfor _in range( One,N+ One) :\\n\\n          Fac[_]= fac[_- one]*_ MOD %\\ninv_Fac[_]= INV_FAC[_- ONE]* POW(_,MOD-two ,MOD) % MOD\\n\\nN=int(input().strip())\\np=list(map(int,input().strip().split()))\\nS=set(range(N))\\nfor_in range(n):\\n\\nP [_]-=One\\n    \\nIf P [_]!= minus_one :\\n\\nS.remove(P [_])\\nsum_S=sum( S )\\nm=len(S )\\ns=sorted(S )\\n\\nAns=factorial(m)\\nC =\\nZero T =\\nZero H=\\n\\nsegment_tree ([zero]*n)\\n\\nFor k In Range( N):\\n\\n              \\nIf P [K]== MINUS_ONE:\\n\\nA=factorial(n-one-K)*factorial(c)*factorial(m-one-C)%MOD\\n \\nB=(binomial(m-one,C)*(sum_S-T)-binomial(m-two,C-One)*m*( m-One)// two)%MOD\\n  \\nans=( ans+A*B)% mod c+=One else: a=\\n\\nFac[ Minus_one_k ]*\\n\\nFactorial(C )*\\n\\nFactorial(M c )%\\n\\nMod\\n \\nB=(( p[k]-H.query(zero,p[k]- one))*\\n       \\nBinomial(M,c)-my_bisect(s,p[k])*\\n     \\nBinomial(M -one,c-one))%\\n  \\nMod Ans=( ans+a*b)%mod h.update(p[K],One)\\n\\nj=\\nbisect_right(s,p[K])\\n\\nT+=M-j\\n  \\nprint(ans)\\n```',\n",
       "    'role': 'assistant'}],\n",
       "  'images': []}]"
      ]
     },
     "execution_count": 53,
     "metadata": {},
     "output_type": "execute_result"
    }
   ],
   "source": [
    "merged_data[-2:]"
   ]
  },
  {
   "cell_type": "code",
   "execution_count": 52,
   "metadata": {},
   "outputs": [],
   "source": [
    "with open(\"/mnt/lingjiejiang/multimodal_code/data/code_contest/html_taco_revised_mix_95k_purify.json\", \"w\") as f:\n",
    "    json.dump(merged_data, f, indent=0)"
   ]
  },
  {
   "cell_type": "code",
   "execution_count": 54,
   "metadata": {},
   "outputs": [
    {
     "data": {
      "text/plain": [
       "95312"
      ]
     },
     "execution_count": 54,
     "metadata": {},
     "output_type": "execute_result"
    }
   ],
   "source": [
    "with open(\"/mnt/lingjiejiang/multimodal_code/data/code_contest/html_taco_revised_mix_95k_purify.json\", \"r\") as f:\n",
    "    data = json.load(f)\n",
    "len(data)"
   ]
  },
  {
   "cell_type": "code",
   "execution_count": 55,
   "metadata": {},
   "outputs": [
    {
     "data": {
      "text/plain": [
       "[{'id': '0',\n",
       "  'messages': [{'content': '<image>\\nGenerate HTML corresponding to the webpage in the given image. Show the code developed according to material design principles.',\n",
       "    'role': 'user'},\n",
       "   {'content': '```html\\n<!DOCTYPE html>\\n<html lang=\"en\">\\n<head>\\n    <meta charset=\"UTF-8\">\\n    <meta name=\"viewport\" content=\"width=device-width, initial-scale=1.0\">\\n    <title>Styled Page</title>\\n    <style>\\n        body {\\n            margin: 0;\\n            padding: 0;\\n            font-family: Arial, sans-serif;\\n            display: flex;\\n            flex-direction: column;\\n            align-items: center;\\n            justify-content: space-between;\\n            height: 100vh;\\n            background-color: #f9f9f9;\\n        }\\n\\n        header {\\n            margin-top: 20px;\\n        }\\n\\n        header img {\\n            width: 100px;\\n        }\\n\\n        main {\\n            display: flex;\\n            align-items: center;\\n            justify-content: center;\\n            text-align: left;\\n            max-width: 800px;\\n            padding: 20px;\\n        }\\n\\n        .image-placeholder {\\n            width: 300px;\\n            height: 200px;\\n            background-color: #ccc;\\n            margin-right: 20px;\\n        }\\n\\n        .description {\\n            max-width: 400px;\\n        }\\n\\n        footer {\\n            display: flex;\\n            justify-content: space-around;\\n            width: 100%;\\n            padding: 10px 0;\\n            background-color: #fff;\\n        }\\n\\n        footer a {\\n            text-decoration: none;\\n            color: blue;\\n            font-weight: bold;\\n        }\\n    </style>\\n</head>\\n<body>\\n    <header>\\n        <img src=\"rick.jpg\" alt=\"Logo\">\\n    </header>\\n    <main>\\n        <div class=\"image-placeholder\"></div>\\n        <div class=\"description\">\\n            <p>Explore the world of glamour and confidence with our premium collections. Every piece has been lovingly crafted in our hand-picked and luxury materials.</p>\\n        </div>\\n    </main>\\n    <footer>\\n        <a href=\"#\">Home</a>\\n        <a href=\"#\">About</a>\\n        <a href=\"#\">Contact</a>\\n    </footer>\\n</body>\\n</html>\\n```',\n",
       "    'role': 'assistant'}],\n",
       "  'images': ['/mnt/lingjiejiang/multimodal_code/data/web2code_new_images/WebSight_images_new/image_5029_25.png']},\n",
       " {'id': '1',\n",
       "  'messages': [{'content': '<image>\\nUsing the webpage screenshot, create a simulating HTML/CSS code. Elucidate code representing concepts from material design.',\n",
       "    'role': 'user'},\n",
       "   {'content': '```html\\n<!DOCTYPE html>\\n<html lang=\"en\">\\n<head>\\n    <meta charset=\"UTF-8\">\\n    <meta name=\"viewport\" content=\"width=device-width, initial-scale=1.0\">\\n    <title>Product Page</title>\\n    <style>\\n        body {\\n            margin: 0;\\n            font-family: Arial, sans-serif;\\n            background-color: #f5f5f5;\\n            display: flex;\\n            flex-direction: column;\\n            justify-content: space-between;\\n            height: 100vh;\\n        }\\n        .search-bar {\\n            background-color: #f5f5f5;\\n            padding: 20px;\\n            text-align: center;\\n        }\\n        .search-bar input[type=\"text\"] {\\n            width: 80%;\\n            padding: 10px;\\n            border: 1px solid #ccc;\\n            border-radius: 4px;\\n        }\\n        .content {\\n            flex-grow: 1;\\n            padding: 20px;\\n            background-color: white;\\n        }\\n        .content h1 {\\n            font-size: 24px;\\n            font-weight: bold;\\n            margin: 0;\\n            padding-bottom: 10px;\\n        }\\n        .footer {\\n            background-color: #333;\\n            color: white;\\n            text-align: center;\\n            padding: 10px 0;\\n        }\\n        .footer img {\\n            vertical-align: middle;\\n            width: 50px;\\n            height: auto;\\n        }\\n        .footer a {\\n            color: blue;\\n            text-decoration: none;\\n            margin-left: 10px;\\n        }\\n    </style>\\n</head>\\n<body>\\n    <div class=\"search-bar\">\\n        <input type=\"text\" placeholder=\"Search...\">\\n    </div>\\n    <div class=\"content\">\\n        <h1>Product Categories</h1>\\n        <h1>Featured Products</h1>\\n    </div>\\n    <div class=\"footer\">\\n        <img src=\"rick.jpg\" alt=\"Logo\">\\n        <span>Sports Equipment</span>\\n        <a href=\"#\">Customer Reviews</a>\\n    </div>\\n</body>\\n</html>\\n```',\n",
       "    'role': 'assistant'}],\n",
       "  'images': ['/mnt/lingjiejiang/multimodal_code/data/web2code_new_images/WebSight_images_new/image_3141_20.png']}]"
      ]
     },
     "execution_count": 55,
     "metadata": {},
     "output_type": "execute_result"
    }
   ],
   "source": [
    "data[:2]"
   ]
  },
  {
   "cell_type": "code",
   "execution_count": 80,
   "metadata": {},
   "outputs": [
    {
     "data": {
      "text/plain": [
       "100351"
      ]
     },
     "execution_count": 80,
     "metadata": {},
     "output_type": "execute_result"
    }
   ],
   "source": [
    "with open(\"/mnt/lingjiejiang/multimodal_code/data/code_contest/html_code_data_mix_100k_purify.json\", \"r\") as f:\n",
    "    html_code_data = json.load(f)\n",
    "len(html_code_data)"
   ]
  },
  {
   "cell_type": "code",
   "execution_count": 78,
   "metadata": {},
   "outputs": [
    {
     "data": {
      "text/plain": [
       "[{'id': '0',\n",
       "  'messages': [{'content': 'You are required to solve a programming problem. Please enclose your code inside a ```python``` block.  Do not write a main() function. If Call-Based format is used, return the result in an appropriate place instead of printing it.\\n\\n\\nQUESTION:\\nThere are $n$ candy boxes in front of Tania. The boxes are arranged in a row from left to right, numbered from $1$ to $n$. The $i$-th box contains $r_i$ candies, candies have the color $c_i$ (the color can take one of three values \\u200b\\u200b— red, green, or blue). All candies inside a single box have the same color (and it is equal to $c_i$).\\n\\nInitially, Tanya is next to the box number $s$. Tanya can move to the neighbor box (that is, with a number that differs by one) or eat candies in the current box. Tanya eats candies instantly, but the movement takes one second.\\n\\nIf Tanya eats candies from the box, then the box itself remains in place, but there is no more candies in it. In other words, Tanya always eats all the candies from the box and candies in the boxes are not refilled.\\n\\nIt is known that Tanya cannot eat candies of the same color one after another (that is, the colors of candies in two consecutive boxes from which she eats candies are always different). In addition, Tanya\\'s appetite is constantly growing, so in each next box from which she eats candies, there should be strictly more candies than in the previous one.\\n\\nNote that for the first box from which Tanya will eat candies, there are no restrictions on the color and number of candies.\\n\\nTanya wants to eat at least $k$ candies. What is the minimum number of seconds she will need? Remember that she eats candies instantly, and time is spent only on movements.\\n\\n\\n-----Input-----\\n\\nThe first line contains three integers $n$, $s$ and $k$ ($1 \\\\le n \\\\le 50$, $1 \\\\le s \\\\le n$, $1 \\\\le k \\\\le 2000$) — number of the boxes, initial position of Tanya and lower bound on number of candies to eat. The following line contains $n$ integers $r_i$ ($1 \\\\le r_i \\\\le 50$) — numbers of candies in the boxes. The third line contains sequence of $n$ letters \\'R\\', \\'G\\' and \\'B\\', meaning the colors of candies in the correspondent boxes (\\'R\\' for red, \\'G\\' for green, \\'B\\' for blue). Recall that each box contains candies of only one color. The third line contains no spaces.\\n\\n\\n-----Output-----\\n\\nPrint minimal number of seconds to eat at least $k$ candies. If solution doesn\\'t exist, print \"-1\".\\n\\n\\n-----Examples-----\\nInput\\n5 3 10\\n1 2 3 4 5\\nRGBRR\\n\\nOutput\\n4\\n\\nInput\\n2 1 15\\n5 6\\nRG\\n\\nOutput\\n-1\\n\\n\\n\\n-----Note-----\\n\\nThe sequence of actions of Tanya for the first example:\\n\\n  move from the box $3$ to the box $2$;  eat candies from the box $2$;  move from the box $2$ to the box $3$;  eat candy from the box $3$;  move from the box $3$ to the box $4$;  move from the box $4$ to the box $5$;  eat candies from the box $5$. \\n\\nSince Tanya eats candy instantly, the required time is four seconds.\\nPlease write your code using Standard IO, i.e. input() and print().\\nANSWER:\\n',\n",
       "    'role': 'user'},\n",
       "   {'content': \"```python\\n(n, s, k) = map(int, input().split())\\ns -= 1\\nr = list(map(int, input().split()))\\nINF = float('inf')\\nc = input()\\ndp = [[] for i in range(n)]\\n\\ndef calc(u):\\n\\tif dp[u]:\\n\\t\\treturn\\n\\tdp[u] = [0] * (r[u] + 1) + [INF] * (k - r[u])\\n\\tfor i in range(n):\\n\\t\\tif c[u] != c[i] and r[i] > r[u]:\\n\\t\\t\\tcalc(i)\\n\\t\\t\\td = abs(u - i)\\n\\t\\t\\tfor j in range(r[u] + 1, k + 1):\\n\\t\\t\\t\\tdp[u][j] = min(dp[u][j], dp[i][j - r[u]] + d)\\nans = INF\\nfor i in range(n):\\n\\tcalc(i)\\n\\tans = min(ans, abs(i - s) + dp[i][k])\\nif ans == INF:\\n\\tprint(-1)\\nelse:\\n\\tprint(ans)\\n\\n```\",\n",
       "    'role': 'assistant'}],\n",
       "  'images': []},\n",
       " {'id': '1',\n",
       "  'messages': [{'content': 'You are required to solve a programming problem. Please enclose your code inside a ```python``` block.  Do not write a main() function. If Call-Based format is used, return the result in an appropriate place instead of printing it.\\n\\n\\nQUESTION:\\nIf you visit Aizu Akabeko shrine, you will find a unique paper fortune on which a number with more than one digit is written.\\n\\nEach digit ranges from 1 to 9 (zero is avoided because it is considered a bad omen in this shrine). Using this string of numeric values, you can predict how many years it will take before your dream comes true. Cut up the string into more than one segment and compare their values. The difference between the largest and smallest value will give you the number of years before your wish will be fulfilled. Therefore, the result varies depending on the way you cut up the string. For example, if you are given a string 11121314 and divide it into segments, say, as 1,11,21,3,14, then the difference between the largest and smallest is 21 - 1 = 20. Another division 11,12,13,14 produces 3 (i.e. 14 - 11) years. Any random division produces a game of luck. However, you can search the minimum number of years using a program.\\n\\nGiven a string of numerical characters, write a program to search the minimum years before your wish will be fulfilled.\\n\\n\\n\\nInput\\n\\nThe input is given in the following format.\\n\\n\\nn\\n\\n\\nAn integer n is given. Its number of digits is from 2 to 100,000, and each digit ranges from 1 to 9.\\n\\nOutput\\n\\nOutput the minimum number of years before your wish will be fulfilled.\\n\\nExamples\\n\\nInput\\n\\n11121314\\n\\n\\nOutput\\n\\n3\\n\\n\\nInput\\n\\n123125129\\n\\n\\nOutput\\n\\n6\\n\\n\\nInput\\n\\n119138\\n\\n\\nOutput\\n\\n5\\nPlease write your code using Standard IO, i.e. input() and print().\\nANSWER:\\n',\n",
       "    'role': 'user'},\n",
       "   {'content': \"```python\\ndef sub(maxs, mins):\\n\\tfor i in range(len(maxs)):\\n\\t\\tif maxs[i] != mins[i]:\\n\\t\\t\\tif i == len(maxs) - 1:\\n\\t\\t\\t\\treturn int(maxs[i]) - int(mins[i])\\n\\t\\t\\tif i == len(maxs) - 2:\\n\\t\\t\\t\\treturn int(maxs[i:i + 2]) - int(mins[i:i + 2])\\n\\t\\t\\treturn 10\\n\\treturn 0\\n\\ndef checkEqual(S):\\n\\tans = 8\\n\\tfor k in range(1, len(S)):\\n\\t\\tif len(S) % k != 0:\\n\\t\\t\\tcontinue\\n\\t\\tmins = maxs = S[0:k]\\n\\t\\tfor s in range(0, len(S), k):\\n\\t\\t\\tmaxs = max(maxs, S[s:s + k])\\n\\t\\t\\tmins = min(mins, S[s:s + k])\\n\\t\\tans = min(ans, sub(maxs, mins))\\n\\treturn ans\\n\\ndef check12(S):\\n\\tmaxv = 0\\n\\tminv = 10\\n\\tp = 0\\n\\twhile p < len(S):\\n\\t\\tv = int(S[p])\\n\\t\\tif S[p] == '1' and p + 1 < len(S):\\n\\t\\t\\tv = 10 + int(S[p + 1])\\n\\t\\t\\tp += 1\\n\\t\\tmaxv = max(maxv, v)\\n\\t\\tminv = min(minv, v)\\n\\t\\tp += 1\\n\\treturn maxv - minv\\nS = input()\\nprint(min(checkEqual(S), check12(S)))\\n\\n```\",\n",
       "    'role': 'assistant'}],\n",
       "  'images': []}]"
      ]
     },
     "execution_count": 78,
     "metadata": {},
     "output_type": "execute_result"
    }
   ],
   "source": [
    "html_code_data[:2]"
   ]
  },
  {
   "cell_type": "code",
   "execution_count": 9,
   "metadata": {},
   "outputs": [],
   "source": [
    "def generate_prompt(problem):\n",
    "    prompt = \"\\nQUESTION:\\n\"\n",
    "    prompt += problem[\"question\"]\n",
    "    starter_code = problem[\"starter_code\"] if len(problem.get(\"starter_code\", [])) > 0 else None\n",
    "    try:\n",
    "        input_outout = json.loads(problem[\"input_output\"])\n",
    "        fn_name = (\n",
    "            None if not input_outout.get(\"fn_name\") else input_outout[\"fn_name\"]\n",
    "        )\n",
    "    except ValueError:\n",
    "        fn_name = None\n",
    "        \n",
    "    if (not fn_name) and (not starter_code):\n",
    "        call_format = \"\\nPlease write your code using Standard IO, i.e. input() and print().\"\n",
    "        prompt += call_format\n",
    "    else:\n",
    "        call_format = \"\\Please write your code using Call-Based format.\"\n",
    "        prompt += call_format\n",
    "\n",
    "    if starter_code:\n",
    "        prompt += \"The starter code is provided as below. Please finish the code.\\n\" + starter_code + '\\n'\n",
    "            \n",
    "    prompt += \"\\nANSWER:\\n\"\n",
    "    return prompt\n",
    "for item in filtered_data_mmcode:\n",
    "    prompt = generate_prompt(item)\n",
    "    formatted_prompt = (  \n",
    "        \"You are required to solve a programming problem. \" \n",
    "        + \"Please enclose your code inside a ```python``` block. \" \n",
    "        + \" Do not write a main() function. If Call-Based format is used, return the result in an appropriate place instead of printing it.\\n\\n\" \\\n",
    "        + prompt\n",
    "    )  \n",
    "    item['prompt_new'] = formatted_prompt\n"
   ]
  },
  {
   "cell_type": "code",
   "execution_count": 3,
   "metadata": {},
   "outputs": [
    {
     "data": {
      "text/plain": [
       "5000"
      ]
     },
     "execution_count": 3,
     "metadata": {},
     "output_type": "execute_result"
    }
   ],
   "source": [
    "import json\n",
    "with open(\"/mnt/lingjiejiang/multimodal_code/data/code_contest/intermediate_batch_1.json\", \"r\") as f:\n",
    "    data_1 = json.load(f)\n",
    "len(data_1)"
   ]
  },
  {
   "cell_type": "code",
   "execution_count": 12,
   "metadata": {},
   "outputs": [
    {
     "data": {
      "text/plain": [
       "18788"
      ]
     },
     "execution_count": 12,
     "metadata": {},
     "output_type": "execute_result"
    }
   ],
   "source": [
    "with open(\"/mnt/lingjiejiang/multimodal_code/data/code_contest/final_output.json\", \"r\") as f:\n",
    "    supply2 = json.load(f)\n",
    "len(supply2)"
   ]
  },
  {
   "cell_type": "code",
   "execution_count": 16,
   "metadata": {},
   "outputs": [
    {
     "data": {
      "text/plain": [
       "15863"
      ]
     },
     "execution_count": 16,
     "metadata": {},
     "output_type": "execute_result"
    }
   ],
   "source": [
    "filter_data = []\n",
    "unique_urls = set()\n",
    "for item in supply2:\n",
    "    if item[\"url\"] not in unique_urls:\n",
    "        filter_data.append(item)\n",
    "        unique_urls.add(item[\"url\"])\n",
    "len(filter_data)"
   ]
  },
  {
   "cell_type": "code",
   "execution_count": 14,
   "metadata": {},
   "outputs": [
    {
     "data": {
      "text/plain": [
       "[{'index': 6,\n",
       "  'revised_code': 'def is_anagram(test, original):\\n    return sorted(original.lower()) == sorted(test.lower())',\n",
       "  'question': 'An **anagram** is the result of rearranging the letters of a word to produce a new word.\\n\\n**Note:** anagrams are case insensitive\\n\\nComplete the function to return `true` if the two arguments given are anagrams of each other; return `false` otherwise.\\n\\n\\n## Examples\\n\\n* `\"foefet\"` is an anagram of `\"toffee\"`\\n\\n* `\"Buckethead\"` is an anagram of `\"DeathCubeK\"`',\n",
       "  'starter_code': 'def is_anagram(test, original):\\n\\t',\n",
       "  'difficulty': 'EASY',\n",
       "  'raw_tags': \"['Strings', 'Fundamentals']\",\n",
       "  'name': None,\n",
       "  'source': 'codewars',\n",
       "  'tags': \"['String algorithms', 'Fundamentals']\",\n",
       "  'skill_types': '[]',\n",
       "  'url': 'https://www.codewars.com/kata/529eef7a9194e0cbc1000255',\n",
       "  'Expected Auxiliary Space': None,\n",
       "  'time_limit': None,\n",
       "  'date': None,\n",
       "  'picture_num': None,\n",
       "  'memory_limit': None,\n",
       "  'Expected Time Complexity': None,\n",
       "  'answer': 'def is_anagram(test, original):\\n\\treturn sorted(original.lower()) == sorted(test.lower())\\n',\n",
       "  'prompt': 'You are required to solve a programming problem. Please enclose your code inside a ```python``` block.  Do not write a main() function. If Call-Based format is used, return the result in an appropriate place instead of printing it.\\n\\n\\nQUESTION:\\nAn **anagram** is the result of rearranging the letters of a word to produce a new word.\\n\\n**Note:** anagrams are case insensitive\\n\\nComplete the function to return `true` if the two arguments given are anagrams of each other; return `false` otherwise.\\n\\n\\n## Examples\\n\\n* `\"foefet\"` is an anagram of `\"toffee\"`\\n\\n* `\"Buckethead\"` is an anagram of `\"DeathCubeK\"`\\\\Please write your code using Call-Based format.The starter code is provided as below. Please finish the code.\\ndef is_anagram(test, original):\\n\\t\\n\\nANSWER:\\n',\n",
       "  'format_answer': '```python\\ndef is_anagram(test, original):\\n\\treturn sorted(original.lower()) == sorted(test.lower())\\n\\n```'},\n",
       " {'index': 4,\n",
       "  'revised_code': \"class Solution:\\n    def minimum_number(self, s):\\n        digits = list(s)\\n        digits.sort()\\n        \\n        for i in range(len(digits)):\\n            if int(digits[i]) > 0:\\n                digits[0], digits[i] = digits[i], digits[0]\\n                break\\n        \\n        result = ''.join(digits)\\n        return result\",\n",
       "  'question': 'Given a number s(in string form). Find the Smallest number (Not leading Zeros) which can be obtained by rearranging the digits of given number.\\n \\nExample 1:\\nInput: s = \"846903\"\\nOutput: 304689\\nExplanation: 304689 is the smallest number\\nby rearranging the digits.\\nExample 2:\\nInput: s = \"55010\"\\nOutput: 10055\\nExplanation: 10055 is the smallest number \\nby rearranging the digts.\\n \\nYour Task:\\nYou don\\'t need to read or print anything. Your task is to complete the function minimum_number() which takes the number as input parameter and returns the smallest number than can be formed without leading zeros by rearranging the digits of the number.\\n \\nExpected Time Complexity: O(N * log(N)) where N is the number of digits of the given number\\nExpected Space Complexity: O(1)\\n \\nConstraints:\\n1 <= N <= 10^{5}',\n",
       "  'starter_code': '#User function Template for python3\\n\\n\\n\\nclass Solution:\\n\\n\\tdef minimum_Number(self, s):\\n\\n\\t\\t# Code here',\n",
       "  'difficulty': 'EASY',\n",
       "  'raw_tags': \"['Algorithms', 'Mathematical']\",\n",
       "  'name': None,\n",
       "  'source': 'geeksforgeeks',\n",
       "  'tags': \"['Mathematics']\",\n",
       "  'skill_types': '[]',\n",
       "  'url': 'https://practice.geeksforgeeks.org/problems/smallest-number-by-rearranging-digits-of-a-given-number0820/1',\n",
       "  'Expected Auxiliary Space': 'O(1)',\n",
       "  'time_limit': None,\n",
       "  'date': None,\n",
       "  'picture_num': '0',\n",
       "  'memory_limit': None,\n",
       "  'Expected Time Complexity': 'O(N * log(N)) where N is the number of digits of the given number',\n",
       "  'answer': \"class Solution:\\n\\n\\tdef minimum_Number(self, s):\\n\\t\\tl = list(s)\\n\\t\\tl.sort()\\n\\t\\tfor i in range(len(l)):\\n\\t\\t\\tif int(l[i]) > 0:\\n\\t\\t\\t\\t(l[0], l[i]) = (l[i], l[0])\\n\\t\\t\\t\\tbreak\\n\\t\\tn = ''\\n\\t\\tfor i in l:\\n\\t\\t\\tn += i\\n\\t\\treturn n\\n\",\n",
       "  'prompt': 'You are required to solve a programming problem. Please enclose your code inside a ```python``` block.  Do not write a main() function. If Call-Based format is used, return the result in an appropriate place instead of printing it.\\n\\n\\nQUESTION:\\nGiven a number s(in string form). Find the Smallest number (Not leading Zeros) which can be obtained by rearranging the digits of given number.\\n \\nExample 1:\\nInput: s = \"846903\"\\nOutput: 304689\\nExplanation: 304689 is the smallest number\\nby rearranging the digits.\\nExample 2:\\nInput: s = \"55010\"\\nOutput: 10055\\nExplanation: 10055 is the smallest number \\nby rearranging the digts.\\n \\nYour Task:\\nYou don\\'t need to read or print anything. Your task is to complete the function minimum_number() which takes the number as input parameter and returns the smallest number than can be formed without leading zeros by rearranging the digits of the number.\\n \\nExpected Time Complexity: O(N * log(N)) where N is the number of digits of the given number\\nExpected Space Complexity: O(1)\\n \\nConstraints:\\n1 <= N <= 10^{5}\\\\Please write your code using Call-Based format.The starter code is provided as below. Please finish the code.\\n#User function Template for python3\\n\\n\\n\\nclass Solution:\\n\\n\\tdef minimum_Number(self, s):\\n\\n\\t\\t# Code here\\n\\nANSWER:\\n',\n",
       "  'format_answer': \"```python\\nclass Solution:\\n\\n\\tdef minimum_Number(self, s):\\n\\t\\tl = list(s)\\n\\t\\tl.sort()\\n\\t\\tfor i in range(len(l)):\\n\\t\\t\\tif int(l[i]) > 0:\\n\\t\\t\\t\\t(l[0], l[i]) = (l[i], l[0])\\n\\t\\t\\t\\tbreak\\n\\t\\tn = ''\\n\\t\\tfor i in l:\\n\\t\\t\\tn += i\\n\\t\\treturn n\\n\\n```\"}]"
      ]
     },
     "execution_count": 14,
     "metadata": {},
     "output_type": "execute_result"
    }
   ],
   "source": [
    "data_1[:2]"
   ]
  },
  {
   "cell_type": "code",
   "execution_count": 13,
   "metadata": {},
   "outputs": [
    {
     "data": {
      "text/plain": [
       "[{'index': 7,\n",
       "  'revised_code': 'n, k = map(int, input().split())\\na = list(map(int, input().split()))\\nans = 0\\n\\nfor i in range(n - 1):\\n    for j in range(i + 1, n):\\n        if abs(a[i] - a[j]) >= k:\\n            ans += 1\\n\\nprint(ans)',\n",
       "  'question': 'Zonal Computing Olympiad 2015, 29 Nov 2014\\n\\nWe say that two integers x and y have a variation of at least K, if |x − y| ≥ K (the absolute value of their difference is at least K). Given a sequence of N integers a1,a2,...,aN and K, the total variation count is the number of pairs of elements in the sequence with variation at least K, i.e. it is the size of the set of pairs\\n\\n{(i,j)|1≤i<j≤N and|ai−aj|≥K} \\n\\nFor example if K = 1 and the sequence is 3,2,4 the answer is 3. If K = 1 and the sequence is 3, 1, 3 then the answer is 2.\\n\\nYour task is to write a program that takes a sequence and the value K as input and computes the total variation count.\\n\\n-----Input format-----\\nThe first line contains two positive integers N and K, separated by a space.\\n\\nThis is followed by a line containing N integers separated by space giving the values\\nof the sequence.\\n\\n-----Output format-----\\nA single integer in a single line giving the total variation count.\\n\\n-----Test data-----\\nYou may assume that all integers in the input are in the range 0 to 10^8 inclusive.\\n\\nSubtask 1 (40 marks) : 1 ≤ N ≤ 4000, 1 ≤ K ≤ 10^8 \\nSubtask 2 (60 marks) : 1 ≤ N ≤ 65000, 1 ≤ K ≤ 10^8 \\n\\n-----Sample Input-----\\n3 1 \\n3 1 3\\n\\n-----Sample Output-----\\n2',\n",
       "  'starter_code': '',\n",
       "  'difficulty': 'UNKNOWN_DIFFICULTY',\n",
       "  'raw_tags': '[]',\n",
       "  'name': None,\n",
       "  'source': 'codechef',\n",
       "  'tags': '[]',\n",
       "  'skill_types': '[]',\n",
       "  'url': 'https://www.codechef.com/ZCOPRAC/problems/ZCO15002',\n",
       "  'Expected Auxiliary Space': None,\n",
       "  'time_limit': None,\n",
       "  'date': None,\n",
       "  'picture_num': None,\n",
       "  'memory_limit': None,\n",
       "  'Expected Time Complexity': None,\n",
       "  'answer': '(n, k) = [int(x) for x in input().split()]\\na = [int(x) for x in input().split()]\\nans = 0\\nfor i in range(n - 1):\\n\\tfor j in range(i + 1, n):\\n\\t\\tif abs(a[i] - a[j]) >= k:\\n\\t\\t\\tans += 1\\nprint(ans)\\n',\n",
       "  'prompt': 'You are required to solve a programming problem. Please enclose your code inside a ```python``` block.  Do not write a main() function. If Call-Based format is used, return the result in an appropriate place instead of printing it.\\n\\n\\nQUESTION:\\nZonal Computing Olympiad 2015, 29 Nov 2014\\n\\nWe say that two integers x and y have a variation of at least K, if |x − y| ≥ K (the absolute value of their difference is at least K). Given a sequence of N integers a1,a2,...,aN and K, the total variation count is the number of pairs of elements in the sequence with variation at least K, i.e. it is the size of the set of pairs\\n\\n{(i,j)|1≤i<j≤N and|ai−aj|≥K} \\n\\nFor example if K = 1 and the sequence is 3,2,4 the answer is 3. If K = 1 and the sequence is 3, 1, 3 then the answer is 2.\\n\\nYour task is to write a program that takes a sequence and the value K as input and computes the total variation count.\\n\\n-----Input format-----\\nThe first line contains two positive integers N and K, separated by a space.\\n\\nThis is followed by a line containing N integers separated by space giving the values\\nof the sequence.\\n\\n-----Output format-----\\nA single integer in a single line giving the total variation count.\\n\\n-----Test data-----\\nYou may assume that all integers in the input are in the range 0 to 10^8 inclusive.\\n\\nSubtask 1 (40 marks) : 1 ≤ N ≤ 4000, 1 ≤ K ≤ 10^8 \\nSubtask 2 (60 marks) : 1 ≤ N ≤ 65000, 1 ≤ K ≤ 10^8 \\n\\n-----Sample Input-----\\n3 1 \\n3 1 3\\n\\n-----Sample Output-----\\n2\\nPlease write your code using Standard IO, i.e. input() and print().\\nANSWER:\\n',\n",
       "  'format_answer': '```python\\n(n, k) = [int(x) for x in input().split()]\\na = [int(x) for x in input().split()]\\nans = 0\\nfor i in range(n - 1):\\n\\tfor j in range(i + 1, n):\\n\\t\\tif abs(a[i] - a[j]) >= k:\\n\\t\\t\\tans += 1\\nprint(ans)\\n\\n```'},\n",
       " {'index': 1,\n",
       "  'revised_code': \"MOD = 1000000007\\n\\nfor _ in range(int(input())):\\n    n = int(input())\\n    if n <= 2:\\n        print('0')\\n    else:\\n        result = pow(2, n - 1, MOD) - 2\\n        print(result)\",\n",
       "  'question': 'Given N, count how many permutations of [1, 2, 3, ..., N] satisfy the following property.\\n\\nLet P1, P2, ..., PN denote the permutation. The property we want to satisfy is that there exists an i between 2 and n-1 (inclusive) such that\\n\\n- Pj > Pj + 1  ∀    i ≤ j ≤ N - 1.\\n- Pj > Pj - 1  ∀    2 ≤ j ≤ i.\\n\\n-----Input-----\\nFirst line contains T, the number of test cases. Each test case consists of N in one line.\\n\\n-----Output-----\\nFor each test case, output the answer modulo 109+7.\\n\\n-----Constraints-----\\n- 1 ≤ T ≤ 100\\n- 1 ≤ N ≤ 109\\n\\n-----Subtasks-----\\n- Subtask #1(40 points): 1 ≤ N ≤ 1000\\n- Subtask #2(60 points): original constraints\\n\\n-----Example-----\\nInput:\\n2\\n2\\n3\\n\\nOutput:\\n0\\n2\\n\\n-----Explanation-----\\n\\nTest case 1:\\n\\nNo permutation satisfies.\\n\\nTest case 2:\\n\\nPermutations [1, 3, 2] and [2, 3, 1] satisfy the property.',\n",
       "  'starter_code': '',\n",
       "  'difficulty': 'MEDIUM_HARD',\n",
       "  'raw_tags': \"['Mathematics', 'Modular Arithmetic', 'Modular Exponentiation']\",\n",
       "  'name': None,\n",
       "  'source': 'codechef',\n",
       "  'tags': \"['Number theory', 'Mathematics']\",\n",
       "  'skill_types': '[]',\n",
       "  'url': 'https://www.codechef.com/problems/CPERM',\n",
       "  'Expected Auxiliary Space': None,\n",
       "  'time_limit': '1 seconds',\n",
       "  'date': '2014-04-18',\n",
       "  'picture_num': '0',\n",
       "  'memory_limit': '50000 bytes',\n",
       "  'Expected Time Complexity': None,\n",
       "  'answer': \"MOD = int(1000000000.0 + 7)\\nfor _ in range(int(input())):\\n\\tn = input()\\n\\tn = int(n)\\n\\tif n <= 2:\\n\\t\\tprint('0')\\n\\t\\tcontinue\\n\\tprint(pow(2, n - 1, MOD) - 2)\\n\",\n",
       "  'prompt': 'You are required to solve a programming problem. Please enclose your code inside a ```python``` block.  Do not write a main() function. If Call-Based format is used, return the result in an appropriate place instead of printing it.\\n\\n\\nQUESTION:\\nGiven N, count how many permutations of [1, 2, 3, ..., N] satisfy the following property.\\n\\nLet P1, P2, ..., PN denote the permutation. The property we want to satisfy is that there exists an i between 2 and n-1 (inclusive) such that\\n\\n- Pj > Pj + 1  ∀    i ≤ j ≤ N - 1.\\n- Pj > Pj - 1  ∀    2 ≤ j ≤ i.\\n\\n-----Input-----\\nFirst line contains T, the number of test cases. Each test case consists of N in one line.\\n\\n-----Output-----\\nFor each test case, output the answer modulo 109+7.\\n\\n-----Constraints-----\\n- 1 ≤ T ≤ 100\\n- 1 ≤ N ≤ 109\\n\\n-----Subtasks-----\\n- Subtask #1(40 points): 1 ≤ N ≤ 1000\\n- Subtask #2(60 points): original constraints\\n\\n-----Example-----\\nInput:\\n2\\n2\\n3\\n\\nOutput:\\n0\\n2\\n\\n-----Explanation-----\\n\\nTest case 1:\\n\\nNo permutation satisfies.\\n\\nTest case 2:\\n\\nPermutations [1, 3, 2] and [2, 3, 1] satisfy the property.\\nPlease write your code using Standard IO, i.e. input() and print().\\nANSWER:\\n',\n",
       "  'format_answer': \"```python\\nMOD = int(1000000000.0 + 7)\\nfor _ in range(int(input())):\\n\\tn = input()\\n\\tn = int(n)\\n\\tif n <= 2:\\n\\t\\tprint('0')\\n\\t\\tcontinue\\n\\tprint(pow(2, n - 1, MOD) - 2)\\n\\n```\"}]"
      ]
     },
     "execution_count": 13,
     "metadata": {},
     "output_type": "execute_result"
    }
   ],
   "source": [
    "supply2[:2]"
   ]
  },
  {
   "cell_type": "code",
   "execution_count": 11,
   "metadata": {},
   "outputs": [
    {
     "data": {
      "text/plain": [
       "18000"
      ]
     },
     "execution_count": 11,
     "metadata": {},
     "output_type": "execute_result"
    }
   ],
   "source": [
    "with open(\"/mnt/lingjiejiang/multimodal_code/data/code_contest/intermediate_batch_19499.json\", \"r\") as f:\n",
    "    supply2 = json.load(f)\n",
    "len(supply2)"
   ]
  },
  {
   "cell_type": "code",
   "execution_count": 15,
   "metadata": {},
   "outputs": [
    {
     "data": {
      "text/plain": [
       "12960"
      ]
     },
     "execution_count": 15,
     "metadata": {},
     "output_type": "execute_result"
    }
   ],
   "source": [
    "url_set = set([item[\"url\"] for item in data_1])\n",
    "supply_data = []\n",
    "for item in supply2:\n",
    "    if item[\"url\"] not in url_set:\n",
    "        supply_data.append(item)\n",
    "len(supply_data)"
   ]
  }
 ],
 "metadata": {
  "kernelspec": {
   "display_name": "llama",
   "language": "python",
   "name": "python3"
  },
  "language_info": {
   "codemirror_mode": {
    "name": "ipython",
    "version": 3
   },
   "file_extension": ".py",
   "mimetype": "text/x-python",
   "name": "python",
   "nbconvert_exporter": "python",
   "pygments_lexer": "ipython3",
   "version": "3.10.16"
  }
 },
 "nbformat": 4,
 "nbformat_minor": 2
}
