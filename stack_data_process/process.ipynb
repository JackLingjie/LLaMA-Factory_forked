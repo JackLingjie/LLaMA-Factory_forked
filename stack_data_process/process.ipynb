{
 "cells": [
  {
   "cell_type": "code",
   "execution_count": 39,
   "metadata": {},
   "outputs": [
    {
     "data": {
      "text/plain": [
       "143986"
      ]
     },
     "execution_count": 39,
     "metadata": {},
     "output_type": "execute_result"
    }
   ],
   "source": [
    "import json\n",
    "with open(\"/mnt/lingjiejiang/multimodal_code/data/stack_overflow/processed_data.html.jsonl\") as f:\n",
    "    data = [json.loads(line) for line in f]\n",
    "len(data)"
   ]
  },
  {
   "cell_type": "code",
   "execution_count": 17,
   "metadata": {},
   "outputs": [
    {
     "data": {
      "text/plain": [
       "143986"
      ]
     },
     "execution_count": 17,
     "metadata": {},
     "output_type": "execute_result"
    }
   ],
   "source": [
    "len(data)"
   ]
  },
  {
   "cell_type": "code",
   "execution_count": 40,
   "metadata": {},
   "outputs": [
    {
     "data": {
      "text/plain": [
       "99977"
      ]
     },
     "execution_count": 40,
     "metadata": {},
     "output_type": "execute_result"
    }
   ],
   "source": [
    "single_images = []\n",
    "for item in data:\n",
    "    if \"images\" in item:\n",
    "        if len(item[\"images\"]) == 1:\n",
    "            single_images.append(item)\n",
    "len(single_images)"
   ]
  },
  {
   "cell_type": "code",
   "execution_count": 12,
   "metadata": {},
   "outputs": [],
   "source": [
    "from random import sample\n",
    "sampled_data = sample(single_images, 50)\n",
    "with open(\"sampled_50.json\", \"w\") as f:\n",
    "    json.dump(sampled_data, f, indent=4)"
   ]
  },
  {
   "cell_type": "code",
   "execution_count": 8,
   "metadata": {},
   "outputs": [
    {
     "data": {
      "text/plain": [
       "{'question': 'How to autosize a textarea using Prototype? I\\'m currently working on an internal sales application for the company I work for, and I\\'ve got a form that allows the user to change the delivery address.\\nNow I think it would look much nicer, if the textarea I\\'m using for the main address details would just take up the area of the text in it, and automatically resize if the text was changed.\\nHere\\'s a screenshot of it currently.\\n\\nAny ideas?\\n\\n@Chris\\nA good point, but there are reasons I want it to resize. I want the area it takes up to be the area of the information contained in it. As you can see in the screen shot, if I have a fixed textarea, it takes up a fair wack of vertical space.\\nI can reduce the font, but I need address to be large and readable. Now I can reduce the size of the text area, but then I have problems with people who have an address line that takes 3 or 4 (one takes 5) lines. Needing to have the user use a scrollbar is a major no-no.\\nI guess I should be a bit more specific. I\\'m after vertical resizing, and the width doesn\\'t matter as much. The only problem that happens with that, is the ISO number (the large \"1\") gets pushed under the address when the window width is too small (as you can see on the screenshot).\\nIt\\'s not about having a gimick; it\\'s about having a text field the user can edit that won\\'t take up unnecessary space, but will show all the text in it.\\nThough if someone comes up with another way to approach the problem I\\'m open to that too.\\n\\nI\\'ve modified the code a little because it was acting a little odd. I changed it to activate on keyup, because it wouldn\\'t take into consideration the character that was just typed.\\nresizeIt = function() {\\n  var str = $(\\'iso_address\\').value;\\n  var cols = $(\\'iso_address\\').cols;\\n  var linecount = 0;\\n\\n  $A(str.split(\"\\\\n\")).each(function(l) {\\n    linecount += 1 + Math.floor(l.length / cols); // Take into account long lines\\n  })\\n\\n  $(\\'iso_address\\').rows = linecount;\\n};\\n\\n',\n",
       " 'answers': ['Facebook does it, when you write on people\\'s walls, but only resizes vertically.\\nHorizontal resize strikes me as being a mess, due to word-wrap, long lines, and so on, but vertical resize seems to be pretty safe and nice.\\nNone of the Facebook-using-newbies I know have ever mentioned anything about it or been confused. I\\'d use this as anecdotal evidence to say \\'go ahead, implement it\\'.\\nSome JavaScript code to do it, using Prototype (because that\\'s what I\\'m familiar with):\\n<!DOCTYPE HTML PUBLIC \"-//W3C//DTD HTML 4.01 Transitional//EN\"\\n  \"http://www.w3.org/TR/html4/loose.dtd\">\\n<html>\\n    <head>\\n        <script src=\"http://www.google.com/jsapi\"></script>\\n        <script language=\"javascript\">\\n            google.load(\\'prototype\\', \\'1.6.0.2\\');\\n        </script>\\n    </head>\\n\\n    <body>\\n        <textarea id=\"text-area\" rows=\"1\" cols=\"50\"></textarea>\\n\\n        <script type=\"text/javascript\" language=\"javascript\">\\n            resizeIt = function() {\\n              var str = $(\\'text-area\\').value;\\n              var cols = $(\\'text-area\\').cols;\\n\\n              var linecount = 0;\\n              $A(str.split(\"\\\\n\")).each( function(l) {\\n                  linecount += Math.ceil( l.length / cols ); // Take into account long lines\\n              })\\n              $(\\'text-area\\').rows = linecount + 1;\\n            };\\n\\n            // You could attach to keyUp, etc. if keydown doesn\\'t work\\n            Event.observe(\\'text-area\\', \\'keydown\\', resizeIt );\\n\\n            resizeIt(); //Initial on load\\n        </script>\\n    </body>\\n</html>\\n\\nPS: Obviously this JavaScript code is very naive and not well tested, and you probably don\\'t want to use it on textboxes with novels in them, but you get the general idea.\\n'],\n",
       " 'meta': {'language': 'en',\n",
       "  'url': 'https://stackoverflow.com-Posts/questions/7477',\n",
       "  'timestamp': '2023-03-29',\n",
       "  'source': 'stackexchange',\n",
       "  'question_score': '132',\n",
       "  'meta_question': 'How to autosize a textarea using Prototype? <p>I\\'m currently working on an internal sales application for the company I work for, and I\\'ve got a form that allows the user to change the delivery address.</p>\\n\\n<p>Now I think it would look much nicer, if the textarea I\\'m using for the main address details would just take up the area of the text in it, and automatically resize if the text was changed.</p>\\n\\n<p>Here\\'s a screenshot of it currently.</p>\\n\\n<p><img src=\"https://i.stack.imgur.com/XK48E.png\" alt=\"ISO Address\"></p>\\n\\n<p>Any ideas?</p>\\n\\n<hr>\\n\\n<p>@Chris</p>\\n\\n<p>A good point, but there are reasons I want it to resize. I want the area it takes up to be the area of the information contained in it. As you can see in the screen shot, if I have a fixed textarea, it takes up a fair wack of vertical space.</p>\\n\\n<p>I can reduce the font, but I need address to be large and readable. Now I can reduce the size of the text area, but then I have problems with people who have an address line that takes 3 or 4 (one takes 5) lines. Needing to have the user use a scrollbar is a major no-no.</p>\\n\\n<p>I guess I should be a bit more specific. I\\'m after vertical resizing, and the width doesn\\'t matter as much. The only problem that happens with that, is the ISO number (the large \"1\") gets pushed under the address when the window width is too small (as you can see on the screenshot).</p>\\n\\n<p>It\\'s not about having a gimick; it\\'s about having a text field the user can edit that won\\'t take up unnecessary space, but will show all the text in it.</p>\\n\\n<p>Though if someone comes up with another way to approach the problem I\\'m open to that too.</p>\\n\\n<hr>\\n\\n<p>I\\'ve modified the code a little because it was acting a little odd. I changed it to activate on keyup, because it wouldn\\'t take into consideration the character that was just typed.</p>\\n\\n<pre><code>resizeIt = function() {\\n  var str = $(\\'iso_address\\').value;\\n  var cols = $(\\'iso_address\\').cols;\\n  var linecount = 0;\\n\\n  $A(str.split(\"\\\\n\")).each(function(l) {\\n    linecount += 1 + Math.floor(l.length / cols); // Take into account long lines\\n  })\\n\\n  $(\\'iso_address\\').rows = linecount;\\n};\\n</code></pre>\\n',\n",
       "  'meta_answers': [{'id': '7523',\n",
       "    'text': '<p>Facebook does it, when you write on people\\'s walls, but only resizes vertically.</p>\\n\\n<p>Horizontal resize strikes me as being a mess, due to word-wrap, long lines, and so on, but vertical resize seems to be pretty safe and nice.</p>\\n\\n<p>None of the Facebook-using-newbies I know have ever mentioned anything about it or been confused. I\\'d use this as anecdotal evidence to say \\'go ahead, implement it\\'.</p>\\n\\n<p>Some JavaScript code to do it, using <a href=\"http://en.wikipedia.org/wiki/Prototype_JavaScript_Framework\" rel=\"noreferrer\">Prototype</a> (because that\\'s what I\\'m familiar with):</p>\\n\\n<pre><code>&lt;!DOCTYPE HTML PUBLIC \"-//W3C//DTD HTML 4.01 Transitional//EN\"\\n  \"http://www.w3.org/TR/html4/loose.dtd\"&gt;\\n&lt;html&gt;\\n    &lt;head&gt;\\n        &lt;script src=\"http://www.google.com/jsapi\"&gt;&lt;/script&gt;\\n        &lt;script language=\"javascript\"&gt;\\n            google.load(\\'prototype\\', \\'1.6.0.2\\');\\n        &lt;/script&gt;\\n    &lt;/head&gt;\\n\\n    &lt;body&gt;\\n        &lt;textarea id=\"text-area\" rows=\"1\" cols=\"50\"&gt;&lt;/textarea&gt;\\n\\n        &lt;script type=\"text/javascript\" language=\"javascript\"&gt;\\n            resizeIt = function() {\\n              var str = $(\\'text-area\\').value;\\n              var cols = $(\\'text-area\\').cols;\\n\\n              var linecount = 0;\\n              $A(str.split(\"\\\\n\")).each( function(l) {\\n                  linecount += Math.ceil( l.length / cols ); // Take into account long lines\\n              })\\n              $(\\'text-area\\').rows = linecount + 1;\\n            };\\n\\n            // You could attach to keyUp, etc. if keydown doesn\\'t work\\n            Event.observe(\\'text-area\\', \\'keydown\\', resizeIt );\\n\\n            resizeIt(); //Initial on load\\n        &lt;/script&gt;\\n    &lt;/body&gt;\\n&lt;/html&gt;\\n</code></pre>\\n\\n<p>PS: Obviously this JavaScript code is very naive and not well tested, and you probably don\\'t want to use it on textboxes with novels in them, but you get the general idea.</p>\\n',\n",
       "    'score': '80'}]},\n",
       " 'question_md': 'How to autosize a textarea using Prototype? \\nI\\'m currently working on an internal sales application for the company I work for, and I\\'ve got a form that allows the user to change the delivery address.\\n\\n\\nNow I think it would look much nicer, if the textarea I\\'m using for the main address details would just take up the area of the text in it, and automatically resize if the text was changed.\\n\\n\\nHere\\'s a screenshot of it currently.\\n\\n\\n![ISO Address](https://i.stack.imgur.com/XK48E.png)\\n\\n\\nAny ideas?\\n\\n\\n\\n\\n---\\n\\n\\n@Chris\\n\\n\\nA good point, but there are reasons I want it to resize. I want the area it takes up to be the area of the information contained in it. As you can see in the screen shot, if I have a fixed textarea, it takes up a fair wack of vertical space.\\n\\n\\nI can reduce the font, but I need address to be large and readable. Now I can reduce the size of the text area, but then I have problems with people who have an address line that takes 3 or 4 (one takes 5\\\\) lines. Needing to have the user use a scrollbar is a major no\\\\-no.\\n\\n\\nI guess I should be a bit more specific. I\\'m after vertical resizing, and the width doesn\\'t matter as much. The only problem that happens with that, is the ISO number (the large \"1\") gets pushed under the address when the window width is too small (as you can see on the screenshot).\\n\\n\\nIt\\'s not about having a gimick; it\\'s about having a text field the user can edit that won\\'t take up unnecessary space, but will show all the text in it.\\n\\n\\nThough if someone comes up with another way to approach the problem I\\'m open to that too.\\n\\n\\n\\n\\n---\\n\\n\\nI\\'ve modified the code a little because it was acting a little odd. I changed it to activate on keyup, because it wouldn\\'t take into consideration the character that was just typed.\\n\\n\\n\\n```\\nresizeIt = function() {\\n  var str = $(\\'iso_address\\').value;\\n  var cols = $(\\'iso_address\\').cols;\\n  var linecount = 0;\\n\\n  $A(str.split(\"\\\\n\")).each(function(l) {\\n    linecount += 1 + Math.floor(l.length / cols); // Take into account long lines\\n  })\\n\\n  $(\\'iso_address\\').rows = linecount;\\n};\\n\\n```\\n\\n',\n",
       " 'answers_md': 'Facebook does it, when you write on people\\'s walls, but only resizes vertically.\\n\\n\\nHorizontal resize strikes me as being a mess, due to word\\\\-wrap, long lines, and so on, but vertical resize seems to be pretty safe and nice.\\n\\n\\nNone of the Facebook\\\\-using\\\\-newbies I know have ever mentioned anything about it or been confused. I\\'d use this as anecdotal evidence to say \\'go ahead, implement it\\'.\\n\\n\\nSome JavaScript code to do it, using [Prototype](http://en.wikipedia.org/wiki/Prototype_JavaScript_Framework) (because that\\'s what I\\'m familiar with):\\n\\n\\n\\n```\\n<!DOCTYPE HTML PUBLIC \"-//W3C//DTD HTML 4.01 Transitional//EN\"\\n  \"http://www.w3.org/TR/html4/loose.dtd\">\\n<html>\\n    <head>\\n        <script src=\"http://www.google.com/jsapi\"></script>\\n        <script language=\"javascript\">\\n            google.load(\\'prototype\\', \\'1.6.0.2\\');\\n        </script>\\n    </head>\\n\\n    <body>\\n        <textarea id=\"text-area\" rows=\"1\" cols=\"50\"></textarea>\\n\\n        <script type=\"text/javascript\" language=\"javascript\">\\n            resizeIt = function() {\\n              var str = $(\\'text-area\\').value;\\n              var cols = $(\\'text-area\\').cols;\\n\\n              var linecount = 0;\\n              $A(str.split(\"\\\\n\")).each( function(l) {\\n                  linecount += Math.ceil( l.length / cols ); // Take into account long lines\\n              })\\n              $(\\'text-area\\').rows = linecount + 1;\\n            };\\n\\n            // You could attach to keyUp, etc. if keydown doesn\\'t work\\n            Event.observe(\\'text-area\\', \\'keydown\\', resizeIt );\\n\\n            resizeIt(); //Initial on load\\n        </script>\\n    </body>\\n</html>\\n\\n```\\n\\nPS: Obviously this JavaScript code is very naive and not well tested, and you probably don\\'t want to use it on textboxes with novels in them, but you get the general idea.\\n\\n\\n',\n",
       " 'images_url': ['https://i.stack.imgur.com/XK48E.png'],\n",
       " 'images': ['/mnt/lingjiejiang/multimodal_code/data/stack_images_2/save_images/172252.png'],\n",
       " 'domain': 'stackoverflow.com-Posts',\n",
       " 'lang': 'HTML'}"
      ]
     },
     "execution_count": 8,
     "metadata": {},
     "output_type": "execute_result"
    }
   ],
   "source": [
    "single_images[0]"
   ]
  },
  {
   "cell_type": "code",
   "execution_count": 49,
   "metadata": {},
   "outputs": [
    {
     "data": {
      "text/plain": [
       "61266"
      ]
     },
     "execution_count": 49,
     "metadata": {},
     "output_type": "execute_result"
    }
   ],
   "source": [
    "import json  \n",
    "import re  \n",
    " \n",
    "# 正则表达式匹配Markdown图片格式  \n",
    "# 正则表达式匹配Markdown图片格式，包括链接  \n",
    "image_pattern = re.compile(r'\\[!\\[.*?\\]\\(.*?\\)\\]\\(.*?\\)')  \n",
    "  \n",
    "  \n",
    "# 正则表达式匹配中文、日文、韩文字符  \n",
    "non_english_pattern = re.compile(r'[\\u4e00-\\u9fff\\u3040-\\u30ff\\uac00-\\ud7af]')  \n",
    "  \n",
    "# # # 读取数据  \n",
    "# with open(\"/mnt/lingjiejiang/multimodal_code/data/stack_overflow/processed_data.html.jsonl\") as f:  \n",
    "#     data = [json.loads(line) for line in f]  \n",
    "  \n",
    "# 存储仅包含一张图片且不包含中文、日文、韩文字符的item  \n",
    "single_image_items = []  \n",
    "\n",
    "other_items = []\n",
    "# 遍历数据  \n",
    "for item in single_images:  \n",
    "    question_md = item[\"question_md\"]  \n",
    "  \n",
    "    # 检查每个item中的question_md的图片数量  \n",
    "    images = image_pattern.findall(question_md)  \n",
    "      \n",
    "    # 检查是否包含中文、日文、韩文字符  \n",
    "    if len(images) == 1 and not non_english_pattern.search(question_md):  \n",
    "        # 替换图片为空字符串  \n",
    "        item[\"question_processed\"] = image_pattern.sub('', question_md)  \n",
    "        # 添加到列表  \n",
    "        single_image_items.append(item)  \n",
    "    else:\n",
    "        other_items.append(item)\n",
    "\n",
    "filter_data = []\n",
    "for item in single_image_items:\n",
    "    if \".png\" not in item[\"question_processed\"] and \"<image>\" not in item[\"question_processed\"] and \".jpg\" not in item[\"question_processed\"]:\n",
    "        filter_data.append(item)\n",
    "len(filter_data)  "
   ]
  },
  {
   "cell_type": "code",
   "execution_count": 51,
   "metadata": {},
   "outputs": [],
   "source": [
    "with open(\"filter_data.json\", \"w\") as f:\n",
    "    json.dump(filter_data, f, indent=4)"
   ]
  },
  {
   "cell_type": "code",
   "execution_count": 52,
   "metadata": {},
   "outputs": [
    {
     "data": {
      "text/plain": [
       "{'question': \"Issues creating a box using CSS I want to create a box shape and I am having trouble.\\nI want the box to have a background color, and then different color inside the box.\\nThe box will then have a list of items using ul and li, and each list item will have a background of white, and the list item's background color is too stretch the entire distance of the inner box.\\nAlso, the list items should have a 1 px spacing between each one, so that the background color of the inside box color is visible.\\nHere is a rough sketch of what I am trying to do:\\n\\n\",\n",
       " 'answers': ['You can do this pretty cleanly with this css:\\n.box {\\n        width: 100px;\\n        border: solid #884400;\\n        border-width: 8px 3px 8px 3px;\\n        background-color: #ccaa77;\\n}\\n\\n.box ul {\\n        margin: 0px;\\n        padding: 0px;\\n        padding-top: 50px; /* presuming the non-list header space at the top of\\n                              your box is desirable */\\n}\\n\\n.box ul li {\\n        margin: 0px 2px 2px 2px; /* reduce to 1px if you find the separation\\n                                    sufficiently visible */\\n        background-color: #ffffff;\\n        list-style-type: none;\\n        padding-left: 2px;\\n}\\n\\nand this html:\\n<div class=\"box\">\\n  <ul>\\n    <li>Lorem</li>\\n    <li>Ipsum</li>\\n   </ul>\\n</div>\\n\\nDEMO\\n'],\n",
       " 'meta': {'language': 'en',\n",
       "  'url': 'https://stackoverflow.com-Posts/questions/108687',\n",
       "  'timestamp': '2023-03-29',\n",
       "  'source': 'stackexchange',\n",
       "  'question_score': '6',\n",
       "  'meta_question': 'Issues creating a box using CSS <p>I want to create a box shape and I am having trouble.\\nI want the box to have a background color, and then different color inside the box.<br>\\nThe box will then have a list of items using ul and li, and each list item will have a background of white, and the list item\\'s background color is too stretch the entire distance of the inner box.\\nAlso, the list items should have a 1 px spacing between each one, so that the background color of the inside box color is visible.</p>\\n\\n<p>Here is a rough sketch of what I am trying to do:</p>\\n\\n<p><a href=\"https://i.stack.imgur.com/aZ2W7.png\" rel=\"nofollow noreferrer\"><img src=\"https://i.stack.imgur.com/aZ2W7.png\" alt=\"\"></a></p>\\n',\n",
       "  'meta_answers': [{'id': '108778',\n",
       "    'text': '<p>You can do this pretty cleanly with this css:</p>\\n\\n<pre><code>.box {\\n        width: 100px;\\n        border: solid #884400;\\n        border-width: 8px 3px 8px 3px;\\n        background-color: #ccaa77;\\n}\\n\\n.box ul {\\n        margin: 0px;\\n        padding: 0px;\\n        padding-top: 50px; /* presuming the non-list header space at the top of\\n                              your box is desirable */\\n}\\n\\n.box ul li {\\n        margin: 0px 2px 2px 2px; /* reduce to 1px if you find the separation\\n                                    sufficiently visible */\\n        background-color: #ffffff;\\n        list-style-type: none;\\n        padding-left: 2px;\\n}\\n</code></pre>\\n\\n<p>and this html:</p>\\n\\n<pre><code>&lt;div class=\"box\"&gt;\\n  &lt;ul&gt;\\n    &lt;li&gt;Lorem&lt;/li&gt;\\n    &lt;li&gt;Ipsum&lt;/li&gt;\\n   &lt;/ul&gt;\\n&lt;/div&gt;\\n</code></pre>\\n\\n<p><a href=\"http://jsfiddle.net/0b7w65qv/\" rel=\"nofollow noreferrer\">DEMO</a></p>\\n',\n",
       "    'score': '8'}]},\n",
       " 'question_md': \"Issues creating a box using CSS \\nI want to create a box shape and I am having trouble.\\nI want the box to have a background color, and then different color inside the box.  \\n\\nThe box will then have a list of items using ul and li, and each list item will have a background of white, and the list item's background color is too stretch the entire distance of the inner box.\\nAlso, the list items should have a 1 px spacing between each one, so that the background color of the inside box color is visible.\\n\\n\\nHere is a rough sketch of what I am trying to do:\\n\\n\\n[![](https://i.stack.imgur.com/aZ2W7.png)](https://i.stack.imgur.com/aZ2W7.png)\\n\\n\\n\",\n",
       " 'answers_md': 'You can do this pretty cleanly with this css:\\n\\n\\n\\n```\\n.box {\\n        width: 100px;\\n        border: solid #884400;\\n        border-width: 8px 3px 8px 3px;\\n        background-color: #ccaa77;\\n}\\n\\n.box ul {\\n        margin: 0px;\\n        padding: 0px;\\n        padding-top: 50px; /* presuming the non-list header space at the top of\\n                              your box is desirable */\\n}\\n\\n.box ul li {\\n        margin: 0px 2px 2px 2px; /* reduce to 1px if you find the separation\\n                                    sufficiently visible */\\n        background-color: #ffffff;\\n        list-style-type: none;\\n        padding-left: 2px;\\n}\\n\\n```\\n\\nand this html:\\n\\n\\n\\n```\\n<div class=\"box\">\\n  <ul>\\n    <li>Lorem</li>\\n    <li>Ipsum</li>\\n   </ul>\\n</div>\\n\\n```\\n\\n[DEMO](http://jsfiddle.net/0b7w65qv/)\\n\\n\\n',\n",
       " 'images_url': ['https://i.stack.imgur.com/aZ2W7.png'],\n",
       " 'images': ['/mnt/lingjiejiang/multimodal_code/data/supply_images/m1/machine_1_image_69730.png'],\n",
       " 'domain': 'stackoverflow.com-Posts',\n",
       " 'lang': 'HTML',\n",
       " 'question_processed': \"Issues creating a box using CSS \\nI want to create a box shape and I am having trouble.\\nI want the box to have a background color, and then different color inside the box.  \\n\\nThe box will then have a list of items using ul and li, and each list item will have a background of white, and the list item's background color is too stretch the entire distance of the inner box.\\nAlso, the list items should have a 1 px spacing between each one, so that the background color of the inside box color is visible.\\n\\n\\nHere is a rough sketch of what I am trying to do:\\n\\n\\n\\n\\n\\n\"}"
      ]
     },
     "execution_count": 52,
     "metadata": {},
     "output_type": "execute_result"
    }
   ],
   "source": [
    "filter_data[0]"
   ]
  },
  {
   "cell_type": "code",
   "execution_count": 53,
   "metadata": {},
   "outputs": [
    {
     "name": "stderr",
     "output_type": "stream",
     "text": [
      " 11%|█         | 6883/61266 [01:24<14:53, 60.90it/s]"
     ]
    },
    {
     "name": "stdout",
     "output_type": "stream",
     "text": [
      "Could not process image /mnt/lingjiejiang/multimodal_code/data/stack_images_2/save_images/580951.png: cannot identify image file '/mnt/lingjiejiang/multimodal_code/data/stack_images_2/save_images/580951.png'\n"
     ]
    },
    {
     "name": "stderr",
     "output_type": "stream",
     "text": [
      " 17%|█▋        | 10512/61266 [02:10<10:14, 82.66it/s]"
     ]
    },
    {
     "name": "stdout",
     "output_type": "stream",
     "text": [
      "Could not process image /mnt/lingjiejiang/multimodal_code/data/stack_images_2/save_images/633794.png: cannot identify image file '/mnt/lingjiejiang/multimodal_code/data/stack_images_2/save_images/633794.png'\n"
     ]
    },
    {
     "name": "stderr",
     "output_type": "stream",
     "text": [
      " 17%|█▋        | 10557/61266 [02:10<10:29, 80.52it/s]"
     ]
    },
    {
     "name": "stdout",
     "output_type": "stream",
     "text": [
      "Could not process image /mnt/lingjiejiang/multimodal_code/data/stack_images_2/save_images/634358.png: cannot identify image file '/mnt/lingjiejiang/multimodal_code/data/stack_images_2/save_images/634358.png'\n"
     ]
    },
    {
     "name": "stderr",
     "output_type": "stream",
     "text": [
      " 19%|█▉        | 11726/61266 [02:25<09:54, 83.37it/s]"
     ]
    },
    {
     "name": "stdout",
     "output_type": "stream",
     "text": [
      "Could not process image /mnt/lingjiejiang/multimodal_code/data/stack_images_2/save_images/651695.png: cannot identify image file '/mnt/lingjiejiang/multimodal_code/data/stack_images_2/save_images/651695.png'\n"
     ]
    },
    {
     "name": "stderr",
     "output_type": "stream",
     "text": [
      " 22%|██▏       | 13490/61266 [02:48<09:32, 83.46it/s]"
     ]
    },
    {
     "name": "stdout",
     "output_type": "stream",
     "text": [
      "Could not process image /mnt/lingjiejiang/multimodal_code/data/stack_images_2/save_images/676611.png: cannot identify image file '/mnt/lingjiejiang/multimodal_code/data/stack_images_2/save_images/676611.png'\n"
     ]
    },
    {
     "name": "stderr",
     "output_type": "stream",
     "text": [
      " 51%|█████     | 31219/61266 [06:46<05:59, 83.49it/s]  "
     ]
    },
    {
     "name": "stdout",
     "output_type": "stream",
     "text": [
      "Could not process image /mnt/lingjiejiang/multimodal_code/data/stack_images_2/save_images/959240.png: cannot identify image file '/mnt/lingjiejiang/multimodal_code/data/stack_images_2/save_images/959240.png'\n"
     ]
    },
    {
     "name": "stderr",
     "output_type": "stream",
     "text": [
      " 70%|███████   | 43055/61266 [09:18<03:44, 81.20it/s]"
     ]
    },
    {
     "name": "stdout",
     "output_type": "stream",
     "text": [
      "Could not process image /mnt/lingjiejiang/multimodal_code/data/stack_images_2/save_images/1179498.png: cannot identify image file '/mnt/lingjiejiang/multimodal_code/data/stack_images_2/save_images/1179498.png'\n"
     ]
    },
    {
     "name": "stderr",
     "output_type": "stream",
     "text": [
      " 82%|████████▏ | 50540/61266 [10:53<02:10, 82.09it/s]"
     ]
    },
    {
     "name": "stdout",
     "output_type": "stream",
     "text": [
      "Could not process image /mnt/lingjiejiang/multimodal_code/data/stack_images_2/save_images/1326249.png: cannot identify image file '/mnt/lingjiejiang/multimodal_code/data/stack_images_2/save_images/1326249.png'\n"
     ]
    },
    {
     "name": "stderr",
     "output_type": "stream",
     "text": [
      " 84%|████████▍ | 51354/61266 [11:03<02:04, 79.84it/s]"
     ]
    },
    {
     "name": "stdout",
     "output_type": "stream",
     "text": [
      "Could not process image /mnt/lingjiejiang/multimodal_code/data/stack_images_2/save_images/1342198.png: cannot identify image file '/mnt/lingjiejiang/multimodal_code/data/stack_images_2/save_images/1342198.png'\n"
     ]
    },
    {
     "name": "stderr",
     "output_type": "stream",
     "text": [
      " 92%|█████████▏| 56539/61266 [12:17<01:01, 77.46it/s]"
     ]
    },
    {
     "name": "stdout",
     "output_type": "stream",
     "text": [
      "Could not process image /mnt/lingjiejiang/multimodal_code/data/stack_images_2/save_images/1448543.png: cannot identify image file '/mnt/lingjiejiang/multimodal_code/data/stack_images_2/save_images/1448543.png'\n"
     ]
    },
    {
     "name": "stderr",
     "output_type": "stream",
     "text": [
      "100%|██████████| 61266/61266 [13:18<00:00, 76.75it/s]\n"
     ]
    },
    {
     "name": "stdout",
     "output_type": "stream",
     "text": [
      "Number of items after filtering: 59962\n",
      "Filtered data saved to /mnt/lingjiejiang/multimodal_code/data/stack_overflow/filter_data/html_59k_img_filtered.json\n"
     ]
    }
   ],
   "source": [
    "import json  \n",
    "from PIL import Image  \n",
    "from tqdm import tqdm  \n",
    "  \n",
    "# 设置合理的最大像素数和最大宽高  \n",
    "MAX_PIXELS = 4259840  # 例如：2560 * 1440  \n",
    "MAX_WIDTH = 2560  \n",
    "MAX_HEIGHT = 2000 \n",
    "\n",
    "  \n",
    "# 读取JSON文件  \n",
    "# save_path = \"/mnt/lingjiejiang/multimodal_code/data/chart_data/cot_existing_images_39k.json\"  \n",
    "# with open(save_path, 'r') as f:  \n",
    "#     data = json.load(f)  \n",
    "data = filter_data\n",
    "# 遍历每个数据项  \n",
    "filtered_data = []  \n",
    "for item in tqdm(data):  \n",
    "    keep_item = True  \n",
    "    image_path = item.get('images')[0]  \n",
    "    if image_path:  \n",
    "        try:  \n",
    "            with Image.open(image_path) as img:  \n",
    "                # 检查图片尺寸  \n",
    "                if img.width > MAX_WIDTH or img.height > MAX_HEIGHT or (img.width * img.height) > MAX_PIXELS:  \n",
    "                    keep_item = False  \n",
    "                    # print(f\"Image {image_path} exceeds size limits and will be removed.\")  \n",
    "        except Exception as e:  \n",
    "            print(f\"Could not process image {image_path}: {e}\")  \n",
    "            keep_item = False  \n",
    "    if keep_item:  \n",
    "        filtered_data.append(item)  \n",
    "  \n",
    "# 输出过滤后的数据长度  \n",
    "print(f\"Number of items after filtering: {len(filtered_data)}\")  \n",
    "  \n",
    "# 将过滤后的数据保存回JSON文件  \n",
    "filtered_save_path = f\"/mnt/lingjiejiang/multimodal_code/data/stack_overflow/filter_data/html_{len(filtered_data) // 1000}k_img_filtered.json\"  \n",
    "with open(filtered_save_path, \"w\") as f:  \n",
    "    json.dump(filtered_data, f, indent=0)  \n",
    "print(f\"Filtered data saved to {filtered_save_path}\")"
   ]
  },
  {
   "cell_type": "markdown",
   "metadata": {},
   "source": [
    "### process pyfile"
   ]
  },
  {
   "cell_type": "code",
   "execution_count": 62,
   "metadata": {},
   "outputs": [
    {
     "data": {
      "text/plain": [
       "40013"
      ]
     },
     "execution_count": 62,
     "metadata": {},
     "output_type": "execute_result"
    }
   ],
   "source": [
    "import json\n",
    "with open(\"/mnt/lingjiejiang/multimodal_code/data/stack_overflow/processed_data.py.jsonl\") as f:\n",
    "    data_py = [json.loads(line) for line in f]\n",
    "len(data_py)"
   ]
  },
  {
   "cell_type": "code",
   "execution_count": 64,
   "metadata": {},
   "outputs": [
    {
     "data": {
      "text/plain": [
       "26757"
      ]
     },
     "execution_count": 64,
     "metadata": {},
     "output_type": "execute_result"
    }
   ],
   "source": [
    "single_images = []\n",
    "for item in data_py:\n",
    "    if \"images\" in item:\n",
    "        if len(item[\"images\"]) == 1:\n",
    "            single_images.append(item)\n",
    "len(single_images)"
   ]
  },
  {
   "cell_type": "code",
   "execution_count": 65,
   "metadata": {},
   "outputs": [
    {
     "data": {
      "text/plain": [
       "20087"
      ]
     },
     "execution_count": 65,
     "metadata": {},
     "output_type": "execute_result"
    }
   ],
   "source": [
    "import json  \n",
    "import re  \n",
    " \n",
    "# 正则表达式匹配Markdown图片格式  \n",
    "# 正则表达式匹配Markdown图片格式，包括链接  \n",
    "image_pattern = re.compile(r'\\[!\\[.*?\\]\\(.*?\\)\\]\\(.*?\\)')  \n",
    "  \n",
    "  \n",
    "# 正则表达式匹配中文、日文、韩文字符  \n",
    "non_english_pattern = re.compile(r'[\\u4e00-\\u9fff\\u3040-\\u30ff\\uac00-\\ud7af]')  \n",
    "  \n",
    "# # # 读取数据  \n",
    "# with open(\"/mnt/lingjiejiang/multimodal_code/data/stack_overflow/processed_data.html.jsonl\") as f:  \n",
    "#     data = [json.loads(line) for line in f]  \n",
    "  \n",
    "# 存储仅包含一张图片且不包含中文、日文、韩文字符的item  \n",
    "single_image_items = []  \n",
    "\n",
    "other_items = []\n",
    "# 遍历数据  \n",
    "for item in single_images:  \n",
    "    question_md = item[\"question_md\"]  \n",
    "  \n",
    "    # 检查每个item中的question_md的图片数量  \n",
    "    images = image_pattern.findall(question_md)  \n",
    "      \n",
    "    # 检查是否包含中文、日文、韩文字符  \n",
    "    if len(images) == 1 and not non_english_pattern.search(question_md):  \n",
    "        # 替换图片为空字符串  \n",
    "        item[\"question_processed\"] = image_pattern.sub('', question_md)  \n",
    "        # 添加到列表  \n",
    "        single_image_items.append(item)  \n",
    "    else:\n",
    "        other_items.append(item)\n",
    "\n",
    "filter_data = []\n",
    "for item in single_image_items:\n",
    "    if \".png\" not in item[\"question_processed\"] and \"<image>\" not in item[\"question_processed\"] and \".jpg\" not in item[\"question_processed\"]:\n",
    "        filter_data.append(item)\n",
    "len(filter_data)  "
   ]
  },
  {
   "cell_type": "code",
   "execution_count": 67,
   "metadata": {},
   "outputs": [
    {
     "name": "stderr",
     "output_type": "stream",
     "text": [
      "  0%|          | 84/20087 [00:01<04:16, 77.84it/s]"
     ]
    },
    {
     "name": "stdout",
     "output_type": "stream",
     "text": [
      "Could not process image /mnt/lingjiejiang/multimodal_code/data/stack_images_2/save_images/491263.png: cannot identify image file '/mnt/lingjiejiang/multimodal_code/data/stack_images_2/save_images/491263.png'\n"
     ]
    },
    {
     "name": "stderr",
     "output_type": "stream",
     "text": [
      " 11%|█         | 2115/20087 [00:27<03:35, 83.21it/s]"
     ]
    },
    {
     "name": "stdout",
     "output_type": "stream",
     "text": [
      "Could not process image /mnt/lingjiejiang/multimodal_code/data/stack_images_2/save_images/675640.png: cannot identify image file '/mnt/lingjiejiang/multimodal_code/data/stack_images_2/save_images/675640.png'\n"
     ]
    },
    {
     "name": "stderr",
     "output_type": "stream",
     "text": [
      " 12%|█▏        | 2349/20087 [00:30<03:32, 83.49it/s]"
     ]
    },
    {
     "name": "stdout",
     "output_type": "stream",
     "text": [
      "Could not process image /mnt/lingjiejiang/multimodal_code/data/stack_images_2/save_images/694662.png: cannot identify image file '/mnt/lingjiejiang/multimodal_code/data/stack_images_2/save_images/694662.png'\n"
     ]
    },
    {
     "name": "stderr",
     "output_type": "stream",
     "text": [
      " 36%|███▌      | 7155/20087 [01:34<02:34, 83.62it/s]"
     ]
    },
    {
     "name": "stdout",
     "output_type": "stream",
     "text": [
      "Could not process image /mnt/lingjiejiang/multimodal_code/data/stack_images_2/save_images/990536.png: cannot identify image file '/mnt/lingjiejiang/multimodal_code/data/stack_images_2/save_images/990536.png'\n"
     ]
    },
    {
     "name": "stderr",
     "output_type": "stream",
     "text": [
      " 73%|███████▎  | 14725/20087 [03:09<01:06, 81.08it/s]"
     ]
    },
    {
     "name": "stdout",
     "output_type": "stream",
     "text": [
      "Could not process image /mnt/lingjiejiang/multimodal_code/data/stack_images_2/save_images/1318132.png: cannot identify image file '/mnt/lingjiejiang/multimodal_code/data/stack_images_2/save_images/1318132.png'\n"
     ]
    },
    {
     "name": "stderr",
     "output_type": "stream",
     "text": [
      " 80%|███████▉  | 16067/20087 [03:27<00:49, 81.22it/s]"
     ]
    },
    {
     "name": "stdout",
     "output_type": "stream",
     "text": [
      "Could not process image /mnt/lingjiejiang/multimodal_code/data/stack_images_2/save_images/1370854.png: cannot identify image file '/mnt/lingjiejiang/multimodal_code/data/stack_images_2/save_images/1370854.png'\n"
     ]
    },
    {
     "name": "stderr",
     "output_type": "stream",
     "text": [
      " 93%|█████████▎| 18652/20087 [04:00<00:17, 83.00it/s]"
     ]
    },
    {
     "name": "stdout",
     "output_type": "stream",
     "text": [
      "Could not process image /mnt/lingjiejiang/multimodal_code/data/stack_images_2/save_images/1480693.png: cannot identify image file '/mnt/lingjiejiang/multimodal_code/data/stack_images_2/save_images/1480693.png'\n"
     ]
    },
    {
     "name": "stderr",
     "output_type": "stream",
     "text": [
      "100%|██████████| 20087/20087 [04:22<00:00, 76.41it/s]\n"
     ]
    },
    {
     "name": "stdout",
     "output_type": "stream",
     "text": [
      "Number of items after filtering: 19629\n",
      "Filtered data saved to /mnt/lingjiejiang/multimodal_code/data/stack_overflow/filter_data/python_19k_img_filtered.json\n"
     ]
    }
   ],
   "source": [
    "import json  \n",
    "from PIL import Image  \n",
    "from tqdm import tqdm  \n",
    "  \n",
    "# 设置合理的最大像素数和最大宽高  \n",
    "MAX_PIXELS = 4259840  # 例如：2560 * 1440  \n",
    "MAX_WIDTH = 2560  \n",
    "MAX_HEIGHT = 2000 \n",
    "\n",
    "  \n",
    "# 读取JSON文件  \n",
    "# save_path = \"/mnt/lingjiejiang/multimodal_code/data/chart_data/cot_existing_images_39k.json\"  \n",
    "# with open(save_path, 'r') as f:  \n",
    "#     data = json.load(f)  \n",
    "data = filter_data\n",
    "# 遍历每个数据项  \n",
    "filtered_data = []  \n",
    "for item in tqdm(data):  \n",
    "    keep_item = True  \n",
    "    image_path = item.get('images')[0]  \n",
    "    if image_path:  \n",
    "        try:  \n",
    "            with Image.open(image_path) as img:  \n",
    "                # 检查图片尺寸  \n",
    "                if img.width > MAX_WIDTH or img.height > MAX_HEIGHT or (img.width * img.height) > MAX_PIXELS:  \n",
    "                    keep_item = False  \n",
    "                    # print(f\"Image {image_path} exceeds size limits and will be removed.\")  \n",
    "        except Exception as e:  \n",
    "            print(f\"Could not process image {image_path}: {e}\")  \n",
    "            keep_item = False  \n",
    "    if keep_item:  \n",
    "        filtered_data.append(item)  \n",
    "  \n",
    "# 输出过滤后的数据长度  \n",
    "print(f\"Number of items after filtering: {len(filtered_data)}\")  \n",
    "  \n",
    "# 将过滤后的数据保存回JSON文件  \n",
    "filtered_save_path = f\"/mnt/lingjiejiang/multimodal_code/data/stack_overflow/filter_data/python_{len(filtered_data) // 1000}k_img_filtered.json\"  \n",
    "with open(filtered_save_path, \"w\") as f:  \n",
    "    json.dump(filtered_data, f, indent=0)  \n",
    "print(f\"Filtered data saved to {filtered_save_path}\")"
   ]
  },
  {
   "cell_type": "code",
   "execution_count": null,
   "metadata": {},
   "outputs": [],
   "source": []
  },
  {
   "cell_type": "code",
   "execution_count": 2,
   "metadata": {},
   "outputs": [
    {
     "data": {
      "text/plain": [
       "(59962, 19629)"
      ]
     },
     "execution_count": 2,
     "metadata": {},
     "output_type": "execute_result"
    }
   ],
   "source": [
    "import json\n",
    "with open(\"/mnt/lingjiejiang/multimodal_code/data/stack_overflow/filter_data/html_59k_img_filtered.json\") as f:\n",
    "    data_html = json.load(f)\n",
    "with open(\"/mnt/lingjiejiang/multimodal_code/data/stack_overflow/filter_data/python_19k_img_filtered.json\") as f:\n",
    "    data_py = json.load(f)\n",
    "len(data_html), len(data_py)"
   ]
  },
  {
   "cell_type": "code",
   "execution_count": 15,
   "metadata": {},
   "outputs": [
    {
     "data": {
      "text/plain": [
       "79591"
      ]
     },
     "execution_count": 15,
     "metadata": {},
     "output_type": "execute_result"
    }
   ],
   "source": [
    "merged_data = data_html + data_py\n",
    "len(merged_data)"
   ]
  },
  {
   "cell_type": "code",
   "execution_count": 7,
   "metadata": {},
   "outputs": [
    {
     "data": {
      "text/plain": [
       "[{'question': \"Issues creating a box using CSS I want to create a box shape and I am having trouble.\\nI want the box to have a background color, and then different color inside the box.\\nThe box will then have a list of items using ul and li, and each list item will have a background of white, and the list item's background color is too stretch the entire distance of the inner box.\\nAlso, the list items should have a 1 px spacing between each one, so that the background color of the inside box color is visible.\\nHere is a rough sketch of what I am trying to do:\\n\\n\",\n",
       "  'answers': ['You can do this pretty cleanly with this css:\\n.box {\\n        width: 100px;\\n        border: solid #884400;\\n        border-width: 8px 3px 8px 3px;\\n        background-color: #ccaa77;\\n}\\n\\n.box ul {\\n        margin: 0px;\\n        padding: 0px;\\n        padding-top: 50px; /* presuming the non-list header space at the top of\\n                              your box is desirable */\\n}\\n\\n.box ul li {\\n        margin: 0px 2px 2px 2px; /* reduce to 1px if you find the separation\\n                                    sufficiently visible */\\n        background-color: #ffffff;\\n        list-style-type: none;\\n        padding-left: 2px;\\n}\\n\\nand this html:\\n<div class=\"box\">\\n  <ul>\\n    <li>Lorem</li>\\n    <li>Ipsum</li>\\n   </ul>\\n</div>\\n\\nDEMO\\n'],\n",
       "  'meta': {'language': 'en',\n",
       "   'url': 'https://stackoverflow.com-Posts/questions/108687',\n",
       "   'timestamp': '2023-03-29',\n",
       "   'source': 'stackexchange',\n",
       "   'question_score': '6',\n",
       "   'meta_question': 'Issues creating a box using CSS <p>I want to create a box shape and I am having trouble.\\nI want the box to have a background color, and then different color inside the box.<br>\\nThe box will then have a list of items using ul and li, and each list item will have a background of white, and the list item\\'s background color is too stretch the entire distance of the inner box.\\nAlso, the list items should have a 1 px spacing between each one, so that the background color of the inside box color is visible.</p>\\n\\n<p>Here is a rough sketch of what I am trying to do:</p>\\n\\n<p><a href=\"https://i.stack.imgur.com/aZ2W7.png\" rel=\"nofollow noreferrer\"><img src=\"https://i.stack.imgur.com/aZ2W7.png\" alt=\"\"></a></p>\\n',\n",
       "   'meta_answers': [{'id': '108778',\n",
       "     'text': '<p>You can do this pretty cleanly with this css:</p>\\n\\n<pre><code>.box {\\n        width: 100px;\\n        border: solid #884400;\\n        border-width: 8px 3px 8px 3px;\\n        background-color: #ccaa77;\\n}\\n\\n.box ul {\\n        margin: 0px;\\n        padding: 0px;\\n        padding-top: 50px; /* presuming the non-list header space at the top of\\n                              your box is desirable */\\n}\\n\\n.box ul li {\\n        margin: 0px 2px 2px 2px; /* reduce to 1px if you find the separation\\n                                    sufficiently visible */\\n        background-color: #ffffff;\\n        list-style-type: none;\\n        padding-left: 2px;\\n}\\n</code></pre>\\n\\n<p>and this html:</p>\\n\\n<pre><code>&lt;div class=\"box\"&gt;\\n  &lt;ul&gt;\\n    &lt;li&gt;Lorem&lt;/li&gt;\\n    &lt;li&gt;Ipsum&lt;/li&gt;\\n   &lt;/ul&gt;\\n&lt;/div&gt;\\n</code></pre>\\n\\n<p><a href=\"http://jsfiddle.net/0b7w65qv/\" rel=\"nofollow noreferrer\">DEMO</a></p>\\n',\n",
       "     'score': '8'}]},\n",
       "  'question_md': \"Issues creating a box using CSS \\nI want to create a box shape and I am having trouble.\\nI want the box to have a background color, and then different color inside the box.  \\n\\nThe box will then have a list of items using ul and li, and each list item will have a background of white, and the list item's background color is too stretch the entire distance of the inner box.\\nAlso, the list items should have a 1 px spacing between each one, so that the background color of the inside box color is visible.\\n\\n\\nHere is a rough sketch of what I am trying to do:\\n\\n\\n[![](https://i.stack.imgur.com/aZ2W7.png)](https://i.stack.imgur.com/aZ2W7.png)\\n\\n\\n\",\n",
       "  'answers_md': 'You can do this pretty cleanly with this css:\\n\\n\\n\\n```\\n.box {\\n        width: 100px;\\n        border: solid #884400;\\n        border-width: 8px 3px 8px 3px;\\n        background-color: #ccaa77;\\n}\\n\\n.box ul {\\n        margin: 0px;\\n        padding: 0px;\\n        padding-top: 50px; /* presuming the non-list header space at the top of\\n                              your box is desirable */\\n}\\n\\n.box ul li {\\n        margin: 0px 2px 2px 2px; /* reduce to 1px if you find the separation\\n                                    sufficiently visible */\\n        background-color: #ffffff;\\n        list-style-type: none;\\n        padding-left: 2px;\\n}\\n\\n```\\n\\nand this html:\\n\\n\\n\\n```\\n<div class=\"box\">\\n  <ul>\\n    <li>Lorem</li>\\n    <li>Ipsum</li>\\n   </ul>\\n</div>\\n\\n```\\n\\n[DEMO](http://jsfiddle.net/0b7w65qv/)\\n\\n\\n',\n",
       "  'images_url': ['https://i.stack.imgur.com/aZ2W7.png'],\n",
       "  'images': ['/mnt/lingjiejiang/multimodal_code/data/supply_images/m1/machine_1_image_69730.png'],\n",
       "  'domain': 'stackoverflow.com-Posts',\n",
       "  'lang': 'HTML',\n",
       "  'question_processed': \"Issues creating a box using CSS \\nI want to create a box shape and I am having trouble.\\nI want the box to have a background color, and then different color inside the box.  \\n\\nThe box will then have a list of items using ul and li, and each list item will have a background of white, and the list item's background color is too stretch the entire distance of the inner box.\\nAlso, the list items should have a 1 px spacing between each one, so that the background color of the inside box color is visible.\\n\\n\\nHere is a rough sketch of what I am trying to do:\\n\\n\\n\\n\\n\\n\"},\n",
       " {'question': 'Regular expression on Yahoo! pipes I\\'m fooling around with Yahoo! pipes and I\\'m hitting a wall with some regular expression. Now I\\'m familiar with regular expressions from Perl but the rules just seem to be different in Yahoo! pipes.\\n \\nWhat I\\'m doing is fetching a page and trying to turn it into a feed, my regex for stripping out the link from the HTML works fine but the title which I want to be what was in <i> tags  just outputs the original text. \\nSample text that matches in Perl and on this online regexp tester:\\n\\n<a rel=\"nofollow\" target=\"_blank\" HREF=\"http://changed.to/protect/the-guilty.html\"><i>\"Fee Fi Fo Fun\" (English Man)</i></a> (See also this other site <a rel=\"nofollow\" target=\"_blank\" href=\"http://stackoverflow.com\">Nada</a>) Some other text here\\n\\n',\n",
       "  'answers': ['RegEx for the title:\\n(?i).*?<i>([^<]*).*               [ ] g  [x] s  [ ] m  [ ] i\\n\\nRegEx for the link:\\n(?i).*?href=\"([^\"]*).*            [ ] g  [x] s  [ ] m  [ ] i\\n\\nSomehow the case-insensitive checkbox seems broken. Luckily you can substitute with (?i), which works nicely.\\nHere is a nice web2.0-ish tool to test regular expressions with: RegExr. But for some reason it\\'s still beta. ;-)\\n'],\n",
       "  'meta': {'language': 'en',\n",
       "   'url': 'https://stackoverflow.com-Posts/questions/360492',\n",
       "   'timestamp': '2023-03-29',\n",
       "   'source': 'stackexchange',\n",
       "   'question_score': '3',\n",
       "   'meta_question': 'Regular expression on Yahoo! pipes <p>I\\'m fooling around with <a href=\"http://pipes.yahoo.com\" rel=\"nofollow noreferrer\">Yahoo! pipes</a> and I\\'m hitting a wall with some regular expression. Now I\\'m familiar with regular expressions from Perl but the rules just seem to be different in Yahoo! pipes.</p>\\n\\n<p><a href=\"https://i.stack.imgur.com/6I6Ok.png\" rel=\"nofollow noreferrer\"><img src=\"https://i.stack.imgur.com/6I6Ok.png\" alt=\"Screenshot of my pipe\"></a>  </p>\\n\\n<p>What I\\'m doing is fetching a page and trying to turn it into a feed, my regex for stripping out the link from the HTML works fine but the title which I want to be what was in <em>&lt;i&gt;</em> tags  just outputs the original text. </p>\\n\\n<p>Sample text that matches in Perl and on this <a href=\"http://www.quanetic.com/regex.php\" rel=\"nofollow noreferrer\">online regexp tester</a>:</p>\\n\\n<blockquote>\\n  <p>&lt;a rel=\"nofollow\" target=\"_blank\" HREF=\"http://changed.to/protect/the-guilty.html\"&gt;&lt;i&gt;\"Fee Fi Fo Fun\" (English Man)&lt;/i&gt;&lt;/a&gt; (See also this other site &lt;a rel=\"nofollow\" target=\"_blank\" href=\"http://stackoverflow.com\"&gt;Nada&lt;/a&gt;) Some other text here</p>\\n</blockquote>\\n',\n",
       "   'meta_answers': [{'id': '360610',\n",
       "     'text': '<p>RegEx for the title:</p>\\n\\n<pre><code>(?i).*?&lt;i&gt;([^&lt;]*).*               [ ] g  [x] s  [ ] m  [ ] i\\n</code></pre>\\n\\n<p>RegEx for the link:</p>\\n\\n<pre><code>(?i).*?href=\"([^\"]*).*            [ ] g  [x] s  [ ] m  [ ] i\\n</code></pre>\\n\\n<p>Somehow the case-insensitive checkbox seems broken. Luckily you can substitute with <code>(?i)</code>, which works nicely.</p>\\n\\n<p>Here is a nice web2.0-ish tool to test regular expressions with: <a href=\"http://gskinner.com/RegExr/\" rel=\"noreferrer\">RegExr</a>. But for some reason it\\'s still beta. ;-)</p>\\n',\n",
       "     'score': '6'}]},\n",
       "  'question_md': 'Regular expression on Yahoo! pipes \\nI\\'m fooling around with [Yahoo! pipes](http://pipes.yahoo.com) and I\\'m hitting a wall with some regular expression. Now I\\'m familiar with regular expressions from Perl but the rules just seem to be different in Yahoo! pipes.\\n\\n\\n[![Screenshot of my pipe](https://i.stack.imgur.com/6I6Ok.png)](https://i.stack.imgur.com/6I6Ok.png) \\n\\n\\nWhat I\\'m doing is fetching a page and trying to turn it into a feed, my regex for stripping out the link from the HTML works fine but the title which I want to be what was in *\\\\<i\\\\>* tags just outputs the original text. \\n\\n\\nSample text that matches in Perl and on this [online regexp tester](http://www.quanetic.com/regex.php):\\n\\n\\n\\n> \\\\<a rel\\\\=\"nofollow\" target\\\\=\"\\\\_blank\" HREF\\\\=\"http://changed.to/protect/the\\\\-guilty.html\"\\\\>\\\\<i\\\\>\"Fee Fi Fo Fun\" (English Man)\\\\</i\\\\>\\\\</a\\\\> (See also this other site \\\\<a rel\\\\=\"nofollow\" target\\\\=\"\\\\_blank\" href\\\\=\"http://stackoverflow.com\"\\\\>Nada\\\\</a\\\\>) Some other text here\\n\\n\\n',\n",
       "  'answers_md': 'RegEx for the title:\\n\\n\\n\\n```\\n(?i).*?<i>([^<]*).*               [ ] g  [x] s  [ ] m  [ ] i\\n\\n```\\n\\nRegEx for the link:\\n\\n\\n\\n```\\n(?i).*?href=\"([^\"]*).*            [ ] g  [x] s  [ ] m  [ ] i\\n\\n```\\n\\nSomehow the case\\\\-insensitive checkbox seems broken. Luckily you can substitute with `(?i)`, which works nicely.\\n\\n\\nHere is a nice web2\\\\.0\\\\-ish tool to test regular expressions with: [RegExr](http://gskinner.com/RegExr/). But for some reason it\\'s still beta. ;\\\\-)\\n\\n\\n',\n",
       "  'images_url': ['https://i.stack.imgur.com/6I6Ok.png'],\n",
       "  'images': ['/mnt/lingjiejiang/multimodal_code/data/stack_images_2/save_images/172374.png'],\n",
       "  'domain': 'stackoverflow.com-Posts',\n",
       "  'lang': 'HTML',\n",
       "  'question_processed': 'Regular expression on Yahoo! pipes \\nI\\'m fooling around with [Yahoo! pipes](http://pipes.yahoo.com) and I\\'m hitting a wall with some regular expression. Now I\\'m familiar with regular expressions from Perl but the rules just seem to be different in Yahoo! pipes.\\n\\n\\n \\n\\n\\nWhat I\\'m doing is fetching a page and trying to turn it into a feed, my regex for stripping out the link from the HTML works fine but the title which I want to be what was in *\\\\<i\\\\>* tags just outputs the original text. \\n\\n\\nSample text that matches in Perl and on this [online regexp tester](http://www.quanetic.com/regex.php):\\n\\n\\n\\n> \\\\<a rel\\\\=\"nofollow\" target\\\\=\"\\\\_blank\" HREF\\\\=\"http://changed.to/protect/the\\\\-guilty.html\"\\\\>\\\\<i\\\\>\"Fee Fi Fo Fun\" (English Man)\\\\</i\\\\>\\\\</a\\\\> (See also this other site \\\\<a rel\\\\=\"nofollow\" target\\\\=\"\\\\_blank\" href\\\\=\"http://stackoverflow.com\"\\\\>Nada\\\\</a\\\\>) Some other text here\\n\\n\\n'}]"
      ]
     },
     "execution_count": 7,
     "metadata": {},
     "output_type": "execute_result"
    }
   ],
   "source": [
    "merged_data[:2]"
   ]
  },
  {
   "cell_type": "code",
   "execution_count": 8,
   "metadata": {},
   "outputs": [
    {
     "data": {
      "text/plain": [
       "(67480, 79591)"
      ]
     },
     "execution_count": 8,
     "metadata": {},
     "output_type": "execute_result"
    }
   ],
   "source": [
    "merged_filter = []\n",
    "for item in merged_data:\n",
    "    if \".png\" not in item[\"answers_md\"] and \"<image>\" not in item[\"answers_md\"] and \".jpg\" not in item[\"answers_md\"]:\n",
    "        merged_filter.append(item)\n",
    "len(merged_filter), len(merged_data)"
   ]
  },
  {
   "cell_type": "code",
   "execution_count": 16,
   "metadata": {},
   "outputs": [
    {
     "data": {
      "text/plain": [
       "{'question': \"Issues creating a box using CSS I want to create a box shape and I am having trouble.\\nI want the box to have a background color, and then different color inside the box.\\nThe box will then have a list of items using ul and li, and each list item will have a background of white, and the list item's background color is too stretch the entire distance of the inner box.\\nAlso, the list items should have a 1 px spacing between each one, so that the background color of the inside box color is visible.\\nHere is a rough sketch of what I am trying to do:\\n\\n\",\n",
       " 'answers': ['You can do this pretty cleanly with this css:\\n.box {\\n        width: 100px;\\n        border: solid #884400;\\n        border-width: 8px 3px 8px 3px;\\n        background-color: #ccaa77;\\n}\\n\\n.box ul {\\n        margin: 0px;\\n        padding: 0px;\\n        padding-top: 50px; /* presuming the non-list header space at the top of\\n                              your box is desirable */\\n}\\n\\n.box ul li {\\n        margin: 0px 2px 2px 2px; /* reduce to 1px if you find the separation\\n                                    sufficiently visible */\\n        background-color: #ffffff;\\n        list-style-type: none;\\n        padding-left: 2px;\\n}\\n\\nand this html:\\n<div class=\"box\">\\n  <ul>\\n    <li>Lorem</li>\\n    <li>Ipsum</li>\\n   </ul>\\n</div>\\n\\nDEMO\\n'],\n",
       " 'meta': {'language': 'en',\n",
       "  'url': 'https://stackoverflow.com-Posts/questions/108687',\n",
       "  'timestamp': '2023-03-29',\n",
       "  'source': 'stackexchange',\n",
       "  'question_score': '6',\n",
       "  'meta_question': 'Issues creating a box using CSS <p>I want to create a box shape and I am having trouble.\\nI want the box to have a background color, and then different color inside the box.<br>\\nThe box will then have a list of items using ul and li, and each list item will have a background of white, and the list item\\'s background color is too stretch the entire distance of the inner box.\\nAlso, the list items should have a 1 px spacing between each one, so that the background color of the inside box color is visible.</p>\\n\\n<p>Here is a rough sketch of what I am trying to do:</p>\\n\\n<p><a href=\"https://i.stack.imgur.com/aZ2W7.png\" rel=\"nofollow noreferrer\"><img src=\"https://i.stack.imgur.com/aZ2W7.png\" alt=\"\"></a></p>\\n',\n",
       "  'meta_answers': [{'id': '108778',\n",
       "    'text': '<p>You can do this pretty cleanly with this css:</p>\\n\\n<pre><code>.box {\\n        width: 100px;\\n        border: solid #884400;\\n        border-width: 8px 3px 8px 3px;\\n        background-color: #ccaa77;\\n}\\n\\n.box ul {\\n        margin: 0px;\\n        padding: 0px;\\n        padding-top: 50px; /* presuming the non-list header space at the top of\\n                              your box is desirable */\\n}\\n\\n.box ul li {\\n        margin: 0px 2px 2px 2px; /* reduce to 1px if you find the separation\\n                                    sufficiently visible */\\n        background-color: #ffffff;\\n        list-style-type: none;\\n        padding-left: 2px;\\n}\\n</code></pre>\\n\\n<p>and this html:</p>\\n\\n<pre><code>&lt;div class=\"box\"&gt;\\n  &lt;ul&gt;\\n    &lt;li&gt;Lorem&lt;/li&gt;\\n    &lt;li&gt;Ipsum&lt;/li&gt;\\n   &lt;/ul&gt;\\n&lt;/div&gt;\\n</code></pre>\\n\\n<p><a href=\"http://jsfiddle.net/0b7w65qv/\" rel=\"nofollow noreferrer\">DEMO</a></p>\\n',\n",
       "    'score': '8'}]},\n",
       " 'question_md': \"Issues creating a box using CSS \\nI want to create a box shape and I am having trouble.\\nI want the box to have a background color, and then different color inside the box.  \\n\\nThe box will then have a list of items using ul and li, and each list item will have a background of white, and the list item's background color is too stretch the entire distance of the inner box.\\nAlso, the list items should have a 1 px spacing between each one, so that the background color of the inside box color is visible.\\n\\n\\nHere is a rough sketch of what I am trying to do:\\n\\n\\n[![](https://i.stack.imgur.com/aZ2W7.png)](https://i.stack.imgur.com/aZ2W7.png)\\n\\n\\n\",\n",
       " 'answers_md': 'You can do this pretty cleanly with this css:\\n\\n\\n\\n```\\n.box {\\n        width: 100px;\\n        border: solid #884400;\\n        border-width: 8px 3px 8px 3px;\\n        background-color: #ccaa77;\\n}\\n\\n.box ul {\\n        margin: 0px;\\n        padding: 0px;\\n        padding-top: 50px; /* presuming the non-list header space at the top of\\n                              your box is desirable */\\n}\\n\\n.box ul li {\\n        margin: 0px 2px 2px 2px; /* reduce to 1px if you find the separation\\n                                    sufficiently visible */\\n        background-color: #ffffff;\\n        list-style-type: none;\\n        padding-left: 2px;\\n}\\n\\n```\\n\\nand this html:\\n\\n\\n\\n```\\n<div class=\"box\">\\n  <ul>\\n    <li>Lorem</li>\\n    <li>Ipsum</li>\\n   </ul>\\n</div>\\n\\n```\\n\\n[DEMO](http://jsfiddle.net/0b7w65qv/)\\n\\n\\n',\n",
       " 'images_url': ['https://i.stack.imgur.com/aZ2W7.png'],\n",
       " 'images': ['/mnt/lingjiejiang/multimodal_code/data/supply_images/m1/machine_1_image_69730.png'],\n",
       " 'domain': 'stackoverflow.com-Posts',\n",
       " 'lang': 'HTML',\n",
       " 'question_processed': \"Issues creating a box using CSS \\nI want to create a box shape and I am having trouble.\\nI want the box to have a background color, and then different color inside the box.  \\n\\nThe box will then have a list of items using ul and li, and each list item will have a background of white, and the list item's background color is too stretch the entire distance of the inner box.\\nAlso, the list items should have a 1 px spacing between each one, so that the background color of the inside box color is visible.\\n\\n\\nHere is a rough sketch of what I am trying to do:\\n\\n\\n\\n\\n\\n\",\n",
       " 'messages': [{'content': \"<image>\\nIssues creating a box using CSS \\nI want to create a box shape and I am having trouble.\\nI want the box to have a background color, and then different color inside the box.  \\n\\nThe box will then have a list of items using ul and li, and each list item will have a background of white, and the list item's background color is too stretch the entire distance of the inner box.\\nAlso, the list items should have a 1 px spacing between each one, so that the background color of the inside box color is visible.\\n\\n\\nHere is a rough sketch of what I am trying to do:\",\n",
       "   'role': 'user'},\n",
       "  {'content': 'You can do this pretty cleanly with this css:\\n\\n\\n\\n```\\n.box {\\n        width: 100px;\\n        border: solid #884400;\\n        border-width: 8px 3px 8px 3px;\\n        background-color: #ccaa77;\\n}\\n\\n.box ul {\\n        margin: 0px;\\n        padding: 0px;\\n        padding-top: 50px; /* presuming the non-list header space at the top of\\n                              your box is desirable */\\n}\\n\\n.box ul li {\\n        margin: 0px 2px 2px 2px; /* reduce to 1px if you find the separation\\n                                    sufficiently visible */\\n        background-color: #ffffff;\\n        list-style-type: none;\\n        padding-left: 2px;\\n}\\n\\n```\\n\\nand this html:\\n\\n\\n\\n```\\n<div class=\"box\">\\n  <ul>\\n    <li>Lorem</li>\\n    <li>Ipsum</li>\\n   </ul>\\n</div>\\n\\n```\\n\\n[DEMO](http://jsfiddle.net/0b7w65qv/)',\n",
       "   'role': 'assistant'}]}"
      ]
     },
     "execution_count": 16,
     "metadata": {},
     "output_type": "execute_result"
    }
   ],
   "source": [
    "for item in merged_filter:\n",
    "    item['messages'] = [  \n",
    "        {  \n",
    "            'content': '<image>\\n' + item[\"question_processed\"].strip(),  \n",
    "            'role': 'user'  \n",
    "        },  \n",
    "        {  \n",
    "            'content': item.get('answers_md', '').strip(),  \n",
    "            'role': 'assistant'  \n",
    "        }  \n",
    "    ]  \n",
    "merged_filter[0]"
   ]
  },
  {
   "cell_type": "code",
   "execution_count": 17,
   "metadata": {},
   "outputs": [],
   "source": [
    "with open(\"/mnt/lingjiejiang/multimodal_code/data/stack_overflow/filter_data/merged_filter_67k.json\", \"w\") as f:\n",
    "    json.dump(merged_filter, f, indent=4)"
   ]
  },
  {
   "cell_type": "code",
   "execution_count": 19,
   "metadata": {},
   "outputs": [
    {
     "data": {
      "text/plain": [
       "[{'id': '0',\n",
       "  'messages': [{'content': \"<image>\\nIssues creating a box using CSS \\nI want to create a box shape and I am having trouble.\\nI want the box to have a background color, and then different color inside the box.  \\n\\nThe box will then have a list of items using ul and li, and each list item will have a background of white, and the list item's background color is too stretch the entire distance of the inner box.\\nAlso, the list items should have a 1 px spacing between each one, so that the background color of the inside box color is visible.\\n\\n\\nHere is a rough sketch of what I am trying to do:\",\n",
       "    'role': 'user'},\n",
       "   {'content': 'You can do this pretty cleanly with this css:\\n\\n\\n\\n```\\n.box {\\n        width: 100px;\\n        border: solid #884400;\\n        border-width: 8px 3px 8px 3px;\\n        background-color: #ccaa77;\\n}\\n\\n.box ul {\\n        margin: 0px;\\n        padding: 0px;\\n        padding-top: 50px; /* presuming the non-list header space at the top of\\n                              your box is desirable */\\n}\\n\\n.box ul li {\\n        margin: 0px 2px 2px 2px; /* reduce to 1px if you find the separation\\n                                    sufficiently visible */\\n        background-color: #ffffff;\\n        list-style-type: none;\\n        padding-left: 2px;\\n}\\n\\n```\\n\\nand this html:\\n\\n\\n\\n```\\n<div class=\"box\">\\n  <ul>\\n    <li>Lorem</li>\\n    <li>Ipsum</li>\\n   </ul>\\n</div>\\n\\n```\\n\\n[DEMO](http://jsfiddle.net/0b7w65qv/)',\n",
       "    'role': 'assistant'}],\n",
       "  'images': ['/mnt/lingjiejiang/multimodal_code/data/supply_images/m1/machine_1_image_69730.png']},\n",
       " {'id': '1',\n",
       "  'messages': [{'content': '<image>\\nRegular expression on Yahoo! pipes \\nI\\'m fooling around with [Yahoo! pipes](http://pipes.yahoo.com) and I\\'m hitting a wall with some regular expression. Now I\\'m familiar with regular expressions from Perl but the rules just seem to be different in Yahoo! pipes.\\n\\n\\n \\n\\n\\nWhat I\\'m doing is fetching a page and trying to turn it into a feed, my regex for stripping out the link from the HTML works fine but the title which I want to be what was in *\\\\<i\\\\>* tags just outputs the original text. \\n\\n\\nSample text that matches in Perl and on this [online regexp tester](http://www.quanetic.com/regex.php):\\n\\n\\n\\n> \\\\<a rel\\\\=\"nofollow\" target\\\\=\"\\\\_blank\" HREF\\\\=\"http://changed.to/protect/the\\\\-guilty.html\"\\\\>\\\\<i\\\\>\"Fee Fi Fo Fun\" (English Man)\\\\</i\\\\>\\\\</a\\\\> (See also this other site \\\\<a rel\\\\=\"nofollow\" target\\\\=\"\\\\_blank\" href\\\\=\"http://stackoverflow.com\"\\\\>Nada\\\\</a\\\\>) Some other text here',\n",
       "    'role': 'user'},\n",
       "   {'content': 'RegEx for the title:\\n\\n\\n\\n```\\n(?i).*?<i>([^<]*).*               [ ] g  [x] s  [ ] m  [ ] i\\n\\n```\\n\\nRegEx for the link:\\n\\n\\n\\n```\\n(?i).*?href=\"([^\"]*).*            [ ] g  [x] s  [ ] m  [ ] i\\n\\n```\\n\\nSomehow the case\\\\-insensitive checkbox seems broken. Luckily you can substitute with `(?i)`, which works nicely.\\n\\n\\nHere is a nice web2\\\\.0\\\\-ish tool to test regular expressions with: [RegExr](http://gskinner.com/RegExr/). But for some reason it\\'s still beta. ;\\\\-)',\n",
       "    'role': 'assistant'}],\n",
       "  'images': ['/mnt/lingjiejiang/multimodal_code/data/stack_images_2/save_images/172374.png']}]"
      ]
     },
     "execution_count": 19,
     "metadata": {},
     "output_type": "execute_result"
    }
   ],
   "source": [
    "purity_data = []\n",
    "for id, item in enumerate(merged_filter):\n",
    "    purity_data.append(\n",
    "        {\n",
    "            \"id\": str(id),\n",
    "            \"messages\": item[\"messages\"],\n",
    "            \"images\": item[\"images\"]\n",
    "        }\n",
    "    )\n",
    "purity_data[:2]"
   ]
  },
  {
   "cell_type": "code",
   "execution_count": 21,
   "metadata": {},
   "outputs": [],
   "source": [
    "with open(\"/mnt/lingjiejiang/multimodal_code/data/stack_overflow/filter_data/merged_filter_67k_purify.json\", \"w\") as f:\n",
    "    json.dump(purity_data, f, indent=4)"
   ]
  },
  {
   "cell_type": "code",
   "execution_count": 22,
   "metadata": {},
   "outputs": [
    {
     "data": {
      "text/plain": [
       "80061"
      ]
     },
     "execution_count": 22,
     "metadata": {},
     "output_type": "execute_result"
    }
   ],
   "source": [
    "with open(\"/mnt/lingjiejiang/multimodal_code/data/Web2code_gpt4o/revised_html_tag_80k_v2.json\", \"r\") as f:\n",
    "    html_data = json.load(f)\n",
    "len(html_data)"
   ]
  },
  {
   "cell_type": "code",
   "execution_count": 23,
   "metadata": {},
   "outputs": [
    {
     "data": {
      "text/plain": [
       "147541"
      ]
     },
     "execution_count": 23,
     "metadata": {},
     "output_type": "execute_result"
    }
   ],
   "source": [
    "stack_html = purity_data + html_data\n",
    "len(stack_html)"
   ]
  },
  {
   "cell_type": "code",
   "execution_count": 24,
   "metadata": {},
   "outputs": [
    {
     "data": {
      "text/plain": [
       "147541"
      ]
     },
     "execution_count": 24,
     "metadata": {},
     "output_type": "execute_result"
    }
   ],
   "source": [
    "merged_format = []\n",
    "for id, item in enumerate(stack_html):\n",
    "    merged_format.append(\n",
    "        {\n",
    "            \"id\": str(id),\n",
    "            \"messages\": item[\"messages\"],\n",
    "            \"images\": item[\"images\"]\n",
    "        }\n",
    "    )\n",
    "len(merged_format)"
   ]
  },
  {
   "cell_type": "code",
   "execution_count": 2,
   "metadata": {},
   "outputs": [
    {
     "data": {
      "text/plain": [
       "67480"
      ]
     },
     "execution_count": 2,
     "metadata": {},
     "output_type": "execute_result"
    }
   ],
   "source": [
    "import json\n",
    "with open(\"/mnt/lingjiejiang/multimodal_code/data/stack_overflow/filter_data/merged_filter_67k_purify.json\", \"r\") as f:\n",
    "    data = json.load(f)\n",
    "len(data)"
   ]
  },
  {
   "cell_type": "code",
   "execution_count": 4,
   "metadata": {},
   "outputs": [
    {
     "data": {
      "text/plain": [
       "(67454, 26)"
      ]
     },
     "execution_count": 4,
     "metadata": {},
     "output_type": "execute_result"
    }
   ],
   "source": [
    "cnt = 0\n",
    "filter_video = []\n",
    "for item in data:\n",
    "    if \"<video>\" in item[\"messages\"][0][\"content\"] or \"<video>\" in item[\"messages\"][1][\"content\"]:\n",
    "        cnt += 1\n",
    "    else:\n",
    "        filter_video.append(item)\n",
    "len(filter_video), cnt"
   ]
  },
  {
   "cell_type": "code",
   "execution_count": 5,
   "metadata": {},
   "outputs": [],
   "source": [
    "with open(\"/mnt/lingjiejiang/multimodal_code/data/stack_overflow/filter_data/merged_filter_67k_purify.json\", \"w\") as f:\n",
    "    json.dump(filter_video, f, indent=0)\n"
   ]
  },
  {
   "cell_type": "code",
   "execution_count": 26,
   "metadata": {},
   "outputs": [
    {
     "data": {
      "text/plain": [
       "{'id': '0',\n",
       " 'messages': [{'content': \"<image>\\nIssues creating a box using CSS \\nI want to create a box shape and I am having trouble.\\nI want the box to have a background color, and then different color inside the box.  \\n\\nThe box will then have a list of items using ul and li, and each list item will have a background of white, and the list item's background color is too stretch the entire distance of the inner box.\\nAlso, the list items should have a 1 px spacing between each one, so that the background color of the inside box color is visible.\\n\\n\\nHere is a rough sketch of what I am trying to do:\",\n",
       "   'role': 'user'},\n",
       "  {'content': 'You can do this pretty cleanly with this css:\\n\\n\\n\\n```\\n.box {\\n        width: 100px;\\n        border: solid #884400;\\n        border-width: 8px 3px 8px 3px;\\n        background-color: #ccaa77;\\n}\\n\\n.box ul {\\n        margin: 0px;\\n        padding: 0px;\\n        padding-top: 50px; /* presuming the non-list header space at the top of\\n                              your box is desirable */\\n}\\n\\n.box ul li {\\n        margin: 0px 2px 2px 2px; /* reduce to 1px if you find the separation\\n                                    sufficiently visible */\\n        background-color: #ffffff;\\n        list-style-type: none;\\n        padding-left: 2px;\\n}\\n\\n```\\n\\nand this html:\\n\\n\\n\\n```\\n<div class=\"box\">\\n  <ul>\\n    <li>Lorem</li>\\n    <li>Ipsum</li>\\n   </ul>\\n</div>\\n\\n```\\n\\n[DEMO](http://jsfiddle.net/0b7w65qv/)',\n",
       "   'role': 'assistant'}],\n",
       " 'images': ['/mnt/lingjiejiang/multimodal_code/data/supply_images/m1/machine_1_image_69730.png']}"
      ]
     },
     "execution_count": 26,
     "metadata": {},
     "output_type": "execute_result"
    }
   ],
   "source": [
    "merged_format[0]"
   ]
  },
  {
   "cell_type": "code",
   "execution_count": 7,
   "metadata": {},
   "outputs": [
    {
     "name": "stderr",
     "output_type": "stream",
     "text": [
      "Processing images: 100%|██████████| 67454/67454 [12:30<00:00, 89.83it/s]  \n"
     ]
    },
    {
     "name": "stdout",
     "output_type": "stream",
     "text": [
      "过滤完成，剩余 67448 条数据，已保存至 /mnt/lingjiejiang/multimodal_code/data/stack_overflow/filter_data/merged_filter_img_67.json\n"
     ]
    }
   ],
   "source": [
    "import json\n",
    "import warnings\n",
    "from PIL import Image\n",
    "from tqdm import tqdm  # 用于进度条\n",
    "\n",
    "# 读取原始数据\n",
    "input_path = \"/mnt/lingjiejiang/multimodal_code/data/stack_overflow/filter_data/merged_filter_67k_purify.json\"\n",
    "output_path_template = \"/mnt/lingjiejiang/multimodal_code/data/stack_overflow/filter_data/merged_filter_img_{}.json\"\n",
    "\n",
    "with open(input_path, \"r\") as f:\n",
    "    data = json.load(f)\n",
    "\n",
    "filtered_data = []\n",
    "\n",
    "# 过滤掉包含任何 PIL 警告或异常的图片，显示进度条\n",
    "for item in tqdm(data, desc=\"Processing images\"):\n",
    "    image_path = item.get(\"images\", [None])[0]  # 获取第一张图片\n",
    "\n",
    "    if not image_path:  # 如果没有图片，直接跳过\n",
    "        continue\n",
    "\n",
    "    try:\n",
    "        with warnings.catch_warnings(record=True) as w:\n",
    "            warnings.simplefilter(\"always\")  # 捕获所有警告\n",
    "            img = Image.open(image_path)\n",
    "            img.verify()  # 验证图片\n",
    "            \n",
    "            # 如果捕获到任何 PIL 警告，则跳过\n",
    "            if len(w) > 0:\n",
    "                continue\n",
    "\n",
    "            # 通过验证且无警告，保留该 item\n",
    "            filtered_data.append(item)\n",
    "    except Exception:\n",
    "        continue  # 发生任何异常，跳过该项\n",
    "\n",
    "# 生成输出文件路径\n",
    "output_path = output_path_template.format(len(filtered_data) // 1000)\n",
    "\n",
    "# 保存过滤后的数据\n",
    "with open(output_path, \"w\") as f:\n",
    "    json.dump(filtered_data, f, indent=2)\n",
    "\n",
    "print(f\"过滤完成，剩余 {len(filtered_data)} 条数据，已保存至 {output_path}\")\n"
   ]
  },
  {
   "cell_type": "code",
   "execution_count": 9,
   "metadata": {},
   "outputs": [
    {
     "name": "stderr",
     "output_type": "stream",
     "text": [
      "Filtering images: 100%|██████████| 67448/67448 [10:34<00:00, 106.34it/s] \n"
     ]
    },
    {
     "name": "stdout",
     "output_type": "stream",
     "text": [
      "过滤完成，剩余 66715 条数据，已保存至 /mnt/lingjiejiang/multimodal_code/data/stack_overflow/filter_data/merged_filter_img_66k.json\n"
     ]
    }
   ],
   "source": [
    "import json\n",
    "from PIL import Image\n",
    "from tqdm import tqdm  # 进度条\n",
    "\n",
    "# 读取原始数据\n",
    "input_path = \"/mnt/lingjiejiang/multimodal_code/data/stack_overflow/filter_data/merged_filter_img_67.json\"\n",
    "output_path_template = \"/mnt/lingjiejiang/multimodal_code/data/stack_overflow/filter_data/merged_filter_img_{}k.json\"\n",
    "\n",
    "with open(input_path, \"r\") as f:\n",
    "    data = json.load(f)\n",
    "\n",
    "filtered_data = []\n",
    "\n",
    "# 过滤掉包含 Transparency 透明通道的 Palette 图片\n",
    "for item in tqdm(data, desc=\"Filtering images\"):\n",
    "    image_path = item.get(\"images\", [None])[0]  # 获取第一张图片\n",
    "\n",
    "    if not image_path:  # 没有图片，跳过\n",
    "        continue\n",
    "\n",
    "    try:\n",
    "        img = Image.open(image_path)\n",
    "        \n",
    "        # **检查是否是 Palette 模式且带透明度**\n",
    "        if img.mode == \"P\" and img.info.get(\"transparency\") is not None:\n",
    "            continue  # 过滤掉这类图片\n",
    "        \n",
    "        # **如果通过检查，保留该 item**\n",
    "        filtered_data.append(item)\n",
    "\n",
    "    except Exception:\n",
    "        continue  # 发生错误（如文件损坏），跳过该项\n",
    "\n",
    "# 生成输出文件路径\n",
    "output_path = output_path_template.format(len(filtered_data) // 1000)\n",
    "\n",
    "# 保存过滤后的数据\n",
    "with open(output_path, \"w\") as f:\n",
    "    json.dump(filtered_data, f, indent=2)\n",
    "\n",
    "print(f\"过滤完成，剩余 {len(filtered_data)} 条数据，已保存至 {output_path}\")\n"
   ]
  },
  {
   "cell_type": "code",
   "execution_count": 2,
   "metadata": {},
   "outputs": [
    {
     "data": {
      "text/plain": [
       "66715"
      ]
     },
     "execution_count": 2,
     "metadata": {},
     "output_type": "execute_result"
    }
   ],
   "source": [
    "import json\n",
    "with open(\"/mnt/lingjiejiang/multimodal_code/data/stack_overflow/filter_data/merged_filter_img_66k.json\", \"r\") as f:\n",
    "    stack_data = json.load(f)\n",
    "len(stack_data)"
   ]
  },
  {
   "cell_type": "code",
   "execution_count": 25,
   "metadata": {},
   "outputs": [],
   "source": [
    "with open(\"/mnt/lingjiejiang/multimodal_code/data/stack_overflow/filter_data/merged_format_147k.json\", \"w\") as f:\n",
    "    json.dump(merged_format, f, indent=0)"
   ]
  },
  {
   "cell_type": "code",
   "execution_count": 50,
   "metadata": {},
   "outputs": [],
   "source": [
    "sampled_data = sample(filter_data, 50)\n",
    "with open(\"sampled_50_filter.json\", \"w\") as f:\n",
    "    json.dump(sampled_data, f, indent=4)"
   ]
  },
  {
   "cell_type": "code",
   "execution_count": 45,
   "metadata": {},
   "outputs": [
    {
     "data": {
      "text/plain": [
       "4297"
      ]
     },
     "execution_count": 45,
     "metadata": {},
     "output_type": "execute_result"
    }
   ],
   "source": [
    "png_filter = []\n",
    "for item in single_image_items:\n",
    "    if \".png\" in item[\"question_processed\"]:\n",
    "        png_filter.append(item)\n",
    "len(png_filter)"
   ]
  },
  {
   "cell_type": "code",
   "execution_count": 41,
   "metadata": {},
   "outputs": [
    {
     "data": {
      "text/plain": [
       "99461"
      ]
     },
     "execution_count": 41,
     "metadata": {},
     "output_type": "execute_result"
    }
   ],
   "source": [
    "# 正则表达式匹配不同形式的Markdown图片格式  \n",
    "image_pattern = re.compile(r'!\\[.*?\\]\\(.*?\\)|\\[!\\[.*?\\]\\(.*?\\)\\]\\(.*?\\)')  \n",
    "  \n",
    "# 正则表达式匹配中文、日文、韩文字符  \n",
    "non_english_pattern = re.compile(r'[\\u4e00-\\u9fff\\u3040-\\u30ff\\uac00-\\ud7af]')  \n",
    "  \n",
    "# 读取数据  \n",
    "# with open(\"/mnt/lingjiejiang/multimodal_code/data/stack_overflow/processed_data.html.jsonl\") as f:  \n",
    "#     data = [json.loads(line) for line in f]  \n",
    "  \n",
    "# 存储仅包含一张图片且不包含中文、日文、韩文字符的item  \n",
    "single_image_items = []  \n",
    "  \n",
    "# 遍历数据  \n",
    "for item in single_images:  \n",
    "    question_md = item[\"question_md\"]  \n",
    "  \n",
    "    # 检查每个item中的question_md的图片数量  \n",
    "    images = image_pattern.findall(question_md)  \n",
    "      \n",
    "    # 检查是否包含中文、日文、韩文字符  \n",
    "    if len(images) == 1 and not non_english_pattern.search(question_md):  \n",
    "        # 替换所有图片部分为空字符串  \n",
    "        item[\"question_processed\"] = image_pattern.sub('', question_md)  \n",
    "        # 添加到列表  \n",
    "        single_image_items.append(item)  \n",
    "len(single_image_items)"
   ]
  },
  {
   "cell_type": "code",
   "execution_count": null,
   "metadata": {},
   "outputs": [],
   "source": []
  },
  {
   "cell_type": "code",
   "execution_count": 37,
   "metadata": {},
   "outputs": [
    {
     "data": {
      "text/plain": [
       "[]"
      ]
     },
     "execution_count": 37,
     "metadata": {},
     "output_type": "execute_result"
    }
   ],
   "source": [
    "single_image_items[:2]"
   ]
  },
  {
   "cell_type": "code",
   "execution_count": 42,
   "metadata": {},
   "outputs": [
    {
     "data": {
      "text/plain": [
       "6754"
      ]
     },
     "execution_count": 42,
     "metadata": {},
     "output_type": "execute_result"
    }
   ],
   "source": [
    "png_filter = []\n",
    "for item in single_image_items:\n",
    "    if \".png\" in item[\"question_processed\"]:\n",
    "        png_filter.append(item)\n",
    "len(png_filter)"
   ]
  },
  {
   "cell_type": "code",
   "execution_count": 33,
   "metadata": {},
   "outputs": [
    {
     "data": {
      "text/plain": [
       "99461"
      ]
     },
     "execution_count": 33,
     "metadata": {},
     "output_type": "execute_result"
    }
   ],
   "source": [
    "len(single_image_items)"
   ]
  },
  {
   "cell_type": "code",
   "execution_count": 19,
   "metadata": {},
   "outputs": [],
   "source": [
    "sampled_data = sample(single_images, 50)\n",
    "with open(\"sampled_50_processed.json\", \"w\") as f:\n",
    "    json.dump(sampled_data, f, indent=4)"
   ]
  },
  {
   "cell_type": "code",
   "execution_count": 16,
   "metadata": {},
   "outputs": [],
   "source": [
    "with open(\"sampled_50_processed.json\", \"w\") as f:\n",
    "    json.dump(single_image_items, f, indent=4)"
   ]
  },
  {
   "cell_type": "code",
   "execution_count": 25,
   "metadata": {},
   "outputs": [],
   "source": [
    "with open(\"sampled_50_other.json\", \"w\") as f:\n",
    "    json.dump(sample(other_items, 50), f, indent=4)"
   ]
  }
 ],
 "metadata": {
  "kernelspec": {
   "display_name": "llama",
   "language": "python",
   "name": "python3"
  },
  "language_info": {
   "codemirror_mode": {
    "name": "ipython",
    "version": 3
   },
   "file_extension": ".py",
   "mimetype": "text/x-python",
   "name": "python",
   "nbconvert_exporter": "python",
   "pygments_lexer": "ipython3",
   "version": "3.10.16"
  }
 },
 "nbformat": 4,
 "nbformat_minor": 2
}
